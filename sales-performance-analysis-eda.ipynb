{
 "cells": [
  {
   "cell_type": "markdown",
   "id": "80eff585",
   "metadata": {
    "papermill": {
     "duration": 0.005113,
     "end_time": "2025-03-06T01:07:15.824236",
     "exception": false,
     "start_time": "2025-03-06T01:07:15.819123",
     "status": "completed"
    },
    "tags": []
   },
   "source": [
    "# **Loading Data And overview**"
   ]
  },
  {
   "cell_type": "code",
   "execution_count": 1,
   "id": "ec884e57",
   "metadata": {
    "execution": {
     "iopub.execute_input": "2025-03-06T01:07:15.835971Z",
     "iopub.status.busy": "2025-03-06T01:07:15.835673Z",
     "iopub.status.idle": "2025-03-06T01:07:19.068431Z",
     "shell.execute_reply": "2025-03-06T01:07:19.067630Z"
    },
    "papermill": {
     "duration": 3.240434,
     "end_time": "2025-03-06T01:07:19.070020",
     "exception": false,
     "start_time": "2025-03-06T01:07:15.829586",
     "status": "completed"
    },
    "scrolled": true,
    "tags": []
   },
   "outputs": [],
   "source": [
    "# Import libraries\n",
    "import pandas as pd\n",
    "import numpy as np\n",
    "import plotly.express as px\n",
    "from matplotlib import pyplot as plt\n",
    "import seaborn as sns\n",
    "\n",
    "# Formatting display settings\n",
    "pd.options.display.float_format = '{:,.2f}'.format\n",
    "pd.options.display.max_columns = None\n",
    "pd.options.display.max_rows = None"
   ]
  },
  {
   "cell_type": "code",
   "execution_count": null,
   "id": "b29950ea",
   "metadata": {
    "execution": {
     "iopub.execute_input": "2025-03-06T01:07:19.082750Z",
     "iopub.status.busy": "2025-03-06T01:07:19.082434Z",
     "iopub.status.idle": "2025-03-06T01:07:19.150364Z",
     "shell.execute_reply": "2025-03-06T01:07:19.149542Z"
    },
    "papermill": {
     "duration": 0.075563,
     "end_time": "2025-03-06T01:07:19.151633",
     "exception": false,
     "start_time": "2025-03-06T01:07:19.076070",
     "status": "completed"
    },
    "tags": []
   },
   "outputs": [
    {
     "name": "stdout",
     "output_type": "stream",
     "text": [
      "<class 'pandas.core.frame.DataFrame'>\n",
      "RangeIndex: 2161 entries, 0 to 2160\n",
      "Data columns (total 22 columns):\n",
      " #   Column          Non-Null Count  Dtype  \n",
      "---  ------          --------------  -----  \n",
      " 0   CustomerID      2158 non-null   float64\n",
      " 1   FirstName       2158 non-null   object \n",
      " 2   LastName        2158 non-null   object \n",
      " 3   City            2158 non-null   object \n",
      " 4   Country         2158 non-null   object \n",
      " 5   Phone           2158 non-null   object \n",
      " 6   OrderID         2155 non-null   float64\n",
      " 7   OrderDate       2155 non-null   object \n",
      " 8   OrderNumber     2155 non-null   float64\n",
      " 9   TotalAmount     2155 non-null   float64\n",
      " 10  ProductID       2157 non-null   float64\n",
      " 11  ProductName     2157 non-null   object \n",
      " 12  UnitPrice       2157 non-null   float64\n",
      " 13  Package         2157 non-null   object \n",
      " 14  IsDiscontinued  2157 non-null   object \n",
      " 15  SupplierID      2157 non-null   float64\n",
      " 16  CompanyName     2157 non-null   object \n",
      " 17  ContactName     2157 non-null   object \n",
      " 18  City.1          2157 non-null   object \n",
      " 19  Country.1       2157 non-null   object \n",
      " 20  Phone.1         2157 non-null   object \n",
      " 21  Fax             947 non-null    object \n",
      "dtypes: float64(7), object(15)\n",
      "memory usage: 371.6+ KB\n"
     ]
    }
   ],
   "source": [
    "# Loading Dataset\n",
    "df = pd.read_csv(r'Sales data.csv', encoding='latin1')\n",
    "df.info()"
   ]
  },
  {
   "cell_type": "code",
   "execution_count": 3,
   "id": "39b7887c",
   "metadata": {
    "execution": {
     "iopub.execute_input": "2025-03-06T01:07:19.164594Z",
     "iopub.status.busy": "2025-03-06T01:07:19.164293Z",
     "iopub.status.idle": "2025-03-06T01:07:19.188851Z",
     "shell.execute_reply": "2025-03-06T01:07:19.187868Z"
    },
    "papermill": {
     "duration": 0.03246,
     "end_time": "2025-03-06T01:07:19.190200",
     "exception": false,
     "start_time": "2025-03-06T01:07:19.157740",
     "status": "completed"
    },
    "scrolled": true,
    "tags": []
   },
   "outputs": [
    {
     "data": {
      "text/html": [
       "<div>\n",
       "<style scoped>\n",
       "    .dataframe tbody tr th:only-of-type {\n",
       "        vertical-align: middle;\n",
       "    }\n",
       "\n",
       "    .dataframe tbody tr th {\n",
       "        vertical-align: top;\n",
       "    }\n",
       "\n",
       "    .dataframe thead th {\n",
       "        text-align: right;\n",
       "    }\n",
       "</style>\n",
       "<table border=\"1\" class=\"dataframe\">\n",
       "  <thead>\n",
       "    <tr style=\"text-align: right;\">\n",
       "      <th></th>\n",
       "      <th>CustomerID</th>\n",
       "      <th>FirstName</th>\n",
       "      <th>LastName</th>\n",
       "      <th>City</th>\n",
       "      <th>Country</th>\n",
       "      <th>Phone</th>\n",
       "      <th>OrderID</th>\n",
       "      <th>OrderDate</th>\n",
       "      <th>OrderNumber</th>\n",
       "      <th>TotalAmount</th>\n",
       "      <th>ProductID</th>\n",
       "      <th>ProductName</th>\n",
       "      <th>UnitPrice</th>\n",
       "      <th>Package</th>\n",
       "      <th>IsDiscontinued</th>\n",
       "      <th>SupplierID</th>\n",
       "      <th>CompanyName</th>\n",
       "      <th>ContactName</th>\n",
       "      <th>City.1</th>\n",
       "      <th>Country.1</th>\n",
       "      <th>Phone.1</th>\n",
       "      <th>Fax</th>\n",
       "    </tr>\n",
       "  </thead>\n",
       "  <tbody>\n",
       "    <tr>\n",
       "      <th>2120</th>\n",
       "      <td>20.00</td>\n",
       "      <td>Roland</td>\n",
       "      <td>Mendel</td>\n",
       "      <td>Graz</td>\n",
       "      <td>Austria</td>\n",
       "      <td>7675-3425</td>\n",
       "      <td>825.00</td>\n",
       "      <td>5/5/2014 0:00</td>\n",
       "      <td>543,202.00</td>\n",
       "      <td>5,218.00</td>\n",
       "      <td>64.00</td>\n",
       "      <td>Wimmers gute Semmelkn?del</td>\n",
       "      <td>33.25</td>\n",
       "      <td>20 bags x 4 pieces</td>\n",
       "      <td>False</td>\n",
       "      <td>12.00</td>\n",
       "      <td>Plutzer Lebensmittelgro?m?rkte AG</td>\n",
       "      <td>Martin Bein</td>\n",
       "      <td>Frankfurt</td>\n",
       "      <td>Germany</td>\n",
       "      <td>(069) 992755</td>\n",
       "      <td>NaN</td>\n",
       "    </tr>\n",
       "    <tr>\n",
       "      <th>1993</th>\n",
       "      <td>56.00</td>\n",
       "      <td>Henriette</td>\n",
       "      <td>Pfalzheim</td>\n",
       "      <td>K?ln</td>\n",
       "      <td>Germany</td>\n",
       "      <td>0221-0644327</td>\n",
       "      <td>773.00</td>\n",
       "      <td>4/14/2014 0:00</td>\n",
       "      <td>543,150.00</td>\n",
       "      <td>744.00</td>\n",
       "      <td>10.00</td>\n",
       "      <td>Ikura</td>\n",
       "      <td>31.00</td>\n",
       "      <td>12 - 200 ml jars</td>\n",
       "      <td>False</td>\n",
       "      <td>4.00</td>\n",
       "      <td>Tokyo Traders</td>\n",
       "      <td>Yoshi Nagase</td>\n",
       "      <td>Tokyo</td>\n",
       "      <td>Japan</td>\n",
       "      <td>(03) 3555-5011</td>\n",
       "      <td>NaN</td>\n",
       "    </tr>\n",
       "    <tr>\n",
       "      <th>811</th>\n",
       "      <td>28.00</td>\n",
       "      <td>Lino</td>\n",
       "      <td>Rodriguez</td>\n",
       "      <td>Lisboa</td>\n",
       "      <td>Portugal</td>\n",
       "      <td>(1) 354-2534</td>\n",
       "      <td>304.00</td>\n",
       "      <td>5/28/2013 0:00</td>\n",
       "      <td>542,681.00</td>\n",
       "      <td>1,836.00</td>\n",
       "      <td>44.00</td>\n",
       "      <td>Gula Malacca</td>\n",
       "      <td>19.45</td>\n",
       "      <td>20 - 2 kg bags</td>\n",
       "      <td>False</td>\n",
       "      <td>20.00</td>\n",
       "      <td>Leka Trading</td>\n",
       "      <td>Chandra Leka</td>\n",
       "      <td>Singapore</td>\n",
       "      <td>Singapore</td>\n",
       "      <td>555-8787</td>\n",
       "      <td>NaN</td>\n",
       "    </tr>\n",
       "    <tr>\n",
       "      <th>941</th>\n",
       "      <td>51.00</td>\n",
       "      <td>Jean</td>\n",
       "      <td>Fresnière</td>\n",
       "      <td>Montréal</td>\n",
       "      <td>Canada</td>\n",
       "      <td>(514) 555-8054</td>\n",
       "      <td>358.00</td>\n",
       "      <td>7/21/2013 0:00</td>\n",
       "      <td>542,735.00</td>\n",
       "      <td>4,326.00</td>\n",
       "      <td>59.00</td>\n",
       "      <td>Raclette Courdavault</td>\n",
       "      <td>55.00</td>\n",
       "      <td>5 kg pkg.</td>\n",
       "      <td>False</td>\n",
       "      <td>28.00</td>\n",
       "      <td>Gai pâturage</td>\n",
       "      <td>Eliane Noz</td>\n",
       "      <td>Annecy</td>\n",
       "      <td>France</td>\n",
       "      <td>38.76.98.06</td>\n",
       "      <td>38.76.98.58</td>\n",
       "    </tr>\n",
       "    <tr>\n",
       "      <th>863</th>\n",
       "      <td>20.00</td>\n",
       "      <td>Roland</td>\n",
       "      <td>Mendel</td>\n",
       "      <td>Graz</td>\n",
       "      <td>Austria</td>\n",
       "      <td>7675-3425</td>\n",
       "      <td>324.00</td>\n",
       "      <td>6/17/2013 0:00</td>\n",
       "      <td>542,701.00</td>\n",
       "      <td>647.75</td>\n",
       "      <td>42.00</td>\n",
       "      <td>Singaporean Hokkien Fried Mee</td>\n",
       "      <td>14.00</td>\n",
       "      <td>32 - 1 kg pkgs.</td>\n",
       "      <td>True</td>\n",
       "      <td>20.00</td>\n",
       "      <td>Leka Trading</td>\n",
       "      <td>Chandra Leka</td>\n",
       "      <td>Singapore</td>\n",
       "      <td>Singapore</td>\n",
       "      <td>555-8787</td>\n",
       "      <td>NaN</td>\n",
       "    </tr>\n",
       "    <tr>\n",
       "      <th>699</th>\n",
       "      <td>20.00</td>\n",
       "      <td>Roland</td>\n",
       "      <td>Mendel</td>\n",
       "      <td>Graz</td>\n",
       "      <td>Austria</td>\n",
       "      <td>7675-3425</td>\n",
       "      <td>267.00</td>\n",
       "      <td>4/22/2013 0:00</td>\n",
       "      <td>542,644.00</td>\n",
       "      <td>8,623.45</td>\n",
       "      <td>65.00</td>\n",
       "      <td>Louisiana Fiery Hot Pepper Sauce</td>\n",
       "      <td>21.05</td>\n",
       "      <td>32 - 8 oz bottles</td>\n",
       "      <td>False</td>\n",
       "      <td>2.00</td>\n",
       "      <td>New Orleans Cajun Delights</td>\n",
       "      <td>Shelley Burke</td>\n",
       "      <td>New Orleans</td>\n",
       "      <td>USA</td>\n",
       "      <td>(100) 555-4822</td>\n",
       "      <td>NaN</td>\n",
       "    </tr>\n",
       "    <tr>\n",
       "      <th>1042</th>\n",
       "      <td>88.00</td>\n",
       "      <td>Paula</td>\n",
       "      <td>Parente</td>\n",
       "      <td>Resende</td>\n",
       "      <td>Brazil</td>\n",
       "      <td>(14) 555-8122</td>\n",
       "      <td>397.00</td>\n",
       "      <td>8/25/2013 0:00</td>\n",
       "      <td>542,774.00</td>\n",
       "      <td>1,422.00</td>\n",
       "      <td>18.00</td>\n",
       "      <td>Carnarvon Tigers</td>\n",
       "      <td>62.50</td>\n",
       "      <td>16 kg pkg.</td>\n",
       "      <td>False</td>\n",
       "      <td>7.00</td>\n",
       "      <td>Pavlova, Ltd.</td>\n",
       "      <td>Ian Devling</td>\n",
       "      <td>Melbourne</td>\n",
       "      <td>Australia</td>\n",
       "      <td>(03) 444-2343</td>\n",
       "      <td>(03) 444-6588</td>\n",
       "    </tr>\n",
       "    <tr>\n",
       "      <th>831</th>\n",
       "      <td>4.00</td>\n",
       "      <td>Thomas</td>\n",
       "      <td>Hardy</td>\n",
       "      <td>London</td>\n",
       "      <td>UK</td>\n",
       "      <td>(171) 555-7788</td>\n",
       "      <td>311.00</td>\n",
       "      <td>6/4/2013 0:00</td>\n",
       "      <td>542,688.00</td>\n",
       "      <td>2,142.90</td>\n",
       "      <td>47.00</td>\n",
       "      <td>Zaanse koeken</td>\n",
       "      <td>9.50</td>\n",
       "      <td>10 - 4 oz boxes</td>\n",
       "      <td>False</td>\n",
       "      <td>22.00</td>\n",
       "      <td>Zaanse Snoepfabriek</td>\n",
       "      <td>Dirk Luchte</td>\n",
       "      <td>Zaandam</td>\n",
       "      <td>Netherlands</td>\n",
       "      <td>(12345) 1212</td>\n",
       "      <td>(12345) 1210</td>\n",
       "    </tr>\n",
       "    <tr>\n",
       "      <th>652</th>\n",
       "      <td>42.00</td>\n",
       "      <td>Yoshi</td>\n",
       "      <td>Tannamuri</td>\n",
       "      <td>Vancouver</td>\n",
       "      <td>Canada</td>\n",
       "      <td>(604) 555-3392</td>\n",
       "      <td>248.00</td>\n",
       "      <td>4/3/2013 0:00</td>\n",
       "      <td>542,625.00</td>\n",
       "      <td>278.00</td>\n",
       "      <td>23.00</td>\n",
       "      <td>Tunnbr?d</td>\n",
       "      <td>9.00</td>\n",
       "      <td>12 - 250 g pkgs.</td>\n",
       "      <td>False</td>\n",
       "      <td>9.00</td>\n",
       "      <td>PB Kn?ckebr?d AB</td>\n",
       "      <td>Lars Peterson</td>\n",
       "      <td>G?teborg</td>\n",
       "      <td>Sweden</td>\n",
       "      <td>031-987 65 43</td>\n",
       "      <td>031-987 65 91</td>\n",
       "    </tr>\n",
       "    <tr>\n",
       "      <th>1077</th>\n",
       "      <td>71.00</td>\n",
       "      <td>Jose</td>\n",
       "      <td>Pavarotti</td>\n",
       "      <td>Boise</td>\n",
       "      <td>USA</td>\n",
       "      <td>(208) 555-8097</td>\n",
       "      <td>410.00</td>\n",
       "      <td>9/4/2013 0:00</td>\n",
       "      <td>542,787.00</td>\n",
       "      <td>4,371.60</td>\n",
       "      <td>56.00</td>\n",
       "      <td>Gnocchi di nonna Alice</td>\n",
       "      <td>38.00</td>\n",
       "      <td>24 - 250 g pkgs.</td>\n",
       "      <td>False</td>\n",
       "      <td>26.00</td>\n",
       "      <td>Pasta Buttini s.r.l.</td>\n",
       "      <td>Giovanni Giudici</td>\n",
       "      <td>Salerno</td>\n",
       "      <td>Italy</td>\n",
       "      <td>(089) 6547665</td>\n",
       "      <td>(089) 6547667</td>\n",
       "    </tr>\n",
       "  </tbody>\n",
       "</table>\n",
       "</div>"
      ],
      "text/plain": [
       "      CustomerID  FirstName   LastName       City   Country           Phone  \\\n",
       "2120       20.00     Roland     Mendel       Graz   Austria       7675-3425   \n",
       "1993       56.00  Henriette  Pfalzheim       K?ln   Germany    0221-0644327   \n",
       "811        28.00       Lino  Rodriguez     Lisboa  Portugal    (1) 354-2534   \n",
       "941        51.00       Jean  Fresnière   Montréal    Canada  (514) 555-8054   \n",
       "863        20.00     Roland     Mendel       Graz   Austria       7675-3425   \n",
       "699        20.00     Roland     Mendel       Graz   Austria       7675-3425   \n",
       "1042       88.00      Paula    Parente    Resende    Brazil   (14) 555-8122   \n",
       "831         4.00     Thomas      Hardy     London        UK  (171) 555-7788   \n",
       "652        42.00      Yoshi  Tannamuri  Vancouver    Canada  (604) 555-3392   \n",
       "1077       71.00       Jose  Pavarotti      Boise       USA  (208) 555-8097   \n",
       "\n",
       "      OrderID       OrderDate  OrderNumber  TotalAmount  ProductID  \\\n",
       "2120   825.00   5/5/2014 0:00   543,202.00     5,218.00      64.00   \n",
       "1993   773.00  4/14/2014 0:00   543,150.00       744.00      10.00   \n",
       "811    304.00  5/28/2013 0:00   542,681.00     1,836.00      44.00   \n",
       "941    358.00  7/21/2013 0:00   542,735.00     4,326.00      59.00   \n",
       "863    324.00  6/17/2013 0:00   542,701.00       647.75      42.00   \n",
       "699    267.00  4/22/2013 0:00   542,644.00     8,623.45      65.00   \n",
       "1042   397.00  8/25/2013 0:00   542,774.00     1,422.00      18.00   \n",
       "831    311.00   6/4/2013 0:00   542,688.00     2,142.90      47.00   \n",
       "652    248.00   4/3/2013 0:00   542,625.00       278.00      23.00   \n",
       "1077   410.00   9/4/2013 0:00   542,787.00     4,371.60      56.00   \n",
       "\n",
       "                           ProductName  UnitPrice             Package  \\\n",
       "2120         Wimmers gute Semmelkn?del      33.25  20 bags x 4 pieces   \n",
       "1993                             Ikura      31.00    12 - 200 ml jars   \n",
       "811                       Gula Malacca      19.45      20 - 2 kg bags   \n",
       "941               Raclette Courdavault      55.00           5 kg pkg.   \n",
       "863      Singaporean Hokkien Fried Mee      14.00     32 - 1 kg pkgs.   \n",
       "699   Louisiana Fiery Hot Pepper Sauce      21.05   32 - 8 oz bottles   \n",
       "1042                  Carnarvon Tigers      62.50          16 kg pkg.   \n",
       "831                      Zaanse koeken       9.50     10 - 4 oz boxes   \n",
       "652                           Tunnbr?d       9.00    12 - 250 g pkgs.   \n",
       "1077            Gnocchi di nonna Alice      38.00    24 - 250 g pkgs.   \n",
       "\n",
       "     IsDiscontinued  SupplierID                        CompanyName  \\\n",
       "2120          False       12.00  Plutzer Lebensmittelgro?m?rkte AG   \n",
       "1993          False        4.00                      Tokyo Traders   \n",
       "811           False       20.00                       Leka Trading   \n",
       "941           False       28.00                       Gai pâturage   \n",
       "863            True       20.00                       Leka Trading   \n",
       "699           False        2.00         New Orleans Cajun Delights   \n",
       "1042          False        7.00                      Pavlova, Ltd.   \n",
       "831           False       22.00                Zaanse Snoepfabriek   \n",
       "652           False        9.00                   PB Kn?ckebr?d AB   \n",
       "1077          False       26.00               Pasta Buttini s.r.l.   \n",
       "\n",
       "           ContactName       City.1    Country.1         Phone.1  \\\n",
       "2120       Martin Bein    Frankfurt      Germany    (069) 992755   \n",
       "1993      Yoshi Nagase        Tokyo        Japan  (03) 3555-5011   \n",
       "811       Chandra Leka    Singapore    Singapore        555-8787   \n",
       "941         Eliane Noz       Annecy       France     38.76.98.06   \n",
       "863       Chandra Leka    Singapore    Singapore        555-8787   \n",
       "699      Shelley Burke  New Orleans          USA  (100) 555-4822   \n",
       "1042       Ian Devling    Melbourne    Australia   (03) 444-2343   \n",
       "831        Dirk Luchte      Zaandam  Netherlands    (12345) 1212   \n",
       "652      Lars Peterson     G?teborg       Sweden   031-987 65 43   \n",
       "1077  Giovanni Giudici      Salerno        Italy   (089) 6547665   \n",
       "\n",
       "                Fax  \n",
       "2120            NaN  \n",
       "1993            NaN  \n",
       "811             NaN  \n",
       "941     38.76.98.58  \n",
       "863             NaN  \n",
       "699             NaN  \n",
       "1042  (03) 444-6588  \n",
       "831    (12345) 1210  \n",
       "652   031-987 65 91  \n",
       "1077  (089) 6547667  "
      ]
     },
     "execution_count": 3,
     "metadata": {},
     "output_type": "execute_result"
    }
   ],
   "source": [
    "df.sample(10)"
   ]
  },
  {
   "cell_type": "code",
   "execution_count": 4,
   "id": "c514644c",
   "metadata": {
    "execution": {
     "iopub.execute_input": "2025-03-06T01:07:19.204544Z",
     "iopub.status.busy": "2025-03-06T01:07:19.204259Z",
     "iopub.status.idle": "2025-03-06T01:07:19.218991Z",
     "shell.execute_reply": "2025-03-06T01:07:19.218078Z"
    },
    "papermill": {
     "duration": 0.022523,
     "end_time": "2025-03-06T01:07:19.220169",
     "exception": false,
     "start_time": "2025-03-06T01:07:19.197646",
     "status": "completed"
    },
    "scrolled": true,
    "tags": []
   },
   "outputs": [
    {
     "data": {
      "text/html": [
       "<div>\n",
       "<style scoped>\n",
       "    .dataframe tbody tr th:only-of-type {\n",
       "        vertical-align: middle;\n",
       "    }\n",
       "\n",
       "    .dataframe tbody tr th {\n",
       "        vertical-align: top;\n",
       "    }\n",
       "\n",
       "    .dataframe thead th {\n",
       "        text-align: right;\n",
       "    }\n",
       "</style>\n",
       "<table border=\"1\" class=\"dataframe\">\n",
       "  <thead>\n",
       "    <tr style=\"text-align: right;\">\n",
       "      <th></th>\n",
       "      <th>CustomerID</th>\n",
       "      <th>FirstName</th>\n",
       "      <th>LastName</th>\n",
       "      <th>City</th>\n",
       "      <th>Country</th>\n",
       "      <th>Phone</th>\n",
       "      <th>OrderID</th>\n",
       "      <th>OrderDate</th>\n",
       "      <th>OrderNumber</th>\n",
       "      <th>TotalAmount</th>\n",
       "      <th>ProductID</th>\n",
       "      <th>ProductName</th>\n",
       "      <th>UnitPrice</th>\n",
       "      <th>Package</th>\n",
       "      <th>IsDiscontinued</th>\n",
       "      <th>SupplierID</th>\n",
       "      <th>CompanyName</th>\n",
       "      <th>ContactName</th>\n",
       "      <th>City.1</th>\n",
       "      <th>Country.1</th>\n",
       "      <th>Phone.1</th>\n",
       "      <th>Fax</th>\n",
       "    </tr>\n",
       "  </thead>\n",
       "  <tbody>\n",
       "    <tr>\n",
       "      <th>2151</th>\n",
       "      <td>65.00</td>\n",
       "      <td>Paula</td>\n",
       "      <td>Wilson</td>\n",
       "      <td>Albuquerque</td>\n",
       "      <td>USA</td>\n",
       "      <td>(505) 555-5939</td>\n",
       "      <td>830.00</td>\n",
       "      <td>5/6/2014 0:00</td>\n",
       "      <td>543,207.00</td>\n",
       "      <td>1,374.60</td>\n",
       "      <td>3.00</td>\n",
       "      <td>Aniseed Syrup</td>\n",
       "      <td>10.00</td>\n",
       "      <td>12 - 550 ml bottles</td>\n",
       "      <td>False</td>\n",
       "      <td>1.00</td>\n",
       "      <td>Exotic Liquids</td>\n",
       "      <td>Charlotte Cooper</td>\n",
       "      <td>London</td>\n",
       "      <td>UK</td>\n",
       "      <td>(171) 555-2222</td>\n",
       "      <td>NaN</td>\n",
       "    </tr>\n",
       "    <tr>\n",
       "      <th>2152</th>\n",
       "      <td>65.00</td>\n",
       "      <td>Paula</td>\n",
       "      <td>Wilson</td>\n",
       "      <td>Albuquerque</td>\n",
       "      <td>USA</td>\n",
       "      <td>(505) 555-5939</td>\n",
       "      <td>830.00</td>\n",
       "      <td>5/6/2014 0:00</td>\n",
       "      <td>543,207.00</td>\n",
       "      <td>1,374.60</td>\n",
       "      <td>4.00</td>\n",
       "      <td>Chef Anton's Cajun Seasoning</td>\n",
       "      <td>22.00</td>\n",
       "      <td>48 - 6 oz jars</td>\n",
       "      <td>False</td>\n",
       "      <td>2.00</td>\n",
       "      <td>New Orleans Cajun Delights</td>\n",
       "      <td>Shelley Burke</td>\n",
       "      <td>New Orleans</td>\n",
       "      <td>USA</td>\n",
       "      <td>(100) 555-4822</td>\n",
       "      <td>NaN</td>\n",
       "    </tr>\n",
       "    <tr>\n",
       "      <th>2153</th>\n",
       "      <td>65.00</td>\n",
       "      <td>Paula</td>\n",
       "      <td>Wilson</td>\n",
       "      <td>Albuquerque</td>\n",
       "      <td>USA</td>\n",
       "      <td>(505) 555-5939</td>\n",
       "      <td>830.00</td>\n",
       "      <td>5/6/2014 0:00</td>\n",
       "      <td>543,207.00</td>\n",
       "      <td>1,374.60</td>\n",
       "      <td>6.00</td>\n",
       "      <td>Grandma's Boysenberry Spread</td>\n",
       "      <td>25.00</td>\n",
       "      <td>12 - 8 oz jars</td>\n",
       "      <td>False</td>\n",
       "      <td>3.00</td>\n",
       "      <td>Grandma Kelly's Homestead</td>\n",
       "      <td>Regina Murphy</td>\n",
       "      <td>Ann Arbor</td>\n",
       "      <td>USA</td>\n",
       "      <td>(313) 555-5735</td>\n",
       "      <td>(313) 555-3349</td>\n",
       "    </tr>\n",
       "    <tr>\n",
       "      <th>2154</th>\n",
       "      <td>65.00</td>\n",
       "      <td>Paula</td>\n",
       "      <td>Wilson</td>\n",
       "      <td>Albuquerque</td>\n",
       "      <td>USA</td>\n",
       "      <td>(505) 555-5939</td>\n",
       "      <td>830.00</td>\n",
       "      <td>5/6/2014 0:00</td>\n",
       "      <td>543,207.00</td>\n",
       "      <td>1,374.60</td>\n",
       "      <td>7.00</td>\n",
       "      <td>Uncle Bob's Organic Dried Pears</td>\n",
       "      <td>30.00</td>\n",
       "      <td>12 - 1 lb pkgs.</td>\n",
       "      <td>False</td>\n",
       "      <td>3.00</td>\n",
       "      <td>Grandma Kelly's Homestead</td>\n",
       "      <td>Regina Murphy</td>\n",
       "      <td>Ann Arbor</td>\n",
       "      <td>USA</td>\n",
       "      <td>(313) 555-5735</td>\n",
       "      <td>(313) 555-3349</td>\n",
       "    </tr>\n",
       "    <tr>\n",
       "      <th>2155</th>\n",
       "      <td>NaN</td>\n",
       "      <td>NaN</td>\n",
       "      <td>NaN</td>\n",
       "      <td>NaN</td>\n",
       "      <td>NaN</td>\n",
       "      <td>NaN</td>\n",
       "      <td>NaN</td>\n",
       "      <td>NaN</td>\n",
       "      <td>NaN</td>\n",
       "      <td>NaN</td>\n",
       "      <td>78.00</td>\n",
       "      <td>Stroopwafels</td>\n",
       "      <td>9.75</td>\n",
       "      <td>24 pieces</td>\n",
       "      <td>False</td>\n",
       "      <td>22.00</td>\n",
       "      <td>Zaanse Snoepfabriek</td>\n",
       "      <td>Dirk Luchte</td>\n",
       "      <td>Zaandam</td>\n",
       "      <td>Netherlands</td>\n",
       "      <td>(12345) 1212</td>\n",
       "      <td>(12345) 1210</td>\n",
       "    </tr>\n",
       "    <tr>\n",
       "      <th>2156</th>\n",
       "      <td>NaN</td>\n",
       "      <td>NaN</td>\n",
       "      <td>NaN</td>\n",
       "      <td>NaN</td>\n",
       "      <td>NaN</td>\n",
       "      <td>NaN</td>\n",
       "      <td>NaN</td>\n",
       "      <td>NaN</td>\n",
       "      <td>NaN</td>\n",
       "      <td>NaN</td>\n",
       "      <td>79.00</td>\n",
       "      <td>DataScience</td>\n",
       "      <td>50.00</td>\n",
       "      <td>1</td>\n",
       "      <td>False</td>\n",
       "      <td>NaN</td>\n",
       "      <td>NaN</td>\n",
       "      <td>NaN</td>\n",
       "      <td>NaN</td>\n",
       "      <td>NaN</td>\n",
       "      <td>NaN</td>\n",
       "      <td>NaN</td>\n",
       "    </tr>\n",
       "    <tr>\n",
       "      <th>2157</th>\n",
       "      <td>92.00</td>\n",
       "      <td>Ali</td>\n",
       "      <td>Ali</td>\n",
       "      <td>Cairo</td>\n",
       "      <td>Egypt</td>\n",
       "      <td>0</td>\n",
       "      <td>NaN</td>\n",
       "      <td>NaN</td>\n",
       "      <td>NaN</td>\n",
       "      <td>NaN</td>\n",
       "      <td>NaN</td>\n",
       "      <td>NaN</td>\n",
       "      <td>NaN</td>\n",
       "      <td>NaN</td>\n",
       "      <td>NaN</td>\n",
       "      <td>NaN</td>\n",
       "      <td>NaN</td>\n",
       "      <td>NaN</td>\n",
       "      <td>NaN</td>\n",
       "      <td>NaN</td>\n",
       "      <td>NaN</td>\n",
       "      <td>NaN</td>\n",
       "    </tr>\n",
       "    <tr>\n",
       "      <th>2158</th>\n",
       "      <td>22.00</td>\n",
       "      <td>Diego</td>\n",
       "      <td>Roel</td>\n",
       "      <td>Madrid</td>\n",
       "      <td>Spain</td>\n",
       "      <td>(91) 555 94 44</td>\n",
       "      <td>NaN</td>\n",
       "      <td>NaN</td>\n",
       "      <td>NaN</td>\n",
       "      <td>NaN</td>\n",
       "      <td>NaN</td>\n",
       "      <td>NaN</td>\n",
       "      <td>NaN</td>\n",
       "      <td>NaN</td>\n",
       "      <td>NaN</td>\n",
       "      <td>NaN</td>\n",
       "      <td>NaN</td>\n",
       "      <td>NaN</td>\n",
       "      <td>NaN</td>\n",
       "      <td>NaN</td>\n",
       "      <td>NaN</td>\n",
       "      <td>NaN</td>\n",
       "    </tr>\n",
       "    <tr>\n",
       "      <th>2159</th>\n",
       "      <td>57.00</td>\n",
       "      <td>Marie</td>\n",
       "      <td>Bertrand</td>\n",
       "      <td>Paris</td>\n",
       "      <td>France</td>\n",
       "      <td>(1) 42.34.22.66</td>\n",
       "      <td>NaN</td>\n",
       "      <td>NaN</td>\n",
       "      <td>NaN</td>\n",
       "      <td>NaN</td>\n",
       "      <td>NaN</td>\n",
       "      <td>NaN</td>\n",
       "      <td>NaN</td>\n",
       "      <td>NaN</td>\n",
       "      <td>NaN</td>\n",
       "      <td>NaN</td>\n",
       "      <td>NaN</td>\n",
       "      <td>NaN</td>\n",
       "      <td>NaN</td>\n",
       "      <td>NaN</td>\n",
       "      <td>NaN</td>\n",
       "      <td>NaN</td>\n",
       "    </tr>\n",
       "    <tr>\n",
       "      <th>2160</th>\n",
       "      <td>NaN</td>\n",
       "      <td>NaN</td>\n",
       "      <td>NaN</td>\n",
       "      <td>NaN</td>\n",
       "      <td>NaN</td>\n",
       "      <td>NaN</td>\n",
       "      <td>NaN</td>\n",
       "      <td>NaN</td>\n",
       "      <td>NaN</td>\n",
       "      <td>NaN</td>\n",
       "      <td>NaN</td>\n",
       "      <td>NaN</td>\n",
       "      <td>NaN</td>\n",
       "      <td>NaN</td>\n",
       "      <td>NaN</td>\n",
       "      <td>30.00</td>\n",
       "      <td>DSClub</td>\n",
       "      <td>AEmad</td>\n",
       "      <td>Alex</td>\n",
       "      <td>Egypt</td>\n",
       "      <td>11111</td>\n",
       "      <td>11111</td>\n",
       "    </tr>\n",
       "  </tbody>\n",
       "</table>\n",
       "</div>"
      ],
      "text/plain": [
       "      CustomerID FirstName  LastName         City Country            Phone  \\\n",
       "2151       65.00     Paula    Wilson  Albuquerque     USA   (505) 555-5939   \n",
       "2152       65.00     Paula    Wilson  Albuquerque     USA   (505) 555-5939   \n",
       "2153       65.00     Paula    Wilson  Albuquerque     USA   (505) 555-5939   \n",
       "2154       65.00     Paula    Wilson  Albuquerque     USA   (505) 555-5939   \n",
       "2155         NaN       NaN       NaN          NaN     NaN              NaN   \n",
       "2156         NaN       NaN       NaN          NaN     NaN              NaN   \n",
       "2157       92.00       Ali       Ali        Cairo   Egypt                0   \n",
       "2158       22.00     Diego      Roel       Madrid   Spain   (91) 555 94 44   \n",
       "2159       57.00     Marie  Bertrand        Paris  France  (1) 42.34.22.66   \n",
       "2160         NaN       NaN       NaN          NaN     NaN              NaN   \n",
       "\n",
       "      OrderID      OrderDate  OrderNumber  TotalAmount  ProductID  \\\n",
       "2151   830.00  5/6/2014 0:00   543,207.00     1,374.60       3.00   \n",
       "2152   830.00  5/6/2014 0:00   543,207.00     1,374.60       4.00   \n",
       "2153   830.00  5/6/2014 0:00   543,207.00     1,374.60       6.00   \n",
       "2154   830.00  5/6/2014 0:00   543,207.00     1,374.60       7.00   \n",
       "2155      NaN            NaN          NaN          NaN      78.00   \n",
       "2156      NaN            NaN          NaN          NaN      79.00   \n",
       "2157      NaN            NaN          NaN          NaN        NaN   \n",
       "2158      NaN            NaN          NaN          NaN        NaN   \n",
       "2159      NaN            NaN          NaN          NaN        NaN   \n",
       "2160      NaN            NaN          NaN          NaN        NaN   \n",
       "\n",
       "                          ProductName  UnitPrice              Package  \\\n",
       "2151                    Aniseed Syrup      10.00  12 - 550 ml bottles   \n",
       "2152     Chef Anton's Cajun Seasoning      22.00       48 - 6 oz jars   \n",
       "2153     Grandma's Boysenberry Spread      25.00       12 - 8 oz jars   \n",
       "2154  Uncle Bob's Organic Dried Pears      30.00      12 - 1 lb pkgs.   \n",
       "2155                     Stroopwafels       9.75            24 pieces   \n",
       "2156                      DataScience      50.00                    1   \n",
       "2157                              NaN        NaN                  NaN   \n",
       "2158                              NaN        NaN                  NaN   \n",
       "2159                              NaN        NaN                  NaN   \n",
       "2160                              NaN        NaN                  NaN   \n",
       "\n",
       "     IsDiscontinued  SupplierID                 CompanyName       ContactName  \\\n",
       "2151          False        1.00              Exotic Liquids  Charlotte Cooper   \n",
       "2152          False        2.00  New Orleans Cajun Delights     Shelley Burke   \n",
       "2153          False        3.00   Grandma Kelly's Homestead     Regina Murphy   \n",
       "2154          False        3.00   Grandma Kelly's Homestead     Regina Murphy   \n",
       "2155          False       22.00         Zaanse Snoepfabriek       Dirk Luchte   \n",
       "2156          False         NaN                         NaN               NaN   \n",
       "2157            NaN         NaN                         NaN               NaN   \n",
       "2158            NaN         NaN                         NaN               NaN   \n",
       "2159            NaN         NaN                         NaN               NaN   \n",
       "2160            NaN       30.00                      DSClub             AEmad   \n",
       "\n",
       "           City.1    Country.1         Phone.1             Fax  \n",
       "2151       London           UK  (171) 555-2222             NaN  \n",
       "2152  New Orleans          USA  (100) 555-4822             NaN  \n",
       "2153    Ann Arbor          USA  (313) 555-5735  (313) 555-3349  \n",
       "2154    Ann Arbor          USA  (313) 555-5735  (313) 555-3349  \n",
       "2155      Zaandam  Netherlands    (12345) 1212    (12345) 1210  \n",
       "2156          NaN          NaN             NaN             NaN  \n",
       "2157          NaN          NaN             NaN             NaN  \n",
       "2158          NaN          NaN             NaN             NaN  \n",
       "2159          NaN          NaN             NaN             NaN  \n",
       "2160         Alex        Egypt           11111           11111  "
      ]
     },
     "execution_count": 4,
     "metadata": {},
     "output_type": "execute_result"
    }
   ],
   "source": [
    "df.tail(10)"
   ]
  },
  {
   "cell_type": "markdown",
   "id": "e9161559",
   "metadata": {
    "papermill": {
     "duration": 0.005976,
     "end_time": "2025-03-06T01:07:19.233260",
     "exception": false,
     "start_time": "2025-03-06T01:07:19.227284",
     "status": "completed"
    },
    "tags": []
   },
   "source": [
    "# **Data Cleaning**"
   ]
  },
  {
   "cell_type": "code",
   "execution_count": 5,
   "id": "7d5d16c9",
   "metadata": {
    "execution": {
     "iopub.execute_input": "2025-03-06T01:07:19.246534Z",
     "iopub.status.busy": "2025-03-06T01:07:19.246262Z",
     "iopub.status.idle": "2025-03-06T01:07:19.253717Z",
     "shell.execute_reply": "2025-03-06T01:07:19.252509Z"
    },
    "papermill": {
     "duration": 0.015725,
     "end_time": "2025-03-06T01:07:19.255100",
     "exception": false,
     "start_time": "2025-03-06T01:07:19.239375",
     "status": "completed"
    },
    "scrolled": true,
    "tags": []
   },
   "outputs": [
    {
     "data": {
      "text/plain": [
       "CustomerID           3\n",
       "FirstName            3\n",
       "LastName             3\n",
       "City                 3\n",
       "Country              3\n",
       "Phone                3\n",
       "OrderID              6\n",
       "OrderDate            6\n",
       "OrderNumber          6\n",
       "TotalAmount          6\n",
       "ProductID            4\n",
       "ProductName          4\n",
       "UnitPrice            4\n",
       "Package              4\n",
       "IsDiscontinued       4\n",
       "SupplierID           4\n",
       "CompanyName          4\n",
       "ContactName          4\n",
       "City.1               4\n",
       "Country.1            4\n",
       "Phone.1              4\n",
       "Fax               1214\n",
       "dtype: int64"
      ]
     },
     "execution_count": 5,
     "metadata": {},
     "output_type": "execute_result"
    }
   ],
   "source": [
    "df.isnull().sum()"
   ]
  },
  {
   "cell_type": "code",
   "execution_count": 6,
   "id": "8444462f",
   "metadata": {
    "execution": {
     "iopub.execute_input": "2025-03-06T01:07:19.268690Z",
     "iopub.status.busy": "2025-03-06T01:07:19.268442Z",
     "iopub.status.idle": "2025-03-06T01:07:19.277548Z",
     "shell.execute_reply": "2025-03-06T01:07:19.276744Z"
    },
    "papermill": {
     "duration": 0.017235,
     "end_time": "2025-03-06T01:07:19.278833",
     "exception": false,
     "start_time": "2025-03-06T01:07:19.261598",
     "status": "completed"
    },
    "tags": []
   },
   "outputs": [
    {
     "data": {
      "text/plain": [
       "np.int64(0)"
      ]
     },
     "execution_count": 6,
     "metadata": {},
     "output_type": "execute_result"
    }
   ],
   "source": [
    "df.duplicated().sum()"
   ]
  },
  {
   "cell_type": "code",
   "execution_count": 7,
   "id": "7a5c02cb",
   "metadata": {},
   "outputs": [],
   "source": [
    "df.columns = df.columns.str.lower().str.strip()"
   ]
  },
  {
   "cell_type": "code",
   "execution_count": 8,
   "id": "00b2e7f7",
   "metadata": {
    "collapsed": true,
    "execution": {
     "iopub.execute_input": "2025-03-06T01:07:19.313766Z",
     "iopub.status.busy": "2025-03-06T01:07:19.313519Z",
     "iopub.status.idle": "2025-03-06T01:07:19.317949Z",
     "shell.execute_reply": "2025-03-06T01:07:19.317014Z"
    },
    "jupyter": {
     "outputs_hidden": true
    },
    "papermill": {
     "duration": 0.012893,
     "end_time": "2025-03-06T01:07:19.319476",
     "exception": false,
     "start_time": "2025-03-06T01:07:19.306583",
     "status": "completed"
    },
    "tags": []
   },
   "outputs": [
    {
     "name": "stderr",
     "output_type": "stream",
     "text": [
      "C:\\Users\\Ali\\AppData\\Local\\Temp\\ipykernel_9100\\3707002199.py:2: FutureWarning: A value is trying to be set on a copy of a DataFrame or Series through chained assignment using an inplace method.\n",
      "The behavior will change in pandas 3.0. This inplace method will never work because the intermediate object on which we are setting values always behaves as a copy.\n",
      "\n",
      "For example, when doing 'df[col].method(value, inplace=True)', try using 'df.method({col: value}, inplace=True)' or df[col] = df[col].method(value) instead, to perform the operation inplace on the original object.\n",
      "\n",
      "\n",
      "  df.fax.fillna('Blank', inplace= True)\n"
     ]
    }
   ],
   "source": [
    "# Fill missing values in the 'Fax' column with 'Blank'\n",
    "df.fax.fillna('Blank', inplace= True)"
   ]
  },
  {
   "cell_type": "code",
   "execution_count": 9,
   "id": "8276edde",
   "metadata": {
    "execution": {
     "iopub.execute_input": "2025-03-06T01:07:19.333682Z",
     "iopub.status.busy": "2025-03-06T01:07:19.333450Z",
     "iopub.status.idle": "2025-03-06T01:07:19.342329Z",
     "shell.execute_reply": "2025-03-06T01:07:19.341398Z"
    },
    "papermill": {
     "duration": 0.017521,
     "end_time": "2025-03-06T01:07:19.343923",
     "exception": false,
     "start_time": "2025-03-06T01:07:19.326402",
     "status": "completed"
    },
    "tags": []
   },
   "outputs": [
    {
     "name": "stdout",
     "output_type": "stream",
     "text": [
      "<class 'pandas.core.frame.DataFrame'>\n",
      "RangeIndex: 2161 entries, 0 to 2160\n",
      "Data columns (total 22 columns):\n",
      " #   Column          Non-Null Count  Dtype  \n",
      "---  ------          --------------  -----  \n",
      " 0   customerid      2158 non-null   float64\n",
      " 1   firstname       2158 non-null   object \n",
      " 2   lastname        2158 non-null   object \n",
      " 3   city            2158 non-null   object \n",
      " 4   country         2158 non-null   object \n",
      " 5   phone           2158 non-null   object \n",
      " 6   orderid         2155 non-null   float64\n",
      " 7   orderdate       2155 non-null   object \n",
      " 8   ordernumber     2155 non-null   float64\n",
      " 9   totalamount     2155 non-null   float64\n",
      " 10  productid       2157 non-null   float64\n",
      " 11  productname     2157 non-null   object \n",
      " 12  unitprice       2157 non-null   float64\n",
      " 13  package         2157 non-null   object \n",
      " 14  isdiscontinued  2157 non-null   object \n",
      " 15  supplierid      2157 non-null   float64\n",
      " 16  companyname     2157 non-null   object \n",
      " 17  contactname     2157 non-null   object \n",
      " 18  city.1          2157 non-null   object \n",
      " 19  country.1       2157 non-null   object \n",
      " 20  phone.1         2157 non-null   object \n",
      " 21  fax             2161 non-null   object \n",
      "dtypes: float64(7), object(15)\n",
      "memory usage: 371.6+ KB\n"
     ]
    }
   ],
   "source": [
    "df.info()"
   ]
  },
  {
   "cell_type": "code",
   "execution_count": 10,
   "id": "b00ab179",
   "metadata": {
    "execution": {
     "iopub.execute_input": "2025-03-06T01:07:19.358550Z",
     "iopub.status.busy": "2025-03-06T01:07:19.358298Z",
     "iopub.status.idle": "2025-03-06T01:07:19.363715Z",
     "shell.execute_reply": "2025-03-06T01:07:19.363047Z"
    },
    "papermill": {
     "duration": 0.013956,
     "end_time": "2025-03-06T01:07:19.365150",
     "exception": false,
     "start_time": "2025-03-06T01:07:19.351194",
     "status": "completed"
    },
    "tags": []
   },
   "outputs": [],
   "source": [
    "# Remove rows with missing values\n",
    "df.dropna(inplace=True)"
   ]
  },
  {
   "cell_type": "code",
   "execution_count": 11,
   "id": "9311f53b",
   "metadata": {
    "execution": {
     "iopub.execute_input": "2025-03-06T01:07:19.379476Z",
     "iopub.status.busy": "2025-03-06T01:07:19.379213Z",
     "iopub.status.idle": "2025-03-06T01:07:19.388590Z",
     "shell.execute_reply": "2025-03-06T01:07:19.387530Z"
    },
    "papermill": {
     "duration": 0.017899,
     "end_time": "2025-03-06T01:07:19.390138",
     "exception": false,
     "start_time": "2025-03-06T01:07:19.372239",
     "status": "completed"
    },
    "tags": []
   },
   "outputs": [
    {
     "name": "stdout",
     "output_type": "stream",
     "text": [
      "<class 'pandas.core.frame.DataFrame'>\n",
      "Index: 2155 entries, 0 to 2154\n",
      "Data columns (total 22 columns):\n",
      " #   Column          Non-Null Count  Dtype  \n",
      "---  ------          --------------  -----  \n",
      " 0   customerid      2155 non-null   float64\n",
      " 1   firstname       2155 non-null   object \n",
      " 2   lastname        2155 non-null   object \n",
      " 3   city            2155 non-null   object \n",
      " 4   country         2155 non-null   object \n",
      " 5   phone           2155 non-null   object \n",
      " 6   orderid         2155 non-null   float64\n",
      " 7   orderdate       2155 non-null   object \n",
      " 8   ordernumber     2155 non-null   float64\n",
      " 9   totalamount     2155 non-null   float64\n",
      " 10  productid       2155 non-null   float64\n",
      " 11  productname     2155 non-null   object \n",
      " 12  unitprice       2155 non-null   float64\n",
      " 13  package         2155 non-null   object \n",
      " 14  isdiscontinued  2155 non-null   object \n",
      " 15  supplierid      2155 non-null   float64\n",
      " 16  companyname     2155 non-null   object \n",
      " 17  contactname     2155 non-null   object \n",
      " 18  city.1          2155 non-null   object \n",
      " 19  country.1       2155 non-null   object \n",
      " 20  phone.1         2155 non-null   object \n",
      " 21  fax             2155 non-null   object \n",
      "dtypes: float64(7), object(15)\n",
      "memory usage: 387.2+ KB\n"
     ]
    }
   ],
   "source": [
    "df.info()"
   ]
  },
  {
   "cell_type": "code",
   "execution_count": 12,
   "id": "bba843b3",
   "metadata": {
    "execution": {
     "iopub.execute_input": "2025-03-06T01:07:19.405063Z",
     "iopub.status.busy": "2025-03-06T01:07:19.404830Z",
     "iopub.status.idle": "2025-03-06T01:07:19.411940Z",
     "shell.execute_reply": "2025-03-06T01:07:19.411059Z"
    },
    "papermill": {
     "duration": 0.015631,
     "end_time": "2025-03-06T01:07:19.413115",
     "exception": false,
     "start_time": "2025-03-06T01:07:19.397484",
     "status": "completed"
    },
    "tags": []
   },
   "outputs": [
    {
     "data": {
      "text/plain": [
       "customerid        0\n",
       "firstname         0\n",
       "lastname          0\n",
       "city              0\n",
       "country           0\n",
       "phone             0\n",
       "orderid           0\n",
       "orderdate         0\n",
       "ordernumber       0\n",
       "totalamount       0\n",
       "productid         0\n",
       "productname       0\n",
       "unitprice         0\n",
       "package           0\n",
       "isdiscontinued    0\n",
       "supplierid        0\n",
       "companyname       0\n",
       "contactname       0\n",
       "city.1            0\n",
       "country.1         0\n",
       "phone.1           0\n",
       "fax               0\n",
       "dtype: int64"
      ]
     },
     "execution_count": 12,
     "metadata": {},
     "output_type": "execute_result"
    }
   ],
   "source": [
    "df.isnull().sum()"
   ]
  },
  {
   "cell_type": "code",
   "execution_count": 13,
   "id": "6dfb0a65",
   "metadata": {
    "execution": {
     "iopub.execute_input": "2025-03-06T01:07:19.427611Z",
     "iopub.status.busy": "2025-03-06T01:07:19.427271Z",
     "iopub.status.idle": "2025-03-06T01:07:19.436683Z",
     "shell.execute_reply": "2025-03-06T01:07:19.435957Z"
    },
    "papermill": {
     "duration": 0.017826,
     "end_time": "2025-03-06T01:07:19.437741",
     "exception": false,
     "start_time": "2025-03-06T01:07:19.419915",
     "status": "completed"
    },
    "scrolled": true,
    "tags": []
   },
   "outputs": [],
   "source": [
    "# Convert the 'orderdate' column to datetime format \n",
    "df['orderdate'] = pd.to_datetime(df['orderdate'])"
   ]
  },
  {
   "cell_type": "code",
   "execution_count": 14,
   "id": "d16cc71e",
   "metadata": {
    "execution": {
     "iopub.execute_input": "2025-03-06T01:07:19.452433Z",
     "iopub.status.busy": "2025-03-06T01:07:19.452170Z",
     "iopub.status.idle": "2025-03-06T01:07:19.457685Z",
     "shell.execute_reply": "2025-03-06T01:07:19.457010Z"
    },
    "papermill": {
     "duration": 0.014922,
     "end_time": "2025-03-06T01:07:19.459279",
     "exception": false,
     "start_time": "2025-03-06T01:07:19.444357",
     "status": "completed"
    },
    "scrolled": true,
    "tags": []
   },
   "outputs": [],
   "source": [
    "# Convert columns containing 'id' or 'ordernumber' to integer data type\n",
    "for cols in df.columns:\n",
    "    if 'id' in cols or 'ordernumber' in cols:\n",
    "        df[cols] = df[cols].astype(int)"
   ]
  },
  {
   "cell_type": "code",
   "execution_count": 15,
   "id": "07d7da43",
   "metadata": {
    "execution": {
     "iopub.execute_input": "2025-03-06T01:07:19.473866Z",
     "iopub.status.busy": "2025-03-06T01:07:19.473575Z",
     "iopub.status.idle": "2025-03-06T01:07:19.478548Z",
     "shell.execute_reply": "2025-03-06T01:07:19.477304Z"
    },
    "papermill": {
     "duration": 0.013186,
     "end_time": "2025-03-06T01:07:19.479756",
     "exception": false,
     "start_time": "2025-03-06T01:07:19.466570",
     "status": "completed"
    },
    "scrolled": true,
    "tags": []
   },
   "outputs": [],
   "source": [
    "# rename columns\n",
    "df.rename(columns = {'city.1':'supcity', 'country.1':'supcountry', 'phone.1':'supphone'}, inplace=True)"
   ]
  },
  {
   "cell_type": "code",
   "execution_count": 16,
   "id": "e85f0758",
   "metadata": {
    "execution": {
     "iopub.execute_input": "2025-03-06T01:07:19.494571Z",
     "iopub.status.busy": "2025-03-06T01:07:19.494304Z",
     "iopub.status.idle": "2025-03-06T01:07:19.504168Z",
     "shell.execute_reply": "2025-03-06T01:07:19.503355Z"
    },
    "papermill": {
     "duration": 0.018458,
     "end_time": "2025-03-06T01:07:19.505372",
     "exception": false,
     "start_time": "2025-03-06T01:07:19.486914",
     "status": "completed"
    },
    "scrolled": true,
    "tags": []
   },
   "outputs": [
    {
     "name": "stdout",
     "output_type": "stream",
     "text": [
      "<class 'pandas.core.frame.DataFrame'>\n",
      "Index: 2155 entries, 0 to 2154\n",
      "Data columns (total 22 columns):\n",
      " #   Column          Non-Null Count  Dtype         \n",
      "---  ------          --------------  -----         \n",
      " 0   customerid      2155 non-null   int64         \n",
      " 1   firstname       2155 non-null   object        \n",
      " 2   lastname        2155 non-null   object        \n",
      " 3   city            2155 non-null   object        \n",
      " 4   country         2155 non-null   object        \n",
      " 5   phone           2155 non-null   object        \n",
      " 6   orderid         2155 non-null   int64         \n",
      " 7   orderdate       2155 non-null   datetime64[ns]\n",
      " 8   ordernumber     2155 non-null   int64         \n",
      " 9   totalamount     2155 non-null   float64       \n",
      " 10  productid       2155 non-null   int64         \n",
      " 11  productname     2155 non-null   object        \n",
      " 12  unitprice       2155 non-null   float64       \n",
      " 13  package         2155 non-null   object        \n",
      " 14  isdiscontinued  2155 non-null   object        \n",
      " 15  supplierid      2155 non-null   int64         \n",
      " 16  companyname     2155 non-null   object        \n",
      " 17  contactname     2155 non-null   object        \n",
      " 18  supcity         2155 non-null   object        \n",
      " 19  supcountry      2155 non-null   object        \n",
      " 20  supphone        2155 non-null   object        \n",
      " 21  fax             2155 non-null   object        \n",
      "dtypes: datetime64[ns](1), float64(2), int64(5), object(14)\n",
      "memory usage: 387.2+ KB\n"
     ]
    }
   ],
   "source": [
    "df.info()"
   ]
  },
  {
   "cell_type": "code",
   "execution_count": 17,
   "id": "2ca23c9f",
   "metadata": {
    "execution": {
     "iopub.execute_input": "2025-03-06T01:07:19.520311Z",
     "iopub.status.busy": "2025-03-06T01:07:19.520044Z",
     "iopub.status.idle": "2025-03-06T01:07:19.534345Z",
     "shell.execute_reply": "2025-03-06T01:07:19.533555Z"
    },
    "papermill": {
     "duration": 0.023612,
     "end_time": "2025-03-06T01:07:19.536213",
     "exception": false,
     "start_time": "2025-03-06T01:07:19.512601",
     "status": "completed"
    },
    "scrolled": true,
    "tags": []
   },
   "outputs": [
    {
     "data": {
      "text/html": [
       "<div>\n",
       "<style scoped>\n",
       "    .dataframe tbody tr th:only-of-type {\n",
       "        vertical-align: middle;\n",
       "    }\n",
       "\n",
       "    .dataframe tbody tr th {\n",
       "        vertical-align: top;\n",
       "    }\n",
       "\n",
       "    .dataframe thead th {\n",
       "        text-align: right;\n",
       "    }\n",
       "</style>\n",
       "<table border=\"1\" class=\"dataframe\">\n",
       "  <thead>\n",
       "    <tr style=\"text-align: right;\">\n",
       "      <th></th>\n",
       "      <th>customerid</th>\n",
       "      <th>firstname</th>\n",
       "      <th>lastname</th>\n",
       "      <th>city</th>\n",
       "      <th>country</th>\n",
       "      <th>phone</th>\n",
       "      <th>orderid</th>\n",
       "      <th>orderdate</th>\n",
       "      <th>ordernumber</th>\n",
       "      <th>totalamount</th>\n",
       "      <th>productid</th>\n",
       "      <th>productname</th>\n",
       "      <th>unitprice</th>\n",
       "      <th>package</th>\n",
       "      <th>isdiscontinued</th>\n",
       "      <th>supplierid</th>\n",
       "      <th>companyname</th>\n",
       "      <th>contactname</th>\n",
       "      <th>supcity</th>\n",
       "      <th>supcountry</th>\n",
       "      <th>supphone</th>\n",
       "      <th>fax</th>\n",
       "    </tr>\n",
       "  </thead>\n",
       "  <tbody>\n",
       "    <tr>\n",
       "      <th>0</th>\n",
       "      <td>85</td>\n",
       "      <td>Paul</td>\n",
       "      <td>Henriot</td>\n",
       "      <td>Reims</td>\n",
       "      <td>France</td>\n",
       "      <td>26.47.15.10</td>\n",
       "      <td>1</td>\n",
       "      <td>2012-07-04</td>\n",
       "      <td>542378</td>\n",
       "      <td>440.00</td>\n",
       "      <td>11</td>\n",
       "      <td>Queso Cabrales</td>\n",
       "      <td>21.00</td>\n",
       "      <td>1 kg pkg.</td>\n",
       "      <td>False</td>\n",
       "      <td>5</td>\n",
       "      <td>Cooperativa de Quesos 'Las Cabras'</td>\n",
       "      <td>Antonio del Valle Saavedra</td>\n",
       "      <td>Oviedo</td>\n",
       "      <td>Spain</td>\n",
       "      <td>(98) 598 76 54</td>\n",
       "      <td>Blank</td>\n",
       "    </tr>\n",
       "    <tr>\n",
       "      <th>1</th>\n",
       "      <td>85</td>\n",
       "      <td>Paul</td>\n",
       "      <td>Henriot</td>\n",
       "      <td>Reims</td>\n",
       "      <td>France</td>\n",
       "      <td>26.47.15.10</td>\n",
       "      <td>1</td>\n",
       "      <td>2012-07-04</td>\n",
       "      <td>542378</td>\n",
       "      <td>440.00</td>\n",
       "      <td>42</td>\n",
       "      <td>Singaporean Hokkien Fried Mee</td>\n",
       "      <td>14.00</td>\n",
       "      <td>32 - 1 kg pkgs.</td>\n",
       "      <td>True</td>\n",
       "      <td>20</td>\n",
       "      <td>Leka Trading</td>\n",
       "      <td>Chandra Leka</td>\n",
       "      <td>Singapore</td>\n",
       "      <td>Singapore</td>\n",
       "      <td>555-8787</td>\n",
       "      <td>Blank</td>\n",
       "    </tr>\n",
       "    <tr>\n",
       "      <th>2</th>\n",
       "      <td>85</td>\n",
       "      <td>Paul</td>\n",
       "      <td>Henriot</td>\n",
       "      <td>Reims</td>\n",
       "      <td>France</td>\n",
       "      <td>26.47.15.10</td>\n",
       "      <td>1</td>\n",
       "      <td>2012-07-04</td>\n",
       "      <td>542378</td>\n",
       "      <td>440.00</td>\n",
       "      <td>72</td>\n",
       "      <td>Mozzarella di Giovanni</td>\n",
       "      <td>34.80</td>\n",
       "      <td>24 - 200 g pkgs.</td>\n",
       "      <td>False</td>\n",
       "      <td>14</td>\n",
       "      <td>Formaggi Fortini s.r.l.</td>\n",
       "      <td>Elio Rossi</td>\n",
       "      <td>Ravenna</td>\n",
       "      <td>Italy</td>\n",
       "      <td>(0544) 60323</td>\n",
       "      <td>(0544) 60603</td>\n",
       "    </tr>\n",
       "    <tr>\n",
       "      <th>3</th>\n",
       "      <td>79</td>\n",
       "      <td>Karin</td>\n",
       "      <td>Josephs</td>\n",
       "      <td>Münster</td>\n",
       "      <td>Germany</td>\n",
       "      <td>0251-031259</td>\n",
       "      <td>2</td>\n",
       "      <td>2012-07-05</td>\n",
       "      <td>542379</td>\n",
       "      <td>1,863.40</td>\n",
       "      <td>14</td>\n",
       "      <td>Tofu</td>\n",
       "      <td>23.25</td>\n",
       "      <td>40 - 100 g pkgs.</td>\n",
       "      <td>False</td>\n",
       "      <td>6</td>\n",
       "      <td>Mayumi's</td>\n",
       "      <td>Mayumi Ohno</td>\n",
       "      <td>Osaka</td>\n",
       "      <td>Japan</td>\n",
       "      <td>(06) 431-7877</td>\n",
       "      <td>Blank</td>\n",
       "    </tr>\n",
       "    <tr>\n",
       "      <th>4</th>\n",
       "      <td>79</td>\n",
       "      <td>Karin</td>\n",
       "      <td>Josephs</td>\n",
       "      <td>Münster</td>\n",
       "      <td>Germany</td>\n",
       "      <td>0251-031259</td>\n",
       "      <td>2</td>\n",
       "      <td>2012-07-05</td>\n",
       "      <td>542379</td>\n",
       "      <td>1,863.40</td>\n",
       "      <td>51</td>\n",
       "      <td>Manjimup Dried Apples</td>\n",
       "      <td>53.00</td>\n",
       "      <td>50 - 300 g pkgs.</td>\n",
       "      <td>False</td>\n",
       "      <td>24</td>\n",
       "      <td>G'day, Mate</td>\n",
       "      <td>Wendy Mackenzie</td>\n",
       "      <td>Sydney</td>\n",
       "      <td>Australia</td>\n",
       "      <td>(02) 555-5914</td>\n",
       "      <td>(02) 555-4873</td>\n",
       "    </tr>\n",
       "  </tbody>\n",
       "</table>\n",
       "</div>"
      ],
      "text/plain": [
       "   customerid firstname lastname     city  country        phone  orderid  \\\n",
       "0          85      Paul  Henriot    Reims   France  26.47.15.10        1   \n",
       "1          85      Paul  Henriot    Reims   France  26.47.15.10        1   \n",
       "2          85      Paul  Henriot    Reims   France  26.47.15.10        1   \n",
       "3          79     Karin  Josephs  Münster  Germany  0251-031259        2   \n",
       "4          79     Karin  Josephs  Münster  Germany  0251-031259        2   \n",
       "\n",
       "   orderdate  ordernumber  totalamount  productid  \\\n",
       "0 2012-07-04       542378       440.00         11   \n",
       "1 2012-07-04       542378       440.00         42   \n",
       "2 2012-07-04       542378       440.00         72   \n",
       "3 2012-07-05       542379     1,863.40         14   \n",
       "4 2012-07-05       542379     1,863.40         51   \n",
       "\n",
       "                     productname  unitprice           package isdiscontinued  \\\n",
       "0                 Queso Cabrales      21.00         1 kg pkg.          False   \n",
       "1  Singaporean Hokkien Fried Mee      14.00   32 - 1 kg pkgs.           True   \n",
       "2         Mozzarella di Giovanni      34.80  24 - 200 g pkgs.          False   \n",
       "3                           Tofu      23.25  40 - 100 g pkgs.          False   \n",
       "4          Manjimup Dried Apples      53.00  50 - 300 g pkgs.          False   \n",
       "\n",
       "   supplierid                         companyname                 contactname  \\\n",
       "0           5  Cooperativa de Quesos 'Las Cabras'  Antonio del Valle Saavedra   \n",
       "1          20                        Leka Trading                Chandra Leka   \n",
       "2          14             Formaggi Fortini s.r.l.                  Elio Rossi   \n",
       "3           6                            Mayumi's                 Mayumi Ohno   \n",
       "4          24                         G'day, Mate             Wendy Mackenzie   \n",
       "\n",
       "     supcity supcountry        supphone            fax  \n",
       "0     Oviedo      Spain  (98) 598 76 54          Blank  \n",
       "1  Singapore  Singapore        555-8787          Blank  \n",
       "2    Ravenna      Italy    (0544) 60323   (0544) 60603  \n",
       "3      Osaka      Japan   (06) 431-7877          Blank  \n",
       "4     Sydney  Australia   (02) 555-5914  (02) 555-4873  "
      ]
     },
     "execution_count": 17,
     "metadata": {},
     "output_type": "execute_result"
    }
   ],
   "source": [
    "df.head()"
   ]
  },
  {
   "cell_type": "markdown",
   "id": "e6637b83",
   "metadata": {
    "papermill": {
     "duration": 0.006627,
     "end_time": "2025-03-06T01:07:19.550685",
     "exception": false,
     "start_time": "2025-03-06T01:07:19.544058",
     "status": "completed"
    },
    "tags": []
   },
   "source": [
    "# **EDA**"
   ]
  },
  {
   "cell_type": "code",
   "execution_count": 18,
   "id": "4d010a5d",
   "metadata": {
    "execution": {
     "iopub.execute_input": "2025-03-06T01:07:19.565405Z",
     "iopub.status.busy": "2025-03-06T01:07:19.565137Z",
     "iopub.status.idle": "2025-03-06T01:07:19.584652Z",
     "shell.execute_reply": "2025-03-06T01:07:19.583614Z"
    },
    "papermill": {
     "duration": 0.028735,
     "end_time": "2025-03-06T01:07:19.586278",
     "exception": false,
     "start_time": "2025-03-06T01:07:19.557543",
     "status": "completed"
    },
    "tags": []
   },
   "outputs": [
    {
     "data": {
      "text/html": [
       "<div>\n",
       "<style scoped>\n",
       "    .dataframe tbody tr th:only-of-type {\n",
       "        vertical-align: middle;\n",
       "    }\n",
       "\n",
       "    .dataframe tbody tr th {\n",
       "        vertical-align: top;\n",
       "    }\n",
       "\n",
       "    .dataframe thead th {\n",
       "        text-align: right;\n",
       "    }\n",
       "</style>\n",
       "<table border=\"1\" class=\"dataframe\">\n",
       "  <thead>\n",
       "    <tr style=\"text-align: right;\">\n",
       "      <th></th>\n",
       "      <th>count</th>\n",
       "      <th>mean</th>\n",
       "      <th>std</th>\n",
       "      <th>min</th>\n",
       "      <th>25%</th>\n",
       "      <th>50%</th>\n",
       "      <th>75%</th>\n",
       "      <th>max</th>\n",
       "    </tr>\n",
       "  </thead>\n",
       "  <tbody>\n",
       "    <tr>\n",
       "      <th>unitprice</th>\n",
       "      <td>2,155.00</td>\n",
       "      <td>27.95</td>\n",
       "      <td>31.61</td>\n",
       "      <td>2.50</td>\n",
       "      <td>12.50</td>\n",
       "      <td>19.45</td>\n",
       "      <td>34.00</td>\n",
       "      <td>263.50</td>\n",
       "    </tr>\n",
       "    <tr>\n",
       "      <th>totalamount</th>\n",
       "      <td>2,155.00</td>\n",
       "      <td>1,986.04</td>\n",
       "      <td>2,121.85</td>\n",
       "      <td>12.50</td>\n",
       "      <td>670.80</td>\n",
       "      <td>1,419.80</td>\n",
       "      <td>2,393.50</td>\n",
       "      <td>17,250.00</td>\n",
       "    </tr>\n",
       "  </tbody>\n",
       "</table>\n",
       "</div>"
      ],
      "text/plain": [
       "               count     mean      std   min    25%      50%      75%  \\\n",
       "unitprice   2,155.00    27.95    31.61  2.50  12.50    19.45    34.00   \n",
       "totalamount 2,155.00 1,986.04 2,121.85 12.50 670.80 1,419.80 2,393.50   \n",
       "\n",
       "                  max  \n",
       "unitprice      263.50  \n",
       "totalamount 17,250.00  "
      ]
     },
     "execution_count": 18,
     "metadata": {},
     "output_type": "execute_result"
    }
   ],
   "source": [
    "# Summary statistics for numerical columns\n",
    "df[['unitprice', 'totalamount']].describe().T"
   ]
  },
  {
   "cell_type": "code",
   "execution_count": 19,
   "id": "ea3c03ee",
   "metadata": {
    "execution": {
     "iopub.execute_input": "2025-03-06T01:07:19.606151Z",
     "iopub.status.busy": "2025-03-06T01:07:19.605754Z",
     "iopub.status.idle": "2025-03-06T01:07:20.343157Z",
     "shell.execute_reply": "2025-03-06T01:07:20.342351Z"
    },
    "papermill": {
     "duration": 0.74908,
     "end_time": "2025-03-06T01:07:20.344751",
     "exception": false,
     "start_time": "2025-03-06T01:07:19.595671",
     "status": "completed"
    },
    "tags": []
   },
   "outputs": [
    {
     "data": {
      "image/png": "[encoded data removed]",
      "text/plain": [
       "<Figure size 1500x600 with 2 Axes>"
      ]
     },
     "metadata": {},
     "output_type": "display_data"
    }
   ],
   "source": [
    "# Distribution of unit_price and total_amount\n",
    "hist = df[['unitprice', 'totalamount']]\n",
    "plt.figure(figsize= (15,6))\n",
    "for e,i in enumerate(hist):\n",
    "    plt.subplot(1,2, e+1)\n",
    "    sns.histplot(hist[i], kde= True)\n",
    "    plt.axvline(hist[i].mean(), color= 'green')\n",
    "    plt.axvline(hist[i].median(), color= 'red')\n",
    "    plt.title('\\n Distribution of \\n' +i)\n",
    "    plt.tight_layout()"
   ]
  },
  {
   "cell_type": "code",
   "execution_count": 20,
   "id": "ba6526b0",
   "metadata": {
    "execution": {
     "iopub.execute_input": "2025-03-06T01:07:20.363911Z",
     "iopub.status.busy": "2025-03-06T01:07:20.363528Z",
     "iopub.status.idle": "2025-03-06T01:07:21.918440Z",
     "shell.execute_reply": "2025-03-06T01:07:21.917262Z"
    },
    "papermill": {
     "duration": 1.566818,
     "end_time": "2025-03-06T01:07:21.920138",
     "exception": false,
     "start_time": "2025-03-06T01:07:20.353320",
     "status": "completed"
    },
    "tags": []
   },
   "outputs": [
    {
     "data": {
      "application/vnd.plotly.v1+json": {
       "config": {
        "plotlyServerURL": "https://plot.ly"
       },
       "data": [
        {
         "alignmentgroup": "True",
         "hovertemplate": "totalamount=%{x}<extra></extra>",
         "legendgroup": "",
         "marker": {
          "color": "#636efa"
         },
         "name": "",
         "notched": false,
         "offsetgroup": "",
         "orientation": "h",
         "showlegend": false,
         "type": "box",
         "x": {
          "bdata": "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",
          "dtype": "f8"
         },
         "x0": " ",
         "xaxis": "x",
         "y0": " ",
         "yaxis": "y"
        }
       ],
       "layout": {
        "boxmode": "group",
        "legend": {
         "tracegroupgap": 0
        },
        "margin": {
         "t": 60
        },
        "template": {
         "data": {
          "bar": [
           {
            "error_x": {
             "color": "#2a3f5f"
            },
            "error_y": {
             "color": "#2a3f5f"
            },
            "marker": {
             "line": {
              "color": "#E5ECF6",
              "width": 0.5
             },
             "pattern": {
              "fillmode": "overlay",
              "size": 10,
              "solidity": 0.2
             }
            },
            "type": "bar"
           }
          ],
          "barpolar": [
           {
            "marker": {
             "line": {
              "color": "#E5ECF6",
              "width": 0.5
             },
             "pattern": {
              "fillmode": "overlay",
              "size": 10,
              "solidity": 0.2
             }
            },
            "type": "barpolar"
           }
          ],
          "carpet": [
           {
            "aaxis": {
             "endlinecolor": "#2a3f5f",
             "gridcolor": "white",
             "linecolor": "white",
             "minorgridcolor": "white",
             "startlinecolor": "#2a3f5f"
            },
            "baxis": {
             "endlinecolor": "#2a3f5f",
             "gridcolor": "white",
             "linecolor": "white",
             "minorgridcolor": "white",
             "startlinecolor": "#2a3f5f"
            },
            "type": "carpet"
           }
          ],
          "choropleth": [
           {
            "colorbar": {
             "outlinewidth": 0,
             "ticks": ""
            },
            "type": "choropleth"
           }
          ],
          "contour": [
           {
            "colorbar": {
             "outlinewidth": 0,
             "ticks": ""
            },
            "colorscale": [
             [
              0,
              "#0d0887"
             ],
             [
              0.1111111111111111,
              "#46039f"
             ],
             [
              0.2222222222222222,
              "#7201a8"
             ],
             [
              0.3333333333333333,
              "#9c179e"
             ],
             [
              0.4444444444444444,
              "#bd3786"
             ],
             [
              0.5555555555555556,
              "#d8576b"
             ],
             [
              0.6666666666666666,
              "#ed7953"
             ],
             [
              0.7777777777777778,
              "#fb9f3a"
             ],
             [
              0.8888888888888888,
              "#fdca26"
             ],
             [
              1,
              "#f0f921"
             ]
            ],
            "type": "contour"
           }
          ],
          "contourcarpet": [
           {
            "colorbar": {
             "outlinewidth": 0,
             "ticks": ""
            },
            "type": "contourcarpet"
           }
          ],
          "heatmap": [
           {
            "colorbar": {
             "outlinewidth": 0,
             "ticks": ""
            },
            "colorscale": [
             [
              0,
              "#0d0887"
             ],
             [
              0.1111111111111111,
              "#46039f"
             ],
             [
              0.2222222222222222,
              "#7201a8"
             ],
             [
              0.3333333333333333,
              "#9c179e"
             ],
             [
              0.4444444444444444,
              "#bd3786"
             ],
             [
              0.5555555555555556,
              "#d8576b"
             ],
             [
              0.6666666666666666,
              "#ed7953"
             ],
             [
              0.7777777777777778,
              "#fb9f3a"
             ],
             [
              0.8888888888888888,
              "#fdca26"
             ],
             [
              1,
              "#f0f921"
             ]
            ],
            "type": "heatmap"
           }
          ],
          "histogram": [
           {
            "marker": {
             "pattern": {
              "fillmode": "overlay",
              "size": 10,
              "solidity": 0.2
             }
            },
            "type": "histogram"
           }
          ],
          "histogram2d": [
           {
            "colorbar": {
             "outlinewidth": 0,
             "ticks": ""
            },
            "colorscale": [
             [
              0,
              "#0d0887"
             ],
             [
              0.1111111111111111,
              "#46039f"
             ],
             [
              0.2222222222222222,
              "#7201a8"
             ],
             [
              0.3333333333333333,
              "#9c179e"
             ],
             [
              0.4444444444444444,
              "#bd3786"
             ],
             [
              0.5555555555555556,
              "#d8576b"
             ],
             [
              0.6666666666666666,
              "#ed7953"
             ],
             [
              0.7777777777777778,
              "#fb9f3a"
             ],
             [
              0.8888888888888888,
              "#fdca26"
             ],
             [
              1,
              "#f0f921"
             ]
            ],
            "type": "histogram2d"
           }
          ],
          "histogram2dcontour": [
           {
            "colorbar": {
             "outlinewidth": 0,
             "ticks": ""
            },
            "colorscale": [
             [
              0,
              "#0d0887"
             ],
             [
              0.1111111111111111,
              "#46039f"
             ],
             [
              0.2222222222222222,
              "#7201a8"
             ],
             [
              0.3333333333333333,
              "#9c179e"
             ],
             [
              0.4444444444444444,
              "#bd3786"
             ],
             [
              0.5555555555555556,
              "#d8576b"
             ],
             [
              0.6666666666666666,
              "#ed7953"
             ],
             [
              0.7777777777777778,
              "#fb9f3a"
             ],
             [
              0.8888888888888888,
              "#fdca26"
             ],
             [
              1,
              "#f0f921"
             ]
            ],
            "type": "histogram2dcontour"
           }
          ],
          "mesh3d": [
           {
            "colorbar": {
             "outlinewidth": 0,
             "ticks": ""
            },
            "type": "mesh3d"
           }
          ],
          "parcoords": [
           {
            "line": {
             "colorbar": {
              "outlinewidth": 0,
              "ticks": ""
             }
            },
            "type": "parcoords"
           }
          ],
          "pie": [
           {
            "automargin": true,
            "type": "pie"
           }
          ],
          "scatter": [
           {
            "fillpattern": {
             "fillmode": "overlay",
             "size": 10,
             "solidity": 0.2
            },
            "type": "scatter"
           }
          ],
          "scatter3d": [
           {
            "line": {
             "colorbar": {
              "outlinewidth": 0,
              "ticks": ""
             }
            },
            "marker": {
             "colorbar": {
              "outlinewidth": 0,
              "ticks": ""
             }
            },
            "type": "scatter3d"
           }
          ],
          "scattercarpet": [
           {
            "marker": {
             "colorbar": {
              "outlinewidth": 0,
              "ticks": ""
             }
            },
            "type": "scattercarpet"
           }
          ],
          "scattergeo": [
           {
            "marker": {
             "colorbar": {
              "outlinewidth": 0,
              "ticks": ""
             }
            },
            "type": "scattergeo"
           }
          ],
          "scattergl": [
           {
            "marker": {
             "colorbar": {
              "outlinewidth": 0,
              "ticks": ""
             }
            },
            "type": "scattergl"
           }
          ],
          "scattermap": [
           {
            "marker": {
             "colorbar": {
              "outlinewidth": 0,
              "ticks": ""
             }
            },
            "type": "scattermap"
           }
          ],
          "scattermapbox": [
           {
            "marker": {
             "colorbar": {
              "outlinewidth": 0,
              "ticks": ""
             }
            },
            "type": "scattermapbox"
           }
          ],
          "scatterpolar": [
           {
            "marker": {
             "colorbar": {
              "outlinewidth": 0,
              "ticks": ""
             }
            },
            "type": "scatterpolar"
           }
          ],
          "scatterpolargl": [
           {
            "marker": {
             "colorbar": {
              "outlinewidth": 0,
              "ticks": ""
             }
            },
            "type": "scatterpolargl"
           }
          ],
          "scatterternary": [
           {
            "marker": {
             "colorbar": {
              "outlinewidth": 0,
              "ticks": ""
             }
            },
            "type": "scatterternary"
           }
          ],
          "surface": [
           {
            "colorbar": {
             "outlinewidth": 0,
             "ticks": ""
            },
            "colorscale": [
             [
              0,
              "#0d0887"
             ],
             [
              0.1111111111111111,
              "#46039f"
             ],
             [
              0.2222222222222222,
              "#7201a8"
             ],
             [
              0.3333333333333333,
              "#9c179e"
             ],
             [
              0.4444444444444444,
              "#bd3786"
             ],
             [
              0.5555555555555556,
              "#d8576b"
             ],
             [
              0.6666666666666666,
              "#ed7953"
             ],
             [
              0.7777777777777778,
              "#fb9f3a"
             ],
             [
              0.8888888888888888,
              "#fdca26"
             ],
             [
              1,
              "#f0f921"
             ]
            ],
            "type": "surface"
           }
          ],
          "table": [
           {
            "cells": {
             "fill": {
              "color": "#EBF0F8"
             },
             "line": {
              "color": "white"
             }
            },
            "header": {
             "fill": {
              "color": "#C8D4E3"
             },
             "line": {
              "color": "white"
             }
            },
            "type": "table"
           }
          ]
         },
         "layout": {
          "annotationdefaults": {
           "arrowcolor": "#2a3f5f",
           "arrowhead": 0,
           "arrowwidth": 1
          },
          "autotypenumbers": "strict",
          "coloraxis": {
           "colorbar": {
            "outlinewidth": 0,
            "ticks": ""
           }
          },
          "colorscale": {
           "diverging": [
            [
             0,
             "#8e0152"
            ],
            [
             0.1,
             "#c51b7d"
            ],
            [
             0.2,
             "#de77ae"
            ],
            [
             0.3,
             "#f1b6da"
            ],
            [
             0.4,
             "#fde0ef"
            ],
            [
             0.5,
             "#f7f7f7"
            ],
            [
             0.6,
             "#e6f5d0"
            ],
            [
             0.7,
             "#b8e186"
            ],
            [
             0.8,
             "#7fbc41"
            ],
            [
             0.9,
             "#4d9221"
            ],
            [
             1,
             "#276419"
            ]
           ],
           "sequential": [
            [
             0,
             "#0d0887"
            ],
            [
             0.1111111111111111,
             "#46039f"
            ],
            [
             0.2222222222222222,
             "#7201a8"
            ],
            [
             0.3333333333333333,
             "#9c179e"
            ],
            [
             0.4444444444444444,
             "#bd3786"
            ],
            [
             0.5555555555555556,
             "#d8576b"
            ],
            [
             0.6666666666666666,
             "#ed7953"
            ],
            [
             0.7777777777777778,
             "#fb9f3a"
            ],
            [
             0.8888888888888888,
             "#fdca26"
            ],
            [
             1,
             "#f0f921"
            ]
           ],
           "sequentialminus": [
            [
             0,
             "#0d0887"
            ],
            [
             0.1111111111111111,
             "#46039f"
            ],
            [
             0.2222222222222222,
             "#7201a8"
            ],
            [
             0.3333333333333333,
             "#9c179e"
            ],
            [
             0.4444444444444444,
             "#bd3786"
            ],
            [
             0.5555555555555556,
             "#d8576b"
            ],
            [
             0.6666666666666666,
             "#ed7953"
            ],
            [
             0.7777777777777778,
             "#fb9f3a"
            ],
            [
             0.8888888888888888,
             "#fdca26"
            ],
            [
             1,
             "#f0f921"
            ]
           ]
          },
          "colorway": [
           "#636efa",
           "#EF553B",
           "#00cc96",
           "#ab63fa",
           "#FFA15A",
           "#19d3f3",
           "#FF6692",
           "#B6E880",
           "#FF97FF",
           "#FECB52"
          ],
          "font": {
           "color": "#2a3f5f"
          },
          "geo": {
           "bgcolor": "white",
           "lakecolor": "white",
           "landcolor": "#E5ECF6",
           "showlakes": true,
           "showland": true,
           "subunitcolor": "white"
          },
          "hoverlabel": {
           "align": "left"
          },
          "hovermode": "closest",
          "mapbox": {
           "style": "light"
          },
          "paper_bgcolor": "white",
          "plot_bgcolor": "#E5ECF6",
          "polar": {
           "angularaxis": {
            "gridcolor": "white",
            "linecolor": "white",
            "ticks": ""
           },
           "bgcolor": "#E5ECF6",
           "radialaxis": {
            "gridcolor": "white",
            "linecolor": "white",
            "ticks": ""
           }
          },
          "scene": {
           "xaxis": {
            "backgroundcolor": "#E5ECF6",
            "gridcolor": "white",
            "gridwidth": 2,
            "linecolor": "white",
            "showbackground": true,
            "ticks": "",
            "zerolinecolor": "white"
           },
           "yaxis": {
            "backgroundcolor": "#E5ECF6",
            "gridcolor": "white",
            "gridwidth": 2,
            "linecolor": "white",
            "showbackground": true,
            "ticks": "",
            "zerolinecolor": "white"
           },
           "zaxis": {
            "backgroundcolor": "#E5ECF6",
            "gridcolor": "white",
            "gridwidth": 2,
            "linecolor": "white",
            "showbackground": true,
            "ticks": "",
            "zerolinecolor": "white"
           }
          },
          "shapedefaults": {
           "line": {
            "color": "#2a3f5f"
           }
          },
          "ternary": {
           "aaxis": {
            "gridcolor": "white",
            "linecolor": "white",
            "ticks": ""
           },
           "baxis": {
            "gridcolor": "white",
            "linecolor": "white",
            "ticks": ""
           },
           "bgcolor": "#E5ECF6",
           "caxis": {
            "gridcolor": "white",
            "linecolor": "white",
            "ticks": ""
           }
          },
          "title": {
           "x": 0.05
          },
          "xaxis": {
           "automargin": true,
           "gridcolor": "white",
           "linecolor": "white",
           "ticks": "",
           "title": {
            "standoff": 15
           },
           "zerolinecolor": "white",
           "zerolinewidth": 2
          },
          "yaxis": {
           "automargin": true,
           "gridcolor": "white",
           "linecolor": "white",
           "ticks": "",
           "title": {
            "standoff": 15
           },
           "zerolinecolor": "white",
           "zerolinewidth": 2
          }
         }
        },
        "xaxis": {
         "anchor": "y",
         "domain": [
          0,
          1
         ],
         "title": {
          "text": "totalamount"
         }
        },
        "yaxis": {
         "anchor": "x",
         "domain": [
          0,
          1
         ]
        }
       }
      }
     },
     "metadata": {},
     "output_type": "display_data"
    },
    {
     "data": {
      "application/vnd.plotly.v1+json": {
       "config": {
        "plotlyServerURL": "https://plot.ly"
       },
       "data": [
        {
         "alignmentgroup": "True",
         "hovertemplate": "unitprice=%{x}<extra></extra>",
         "legendgroup": "",
         "marker": {
          "color": "#636efa"
         },
         "name": "",
         "notched": false,
         "offsetgroup": "",
         "orientation": "h",
         "showlegend": false,
         "type": "box",
         "x": {
          "bdata": "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",
          "dtype": "f8"
         },
         "x0": " ",
         "xaxis": "x",
         "y0": " ",
         "yaxis": "y"
        }
       ],
       "layout": {
        "boxmode": "group",
        "legend": {
         "tracegroupgap": 0
        },
        "margin": {
         "t": 60
        },
        "template": {
         "data": {
          "bar": [
           {
            "error_x": {
             "color": "#2a3f5f"
            },
            "error_y": {
             "color": "#2a3f5f"
            },
            "marker": {
             "line": {
              "color": "#E5ECF6",
              "width": 0.5
             },
             "pattern": {
              "fillmode": "overlay",
              "size": 10,
              "solidity": 0.2
             }
            },
            "type": "bar"
           }
          ],
          "barpolar": [
           {
            "marker": {
             "line": {
              "color": "#E5ECF6",
              "width": 0.5
             },
             "pattern": {
              "fillmode": "overlay",
              "size": 10,
              "solidity": 0.2
             }
            },
            "type": "barpolar"
           }
          ],
          "carpet": [
           {
            "aaxis": {
             "endlinecolor": "#2a3f5f",
             "gridcolor": "white",
             "linecolor": "white",
             "minorgridcolor": "white",
             "startlinecolor": "#2a3f5f"
            },
            "baxis": {
             "endlinecolor": "#2a3f5f",
             "gridcolor": "white",
             "linecolor": "white",
             "minorgridcolor": "white",
             "startlinecolor": "#2a3f5f"
            },
            "type": "carpet"
           }
          ],
          "choropleth": [
           {
            "colorbar": {
             "outlinewidth": 0,
             "ticks": ""
            },
            "type": "choropleth"
           }
          ],
          "contour": [
           {
            "colorbar": {
             "outlinewidth": 0,
             "ticks": ""
            },
            "colorscale": [
             [
              0,
              "#0d0887"
             ],
             [
              0.1111111111111111,
              "#46039f"
             ],
             [
              0.2222222222222222,
              "#7201a8"
             ],
             [
              0.3333333333333333,
              "#9c179e"
             ],
             [
              0.4444444444444444,
              "#bd3786"
             ],
             [
              0.5555555555555556,
              "#d8576b"
             ],
             [
              0.6666666666666666,
              "#ed7953"
             ],
             [
              0.7777777777777778,
              "#fb9f3a"
             ],
             [
              0.8888888888888888,
              "#fdca26"
             ],
             [
              1,
              "#f0f921"
             ]
            ],
            "type": "contour"
           }
          ],
          "contourcarpet": [
           {
            "colorbar": {
             "outlinewidth": 0,
             "ticks": ""
            },
            "type": "contourcarpet"
           }
          ],
          "heatmap": [
           {
            "colorbar": {
             "outlinewidth": 0,
             "ticks": ""
            },
            "colorscale": [
             [
              0,
              "#0d0887"
             ],
             [
              0.1111111111111111,
              "#46039f"
             ],
             [
              0.2222222222222222,
              "#7201a8"
             ],
             [
              0.3333333333333333,
              "#9c179e"
             ],
             [
              0.4444444444444444,
              "#bd3786"
             ],
             [
              0.5555555555555556,
              "#d8576b"
             ],
             [
              0.6666666666666666,
              "#ed7953"
             ],
             [
              0.7777777777777778,
              "#fb9f3a"
             ],
             [
              0.8888888888888888,
              "#fdca26"
             ],
             [
              1,
              "#f0f921"
             ]
            ],
            "type": "heatmap"
           }
          ],
          "histogram": [
           {
            "marker": {
             "pattern": {
              "fillmode": "overlay",
              "size": 10,
              "solidity": 0.2
             }
            },
            "type": "histogram"
           }
          ],
          "histogram2d": [
           {
            "colorbar": {
             "outlinewidth": 0,
             "ticks": ""
            },
            "colorscale": [
             [
              0,
              "#0d0887"
             ],
             [
              0.1111111111111111,
              "#46039f"
             ],
             [
              0.2222222222222222,
              "#7201a8"
             ],
             [
              0.3333333333333333,
              "#9c179e"
             ],
             [
              0.4444444444444444,
              "#bd3786"
             ],
             [
              0.5555555555555556,
              "#d8576b"
             ],
             [
              0.6666666666666666,
              "#ed7953"
             ],
             [
              0.7777777777777778,
              "#fb9f3a"
             ],
             [
              0.8888888888888888,
              "#fdca26"
             ],
             [
              1,
              "#f0f921"
             ]
            ],
            "type": "histogram2d"
           }
          ],
          "histogram2dcontour": [
           {
            "colorbar": {
             "outlinewidth": 0,
             "ticks": ""
            },
            "colorscale": [
             [
              0,
              "#0d0887"
             ],
             [
              0.1111111111111111,
              "#46039f"
             ],
             [
              0.2222222222222222,
              "#7201a8"
             ],
             [
              0.3333333333333333,
              "#9c179e"
             ],
             [
              0.4444444444444444,
              "#bd3786"
             ],
             [
              0.5555555555555556,
              "#d8576b"
             ],
             [
              0.6666666666666666,
              "#ed7953"
             ],
             [
              0.7777777777777778,
              "#fb9f3a"
             ],
             [
              0.8888888888888888,
              "#fdca26"
             ],
             [
              1,
              "#f0f921"
             ]
            ],
            "type": "histogram2dcontour"
           }
          ],
          "mesh3d": [
           {
            "colorbar": {
             "outlinewidth": 0,
             "ticks": ""
            },
            "type": "mesh3d"
           }
          ],
          "parcoords": [
           {
            "line": {
             "colorbar": {
              "outlinewidth": 0,
              "ticks": ""
             }
            },
            "type": "parcoords"
           }
          ],
          "pie": [
           {
            "automargin": true,
            "type": "pie"
           }
          ],
          "scatter": [
           {
            "fillpattern": {
             "fillmode": "overlay",
             "size": 10,
             "solidity": 0.2
            },
            "type": "scatter"
           }
          ],
          "scatter3d": [
           {
            "line": {
             "colorbar": {
              "outlinewidth": 0,
              "ticks": ""
             }
            },
            "marker": {
             "colorbar": {
              "outlinewidth": 0,
              "ticks": ""
             }
            },
            "type": "scatter3d"
           }
          ],
          "scattercarpet": [
           {
            "marker": {
             "colorbar": {
              "outlinewidth": 0,
              "ticks": ""
             }
            },
            "type": "scattercarpet"
           }
          ],
          "scattergeo": [
           {
            "marker": {
             "colorbar": {
              "outlinewidth": 0,
              "ticks": ""
             }
            },
            "type": "scattergeo"
           }
          ],
          "scattergl": [
           {
            "marker": {
             "colorbar": {
              "outlinewidth": 0,
              "ticks": ""
             }
            },
            "type": "scattergl"
           }
          ],
          "scattermap": [
           {
            "marker": {
             "colorbar": {
              "outlinewidth": 0,
              "ticks": ""
             }
            },
            "type": "scattermap"
           }
          ],
          "scattermapbox": [
           {
            "marker": {
             "colorbar": {
              "outlinewidth": 0,
              "ticks": ""
             }
            },
            "type": "scattermapbox"
           }
          ],
          "scatterpolar": [
           {
            "marker": {
             "colorbar": {
              "outlinewidth": 0,
              "ticks": ""
             }
            },
            "type": "scatterpolar"
           }
          ],
          "scatterpolargl": [
           {
            "marker": {
             "colorbar": {
              "outlinewidth": 0,
              "ticks": ""
             }
            },
            "type": "scatterpolargl"
           }
          ],
          "scatterternary": [
           {
            "marker": {
             "colorbar": {
              "outlinewidth": 0,
              "ticks": ""
             }
            },
            "type": "scatterternary"
           }
          ],
          "surface": [
           {
            "colorbar": {
             "outlinewidth": 0,
             "ticks": ""
            },
            "colorscale": [
             [
              0,
              "#0d0887"
             ],
             [
              0.1111111111111111,
              "#46039f"
             ],
             [
              0.2222222222222222,
              "#7201a8"
             ],
             [
              0.3333333333333333,
              "#9c179e"
             ],
             [
              0.4444444444444444,
              "#bd3786"
             ],
             [
              0.5555555555555556,
              "#d8576b"
             ],
             [
              0.6666666666666666,
              "#ed7953"
             ],
             [
              0.7777777777777778,
              "#fb9f3a"
             ],
             [
              0.8888888888888888,
              "#fdca26"
             ],
             [
              1,
              "#f0f921"
             ]
            ],
            "type": "surface"
           }
          ],
          "table": [
           {
            "cells": {
             "fill": {
              "color": "#EBF0F8"
             },
             "line": {
              "color": "white"
             }
            },
            "header": {
             "fill": {
              "color": "#C8D4E3"
             },
             "line": {
              "color": "white"
             }
            },
            "type": "table"
           }
          ]
         },
         "layout": {
          "annotationdefaults": {
           "arrowcolor": "#2a3f5f",
           "arrowhead": 0,
           "arrowwidth": 1
          },
          "autotypenumbers": "strict",
          "coloraxis": {
           "colorbar": {
            "outlinewidth": 0,
            "ticks": ""
           }
          },
          "colorscale": {
           "diverging": [
            [
             0,
             "#8e0152"
            ],
            [
             0.1,
             "#c51b7d"
            ],
            [
             0.2,
             "#de77ae"
            ],
            [
             0.3,
             "#f1b6da"
            ],
            [
             0.4,
             "#fde0ef"
            ],
            [
             0.5,
             "#f7f7f7"
            ],
            [
             0.6,
             "#e6f5d0"
            ],
            [
             0.7,
             "#b8e186"
            ],
            [
             0.8,
             "#7fbc41"
            ],
            [
             0.9,
             "#4d9221"
            ],
            [
             1,
             "#276419"
            ]
           ],
           "sequential": [
            [
             0,
             "#0d0887"
            ],
            [
             0.1111111111111111,
             "#46039f"
            ],
            [
             0.2222222222222222,
             "#7201a8"
            ],
            [
             0.3333333333333333,
             "#9c179e"
            ],
            [
             0.4444444444444444,
             "#bd3786"
            ],
            [
             0.5555555555555556,
             "#d8576b"
            ],
            [
             0.6666666666666666,
             "#ed7953"
            ],
            [
             0.7777777777777778,
             "#fb9f3a"
            ],
            [
             0.8888888888888888,
             "#fdca26"
            ],
            [
             1,
             "#f0f921"
            ]
           ],
           "sequentialminus": [
            [
             0,
             "#0d0887"
            ],
            [
             0.1111111111111111,
             "#46039f"
            ],
            [
             0.2222222222222222,
             "#7201a8"
            ],
            [
             0.3333333333333333,
             "#9c179e"
            ],
            [
             0.4444444444444444,
             "#bd3786"
            ],
            [
             0.5555555555555556,
             "#d8576b"
            ],
            [
             0.6666666666666666,
             "#ed7953"
            ],
            [
             0.7777777777777778,
             "#fb9f3a"
            ],
            [
             0.8888888888888888,
             "#fdca26"
            ],
            [
             1,
             "#f0f921"
            ]
           ]
          },
          "colorway": [
           "#636efa",
           "#EF553B",
           "#00cc96",
           "#ab63fa",
           "#FFA15A",
           "#19d3f3",
           "#FF6692",
           "#B6E880",
           "#FF97FF",
           "#FECB52"
          ],
          "font": {
           "color": "#2a3f5f"
          },
          "geo": {
           "bgcolor": "white",
           "lakecolor": "white",
           "landcolor": "#E5ECF6",
           "showlakes": true,
           "showland": true,
           "subunitcolor": "white"
          },
          "hoverlabel": {
           "align": "left"
          },
          "hovermode": "closest",
          "mapbox": {
           "style": "light"
          },
          "paper_bgcolor": "white",
          "plot_bgcolor": "#E5ECF6",
          "polar": {
           "angularaxis": {
            "gridcolor": "white",
            "linecolor": "white",
            "ticks": ""
           },
           "bgcolor": "#E5ECF6",
           "radialaxis": {
            "gridcolor": "white",
            "linecolor": "white",
            "ticks": ""
           }
          },
          "scene": {
           "xaxis": {
            "backgroundcolor": "#E5ECF6",
            "gridcolor": "white",
            "gridwidth": 2,
            "linecolor": "white",
            "showbackground": true,
            "ticks": "",
            "zerolinecolor": "white"
           },
           "yaxis": {
            "backgroundcolor": "#E5ECF6",
            "gridcolor": "white",
            "gridwidth": 2,
            "linecolor": "white",
            "showbackground": true,
            "ticks": "",
            "zerolinecolor": "white"
           },
           "zaxis": {
            "backgroundcolor": "#E5ECF6",
            "gridcolor": "white",
            "gridwidth": 2,
            "linecolor": "white",
            "showbackground": true,
            "ticks": "",
            "zerolinecolor": "white"
           }
          },
          "shapedefaults": {
           "line": {
            "color": "#2a3f5f"
           }
          },
          "ternary": {
           "aaxis": {
            "gridcolor": "white",
            "linecolor": "white",
            "ticks": ""
           },
           "baxis": {
            "gridcolor": "white",
            "linecolor": "white",
            "ticks": ""
           },
           "bgcolor": "#E5ECF6",
           "caxis": {
            "gridcolor": "white",
            "linecolor": "white",
            "ticks": ""
           }
          },
          "title": {
           "x": 0.05
          },
          "xaxis": {
           "automargin": true,
           "gridcolor": "white",
           "linecolor": "white",
           "ticks": "",
           "title": {
            "standoff": 15
           },
           "zerolinecolor": "white",
           "zerolinewidth": 2
          },
          "yaxis": {
           "automargin": true,
           "gridcolor": "white",
           "linecolor": "white",
           "ticks": "",
           "title": {
            "standoff": 15
           },
           "zerolinecolor": "white",
           "zerolinewidth": 2
          }
         }
        },
        "xaxis": {
         "anchor": "y",
         "domain": [
          0,
          1
         ],
         "title": {
          "text": "unitprice"
         }
        },
        "yaxis": {
         "anchor": "x",
         "domain": [
          0,
          1
         ]
        }
       }
      }
     },
     "metadata": {},
     "output_type": "display_data"
    }
   ],
   "source": [
    "fig1 = px.box(hist, x='totalamount')\n",
    "fig2 = px.box(hist, x='unitprice')\n",
    "fig1.show()\n",
    "fig2.show()"
   ]
  },
  {
   "cell_type": "code",
   "execution_count": 21,
   "id": "4ba7af0e",
   "metadata": {
    "execution": {
     "iopub.execute_input": "2025-03-06T01:07:21.938569Z",
     "iopub.status.busy": "2025-03-06T01:07:21.938233Z",
     "iopub.status.idle": "2025-03-06T01:07:21.943021Z",
     "shell.execute_reply": "2025-03-06T01:07:21.941995Z"
    },
    "papermill": {
     "duration": 0.015486,
     "end_time": "2025-03-06T01:07:21.944549",
     "exception": false,
     "start_time": "2025-03-06T01:07:21.929063",
     "status": "completed"
    },
    "tags": []
   },
   "outputs": [],
   "source": [
    "# identify outliers\n",
    "def col(columns):\n",
    "    miin = columns.min()\n",
    "    Q1 =  columns.quantile(0.25)\n",
    "    Q2 =  columns.median()\n",
    "    Q3 =  columns.quantile(0.75)\n",
    "    IQR = Q3 - Q1\n",
    "\n",
    "    LB = Q1 - (1.5 * IQR)\n",
    "    UB = Q3 + (1.5 * IQR)\n",
    "    out =  columns[(columns > UB) | (columns < LB)]\n",
    "    return len(out)"
   ]
  },
  {
   "cell_type": "code",
   "execution_count": 22,
   "id": "5484bd1d",
   "metadata": {
    "execution": {
     "iopub.execute_input": "2025-03-06T01:07:21.963623Z",
     "iopub.status.busy": "2025-03-06T01:07:21.963328Z",
     "iopub.status.idle": "2025-03-06T01:07:21.972959Z",
     "shell.execute_reply": "2025-03-06T01:07:21.971978Z"
    },
    "papermill": {
     "duration": 0.020623,
     "end_time": "2025-03-06T01:07:21.974361",
     "exception": false,
     "start_time": "2025-03-06T01:07:21.953738",
     "status": "completed"
    },
    "tags": []
   },
   "outputs": [
    {
     "data": {
      "text/plain": [
       "unitprice       77\n",
       "totalamount    145\n",
       "dtype: int64"
      ]
     },
     "execution_count": 22,
     "metadata": {},
     "output_type": "execute_result"
    }
   ],
   "source": [
    "outliers_count = hist.apply(col)\n",
    "outliers_count"
   ]
  },
  {
   "cell_type": "code",
   "execution_count": 23,
   "id": "5ff82023",
   "metadata": {
    "execution": {
     "iopub.execute_input": "2025-03-06T01:07:21.992469Z",
     "iopub.status.busy": "2025-03-06T01:07:21.992180Z",
     "iopub.status.idle": "2025-03-06T01:07:21.997727Z",
     "shell.execute_reply": "2025-03-06T01:07:21.997039Z"
    },
    "papermill": {
     "duration": 0.015662,
     "end_time": "2025-03-06T01:07:21.998878",
     "exception": false,
     "start_time": "2025-03-06T01:07:21.983216",
     "status": "completed"
    },
    "tags": []
   },
   "outputs": [
    {
     "data": {
      "text/html": [
       "<div>\n",
       "<style scoped>\n",
       "    .dataframe tbody tr th:only-of-type {\n",
       "        vertical-align: middle;\n",
       "    }\n",
       "\n",
       "    .dataframe tbody tr th {\n",
       "        vertical-align: top;\n",
       "    }\n",
       "\n",
       "    .dataframe thead th {\n",
       "        text-align: right;\n",
       "    }\n",
       "</style>\n",
       "<table border=\"1\" class=\"dataframe\">\n",
       "  <thead>\n",
       "    <tr style=\"text-align: right;\">\n",
       "      <th></th>\n",
       "      <th>count</th>\n",
       "      <th>unique</th>\n",
       "      <th>top</th>\n",
       "      <th>freq</th>\n",
       "    </tr>\n",
       "  </thead>\n",
       "  <tbody>\n",
       "    <tr>\n",
       "      <th>firstname</th>\n",
       "      <td>2155</td>\n",
       "      <td>84</td>\n",
       "      <td>Jose</td>\n",
       "      <td>116</td>\n",
       "    </tr>\n",
       "    <tr>\n",
       "      <th>lastname</th>\n",
       "      <td>2155</td>\n",
       "      <td>88</td>\n",
       "      <td>Pavarotti</td>\n",
       "      <td>116</td>\n",
       "    </tr>\n",
       "    <tr>\n",
       "      <th>city</th>\n",
       "      <td>2155</td>\n",
       "      <td>69</td>\n",
       "      <td>Boise</td>\n",
       "      <td>116</td>\n",
       "    </tr>\n",
       "    <tr>\n",
       "      <th>country</th>\n",
       "      <td>2155</td>\n",
       "      <td>21</td>\n",
       "      <td>USA</td>\n",
       "      <td>352</td>\n",
       "    </tr>\n",
       "    <tr>\n",
       "      <th>phone</th>\n",
       "      <td>2155</td>\n",
       "      <td>89</td>\n",
       "      <td>(208) 555-8097</td>\n",
       "      <td>116</td>\n",
       "    </tr>\n",
       "    <tr>\n",
       "      <th>productname</th>\n",
       "      <td>2155</td>\n",
       "      <td>77</td>\n",
       "      <td>Raclette Courdavault</td>\n",
       "      <td>54</td>\n",
       "    </tr>\n",
       "    <tr>\n",
       "      <th>package</th>\n",
       "      <td>2155</td>\n",
       "      <td>70</td>\n",
       "      <td>24 - 12 oz bottles</td>\n",
       "      <td>109</td>\n",
       "    </tr>\n",
       "    <tr>\n",
       "      <th>isdiscontinued</th>\n",
       "      <td>2155</td>\n",
       "      <td>2</td>\n",
       "      <td>False</td>\n",
       "      <td>1927</td>\n",
       "    </tr>\n",
       "    <tr>\n",
       "      <th>companyname</th>\n",
       "      <td>2155</td>\n",
       "      <td>29</td>\n",
       "      <td>Plutzer Lebensmittelgro?m?rkte AG</td>\n",
       "      <td>179</td>\n",
       "    </tr>\n",
       "    <tr>\n",
       "      <th>contactname</th>\n",
       "      <td>2155</td>\n",
       "      <td>29</td>\n",
       "      <td>Martin Bein</td>\n",
       "      <td>179</td>\n",
       "    </tr>\n",
       "    <tr>\n",
       "      <th>supcity</th>\n",
       "      <td>2155</td>\n",
       "      <td>29</td>\n",
       "      <td>Frankfurt</td>\n",
       "      <td>179</td>\n",
       "    </tr>\n",
       "    <tr>\n",
       "      <th>supcountry</th>\n",
       "      <td>2155</td>\n",
       "      <td>16</td>\n",
       "      <td>USA</td>\n",
       "      <td>277</td>\n",
       "    </tr>\n",
       "    <tr>\n",
       "      <th>supphone</th>\n",
       "      <td>2155</td>\n",
       "      <td>29</td>\n",
       "      <td>(069) 992755</td>\n",
       "      <td>179</td>\n",
       "    </tr>\n",
       "    <tr>\n",
       "      <th>fax</th>\n",
       "      <td>2155</td>\n",
       "      <td>14</td>\n",
       "      <td>Blank</td>\n",
       "      <td>1210</td>\n",
       "    </tr>\n",
       "  </tbody>\n",
       "</table>\n",
       "</div>"
      ],
      "text/plain": [
       "               count unique                                top  freq\n",
       "firstname       2155     84                               Jose   116\n",
       "lastname        2155     88                          Pavarotti   116\n",
       "city            2155     69                              Boise   116\n",
       "country         2155     21                                USA   352\n",
       "phone           2155     89                     (208) 555-8097   116\n",
       "productname     2155     77               Raclette Courdavault    54\n",
       "package         2155     70                 24 - 12 oz bottles   109\n",
       "isdiscontinued  2155      2                              False  1927\n",
       "companyname     2155     29  Plutzer Lebensmittelgro?m?rkte AG   179\n",
       "contactname     2155     29                        Martin Bein   179\n",
       "supcity         2155     29                          Frankfurt   179\n",
       "supcountry      2155     16                                USA   277\n",
       "supphone        2155     29                       (069) 992755   179\n",
       "fax             2155     14                              Blank  1210"
      ]
     },
     "execution_count": 23,
     "metadata": {},
     "output_type": "execute_result"
    }
   ],
   "source": [
    "# nunique values in columns\n",
    "df.describe(include= 'object').T"
   ]
  },
  {
   "cell_type": "code",
   "execution_count": 24,
   "id": "dba9c328",
   "metadata": {
    "execution": {
     "iopub.execute_input": "2025-03-06T01:07:22.017459Z",
     "iopub.status.busy": "2025-03-06T01:07:22.017103Z",
     "iopub.status.idle": "2025-03-06T01:07:22.030924Z",
     "shell.execute_reply": "2025-03-06T01:07:22.030035Z"
    },
    "papermill": {
     "duration": 0.024831,
     "end_time": "2025-03-06T01:07:22.032163",
     "exception": false,
     "start_time": "2025-03-06T01:07:22.007332",
     "status": "completed"
    },
    "tags": []
   },
   "outputs": [
    {
     "data": {
      "text/html": [
       "<div>\n",
       "<style scoped>\n",
       "    .dataframe tbody tr th:only-of-type {\n",
       "        vertical-align: middle;\n",
       "    }\n",
       "\n",
       "    .dataframe tbody tr th {\n",
       "        vertical-align: top;\n",
       "    }\n",
       "\n",
       "    .dataframe thead th {\n",
       "        text-align: right;\n",
       "    }\n",
       "</style>\n",
       "<table border=\"1\" class=\"dataframe\">\n",
       "  <thead>\n",
       "    <tr style=\"text-align: right;\">\n",
       "      <th></th>\n",
       "      <th>customerid</th>\n",
       "      <th>firstname</th>\n",
       "      <th>lastname</th>\n",
       "      <th>city</th>\n",
       "      <th>country</th>\n",
       "      <th>phone</th>\n",
       "      <th>orderid</th>\n",
       "      <th>orderdate</th>\n",
       "      <th>ordernumber</th>\n",
       "      <th>totalamount</th>\n",
       "      <th>productid</th>\n",
       "      <th>productname</th>\n",
       "      <th>unitprice</th>\n",
       "      <th>package</th>\n",
       "      <th>isdiscontinued</th>\n",
       "      <th>supplierid</th>\n",
       "      <th>companyname</th>\n",
       "      <th>contactname</th>\n",
       "      <th>supcity</th>\n",
       "      <th>supcountry</th>\n",
       "      <th>supphone</th>\n",
       "      <th>fax</th>\n",
       "    </tr>\n",
       "  </thead>\n",
       "  <tbody>\n",
       "    <tr>\n",
       "      <th>0</th>\n",
       "      <td>85</td>\n",
       "      <td>Paul</td>\n",
       "      <td>Henriot</td>\n",
       "      <td>Reims</td>\n",
       "      <td>France</td>\n",
       "      <td>26.47.15.10</td>\n",
       "      <td>1</td>\n",
       "      <td>2012-07-04</td>\n",
       "      <td>542378</td>\n",
       "      <td>440.00</td>\n",
       "      <td>11</td>\n",
       "      <td>Queso Cabrales</td>\n",
       "      <td>21.00</td>\n",
       "      <td>1 kg pkg.</td>\n",
       "      <td>False</td>\n",
       "      <td>5</td>\n",
       "      <td>Cooperativa de Quesos 'Las Cabras'</td>\n",
       "      <td>Antonio del Valle Saavedra</td>\n",
       "      <td>Oviedo</td>\n",
       "      <td>Spain</td>\n",
       "      <td>(98) 598 76 54</td>\n",
       "      <td>Blank</td>\n",
       "    </tr>\n",
       "    <tr>\n",
       "      <th>1</th>\n",
       "      <td>85</td>\n",
       "      <td>Paul</td>\n",
       "      <td>Henriot</td>\n",
       "      <td>Reims</td>\n",
       "      <td>France</td>\n",
       "      <td>26.47.15.10</td>\n",
       "      <td>1</td>\n",
       "      <td>2012-07-04</td>\n",
       "      <td>542378</td>\n",
       "      <td>440.00</td>\n",
       "      <td>42</td>\n",
       "      <td>Singaporean Hokkien Fried Mee</td>\n",
       "      <td>14.00</td>\n",
       "      <td>32 - 1 kg pkgs.</td>\n",
       "      <td>True</td>\n",
       "      <td>20</td>\n",
       "      <td>Leka Trading</td>\n",
       "      <td>Chandra Leka</td>\n",
       "      <td>Singapore</td>\n",
       "      <td>Singapore</td>\n",
       "      <td>555-8787</td>\n",
       "      <td>Blank</td>\n",
       "    </tr>\n",
       "    <tr>\n",
       "      <th>2</th>\n",
       "      <td>85</td>\n",
       "      <td>Paul</td>\n",
       "      <td>Henriot</td>\n",
       "      <td>Reims</td>\n",
       "      <td>France</td>\n",
       "      <td>26.47.15.10</td>\n",
       "      <td>1</td>\n",
       "      <td>2012-07-04</td>\n",
       "      <td>542378</td>\n",
       "      <td>440.00</td>\n",
       "      <td>72</td>\n",
       "      <td>Mozzarella di Giovanni</td>\n",
       "      <td>34.80</td>\n",
       "      <td>24 - 200 g pkgs.</td>\n",
       "      <td>False</td>\n",
       "      <td>14</td>\n",
       "      <td>Formaggi Fortini s.r.l.</td>\n",
       "      <td>Elio Rossi</td>\n",
       "      <td>Ravenna</td>\n",
       "      <td>Italy</td>\n",
       "      <td>(0544) 60323</td>\n",
       "      <td>(0544) 60603</td>\n",
       "    </tr>\n",
       "    <tr>\n",
       "      <th>3</th>\n",
       "      <td>79</td>\n",
       "      <td>Karin</td>\n",
       "      <td>Josephs</td>\n",
       "      <td>Münster</td>\n",
       "      <td>Germany</td>\n",
       "      <td>0251-031259</td>\n",
       "      <td>2</td>\n",
       "      <td>2012-07-05</td>\n",
       "      <td>542379</td>\n",
       "      <td>1,863.40</td>\n",
       "      <td>14</td>\n",
       "      <td>Tofu</td>\n",
       "      <td>23.25</td>\n",
       "      <td>40 - 100 g pkgs.</td>\n",
       "      <td>False</td>\n",
       "      <td>6</td>\n",
       "      <td>Mayumi's</td>\n",
       "      <td>Mayumi Ohno</td>\n",
       "      <td>Osaka</td>\n",
       "      <td>Japan</td>\n",
       "      <td>(06) 431-7877</td>\n",
       "      <td>Blank</td>\n",
       "    </tr>\n",
       "    <tr>\n",
       "      <th>4</th>\n",
       "      <td>79</td>\n",
       "      <td>Karin</td>\n",
       "      <td>Josephs</td>\n",
       "      <td>Münster</td>\n",
       "      <td>Germany</td>\n",
       "      <td>0251-031259</td>\n",
       "      <td>2</td>\n",
       "      <td>2012-07-05</td>\n",
       "      <td>542379</td>\n",
       "      <td>1,863.40</td>\n",
       "      <td>51</td>\n",
       "      <td>Manjimup Dried Apples</td>\n",
       "      <td>53.00</td>\n",
       "      <td>50 - 300 g pkgs.</td>\n",
       "      <td>False</td>\n",
       "      <td>24</td>\n",
       "      <td>G'day, Mate</td>\n",
       "      <td>Wendy Mackenzie</td>\n",
       "      <td>Sydney</td>\n",
       "      <td>Australia</td>\n",
       "      <td>(02) 555-5914</td>\n",
       "      <td>(02) 555-4873</td>\n",
       "    </tr>\n",
       "  </tbody>\n",
       "</table>\n",
       "</div>"
      ],
      "text/plain": [
       "   customerid firstname lastname     city  country        phone  orderid  \\\n",
       "0          85      Paul  Henriot    Reims   France  26.47.15.10        1   \n",
       "1          85      Paul  Henriot    Reims   France  26.47.15.10        1   \n",
       "2          85      Paul  Henriot    Reims   France  26.47.15.10        1   \n",
       "3          79     Karin  Josephs  Münster  Germany  0251-031259        2   \n",
       "4          79     Karin  Josephs  Münster  Germany  0251-031259        2   \n",
       "\n",
       "   orderdate  ordernumber  totalamount  productid  \\\n",
       "0 2012-07-04       542378       440.00         11   \n",
       "1 2012-07-04       542378       440.00         42   \n",
       "2 2012-07-04       542378       440.00         72   \n",
       "3 2012-07-05       542379     1,863.40         14   \n",
       "4 2012-07-05       542379     1,863.40         51   \n",
       "\n",
       "                     productname  unitprice           package isdiscontinued  \\\n",
       "0                 Queso Cabrales      21.00         1 kg pkg.          False   \n",
       "1  Singaporean Hokkien Fried Mee      14.00   32 - 1 kg pkgs.           True   \n",
       "2         Mozzarella di Giovanni      34.80  24 - 200 g pkgs.          False   \n",
       "3                           Tofu      23.25  40 - 100 g pkgs.          False   \n",
       "4          Manjimup Dried Apples      53.00  50 - 300 g pkgs.          False   \n",
       "\n",
       "   supplierid                         companyname                 contactname  \\\n",
       "0           5  Cooperativa de Quesos 'Las Cabras'  Antonio del Valle Saavedra   \n",
       "1          20                        Leka Trading                Chandra Leka   \n",
       "2          14             Formaggi Fortini s.r.l.                  Elio Rossi   \n",
       "3           6                            Mayumi's                 Mayumi Ohno   \n",
       "4          24                         G'day, Mate             Wendy Mackenzie   \n",
       "\n",
       "     supcity supcountry        supphone            fax  \n",
       "0     Oviedo      Spain  (98) 598 76 54          Blank  \n",
       "1  Singapore  Singapore        555-8787          Blank  \n",
       "2    Ravenna      Italy    (0544) 60323   (0544) 60603  \n",
       "3      Osaka      Japan   (06) 431-7877          Blank  \n",
       "4     Sydney  Australia   (02) 555-5914  (02) 555-4873  "
      ]
     },
     "execution_count": 24,
     "metadata": {},
     "output_type": "execute_result"
    }
   ],
   "source": [
    "df.head()"
   ]
  },
  {
   "cell_type": "code",
   "execution_count": 25,
   "id": "ab57cece",
   "metadata": {
    "execution": {
     "iopub.execute_input": "2025-03-06T01:07:22.051927Z",
     "iopub.status.busy": "2025-03-06T01:07:22.051620Z",
     "iopub.status.idle": "2025-03-06T01:07:22.057841Z",
     "shell.execute_reply": "2025-03-06T01:07:22.057042Z"
    },
    "papermill": {
     "duration": 0.017059,
     "end_time": "2025-03-06T01:07:22.059092",
     "exception": false,
     "start_time": "2025-03-06T01:07:22.042033",
     "status": "completed"
    },
    "tags": []
   },
   "outputs": [
    {
     "data": {
      "text/plain": [
       "city\n",
       "Boise              116\n",
       "London             112\n",
       "Graz               102\n",
       "Cunewalde           86\n",
       "Rio de Janeiro      83\n",
       "Sao Paulo           82\n",
       "México D.F.         72\n",
       "Albuquerque         71\n",
       "Cork                55\n",
       "Lule?               52\n",
       "München             48\n",
       "San Crist?bal       45\n",
       "Br?cke              45\n",
       "Marseille           44\n",
       "Seattle             40\n",
       "Brandenburg         39\n",
       "Charleroi           39\n",
       "Frankfurt a.M.      39\n",
       "Oulu                37\n",
       "Tsawassen           35\n",
       "I. de Margarita     35\n",
       "Barquisimeto        34\n",
       "Buenos Aires        34\n",
       "Montréal            32\n",
       "Toulouse            31\n",
       "?rhus               31\n",
       "Genève              30\n",
       "Lisboa              30\n",
       "K?ln                29\n",
       "Strasbourg          26\n",
       "Stuttgart           26\n",
       "Sevilla             26\n",
       "Lyon                25\n",
       "Anchorage           24\n",
       "Salzburg            23\n",
       "Cowes               23\n",
       "Eugene              22\n",
       "Reggio Emilia       22\n",
       "Bern                22\n",
       "Portland            21\n",
       "Bergamo             21\n",
       "Lander              20\n",
       "Madrid              20\n",
       "Resende             19\n",
       "Campinas            19\n",
       "Helsinki            17\n",
       "Bruxelles           17\n",
       "Warszawa            16\n",
       "Stavern             16\n",
       "Lille               16\n",
       "Kobenhavn           15\n",
       "Nantes              15\n",
       "Münster             14\n",
       "Mannheim            14\n",
       "Berlin              12\n",
       "Versailles          11\n",
       "Leipzig             11\n",
       "Torino              10\n",
       "Aachen              10\n",
       "San Francisco       10\n",
       "Reims               10\n",
       "Elgin                9\n",
       "Kirkland             9\n",
       "Vancouver            8\n",
       "Barcelona            8\n",
       "Butte                8\n",
       "Paris                6\n",
       "Caracas              4\n",
       "Walla Walla          2\n",
       "Name: count, dtype: int64"
      ]
     },
     "execution_count": 25,
     "metadata": {},
     "output_type": "execute_result"
    }
   ],
   "source": [
    "# Total orders by city\n",
    "df.city.value_counts()"
   ]
  },
  {
   "cell_type": "code",
   "execution_count": 26,
   "id": "31afd298",
   "metadata": {
    "execution": {
     "iopub.execute_input": "2025-03-06T01:07:22.078328Z",
     "iopub.status.busy": "2025-03-06T01:07:22.078016Z",
     "iopub.status.idle": "2025-03-06T01:07:22.147354Z",
     "shell.execute_reply": "2025-03-06T01:07:22.146540Z"
    },
    "papermill": {
     "duration": 0.081005,
     "end_time": "2025-03-06T01:07:22.149169",
     "exception": false,
     "start_time": "2025-03-06T01:07:22.068164",
     "status": "completed"
    },
    "tags": []
   },
   "outputs": [
    {
     "data": {
      "application/vnd.plotly.v1+json": {
       "config": {
        "plotlyServerURL": "https://plot.ly"
       },
       "data": [
        {
         "hovertemplate": "variable=count<br>city=%{x}<br>value=%{y}<extra></extra>",
         "legendgroup": "count",
         "marker": {
          "color": "#636efa",
          "pattern": {
           "shape": ""
          }
         },
         "name": "count",
         "orientation": "v",
         "showlegend": true,
         "textposition": "auto",
         "type": "bar",
         "x": [
          "Boise",
          "London",
          "Graz",
          "Cunewalde",
          "Rio de Janeiro",
          "Sao Paulo",
          "México D.F.",
          "Albuquerque",
          "Cork",
          "Lule?",
          "München",
          "San Crist?bal",
          "Br?cke",
          "Marseille",
          "Seattle",
          "Brandenburg",
          "Charleroi",
          "Frankfurt a.M.",
          "Oulu",
          "Tsawassen",
          "I. de Margarita",
          "Barquisimeto",
          "Buenos Aires",
          "Montréal",
          "Toulouse",
          "?rhus",
          "Genève",
          "Lisboa",
          "K?ln",
          "Strasbourg",
          "Stuttgart",
          "Sevilla",
          "Lyon",
          "Anchorage",
          "Salzburg",
          "Cowes",
          "Eugene",
          "Reggio Emilia",
          "Bern",
          "Portland",
          "Bergamo",
          "Lander",
          "Madrid",
          "Resende",
          "Campinas",
          "Helsinki",
          "Bruxelles",
          "Warszawa",
          "Stavern",
          "Lille",
          "Kobenhavn",
          "Nantes",
          "Münster",
          "Mannheim",
          "Berlin",
          "Versailles",
          "Leipzig",
          "Torino",
          "Aachen",
          "San Francisco",
          "Reims",
          "Elgin",
          "Kirkland",
          "Vancouver",
          "Barcelona",
          "Butte",
          "Paris",
          "Caracas",
          "Walla Walla"
         ],
         "xaxis": "x",
         "y": {
          "bdata": "dHBmVlNSSEc3NDAtLSwoJycnJSMjIiIgHx8eHh0aGhoZGBcXFhYWFRUUFBMTEREQEBAPDw4ODAsLCgoKCgkJCAgIBgQC",
          "dtype": "i1"
         },
         "yaxis": "y"
        }
       ],
       "layout": {
        "barmode": "relative",
        "legend": {
         "title": {
          "text": "variable"
         },
         "tracegroupgap": 0
        },
        "template": {
         "data": {
          "bar": [
           {
            "error_x": {
             "color": "#2a3f5f"
            },
            "error_y": {
             "color": "#2a3f5f"
            },
            "marker": {
             "line": {
              "color": "#E5ECF6",
              "width": 0.5
             },
             "pattern": {
              "fillmode": "overlay",
              "size": 10,
              "solidity": 0.2
             }
            },
            "type": "bar"
           }
          ],
          "barpolar": [
           {
            "marker": {
             "line": {
              "color": "#E5ECF6",
              "width": 0.5
             },
             "pattern": {
              "fillmode": "overlay",
              "size": 10,
              "solidity": 0.2
             }
            },
            "type": "barpolar"
           }
          ],
          "carpet": [
           {
            "aaxis": {
             "endlinecolor": "#2a3f5f",
             "gridcolor": "white",
             "linecolor": "white",
             "minorgridcolor": "white",
             "startlinecolor": "#2a3f5f"
            },
            "baxis": {
             "endlinecolor": "#2a3f5f",
             "gridcolor": "white",
             "linecolor": "white",
             "minorgridcolor": "white",
             "startlinecolor": "#2a3f5f"
            },
            "type": "carpet"
           }
          ],
          "choropleth": [
           {
            "colorbar": {
             "outlinewidth": 0,
             "ticks": ""
            },
            "type": "choropleth"
           }
          ],
          "contour": [
           {
            "colorbar": {
             "outlinewidth": 0,
             "ticks": ""
            },
            "colorscale": [
             [
              0,
              "#0d0887"
             ],
             [
              0.1111111111111111,
              "#46039f"
             ],
             [
              0.2222222222222222,
              "#7201a8"
             ],
             [
              0.3333333333333333,
              "#9c179e"
             ],
             [
              0.4444444444444444,
              "#bd3786"
             ],
             [
              0.5555555555555556,
              "#d8576b"
             ],
             [
              0.6666666666666666,
              "#ed7953"
             ],
             [
              0.7777777777777778,
              "#fb9f3a"
             ],
             [
              0.8888888888888888,
              "#fdca26"
             ],
             [
              1,
              "#f0f921"
             ]
            ],
            "type": "contour"
           }
          ],
          "contourcarpet": [
           {
            "colorbar": {
             "outlinewidth": 0,
             "ticks": ""
            },
            "type": "contourcarpet"
           }
          ],
          "heatmap": [
           {
            "colorbar": {
             "outlinewidth": 0,
             "ticks": ""
            },
            "colorscale": [
             [
              0,
              "#0d0887"
             ],
             [
              0.1111111111111111,
              "#46039f"
             ],
             [
              0.2222222222222222,
              "#7201a8"
             ],
             [
              0.3333333333333333,
              "#9c179e"
             ],
             [
              0.4444444444444444,
              "#bd3786"
             ],
             [
              0.5555555555555556,
              "#d8576b"
             ],
             [
              0.6666666666666666,
              "#ed7953"
             ],
             [
              0.7777777777777778,
              "#fb9f3a"
             ],
             [
              0.8888888888888888,
              "#fdca26"
             ],
             [
              1,
              "#f0f921"
             ]
            ],
            "type": "heatmap"
           }
          ],
          "histogram": [
           {
            "marker": {
             "pattern": {
              "fillmode": "overlay",
              "size": 10,
              "solidity": 0.2
             }
            },
            "type": "histogram"
           }
          ],
          "histogram2d": [
           {
            "colorbar": {
             "outlinewidth": 0,
             "ticks": ""
            },
            "colorscale": [
             [
              0,
              "#0d0887"
             ],
             [
              0.1111111111111111,
              "#46039f"
             ],
             [
              0.2222222222222222,
              "#7201a8"
             ],
             [
              0.3333333333333333,
              "#9c179e"
             ],
             [
              0.4444444444444444,
              "#bd3786"
             ],
             [
              0.5555555555555556,
              "#d8576b"
             ],
             [
              0.6666666666666666,
              "#ed7953"
             ],
             [
              0.7777777777777778,
              "#fb9f3a"
             ],
             [
              0.8888888888888888,
              "#fdca26"
             ],
             [
              1,
              "#f0f921"
             ]
            ],
            "type": "histogram2d"
           }
          ],
          "histogram2dcontour": [
           {
            "colorbar": {
             "outlinewidth": 0,
             "ticks": ""
            },
            "colorscale": [
             [
              0,
              "#0d0887"
             ],
             [
              0.1111111111111111,
              "#46039f"
             ],
             [
              0.2222222222222222,
              "#7201a8"
             ],
             [
              0.3333333333333333,
              "#9c179e"
             ],
             [
              0.4444444444444444,
              "#bd3786"
             ],
             [
              0.5555555555555556,
              "#d8576b"
             ],
             [
              0.6666666666666666,
              "#ed7953"
             ],
             [
              0.7777777777777778,
              "#fb9f3a"
             ],
             [
              0.8888888888888888,
              "#fdca26"
             ],
             [
              1,
              "#f0f921"
             ]
            ],
            "type": "histogram2dcontour"
           }
          ],
          "mesh3d": [
           {
            "colorbar": {
             "outlinewidth": 0,
             "ticks": ""
            },
            "type": "mesh3d"
           }
          ],
          "parcoords": [
           {
            "line": {
             "colorbar": {
              "outlinewidth": 0,
              "ticks": ""
             }
            },
            "type": "parcoords"
           }
          ],
          "pie": [
           {
            "automargin": true,
            "type": "pie"
           }
          ],
          "scatter": [
           {
            "fillpattern": {
             "fillmode": "overlay",
             "size": 10,
             "solidity": 0.2
            },
            "type": "scatter"
           }
          ],
          "scatter3d": [
           {
            "line": {
             "colorbar": {
              "outlinewidth": 0,
              "ticks": ""
             }
            },
            "marker": {
             "colorbar": {
              "outlinewidth": 0,
              "ticks": ""
             }
            },
            "type": "scatter3d"
           }
          ],
          "scattercarpet": [
           {
            "marker": {
             "colorbar": {
              "outlinewidth": 0,
              "ticks": ""
             }
            },
            "type": "scattercarpet"
           }
          ],
          "scattergeo": [
           {
            "marker": {
             "colorbar": {
              "outlinewidth": 0,
              "ticks": ""
             }
            },
            "type": "scattergeo"
           }
          ],
          "scattergl": [
           {
            "marker": {
             "colorbar": {
              "outlinewidth": 0,
              "ticks": ""
             }
            },
            "type": "scattergl"
           }
          ],
          "scattermap": [
           {
            "marker": {
             "colorbar": {
              "outlinewidth": 0,
              "ticks": ""
             }
            },
            "type": "scattermap"
           }
          ],
          "scattermapbox": [
           {
            "marker": {
             "colorbar": {
              "outlinewidth": 0,
              "ticks": ""
             }
            },
            "type": "scattermapbox"
           }
          ],
          "scatterpolar": [
           {
            "marker": {
             "colorbar": {
              "outlinewidth": 0,
              "ticks": ""
             }
            },
            "type": "scatterpolar"
           }
          ],
          "scatterpolargl": [
           {
            "marker": {
             "colorbar": {
              "outlinewidth": 0,
              "ticks": ""
             }
            },
            "type": "scatterpolargl"
           }
          ],
          "scatterternary": [
           {
            "marker": {
             "colorbar": {
              "outlinewidth": 0,
              "ticks": ""
             }
            },
            "type": "scatterternary"
           }
          ],
          "surface": [
           {
            "colorbar": {
             "outlinewidth": 0,
             "ticks": ""
            },
            "colorscale": [
             [
              0,
              "#0d0887"
             ],
             [
              0.1111111111111111,
              "#46039f"
             ],
             [
              0.2222222222222222,
              "#7201a8"
             ],
             [
              0.3333333333333333,
              "#9c179e"
             ],
             [
              0.4444444444444444,
              "#bd3786"
             ],
             [
              0.5555555555555556,
              "#d8576b"
             ],
             [
              0.6666666666666666,
              "#ed7953"
             ],
             [
              0.7777777777777778,
              "#fb9f3a"
             ],
             [
              0.8888888888888888,
              "#fdca26"
             ],
             [
              1,
              "#f0f921"
             ]
            ],
            "type": "surface"
           }
          ],
          "table": [
           {
            "cells": {
             "fill": {
              "color": "#EBF0F8"
             },
             "line": {
              "color": "white"
             }
            },
            "header": {
             "fill": {
              "color": "#C8D4E3"
             },
             "line": {
              "color": "white"
             }
            },
            "type": "table"
           }
          ]
         },
         "layout": {
          "annotationdefaults": {
           "arrowcolor": "#2a3f5f",
           "arrowhead": 0,
           "arrowwidth": 1
          },
          "autotypenumbers": "strict",
          "coloraxis": {
           "colorbar": {
            "outlinewidth": 0,
            "ticks": ""
           }
          },
          "colorscale": {
           "diverging": [
            [
             0,
             "#8e0152"
            ],
            [
             0.1,
             "#c51b7d"
            ],
            [
             0.2,
             "#de77ae"
            ],
            [
             0.3,
             "#f1b6da"
            ],
            [
             0.4,
             "#fde0ef"
            ],
            [
             0.5,
             "#f7f7f7"
            ],
            [
             0.6,
             "#e6f5d0"
            ],
            [
             0.7,
             "#b8e186"
            ],
            [
             0.8,
             "#7fbc41"
            ],
            [
             0.9,
             "#4d9221"
            ],
            [
             1,
             "#276419"
            ]
           ],
           "sequential": [
            [
             0,
             "#0d0887"
            ],
            [
             0.1111111111111111,
             "#46039f"
            ],
            [
             0.2222222222222222,
             "#7201a8"
            ],
            [
             0.3333333333333333,
             "#9c179e"
            ],
            [
             0.4444444444444444,
             "#bd3786"
            ],
            [
             0.5555555555555556,
             "#d8576b"
            ],
            [
             0.6666666666666666,
             "#ed7953"
            ],
            [
             0.7777777777777778,
             "#fb9f3a"
            ],
            [
             0.8888888888888888,
             "#fdca26"
            ],
            [
             1,
             "#f0f921"
            ]
           ],
           "sequentialminus": [
            [
             0,
             "#0d0887"
            ],
            [
             0.1111111111111111,
             "#46039f"
            ],
            [
             0.2222222222222222,
             "#7201a8"
            ],
            [
             0.3333333333333333,
             "#9c179e"
            ],
            [
             0.4444444444444444,
             "#bd3786"
            ],
            [
             0.5555555555555556,
             "#d8576b"
            ],
            [
             0.6666666666666666,
             "#ed7953"
            ],
            [
             0.7777777777777778,
             "#fb9f3a"
            ],
            [
             0.8888888888888888,
             "#fdca26"
            ],
            [
             1,
             "#f0f921"
            ]
           ]
          },
          "colorway": [
           "#636efa",
           "#EF553B",
           "#00cc96",
           "#ab63fa",
           "#FFA15A",
           "#19d3f3",
           "#FF6692",
           "#B6E880",
           "#FF97FF",
           "#FECB52"
          ],
          "font": {
           "color": "#2a3f5f"
          },
          "geo": {
           "bgcolor": "white",
           "lakecolor": "white",
           "landcolor": "#E5ECF6",
           "showlakes": true,
           "showland": true,
           "subunitcolor": "white"
          },
          "hoverlabel": {
           "align": "left"
          },
          "hovermode": "closest",
          "mapbox": {
           "style": "light"
          },
          "paper_bgcolor": "white",
          "plot_bgcolor": "#E5ECF6",
          "polar": {
           "angularaxis": {
            "gridcolor": "white",
            "linecolor": "white",
            "ticks": ""
           },
           "bgcolor": "#E5ECF6",
           "radialaxis": {
            "gridcolor": "white",
            "linecolor": "white",
            "ticks": ""
           }
          },
          "scene": {
           "xaxis": {
            "backgroundcolor": "#E5ECF6",
            "gridcolor": "white",
            "gridwidth": 2,
            "linecolor": "white",
            "showbackground": true,
            "ticks": "",
            "zerolinecolor": "white"
           },
           "yaxis": {
            "backgroundcolor": "#E5ECF6",
            "gridcolor": "white",
            "gridwidth": 2,
            "linecolor": "white",
            "showbackground": true,
            "ticks": "",
            "zerolinecolor": "white"
           },
           "zaxis": {
            "backgroundcolor": "#E5ECF6",
            "gridcolor": "white",
            "gridwidth": 2,
            "linecolor": "white",
            "showbackground": true,
            "ticks": "",
            "zerolinecolor": "white"
           }
          },
          "shapedefaults": {
           "line": {
            "color": "#2a3f5f"
           }
          },
          "ternary": {
           "aaxis": {
            "gridcolor": "white",
            "linecolor": "white",
            "ticks": ""
           },
           "baxis": {
            "gridcolor": "white",
            "linecolor": "white",
            "ticks": ""
           },
           "bgcolor": "#E5ECF6",
           "caxis": {
            "gridcolor": "white",
            "linecolor": "white",
            "ticks": ""
           }
          },
          "title": {
           "x": 0.05
          },
          "xaxis": {
           "automargin": true,
           "gridcolor": "white",
           "linecolor": "white",
           "ticks": "",
           "title": {
            "standoff": 15
           },
           "zerolinecolor": "white",
           "zerolinewidth": 2
          },
          "yaxis": {
           "automargin": true,
           "gridcolor": "white",
           "linecolor": "white",
           "ticks": "",
           "title": {
            "standoff": 15
           },
           "zerolinecolor": "white",
           "zerolinewidth": 2
          }
         }
        },
        "title": {
         "text": "Total Orders by City"
        },
        "xaxis": {
         "anchor": "y",
         "domain": [
          0,
          1
         ],
         "title": {
          "text": "city"
         }
        },
        "yaxis": {
         "anchor": "x",
         "domain": [
          0,
          1
         ],
         "title": {
          "text": "value"
         }
        }
       }
      }
     },
     "metadata": {},
     "output_type": "display_data"
    }
   ],
   "source": [
    "fig = px.bar(df.city.value_counts(), title='Total Orders by City')\n",
    "fig.show()"
   ]
  },
  {
   "cell_type": "code",
   "execution_count": 27,
   "id": "a3b2d37b",
   "metadata": {
    "execution": {
     "iopub.execute_input": "2025-03-06T01:07:22.169302Z",
     "iopub.status.busy": "2025-03-06T01:07:22.168955Z",
     "iopub.status.idle": "2025-03-06T01:07:22.175530Z",
     "shell.execute_reply": "2025-03-06T01:07:22.174358Z"
    },
    "papermill": {
     "duration": 0.018443,
     "end_time": "2025-03-06T01:07:22.177266",
     "exception": false,
     "start_time": "2025-03-06T01:07:22.158823",
     "status": "completed"
    },
    "scrolled": true,
    "tags": []
   },
   "outputs": [
    {
     "data": {
      "text/plain": [
       "country\n",
       "USA            352\n",
       "Germany        328\n",
       "Brazil         203\n",
       "France         184\n",
       "UK             135\n",
       "Austria        125\n",
       "Venezuela      118\n",
       "Sweden          97\n",
       "Canada          75\n",
       "Mexico          72\n",
       "Belgium         56\n",
       "Ireland         55\n",
       "Finland         54\n",
       "Spain           54\n",
       "Italy           53\n",
       "Switzerland     52\n",
       "Denmark         46\n",
       "Argentina       34\n",
       "Portugal        30\n",
       "Poland          16\n",
       "Norway          16\n",
       "Name: count, dtype: int64"
      ]
     },
     "execution_count": 27,
     "metadata": {},
     "output_type": "execute_result"
    }
   ],
   "source": [
    "# Total orders by country\n",
    "df.country.value_counts()"
   ]
  },
  {
   "cell_type": "code",
   "execution_count": 28,
   "id": "1cad06db",
   "metadata": {
    "execution": {
     "iopub.execute_input": "2025-03-06T01:07:22.197931Z",
     "iopub.status.busy": "2025-03-06T01:07:22.197545Z",
     "iopub.status.idle": "2025-03-06T01:07:22.239724Z",
     "shell.execute_reply": "2025-03-06T01:07:22.238855Z"
    },
    "papermill": {
     "duration": 0.054334,
     "end_time": "2025-03-06T01:07:22.241457",
     "exception": false,
     "start_time": "2025-03-06T01:07:22.187123",
     "status": "completed"
    },
    "tags": []
   },
   "outputs": [
    {
     "data": {
      "application/vnd.plotly.v1+json": {
       "config": {
        "plotlyServerURL": "https://plot.ly"
       },
       "data": [
        {
         "hovertemplate": "variable=count<br>country=%{x}<br>value=%{y}<extra></extra>",
         "legendgroup": "count",
         "marker": {
          "color": "#636efa",
          "pattern": {
           "shape": ""
          }
         },
         "name": "count",
         "orientation": "v",
         "showlegend": true,
         "textposition": "auto",
         "type": "bar",
         "x": [
          "USA",
          "Germany",
          "Brazil",
          "France",
          "UK",
          "Austria",
          "Venezuela",
          "Sweden",
          "Canada",
          "Mexico",
          "Belgium",
          "Ireland",
          "Finland",
          "Spain",
          "Italy",
          "Switzerland",
          "Denmark",
          "Argentina",
          "Portugal",
          "Poland",
          "Norway"
         ],
         "xaxis": "x",
         "y": {
          "bdata": "YAFIAcsAuACHAH0AdgBhAEsASAA4ADcANgA2ADUANAAuACIAHgAQABAA",
          "dtype": "i2"
         },
         "yaxis": "y"
        }
       ],
       "layout": {
        "barmode": "relative",
        "legend": {
         "title": {
          "text": "variable"
         },
         "tracegroupgap": 0
        },
        "template": {
         "data": {
          "bar": [
           {
            "error_x": {
             "color": "#2a3f5f"
            },
            "error_y": {
             "color": "#2a3f5f"
            },
            "marker": {
             "line": {
              "color": "#E5ECF6",
              "width": 0.5
             },
             "pattern": {
              "fillmode": "overlay",
              "size": 10,
              "solidity": 0.2
             }
            },
            "type": "bar"
           }
          ],
          "barpolar": [
           {
            "marker": {
             "line": {
              "color": "#E5ECF6",
              "width": 0.5
             },
             "pattern": {
              "fillmode": "overlay",
              "size": 10,
              "solidity": 0.2
             }
            },
            "type": "barpolar"
           }
          ],
          "carpet": [
           {
            "aaxis": {
             "endlinecolor": "#2a3f5f",
             "gridcolor": "white",
             "linecolor": "white",
             "minorgridcolor": "white",
             "startlinecolor": "#2a3f5f"
            },
            "baxis": {
             "endlinecolor": "#2a3f5f",
             "gridcolor": "white",
             "linecolor": "white",
             "minorgridcolor": "white",
             "startlinecolor": "#2a3f5f"
            },
            "type": "carpet"
           }
          ],
          "choropleth": [
           {
            "colorbar": {
             "outlinewidth": 0,
             "ticks": ""
            },
            "type": "choropleth"
           }
          ],
          "contour": [
           {
            "colorbar": {
             "outlinewidth": 0,
             "ticks": ""
            },
            "colorscale": [
             [
              0,
              "#0d0887"
             ],
             [
              0.1111111111111111,
              "#46039f"
             ],
             [
              0.2222222222222222,
              "#7201a8"
             ],
             [
              0.3333333333333333,
              "#9c179e"
             ],
             [
              0.4444444444444444,
              "#bd3786"
             ],
             [
              0.5555555555555556,
              "#d8576b"
             ],
             [
              0.6666666666666666,
              "#ed7953"
             ],
             [
              0.7777777777777778,
              "#fb9f3a"
             ],
             [
              0.8888888888888888,
              "#fdca26"
             ],
             [
              1,
              "#f0f921"
             ]
            ],
            "type": "contour"
           }
          ],
          "contourcarpet": [
           {
            "colorbar": {
             "outlinewidth": 0,
             "ticks": ""
            },
            "type": "contourcarpet"
           }
          ],
          "heatmap": [
           {
            "colorbar": {
             "outlinewidth": 0,
             "ticks": ""
            },
            "colorscale": [
             [
              0,
              "#0d0887"
             ],
             [
              0.1111111111111111,
              "#46039f"
             ],
             [
              0.2222222222222222,
              "#7201a8"
             ],
             [
              0.3333333333333333,
              "#9c179e"
             ],
             [
              0.4444444444444444,
              "#bd3786"
             ],
             [
              0.5555555555555556,
              "#d8576b"
             ],
             [
              0.6666666666666666,
              "#ed7953"
             ],
             [
              0.7777777777777778,
              "#fb9f3a"
             ],
             [
              0.8888888888888888,
              "#fdca26"
             ],
             [
              1,
              "#f0f921"
             ]
            ],
            "type": "heatmap"
           }
          ],
          "histogram": [
           {
            "marker": {
             "pattern": {
              "fillmode": "overlay",
              "size": 10,
              "solidity": 0.2
             }
            },
            "type": "histogram"
           }
          ],
          "histogram2d": [
           {
            "colorbar": {
             "outlinewidth": 0,
             "ticks": ""
            },
            "colorscale": [
             [
              0,
              "#0d0887"
             ],
             [
              0.1111111111111111,
              "#46039f"
             ],
             [
              0.2222222222222222,
              "#7201a8"
             ],
             [
              0.3333333333333333,
              "#9c179e"
             ],
             [
              0.4444444444444444,
              "#bd3786"
             ],
             [
              0.5555555555555556,
              "#d8576b"
             ],
             [
              0.6666666666666666,
              "#ed7953"
             ],
             [
              0.7777777777777778,
              "#fb9f3a"
             ],
             [
              0.8888888888888888,
              "#fdca26"
             ],
             [
              1,
              "#f0f921"
             ]
            ],
            "type": "histogram2d"
           }
          ],
          "histogram2dcontour": [
           {
            "colorbar": {
             "outlinewidth": 0,
             "ticks": ""
            },
            "colorscale": [
             [
              0,
              "#0d0887"
             ],
             [
              0.1111111111111111,
              "#46039f"
             ],
             [
              0.2222222222222222,
              "#7201a8"
             ],
             [
              0.3333333333333333,
              "#9c179e"
             ],
             [
              0.4444444444444444,
              "#bd3786"
             ],
             [
              0.5555555555555556,
              "#d8576b"
             ],
             [
              0.6666666666666666,
              "#ed7953"
             ],
             [
              0.7777777777777778,
              "#fb9f3a"
             ],
             [
              0.8888888888888888,
              "#fdca26"
             ],
             [
              1,
              "#f0f921"
             ]
            ],
            "type": "histogram2dcontour"
           }
          ],
          "mesh3d": [
           {
            "colorbar": {
             "outlinewidth": 0,
             "ticks": ""
            },
            "type": "mesh3d"
           }
          ],
          "parcoords": [
           {
            "line": {
             "colorbar": {
              "outlinewidth": 0,
              "ticks": ""
             }
            },
            "type": "parcoords"
           }
          ],
          "pie": [
           {
            "automargin": true,
            "type": "pie"
           }
          ],
          "scatter": [
           {
            "fillpattern": {
             "fillmode": "overlay",
             "size": 10,
             "solidity": 0.2
            },
            "type": "scatter"
           }
          ],
          "scatter3d": [
           {
            "line": {
             "colorbar": {
              "outlinewidth": 0,
              "ticks": ""
             }
            },
            "marker": {
             "colorbar": {
              "outlinewidth": 0,
              "ticks": ""
             }
            },
            "type": "scatter3d"
           }
          ],
          "scattercarpet": [
           {
            "marker": {
             "colorbar": {
              "outlinewidth": 0,
              "ticks": ""
             }
            },
            "type": "scattercarpet"
           }
          ],
          "scattergeo": [
           {
            "marker": {
             "colorbar": {
              "outlinewidth": 0,
              "ticks": ""
             }
            },
            "type": "scattergeo"
           }
          ],
          "scattergl": [
           {
            "marker": {
             "colorbar": {
              "outlinewidth": 0,
              "ticks": ""
             }
            },
            "type": "scattergl"
           }
          ],
          "scattermap": [
           {
            "marker": {
             "colorbar": {
              "outlinewidth": 0,
              "ticks": ""
             }
            },
            "type": "scattermap"
           }
          ],
          "scattermapbox": [
           {
            "marker": {
             "colorbar": {
              "outlinewidth": 0,
              "ticks": ""
             }
            },
            "type": "scattermapbox"
           }
          ],
          "scatterpolar": [
           {
            "marker": {
             "colorbar": {
              "outlinewidth": 0,
              "ticks": ""
             }
            },
            "type": "scatterpolar"
           }
          ],
          "scatterpolargl": [
           {
            "marker": {
             "colorbar": {
              "outlinewidth": 0,
              "ticks": ""
             }
            },
            "type": "scatterpolargl"
           }
          ],
          "scatterternary": [
           {
            "marker": {
             "colorbar": {
              "outlinewidth": 0,
              "ticks": ""
             }
            },
            "type": "scatterternary"
           }
          ],
          "surface": [
           {
            "colorbar": {
             "outlinewidth": 0,
             "ticks": ""
            },
            "colorscale": [
             [
              0,
              "#0d0887"
             ],
             [
              0.1111111111111111,
              "#46039f"
             ],
             [
              0.2222222222222222,
              "#7201a8"
             ],
             [
              0.3333333333333333,
              "#9c179e"
             ],
             [
              0.4444444444444444,
              "#bd3786"
             ],
             [
              0.5555555555555556,
              "#d8576b"
             ],
             [
              0.6666666666666666,
              "#ed7953"
             ],
             [
              0.7777777777777778,
              "#fb9f3a"
             ],
             [
              0.8888888888888888,
              "#fdca26"
             ],
             [
              1,
              "#f0f921"
             ]
            ],
            "type": "surface"
           }
          ],
          "table": [
           {
            "cells": {
             "fill": {
              "color": "#EBF0F8"
             },
             "line": {
              "color": "white"
             }
            },
            "header": {
             "fill": {
              "color": "#C8D4E3"
             },
             "line": {
              "color": "white"
             }
            },
            "type": "table"
           }
          ]
         },
         "layout": {
          "annotationdefaults": {
           "arrowcolor": "#2a3f5f",
           "arrowhead": 0,
           "arrowwidth": 1
          },
          "autotypenumbers": "strict",
          "coloraxis": {
           "colorbar": {
            "outlinewidth": 0,
            "ticks": ""
           }
          },
          "colorscale": {
           "diverging": [
            [
             0,
             "#8e0152"
            ],
            [
             0.1,
             "#c51b7d"
            ],
            [
             0.2,
             "#de77ae"
            ],
            [
             0.3,
             "#f1b6da"
            ],
            [
             0.4,
             "#fde0ef"
            ],
            [
             0.5,
             "#f7f7f7"
            ],
            [
             0.6,
             "#e6f5d0"
            ],
            [
             0.7,
             "#b8e186"
            ],
            [
             0.8,
             "#7fbc41"
            ],
            [
             0.9,
             "#4d9221"
            ],
            [
             1,
             "#276419"
            ]
           ],
           "sequential": [
            [
             0,
             "#0d0887"
            ],
            [
             0.1111111111111111,
             "#46039f"
            ],
            [
             0.2222222222222222,
             "#7201a8"
            ],
            [
             0.3333333333333333,
             "#9c179e"
            ],
            [
             0.4444444444444444,
             "#bd3786"
            ],
            [
             0.5555555555555556,
             "#d8576b"
            ],
            [
             0.6666666666666666,
             "#ed7953"
            ],
            [
             0.7777777777777778,
             "#fb9f3a"
            ],
            [
             0.8888888888888888,
             "#fdca26"
            ],
            [
             1,
             "#f0f921"
            ]
           ],
           "sequentialminus": [
            [
             0,
             "#0d0887"
            ],
            [
             0.1111111111111111,
             "#46039f"
            ],
            [
             0.2222222222222222,
             "#7201a8"
            ],
            [
             0.3333333333333333,
             "#9c179e"
            ],
            [
             0.4444444444444444,
             "#bd3786"
            ],
            [
             0.5555555555555556,
             "#d8576b"
            ],
            [
             0.6666666666666666,
             "#ed7953"
            ],
            [
             0.7777777777777778,
             "#fb9f3a"
            ],
            [
             0.8888888888888888,
             "#fdca26"
            ],
            [
             1,
             "#f0f921"
            ]
           ]
          },
          "colorway": [
           "#636efa",
           "#EF553B",
           "#00cc96",
           "#ab63fa",
           "#FFA15A",
           "#19d3f3",
           "#FF6692",
           "#B6E880",
           "#FF97FF",
           "#FECB52"
          ],
          "font": {
           "color": "#2a3f5f"
          },
          "geo": {
           "bgcolor": "white",
           "lakecolor": "white",
           "landcolor": "#E5ECF6",
           "showlakes": true,
           "showland": true,
           "subunitcolor": "white"
          },
          "hoverlabel": {
           "align": "left"
          },
          "hovermode": "closest",
          "mapbox": {
           "style": "light"
          },
          "paper_bgcolor": "white",
          "plot_bgcolor": "#E5ECF6",
          "polar": {
           "angularaxis": {
            "gridcolor": "white",
            "linecolor": "white",
            "ticks": ""
           },
           "bgcolor": "#E5ECF6",
           "radialaxis": {
            "gridcolor": "white",
            "linecolor": "white",
            "ticks": ""
           }
          },
          "scene": {
           "xaxis": {
            "backgroundcolor": "#E5ECF6",
            "gridcolor": "white",
            "gridwidth": 2,
            "linecolor": "white",
            "showbackground": true,
            "ticks": "",
            "zerolinecolor": "white"
           },
           "yaxis": {
            "backgroundcolor": "#E5ECF6",
            "gridcolor": "white",
            "gridwidth": 2,
            "linecolor": "white",
            "showbackground": true,
            "ticks": "",
            "zerolinecolor": "white"
           },
           "zaxis": {
            "backgroundcolor": "#E5ECF6",
            "gridcolor": "white",
            "gridwidth": 2,
            "linecolor": "white",
            "showbackground": true,
            "ticks": "",
            "zerolinecolor": "white"
           }
          },
          "shapedefaults": {
           "line": {
            "color": "#2a3f5f"
           }
          },
          "ternary": {
           "aaxis": {
            "gridcolor": "white",
            "linecolor": "white",
            "ticks": ""
           },
           "baxis": {
            "gridcolor": "white",
            "linecolor": "white",
            "ticks": ""
           },
           "bgcolor": "#E5ECF6",
           "caxis": {
            "gridcolor": "white",
            "linecolor": "white",
            "ticks": ""
           }
          },
          "title": {
           "x": 0.05
          },
          "xaxis": {
           "automargin": true,
           "gridcolor": "white",
           "linecolor": "white",
           "ticks": "",
           "title": {
            "standoff": 15
           },
           "zerolinecolor": "white",
           "zerolinewidth": 2
          },
          "yaxis": {
           "automargin": true,
           "gridcolor": "white",
           "linecolor": "white",
           "ticks": "",
           "title": {
            "standoff": 15
           },
           "zerolinecolor": "white",
           "zerolinewidth": 2
          }
         }
        },
        "title": {
         "text": "Total Orders by Country"
        },
        "xaxis": {
         "anchor": "y",
         "domain": [
          0,
          1
         ],
         "title": {
          "text": "country"
         }
        },
        "yaxis": {
         "anchor": "x",
         "domain": [
          0,
          1
         ],
         "title": {
          "text": "value"
         }
        }
       }
      }
     },
     "metadata": {},
     "output_type": "display_data"
    }
   ],
   "source": [
    "fig =px.bar(df.country.value_counts(), title='Total Orders by Country')\n",
    "fig.show()"
   ]
  },
  {
   "cell_type": "code",
   "execution_count": 29,
   "id": "29839c84",
   "metadata": {
    "execution": {
     "iopub.execute_input": "2025-03-06T01:07:22.261920Z",
     "iopub.status.busy": "2025-03-06T01:07:22.261599Z",
     "iopub.status.idle": "2025-03-06T01:07:22.412533Z",
     "shell.execute_reply": "2025-03-06T01:07:22.411602Z"
    },
    "papermill": {
     "duration": 0.163152,
     "end_time": "2025-03-06T01:07:22.414319",
     "exception": false,
     "start_time": "2025-03-06T01:07:22.251167",
     "status": "completed"
    },
    "tags": []
   },
   "outputs": [
    {
     "data": {
      "application/vnd.plotly.v1+json": {
       "config": {
        "plotlyServerURL": "https://plot.ly"
       },
       "data": [
        {
         "domain": {
          "x": [
           0,
           1
          ],
          "y": [
           0,
           1
          ]
         },
         "hovertemplate": "country=%{label}<extra></extra>",
         "labels": [
          "France",
          "France",
          "France",
          "Germany",
          "Germany",
          "Brazil",
          "Brazil",
          "Brazil",
          "France",
          "France",
          "France",
          "Belgium",
          "Belgium",
          "Belgium",
          "Brazil",
          "Brazil",
          "Brazil",
          "Switzerland",
          "Switzerland",
          "Switzerland",
          "Switzerland",
          "Switzerland",
          "Switzerland",
          "Switzerland",
          "Brazil",
          "Brazil",
          "Venezuela",
          "Venezuela",
          "Venezuela",
          "Austria",
          "Austria",
          "Austria",
          "Mexico",
          "Mexico",
          "Germany",
          "Germany",
          "Germany",
          "Germany",
          "Brazil",
          "Brazil",
          "USA",
          "USA",
          "USA",
          "Austria",
          "Austria",
          "Austria",
          "Austria",
          "Sweden",
          "Sweden",
          "France",
          "France",
          "Finland",
          "Germany",
          "Germany",
          "Germany",
          "Venezuela",
          "Venezuela",
          "USA",
          "USA",
          "Finland",
          "Finland",
          "USA",
          "USA",
          "USA",
          "USA",
          "Germany",
          "Germany",
          "Germany",
          "Germany",
          "Germany",
          "France",
          "France",
          "Italy",
          "Italy",
          "Mexico",
          "Mexico",
          "Germany",
          "Germany",
          "Sweden",
          "Sweden",
          "Sweden",
          "Sweden",
          "Germany",
          "Sweden",
          "Sweden",
          "Sweden",
          "Spain",
          "Spain",
          "Spain",
          "Spain",
          "Spain",
          "Venezuela",
          "Venezuela",
          "Venezuela",
          "Venezuela",
          "Germany",
          "Germany",
          "Germany",
          "Germany",
          "Germany",
          "Germany",
          "Germany",
          "Germany",
          "Germany",
          "Brazil",
          "Brazil",
          "Brazil",
          "Italy",
          "Italy",
          "UK",
          "UK",
          "Brazil",
          "Brazil",
          "Brazil",
          "Brazil",
          "Brazil",
          "Brazil",
          "Brazil",
          "Brazil",
          "Mexico",
          "Mexico",
          "Mexico",
          "Mexico",
          "USA",
          "USA",
          "USA",
          "USA",
          "USA",
          "France",
          "Venezuela",
          "Venezuela",
          "Venezuela",
          "France",
          "France",
          "Ireland",
          "Ireland",
          "Ireland",
          "Ireland",
          "Brazil",
          "Brazil",
          "Italy",
          "Italy",
          "Germany",
          "Germany",
          "Belgium",
          "Belgium",
          "Belgium",
          "Spain",
          "Spain",
          "Spain",
          "Mexico",
          "Mexico",
          "Mexico",
          "USA",
          "USA",
          "USA",
          "Spain",
          "Spain",
          "Spain",
          "USA",
          "USA",
          "Mexico",
          "Mexico",
          "Ireland",
          "Ireland",
          "Ireland",
          "Ireland",
          "Ireland",
          "USA",
          "USA",
          "France",
          "France",
          "Germany",
          "Germany",
          "Germany",
          "Germany",
          "Germany",
          "USA",
          "USA",
          "USA",
          "UK",
          "UK",
          "USA",
          "USA",
          "USA",
          "UK",
          "UK",
          "Mexico",
          "Mexico",
          "Mexico",
          "Finland",
          "UK",
          "Mexico",
          "Germany",
          "Germany",
          "Germany",
          "USA",
          "USA",
          "USA",
          "USA",
          "USA",
          "Germany",
          "Germany",
          "Germany",
          "Germany",
          "Germany",
          "Spain",
          "Spain",
          "Spain",
          "Sweden",
          "Sweden",
          "Sweden",
          "Sweden",
          "Portugal",
          "Portugal",
          "Portugal",
          "USA",
          "USA",
          "USA",
          "USA",
          "Venezuela",
          "Venezuela",
          "France",
          "Canada",
          "Canada",
          "Canada",
          "Finland",
          "Finland",
          "Finland",
          "France",
          "France",
          "Ireland",
          "Ireland",
          "Ireland",
          "Ireland",
          "Portugal",
          "Germany",
          "Germany",
          "Germany",
          "Germany",
          "Germany",
          "USA",
          "USA",
          "Canada",
          "Canada",
          "Canada",
          "France",
          "France",
          "France",
          "Denmark",
          "Denmark",
          "Germany",
          "Germany",
          "Germany",
          "Germany",
          "Germany",
          "Germany",
          "Germany",
          "USA",
          "USA",
          "Germany",
          "Germany",
          "Germany",
          "USA",
          "USA",
          "Brazil",
          "Brazil",
          "Brazil",
          "Brazil",
          "Germany",
          "Germany",
          "USA",
          "France",
          "France",
          "Austria",
          "Austria",
          "Austria",
          "Austria",
          "Portugal",
          "Portugal",
          "Austria",
          "Austria",
          "Mexico",
          "Mexico",
          "UK",
          "UK",
          "Germany",
          "Germany",
          "Germany",
          "Venezuela",
          "Venezuela",
          "Venezuela",
          "France",
          "France",
          "France",
          "UK",
          "UK",
          "UK",
          "France",
          "France",
          "France",
          "France",
          "France",
          "Germany",
          "Germany",
          "France",
          "France",
          "France",
          "Germany",
          "Germany",
          "Germany",
          "UK",
          "UK",
          "Mexico",
          "Spain",
          "Spain",
          "Denmark",
          "Denmark",
          "Denmark",
          "Denmark",
          "Austria",
          "Austria",
          "Austria",
          "Austria",
          "USA",
          "USA",
          "Switzerland",
          "Switzerland",
          "Switzerland",
          "France",
          "Brazil",
          "Brazil",
          "Brazil",
          "Brazil",
          "Ireland",
          "Ireland",
          "Poland",
          "Poland",
          "USA",
          "USA",
          "Canada",
          "UK",
          "UK",
          "Sweden",
          "Brazil",
          "Brazil",
          "Brazil",
          "Ireland",
          "Ireland",
          "Ireland",
          "Ireland",
          "Venezuela",
          "Austria",
          "Austria",
          "Austria",
          "Austria",
          "Austria",
          "UK",
          "UK",
          "UK",
          "Sweden",
          "Sweden",
          "USA",
          "USA",
          "USA",
          "Brazil",
          "Brazil",
          "Norway",
          "Norway",
          "Norway",
          "Norway",
          "UK",
          "UK",
          "UK",
          "Canada",
          "Canada",
          "Canada",
          "Canada",
          "Austria",
          "Austria",
          "Austria",
          "Austria",
          "Germany",
          "Austria",
          "USA",
          "USA",
          "USA",
          "USA",
          "USA",
          "USA",
          "USA",
          "Venezuela",
          "Venezuela",
          "Venezuela",
          "Germany",
          "Germany",
          "Germany",
          "Portugal",
          "Portugal",
          "USA",
          "USA",
          "Denmark",
          "Denmark",
          "Denmark",
          "Denmark",
          "UK",
          "UK",
          "UK",
          "USA",
          "USA",
          "USA",
          "USA",
          "Austria",
          "Austria",
          "Austria",
          "Austria",
          "Italy",
          "Italy",
          "Italy",
          "Venezuela",
          "Brazil",
          "Brazil",
          "Brazil",
          "Brazil",
          "Brazil",
          "Germany",
          "Germany",
          "Germany",
          "France",
          "France",
          "France",
          "Argentina",
          "Argentina",
          "Canada",
          "Canada",
          "Canada",
          "Canada",
          "Canada",
          "Finland",
          "France",
          "France",
          "France",
          "Brazil",
          "Brazil",
          "USA",
          "USA",
          "Finland",
          "Finland",
          "Finland",
          "Denmark",
          "Denmark",
          "Denmark",
          "Denmark",
          "Germany",
          "Germany",
          "Germany",
          "Germany",
          "Switzerland",
          "Switzerland",
          "Brazil",
          "Brazil",
          "Brazil",
          "Brazil",
          "Brazil",
          "Brazil",
          "Brazil",
          "Brazil",
          "Italy",
          "Brazil",
          "Brazil",
          "Canada",
          "Canada",
          "Canada",
          "France",
          "France",
          "Spain",
          "Spain",
          "Austria",
          "Italy",
          "Ireland",
          "Ireland",
          "Austria",
          "Austria",
          "Austria",
          "Austria",
          "Canada",
          "Canada",
          "Canada",
          "USA",
          "USA",
          "Portugal",
          "Sweden",
          "Sweden",
          "UK",
          "UK",
          "UK",
          "France",
          "France",
          "France",
          "France",
          "Finland",
          "Germany",
          "Germany",
          "Germany",
          "Canada",
          "Canada",
          "Canada",
          "Canada",
          "USA",
          "USA",
          "USA",
          "USA",
          "USA",
          "Austria",
          "Austria",
          "Austria",
          "Italy",
          "Italy",
          "Sweden",
          "Sweden",
          "Sweden",
          "Sweden",
          "Sweden",
          "Sweden",
          "Germany",
          "Germany",
          "Germany",
          "Germany",
          "Brazil",
          "Brazil",
          "Brazil",
          "Argentina",
          "Argentina",
          "France",
          "France",
          "France",
          "France",
          "France",
          "Germany",
          "Germany",
          "Germany",
          "Germany",
          "USA",
          "USA",
          "UK",
          "UK",
          "France",
          "France",
          "France",
          "Finland",
          "Finland",
          "Finland",
          "Finland",
          "Germany",
          "Germany",
          "Germany",
          "Belgium",
          "Belgium",
          "Belgium",
          "Belgium",
          "Belgium",
          "France",
          "France",
          "France",
          "Sweden",
          "Sweden",
          "Venezuela",
          "Venezuela",
          "Venezuela",
          "UK",
          "UK",
          "Belgium",
          "Belgium",
          "Portugal",
          "Portugal",
          "Portugal",
          "Portugal",
          "Denmark",
          "Denmark",
          "Denmark",
          "Denmark",
          "Denmark",
          "Brazil",
          "Brazil",
          "Italy",
          "Italy",
          "Germany",
          "Germany",
          "USA",
          "USA",
          "USA",
          "France",
          "France",
          "France",
          "UK",
          "UK",
          "UK",
          "UK",
          "UK",
          "UK",
          "Mexico",
          "Mexico",
          "Mexico",
          "Mexico",
          "Belgium",
          "Belgium",
          "Belgium",
          "Venezuela",
          "Venezuela",
          "Portugal",
          "Portugal",
          "Portugal",
          "France",
          "USA",
          "USA",
          "USA",
          "USA",
          "France",
          "France",
          "Brazil",
          "Brazil",
          "USA",
          "USA",
          "USA",
          "UK",
          "UK",
          "UK",
          "Venezuela",
          "Venezuela",
          "Venezuela",
          "Venezuela",
          "Venezuela",
          "Venezuela",
          "Venezuela",
          "Brazil",
          "Brazil",
          "Brazil",
          "Germany",
          "Germany",
          "Austria",
          "Austria",
          "Venezuela",
          "Venezuela",
          "Venezuela",
          "Portugal",
          "Portugal",
          "Canada",
          "Canada",
          "France",
          "France",
          "France",
          "Brazil",
          "Canada",
          "Canada",
          "Canada",
          "Brazil",
          "Germany",
          "Germany",
          "Germany",
          "Venezuela",
          "Venezuela",
          "Venezuela",
          "Venezuela",
          "Venezuela",
          "France",
          "France",
          "Germany",
          "Mexico",
          "Mexico",
          "Mexico",
          "Ireland",
          "Ireland",
          "USA",
          "USA",
          "USA",
          "USA",
          "Canada",
          "Germany",
          "Germany",
          "Mexico",
          "Mexico",
          "Germany",
          "Germany",
          "Germany",
          "USA",
          "USA",
          "France",
          "France",
          "France",
          "Brazil",
          "Brazil",
          "Brazil",
          "Brazil",
          "Germany",
          "Germany",
          "Germany",
          "Austria",
          "Austria",
          "Austria",
          "Austria",
          "Austria",
          "Germany",
          "Germany",
          "Germany",
          "Germany",
          "Germany",
          "Ireland",
          "Ireland",
          "Ireland",
          "UK",
          "UK",
          "UK",
          "Mexico",
          "Mexico",
          "Mexico",
          "Switzerland",
          "Switzerland",
          "Switzerland",
          "Norway",
          "Norway",
          "Argentina",
          "Argentina",
          "Argentina",
          "Germany",
          "Germany",
          "Germany",
          "Germany",
          "UK",
          "UK",
          "UK",
          "UK",
          "Sweden",
          "Sweden",
          "Sweden",
          "Sweden",
          "France",
          "France",
          "Finland",
          "Finland",
          "Finland",
          "Germany",
          "Germany",
          "USA",
          "USA",
          "USA",
          "Belgium",
          "Belgium",
          "Belgium",
          "Austria",
          "Austria",
          "Austria",
          "Austria",
          "Argentina",
          "UK",
          "UK",
          "Sweden",
          "Sweden",
          "Sweden",
          "Germany",
          "Germany",
          "Germany",
          "Mexico",
          "Mexico",
          "Mexico",
          "Mexico",
          "Germany",
          "Germany",
          "Germany",
          "Germany",
          "Switzerland",
          "Switzerland",
          "Switzerland",
          "Switzerland",
          "Switzerland",
          "UK",
          "UK",
          "UK",
          "UK",
          "UK",
          "UK",
          "Germany",
          "Germany",
          "Germany",
          "Germany",
          "Brazil",
          "Brazil",
          "Brazil",
          "Brazil",
          "Germany",
          "Germany",
          "Venezuela",
          "Venezuela",
          "USA",
          "USA",
          "USA",
          "France",
          "France",
          "France",
          "UK",
          "UK",
          "Germany",
          "Germany",
          "Germany",
          "Germany",
          "Germany",
          "Spain",
          "Spain",
          "Spain",
          "Spain",
          "Portugal",
          "Portugal",
          "Portugal",
          "Venezuela",
          "Venezuela",
          "Finland",
          "Finland",
          "Finland",
          "Finland",
          "Finland",
          "Germany",
          "Germany",
          "Germany",
          "Germany",
          "USA",
          "USA",
          "USA",
          "USA",
          "USA",
          "Denmark",
          "Germany",
          "Germany",
          "UK",
          "UK",
          "UK",
          "UK",
          "UK",
          "France",
          "France",
          "Germany",
          "Germany",
          "Sweden",
          "Sweden",
          "Italy",
          "Italy",
          "Brazil",
          "Brazil",
          "USA",
          "USA",
          "USA",
          "Canada",
          "Canada",
          "France",
          "France",
          "France",
          "Ireland",
          "Ireland",
          "Ireland",
          "Spain",
          "USA",
          "USA",
          "Canada",
          "Canada",
          "Austria",
          "Austria",
          "Sweden",
          "Sweden",
          "Sweden",
          "Sweden",
          "Mexico",
          "Mexico",
          "Mexico",
          "USA",
          "USA",
          "USA",
          "USA",
          "Germany",
          "Germany",
          "Germany",
          "Germany",
          "Mexico",
          "Mexico",
          "Mexico",
          "USA",
          "USA",
          "USA",
          "UK",
          "UK",
          "USA",
          "USA",
          "Germany",
          "Germany",
          "Germany",
          "Brazil",
          "Germany",
          "Germany",
          "Finland",
          "Finland",
          "Finland",
          "France",
          "Brazil",
          "Italy",
          "Brazil",
          "Brazil",
          "Brazil",
          "Germany",
          "Germany",
          "USA",
          "Canada",
          "Canada",
          "Denmark",
          "Denmark",
          "Denmark",
          "Germany",
          "Germany",
          "Germany",
          "Germany",
          "Germany",
          "USA",
          "USA",
          "Austria",
          "Austria",
          "Austria",
          "USA",
          "USA",
          "USA",
          "Austria",
          "Austria",
          "Austria",
          "USA",
          "USA",
          "UK",
          "USA",
          "USA",
          "Venezuela",
          "Venezuela",
          "Denmark",
          "USA",
          "USA",
          "Portugal",
          "Portugal",
          "Canada",
          "Canada",
          "Canada",
          "Canada",
          "Brazil",
          "Brazil",
          "Brazil",
          "USA",
          "USA",
          "USA",
          "USA",
          "USA",
          "Germany",
          "France",
          "France",
          "France",
          "France",
          "Poland",
          "Poland",
          "Poland",
          "USA",
          "USA",
          "USA",
          "USA",
          "USA",
          "Venezuela",
          "Venezuela",
          "Germany",
          "Germany",
          "Germany",
          "Finland",
          "USA",
          "USA",
          "USA",
          "USA",
          "USA",
          "Canada",
          "Canada",
          "Canada",
          "Canada",
          "Canada",
          "Canada",
          "Canada",
          "UK",
          "UK",
          "UK",
          "UK",
          "Brazil",
          "Brazil",
          "Germany",
          "Germany",
          "Germany",
          "Germany",
          "Germany",
          "USA",
          "USA",
          "USA",
          "Mexico",
          "Mexico",
          "Mexico",
          "Sweden",
          "Sweden",
          "Sweden",
          "USA",
          "USA",
          "France",
          "Spain",
          "Spain",
          "Germany",
          "Germany",
          "France",
          "Germany",
          "Germany",
          "Austria",
          "Austria",
          "Austria",
          "Austria",
          "France",
          "France",
          "France",
          "France",
          "Italy",
          "Italy",
          "Italy",
          "Finland",
          "Finland",
          "Brazil",
          "Brazil",
          "Brazil",
          "Venezuela",
          "Venezuela",
          "Venezuela",
          "Norway",
          "Germany",
          "Germany",
          "Venezuela",
          "Venezuela",
          "Denmark",
          "Denmark",
          "Germany",
          "Germany",
          "Germany",
          "Brazil",
          "Brazil",
          "Brazil",
          "Brazil",
          "Brazil",
          "Ireland",
          "Ireland",
          "Ireland",
          "Ireland",
          "Brazil",
          "Brazil",
          "Brazil",
          "Brazil",
          "Belgium",
          "Belgium",
          "Brazil",
          "Brazil",
          "Brazil",
          "Germany",
          "Germany",
          "Brazil",
          "Brazil",
          "Germany",
          "Germany",
          "Sweden",
          "Sweden",
          "Sweden",
          "Italy",
          "USA",
          "USA",
          "USA",
          "USA",
          "USA",
          "USA",
          "USA",
          "USA",
          "USA",
          "Germany",
          "Germany",
          "Germany",
          "Germany",
          "Brazil",
          "Brazil",
          "Brazil",
          "USA",
          "Ireland",
          "Ireland",
          "USA",
          "France",
          "France",
          "France",
          "Portugal",
          "Portugal",
          "Portugal",
          "USA",
          "USA",
          "USA",
          "Switzerland",
          "Switzerland",
          "Austria",
          "Austria",
          "Germany",
          "Germany",
          "Germany",
          "Denmark",
          "Germany",
          "Germany",
          "Germany",
          "Germany",
          "Germany",
          "France",
          "France",
          "France",
          "Sweden",
          "Sweden",
          "Finland",
          "Finland",
          "Finland",
          "UK",
          "Germany",
          "Germany",
          "Germany",
          "Mexico",
          "Mexico",
          "Mexico",
          "Mexico",
          "Mexico",
          "USA",
          "USA",
          "USA",
          "USA",
          "France",
          "USA",
          "USA",
          "USA",
          "USA",
          "USA",
          "USA",
          "Mexico",
          "Mexico",
          "Mexico",
          "France",
          "Germany",
          "Germany",
          "Germany",
          "Brazil",
          "Brazil",
          "Brazil",
          "Austria",
          "Austria",
          "Ireland",
          "Ireland",
          "Ireland",
          "Denmark",
          "Denmark",
          "Denmark",
          "Sweden",
          "Brazil",
          "Brazil",
          "Germany",
          "Germany",
          "Germany",
          "Germany",
          "Germany",
          "Germany",
          "USA",
          "USA",
          "USA",
          "USA",
          "Germany",
          "Germany",
          "Germany",
          "Finland",
          "Finland",
          "Finland",
          "USA",
          "USA",
          "Venezuela",
          "Venezuela",
          "Venezuela",
          "Venezuela",
          "Austria",
          "Austria",
          "Austria",
          "Austria",
          "Austria",
          "Germany",
          "USA",
          "USA",
          "USA",
          "USA",
          "Ireland",
          "Ireland",
          "Ireland",
          "Germany",
          "Germany",
          "Sweden",
          "Sweden",
          "Sweden",
          "Brazil",
          "Brazil",
          "Brazil",
          "Venezuela",
          "Venezuela",
          "USA",
          "USA",
          "USA",
          "UK",
          "UK",
          "UK",
          "USA",
          "USA",
          "Brazil",
          "Brazil",
          "Brazil",
          "Italy",
          "Italy",
          "USA",
          "USA",
          "USA",
          "Ireland",
          "Ireland",
          "USA",
          "USA",
          "USA",
          "USA",
          "USA",
          "USA",
          "USA",
          "USA",
          "USA",
          "France",
          "France",
          "Argentina",
          "Argentina",
          "Argentina",
          "Germany",
          "Germany",
          "Germany",
          "Germany",
          "Germany",
          "Germany",
          "Germany",
          "USA",
          "USA",
          "USA",
          "Brazil",
          "Brazil",
          "Germany",
          "USA",
          "USA",
          "USA",
          "USA",
          "USA",
          "Canada",
          "Canada",
          "Brazil",
          "Brazil",
          "Brazil",
          "UK",
          "UK",
          "Italy",
          "Italy",
          "Italy",
          "Brazil",
          "Brazil",
          "Brazil",
          "Brazil",
          "Venezuela",
          "Venezuela",
          "Venezuela",
          "France",
          "France",
          "France",
          "Switzerland",
          "Switzerland",
          "France",
          "Sweden",
          "Sweden",
          "Sweden",
          "Brazil",
          "Brazil",
          "Brazil",
          "USA",
          "USA",
          "Ireland",
          "Ireland",
          "France",
          "France",
          "France",
          "France",
          "France",
          "USA",
          "USA",
          "USA",
          "USA",
          "UK",
          "Canada",
          "Canada",
          "Canada",
          "UK",
          "Denmark",
          "Germany",
          "Germany",
          "Germany",
          "Germany",
          "Switzerland",
          "Switzerland",
          "Switzerland",
          "Switzerland",
          "Austria",
          "Austria",
          "Austria",
          "Austria",
          "USA",
          "USA",
          "USA",
          "UK",
          "UK",
          "UK",
          "Finland",
          "Finland",
          "Finland",
          "Switzerland",
          "Switzerland",
          "Switzerland",
          "Switzerland",
          "UK",
          "UK",
          "Italy",
          "Italy",
          "Italy",
          "France",
          "France",
          "France",
          "France",
          "USA",
          "USA",
          "USA",
          "USA",
          "USA",
          "USA",
          "USA",
          "USA",
          "Switzerland",
          "Switzerland",
          "Switzerland",
          "Mexico",
          "Belgium",
          "Belgium",
          "Belgium",
          "USA",
          "USA",
          "Sweden",
          "Sweden",
          "Sweden",
          "Sweden",
          "France",
          "France",
          "France",
          "Austria",
          "Austria",
          "Germany",
          "Germany",
          "Germany",
          "Germany",
          "Belgium",
          "UK",
          "UK",
          "UK",
          "UK",
          "Denmark",
          "Denmark",
          "Denmark",
          "Denmark",
          "Brazil",
          "Austria",
          "Germany",
          "Germany",
          "Austria",
          "Austria",
          "Austria",
          "Sweden",
          "Sweden",
          "USA",
          "USA",
          "Austria",
          "Austria",
          "Austria",
          "Austria",
          "Brazil",
          "Sweden",
          "Germany",
          "Germany",
          "Venezuela",
          "Venezuela",
          "Finland",
          "Finland",
          "Finland",
          "Argentina",
          "Brazil",
          "Brazil",
          "Italy",
          "Italy",
          "Italy",
          "Venezuela",
          "Venezuela",
          "Brazil",
          "Brazil",
          "Brazil",
          "France",
          "France",
          "Germany",
          "Germany",
          "France",
          "France",
          "France",
          "France",
          "Brazil",
          "Brazil",
          "Germany",
          "Germany",
          "Poland",
          "Poland",
          "Poland",
          "UK",
          "UK",
          "Brazil",
          "Brazil",
          "Austria",
          "Austria",
          "Venezuela",
          "Venezuela",
          "Venezuela",
          "Venezuela",
          "Germany",
          "UK",
          "UK",
          "Germany",
          "Germany",
          "Germany",
          "UK",
          "UK",
          "UK",
          "Spain",
          "Spain",
          "Denmark",
          "Denmark",
          "Denmark",
          "Denmark",
          "Brazil",
          "Brazil",
          "Brazil",
          "UK",
          "UK",
          "UK",
          "USA",
          "USA",
          "France",
          "France",
          "France",
          "Italy",
          "USA",
          "USA",
          "Brazil",
          "Canada",
          "Canada",
          "Canada",
          "Venezuela",
          "Venezuela",
          "Venezuela",
          "Italy",
          "Italy",
          "Italy",
          "Brazil",
          "Brazil",
          "France",
          "France",
          "France",
          "France",
          "USA",
          "USA",
          "USA",
          "Germany",
          "Germany",
          "Germany",
          "Germany",
          "Italy",
          "Italy",
          "Argentina",
          "Argentina",
          "USA",
          "USA",
          "USA",
          "USA",
          "USA",
          "Venezuela",
          "Venezuela",
          "Venezuela",
          "Venezuela",
          "Sweden",
          "Sweden",
          "Germany",
          "Germany",
          "France",
          "France",
          "France",
          "France",
          "Argentina",
          "Argentina",
          "UK",
          "UK",
          "UK",
          "UK",
          "Brazil",
          "Brazil",
          "Brazil",
          "Brazil",
          "Norway",
          "Norway",
          "Norway",
          "Norway",
          "France",
          "France",
          "France",
          "France",
          "Germany",
          "Germany",
          "Germany",
          "Brazil",
          "Brazil",
          "Germany",
          "Germany",
          "Austria",
          "Austria",
          "Austria",
          "Austria",
          "Austria",
          "Sweden",
          "Sweden",
          "Sweden",
          "Sweden",
          "Venezuela",
          "Venezuela",
          "Venezuela",
          "Brazil",
          "Brazil",
          "Venezuela",
          "Venezuela",
          "Belgium",
          "Belgium",
          "Belgium",
          "Belgium",
          "Mexico",
          "Mexico",
          "Mexico",
          "Mexico",
          "France",
          "Austria",
          "Germany",
          "Germany",
          "Germany",
          "Germany",
          "Germany",
          "Belgium",
          "Belgium",
          "Belgium",
          "USA",
          "USA",
          "USA",
          "USA",
          "USA",
          "USA",
          "UK",
          "UK",
          "Germany",
          "Germany",
          "France",
          "France",
          "France",
          "Brazil",
          "Brazil",
          "Brazil",
          "Brazil",
          "USA",
          "USA",
          "USA",
          "Germany",
          "Austria",
          "Austria",
          "USA",
          "USA",
          "USA",
          "USA",
          "Mexico",
          "Mexico",
          "Sweden",
          "Sweden",
          "Sweden",
          "France",
          "France",
          "France",
          "Germany",
          "Germany",
          "Germany",
          "France",
          "France",
          "USA",
          "USA",
          "USA",
          "USA",
          "USA",
          "Germany",
          "Germany",
          "Venezuela",
          "Venezuela",
          "UK",
          "UK",
          "Germany",
          "Germany",
          "Sweden",
          "Sweden",
          "Sweden",
          "USA",
          "Brazil",
          "Brazil",
          "Brazil",
          "UK",
          "UK",
          "UK",
          "UK",
          "Poland",
          "Poland",
          "France",
          "France",
          "France",
          "Spain",
          "Spain",
          "Spain",
          "Spain",
          "Finland",
          "Finland",
          "Spain",
          "Sweden",
          "Sweden",
          "Sweden",
          "France",
          "France",
          "Brazil",
          "Brazil",
          "Germany",
          "Finland",
          "Finland",
          "Finland",
          "Sweden",
          "Sweden",
          "Sweden",
          "Argentina",
          "USA",
          "USA",
          "USA",
          "USA",
          "USA",
          "USA",
          "USA",
          "Belgium",
          "Belgium",
          "Belgium",
          "Belgium",
          "Brazil",
          "Brazil",
          "Brazil",
          "Spain",
          "Spain",
          "Spain",
          "USA",
          "USA",
          "France",
          "France",
          "France",
          "Germany",
          "Belgium",
          "Germany",
          "Germany",
          "Germany",
          "Germany",
          "Germany",
          "USA",
          "USA",
          "USA",
          "Austria",
          "Austria",
          "Austria",
          "Austria",
          "Belgium",
          "Belgium",
          "Ireland",
          "Ireland",
          "Argentina",
          "Venezuela",
          "Brazil",
          "Venezuela",
          "Venezuela",
          "Sweden",
          "Sweden",
          "Brazil",
          "Brazil",
          "Brazil",
          "USA",
          "USA",
          "Brazil",
          "Poland",
          "France",
          "Italy",
          "Italy",
          "Norway",
          "Norway",
          "Norway",
          "Finland",
          "Finland",
          "Finland",
          "Spain",
          "Spain",
          "Spain",
          "Ireland",
          "Ireland",
          "Brazil",
          "Brazil",
          "Brazil",
          "Brazil",
          "Mexico",
          "Mexico",
          "Mexico",
          "Argentina",
          "Argentina",
          "Argentina",
          "Spain",
          "Spain",
          "Canada",
          "Canada",
          "Venezuela",
          "Venezuela",
          "Venezuela",
          "UK",
          "Denmark",
          "Denmark",
          "Brazil",
          "Brazil",
          "France",
          "France",
          "France",
          "Sweden",
          "Sweden",
          "Sweden",
          "Brazil",
          "Brazil",
          "Mexico",
          "Mexico",
          "Mexico",
          "Mexico",
          "France",
          "France",
          "France",
          "Spain",
          "Spain",
          "Germany",
          "Germany",
          "Germany",
          "Belgium",
          "Belgium",
          "Belgium",
          "Belgium",
          "Switzerland",
          "Switzerland",
          "France",
          "France",
          "France",
          "France",
          "UK",
          "UK",
          "Germany",
          "Brazil",
          "Brazil",
          "Brazil",
          "USA",
          "Argentina",
          "Argentina",
          "Germany",
          "Germany",
          "Germany",
          "Germany",
          "Italy",
          "Italy",
          "France",
          "France",
          "USA",
          "USA",
          "USA",
          "USA",
          "Italy",
          "UK",
          "UK",
          "UK",
          "Canada",
          "Canada",
          "Canada",
          "Germany",
          "Germany",
          "Denmark",
          "Denmark",
          "Denmark",
          "UK",
          "Spain",
          "Spain",
          "Spain",
          "Canada",
          "Canada",
          "Canada",
          "Canada",
          "Italy",
          "Switzerland",
          "Switzerland",
          "Switzerland",
          "Germany",
          "Germany",
          "UK",
          "UK",
          "Venezuela",
          "Venezuela",
          "Venezuela",
          "Venezuela",
          "Sweden",
          "Germany",
          "Germany",
          "Germany",
          "Venezuela",
          "Venezuela",
          "Venezuela",
          "Argentina",
          "Argentina",
          "Argentina",
          "Brazil",
          "Venezuela",
          "Venezuela",
          "Brazil",
          "Brazil",
          "Germany",
          "Germany",
          "Germany",
          "Germany",
          "Germany",
          "Portugal",
          "France",
          "France",
          "France",
          "USA",
          "Switzerland",
          "Switzerland",
          "Switzerland",
          "Germany",
          "Germany",
          "Austria",
          "Austria",
          "Austria",
          "Brazil",
          "Spain",
          "France",
          "France",
          "France",
          "France",
          "France",
          "France",
          "USA",
          "Canada",
          "Canada",
          "Venezuela",
          "Sweden",
          "Sweden",
          "Sweden",
          "Sweden",
          "Belgium",
          "Belgium",
          "Belgium",
          "Belgium",
          "Austria",
          "Austria",
          "Austria",
          "Austria",
          "Austria",
          "Austria",
          "Sweden",
          "Brazil",
          "Canada",
          "Canada",
          "USA",
          "USA",
          "USA",
          "USA",
          "USA",
          "Ireland",
          "Ireland",
          "Ireland",
          "Argentina",
          "Argentina",
          "Argentina",
          "Argentina",
          "UK",
          "UK",
          "UK",
          "USA",
          "USA",
          "Brazil",
          "Brazil",
          "Brazil",
          "Austria",
          "Austria",
          "Austria",
          "Austria",
          "Germany",
          "Germany",
          "Germany",
          "USA",
          "Sweden",
          "Sweden",
          "Denmark",
          "Mexico",
          "Mexico",
          "Germany",
          "Venezuela",
          "Venezuela",
          "Venezuela",
          "Poland",
          "Poland",
          "Poland",
          "Poland",
          "Germany",
          "Germany",
          "Germany",
          "USA",
          "USA",
          "USA",
          "Sweden",
          "Sweden",
          "Sweden",
          "Sweden",
          "USA",
          "USA",
          "USA",
          "USA",
          "USA",
          "USA",
          "USA",
          "Belgium",
          "Belgium",
          "Finland",
          "Finland",
          "USA",
          "USA",
          "Portugal",
          "Portugal",
          "Portugal",
          "Austria",
          "Austria",
          "Austria",
          "Spain",
          "Spain",
          "Spain",
          "Italy",
          "Italy",
          "Germany",
          "Germany",
          "Germany",
          "Germany",
          "Germany",
          "Spain",
          "Spain",
          "Spain",
          "Spain",
          "Venezuela",
          "Norway",
          "Norway",
          "UK",
          "UK",
          "Austria",
          "Austria",
          "Austria",
          "USA",
          "USA",
          "USA",
          "Argentina",
          "Argentina",
          "Germany",
          "Germany",
          "Germany",
          "Germany",
          "Germany",
          "Germany",
          "Brazil",
          "Brazil",
          "UK",
          "UK",
          "UK",
          "UK",
          "UK",
          "UK",
          "Finland",
          "Finland",
          "Italy",
          "Italy",
          "Canada",
          "Canada",
          "Germany",
          "Germany",
          "Switzerland",
          "Switzerland",
          "USA",
          "USA",
          "USA",
          "USA",
          "USA",
          "USA",
          "USA",
          "USA",
          "USA",
          "USA",
          "USA",
          "USA",
          "Switzerland",
          "Switzerland",
          "USA",
          "USA",
          "USA",
          "Belgium",
          "Belgium",
          "Belgium",
          "Belgium",
          "Germany",
          "Germany",
          "Spain",
          "Belgium",
          "Belgium",
          "Belgium",
          "Venezuela",
          "Venezuela",
          "Venezuela",
          "Venezuela",
          "USA",
          "Switzerland",
          "Switzerland",
          "Brazil",
          "Brazil",
          "France",
          "Poland",
          "Canada",
          "Canada",
          "Germany",
          "Germany",
          "Germany",
          "UK",
          "UK",
          "Canada",
          "Brazil",
          "Brazil",
          "Sweden",
          "France",
          "Brazil",
          "Brazil",
          "Austria",
          "Austria",
          "Austria",
          "Argentina",
          "Argentina",
          "Venezuela",
          "Venezuela",
          "Venezuela",
          "Venezuela",
          "UK",
          "UK",
          "UK",
          "UK",
          "Germany",
          "Germany",
          "Germany",
          "Brazil",
          "Brazil",
          "Brazil",
          "Italy",
          "Italy",
          "USA",
          "Italy",
          "Italy",
          "Ireland",
          "Ireland",
          "Ireland",
          "USA",
          "USA",
          "USA",
          "USA",
          "USA",
          "Venezuela",
          "Venezuela",
          "USA",
          "USA",
          "USA",
          "Germany",
          "Brazil",
          "Brazil",
          "Brazil",
          "Mexico",
          "Germany",
          "Germany",
          "Germany",
          "Germany",
          "Venezuela",
          "Venezuela",
          "Austria",
          "Austria",
          "Austria",
          "Austria",
          "Mexico",
          "Mexico",
          "Denmark",
          "Switzerland",
          "Switzerland",
          "Switzerland",
          "France",
          "France",
          "France",
          "USA",
          "USA",
          "USA",
          "USA",
          "USA",
          "USA",
          "USA",
          "USA",
          "USA",
          "USA",
          "USA",
          "USA",
          "USA",
          "USA",
          "USA",
          "USA",
          "USA",
          "USA",
          "USA",
          "USA",
          "USA",
          "USA",
          "USA",
          "USA",
          "USA"
         ],
         "legendgroup": "",
         "name": "",
         "showlegend": true,
         "type": "pie"
        }
       ],
       "layout": {
        "legend": {
         "tracegroupgap": 0
        },
        "template": {
         "data": {
          "bar": [
           {
            "error_x": {
             "color": "#2a3f5f"
            },
            "error_y": {
             "color": "#2a3f5f"
            },
            "marker": {
             "line": {
              "color": "#E5ECF6",
              "width": 0.5
             },
             "pattern": {
              "fillmode": "overlay",
              "size": 10,
              "solidity": 0.2
             }
            },
            "type": "bar"
           }
          ],
          "barpolar": [
           {
            "marker": {
             "line": {
              "color": "#E5ECF6",
              "width": 0.5
             },
             "pattern": {
              "fillmode": "overlay",
              "size": 10,
              "solidity": 0.2
             }
            },
            "type": "barpolar"
           }
          ],
          "carpet": [
           {
            "aaxis": {
             "endlinecolor": "#2a3f5f",
             "gridcolor": "white",
             "linecolor": "white",
             "minorgridcolor": "white",
             "startlinecolor": "#2a3f5f"
            },
            "baxis": {
             "endlinecolor": "#2a3f5f",
             "gridcolor": "white",
             "linecolor": "white",
             "minorgridcolor": "white",
             "startlinecolor": "#2a3f5f"
            },
            "type": "carpet"
           }
          ],
          "choropleth": [
           {
            "colorbar": {
             "outlinewidth": 0,
             "ticks": ""
            },
            "type": "choropleth"
           }
          ],
          "contour": [
           {
            "colorbar": {
             "outlinewidth": 0,
             "ticks": ""
            },
            "colorscale": [
             [
              0,
              "#0d0887"
             ],
             [
              0.1111111111111111,
              "#46039f"
             ],
             [
              0.2222222222222222,
              "#7201a8"
             ],
             [
              0.3333333333333333,
              "#9c179e"
             ],
             [
              0.4444444444444444,
              "#bd3786"
             ],
             [
              0.5555555555555556,
              "#d8576b"
             ],
             [
              0.6666666666666666,
              "#ed7953"
             ],
             [
              0.7777777777777778,
              "#fb9f3a"
             ],
             [
              0.8888888888888888,
              "#fdca26"
             ],
             [
              1,
              "#f0f921"
             ]
            ],
            "type": "contour"
           }
          ],
          "contourcarpet": [
           {
            "colorbar": {
             "outlinewidth": 0,
             "ticks": ""
            },
            "type": "contourcarpet"
           }
          ],
          "heatmap": [
           {
            "colorbar": {
             "outlinewidth": 0,
             "ticks": ""
            },
            "colorscale": [
             [
              0,
              "#0d0887"
             ],
             [
              0.1111111111111111,
              "#46039f"
             ],
             [
              0.2222222222222222,
              "#7201a8"
             ],
             [
              0.3333333333333333,
              "#9c179e"
             ],
             [
              0.4444444444444444,
              "#bd3786"
             ],
             [
              0.5555555555555556,
              "#d8576b"
             ],
             [
              0.6666666666666666,
              "#ed7953"
             ],
             [
              0.7777777777777778,
              "#fb9f3a"
             ],
             [
              0.8888888888888888,
              "#fdca26"
             ],
             [
              1,
              "#f0f921"
             ]
            ],
            "type": "heatmap"
           }
          ],
          "histogram": [
           {
            "marker": {
             "pattern": {
              "fillmode": "overlay",
              "size": 10,
              "solidity": 0.2
             }
            },
            "type": "histogram"
           }
          ],
          "histogram2d": [
           {
            "colorbar": {
             "outlinewidth": 0,
             "ticks": ""
            },
            "colorscale": [
             [
              0,
              "#0d0887"
             ],
             [
              0.1111111111111111,
              "#46039f"
             ],
             [
              0.2222222222222222,
              "#7201a8"
             ],
             [
              0.3333333333333333,
              "#9c179e"
             ],
             [
              0.4444444444444444,
              "#bd3786"
             ],
             [
              0.5555555555555556,
              "#d8576b"
             ],
             [
              0.6666666666666666,
              "#ed7953"
             ],
             [
              0.7777777777777778,
              "#fb9f3a"
             ],
             [
              0.8888888888888888,
              "#fdca26"
             ],
             [
              1,
              "#f0f921"
             ]
            ],
            "type": "histogram2d"
           }
          ],
          "histogram2dcontour": [
           {
            "colorbar": {
             "outlinewidth": 0,
             "ticks": ""
            },
            "colorscale": [
             [
              0,
              "#0d0887"
             ],
             [
              0.1111111111111111,
              "#46039f"
             ],
             [
              0.2222222222222222,
              "#7201a8"
             ],
             [
              0.3333333333333333,
              "#9c179e"
             ],
             [
              0.4444444444444444,
              "#bd3786"
             ],
             [
              0.5555555555555556,
              "#d8576b"
             ],
             [
              0.6666666666666666,
              "#ed7953"
             ],
             [
              0.7777777777777778,
              "#fb9f3a"
             ],
             [
              0.8888888888888888,
              "#fdca26"
             ],
             [
              1,
              "#f0f921"
             ]
            ],
            "type": "histogram2dcontour"
           }
          ],
          "mesh3d": [
           {
            "colorbar": {
             "outlinewidth": 0,
             "ticks": ""
            },
            "type": "mesh3d"
           }
          ],
          "parcoords": [
           {
            "line": {
             "colorbar": {
              "outlinewidth": 0,
              "ticks": ""
             }
            },
            "type": "parcoords"
           }
          ],
          "pie": [
           {
            "automargin": true,
            "type": "pie"
           }
          ],
          "scatter": [
           {
            "fillpattern": {
             "fillmode": "overlay",
             "size": 10,
             "solidity": 0.2
            },
            "type": "scatter"
           }
          ],
          "scatter3d": [
           {
            "line": {
             "colorbar": {
              "outlinewidth": 0,
              "ticks": ""
             }
            },
            "marker": {
             "colorbar": {
              "outlinewidth": 0,
              "ticks": ""
             }
            },
            "type": "scatter3d"
           }
          ],
          "scattercarpet": [
           {
            "marker": {
             "colorbar": {
              "outlinewidth": 0,
              "ticks": ""
             }
            },
            "type": "scattercarpet"
           }
          ],
          "scattergeo": [
           {
            "marker": {
             "colorbar": {
              "outlinewidth": 0,
              "ticks": ""
             }
            },
            "type": "scattergeo"
           }
          ],
          "scattergl": [
           {
            "marker": {
             "colorbar": {
              "outlinewidth": 0,
              "ticks": ""
             }
            },
            "type": "scattergl"
           }
          ],
          "scattermap": [
           {
            "marker": {
             "colorbar": {
              "outlinewidth": 0,
              "ticks": ""
             }
            },
            "type": "scattermap"
           }
          ],
          "scattermapbox": [
           {
            "marker": {
             "colorbar": {
              "outlinewidth": 0,
              "ticks": ""
             }
            },
            "type": "scattermapbox"
           }
          ],
          "scatterpolar": [
           {
            "marker": {
             "colorbar": {
              "outlinewidth": 0,
              "ticks": ""
             }
            },
            "type": "scatterpolar"
           }
          ],
          "scatterpolargl": [
           {
            "marker": {
             "colorbar": {
              "outlinewidth": 0,
              "ticks": ""
             }
            },
            "type": "scatterpolargl"
           }
          ],
          "scatterternary": [
           {
            "marker": {
             "colorbar": {
              "outlinewidth": 0,
              "ticks": ""
             }
            },
            "type": "scatterternary"
           }
          ],
          "surface": [
           {
            "colorbar": {
             "outlinewidth": 0,
             "ticks": ""
            },
            "colorscale": [
             [
              0,
              "#0d0887"
             ],
             [
              0.1111111111111111,
              "#46039f"
             ],
             [
              0.2222222222222222,
              "#7201a8"
             ],
             [
              0.3333333333333333,
              "#9c179e"
             ],
             [
              0.4444444444444444,
              "#bd3786"
             ],
             [
              0.5555555555555556,
              "#d8576b"
             ],
             [
              0.6666666666666666,
              "#ed7953"
             ],
             [
              0.7777777777777778,
              "#fb9f3a"
             ],
             [
              0.8888888888888888,
              "#fdca26"
             ],
             [
              1,
              "#f0f921"
             ]
            ],
            "type": "surface"
           }
          ],
          "table": [
           {
            "cells": {
             "fill": {
              "color": "#EBF0F8"
             },
             "line": {
              "color": "white"
             }
            },
            "header": {
             "fill": {
              "color": "#C8D4E3"
             },
             "line": {
              "color": "white"
             }
            },
            "type": "table"
           }
          ]
         },
         "layout": {
          "annotationdefaults": {
           "arrowcolor": "#2a3f5f",
           "arrowhead": 0,
           "arrowwidth": 1
          },
          "autotypenumbers": "strict",
          "coloraxis": {
           "colorbar": {
            "outlinewidth": 0,
            "ticks": ""
           }
          },
          "colorscale": {
           "diverging": [
            [
             0,
             "#8e0152"
            ],
            [
             0.1,
             "#c51b7d"
            ],
            [
             0.2,
             "#de77ae"
            ],
            [
             0.3,
             "#f1b6da"
            ],
            [
             0.4,
             "#fde0ef"
            ],
            [
             0.5,
             "#f7f7f7"
            ],
            [
             0.6,
             "#e6f5d0"
            ],
            [
             0.7,
             "#b8e186"
            ],
            [
             0.8,
             "#7fbc41"
            ],
            [
             0.9,
             "#4d9221"
            ],
            [
             1,
             "#276419"
            ]
           ],
           "sequential": [
            [
             0,
             "#0d0887"
            ],
            [
             0.1111111111111111,
             "#46039f"
            ],
            [
             0.2222222222222222,
             "#7201a8"
            ],
            [
             0.3333333333333333,
             "#9c179e"
            ],
            [
             0.4444444444444444,
             "#bd3786"
            ],
            [
             0.5555555555555556,
             "#d8576b"
            ],
            [
             0.6666666666666666,
             "#ed7953"
            ],
            [
             0.7777777777777778,
             "#fb9f3a"
            ],
            [
             0.8888888888888888,
             "#fdca26"
            ],
            [
             1,
             "#f0f921"
            ]
           ],
           "sequentialminus": [
            [
             0,
             "#0d0887"
            ],
            [
             0.1111111111111111,
             "#46039f"
            ],
            [
             0.2222222222222222,
             "#7201a8"
            ],
            [
             0.3333333333333333,
             "#9c179e"
            ],
            [
             0.4444444444444444,
             "#bd3786"
            ],
            [
             0.5555555555555556,
             "#d8576b"
            ],
            [
             0.6666666666666666,
             "#ed7953"
            ],
            [
             0.7777777777777778,
             "#fb9f3a"
            ],
            [
             0.8888888888888888,
             "#fdca26"
            ],
            [
             1,
             "#f0f921"
            ]
           ]
          },
          "colorway": [
           "#636efa",
           "#EF553B",
           "#00cc96",
           "#ab63fa",
           "#FFA15A",
           "#19d3f3",
           "#FF6692",
           "#B6E880",
           "#FF97FF",
           "#FECB52"
          ],
          "font": {
           "color": "#2a3f5f"
          },
          "geo": {
           "bgcolor": "white",
           "lakecolor": "white",
           "landcolor": "#E5ECF6",
           "showlakes": true,
           "showland": true,
           "subunitcolor": "white"
          },
          "hoverlabel": {
           "align": "left"
          },
          "hovermode": "closest",
          "mapbox": {
           "style": "light"
          },
          "paper_bgcolor": "white",
          "plot_bgcolor": "#E5ECF6",
          "polar": {
           "angularaxis": {
            "gridcolor": "white",
            "linecolor": "white",
            "ticks": ""
           },
           "bgcolor": "#E5ECF6",
           "radialaxis": {
            "gridcolor": "white",
            "linecolor": "white",
            "ticks": ""
           }
          },
          "scene": {
           "xaxis": {
            "backgroundcolor": "#E5ECF6",
            "gridcolor": "white",
            "gridwidth": 2,
            "linecolor": "white",
            "showbackground": true,
            "ticks": "",
            "zerolinecolor": "white"
           },
           "yaxis": {
            "backgroundcolor": "#E5ECF6",
            "gridcolor": "white",
            "gridwidth": 2,
            "linecolor": "white",
            "showbackground": true,
            "ticks": "",
            "zerolinecolor": "white"
           },
           "zaxis": {
            "backgroundcolor": "#E5ECF6",
            "gridcolor": "white",
            "gridwidth": 2,
            "linecolor": "white",
            "showbackground": true,
            "ticks": "",
            "zerolinecolor": "white"
           }
          },
          "shapedefaults": {
           "line": {
            "color": "#2a3f5f"
           }
          },
          "ternary": {
           "aaxis": {
            "gridcolor": "white",
            "linecolor": "white",
            "ticks": ""
           },
           "baxis": {
            "gridcolor": "white",
            "linecolor": "white",
            "ticks": ""
           },
           "bgcolor": "#E5ECF6",
           "caxis": {
            "gridcolor": "white",
            "linecolor": "white",
            "ticks": ""
           }
          },
          "title": {
           "x": 0.05
          },
          "xaxis": {
           "automargin": true,
           "gridcolor": "white",
           "linecolor": "white",
           "ticks": "",
           "title": {
            "standoff": 15
           },
           "zerolinecolor": "white",
           "zerolinewidth": 2
          },
          "yaxis": {
           "automargin": true,
           "gridcolor": "white",
           "linecolor": "white",
           "ticks": "",
           "title": {
            "standoff": 15
           },
           "zerolinecolor": "white",
           "zerolinewidth": 2
          }
         }
        },
        "title": {
         "text": "Relative Frequency Of Countries"
        }
       }
      }
     },
     "metadata": {},
     "output_type": "display_data"
    }
   ],
   "source": [
    "fig = px.pie(df, names='country',  title='Relative Frequency Of Countries')\n",
    "fig.show()"
   ]
  },
  {
   "cell_type": "code",
   "execution_count": 30,
   "id": "9ef40473",
   "metadata": {
    "execution": {
     "iopub.execute_input": "2025-03-06T01:07:22.435008Z",
     "iopub.status.busy": "2025-03-06T01:07:22.434665Z",
     "iopub.status.idle": "2025-03-06T01:07:22.521651Z",
     "shell.execute_reply": "2025-03-06T01:07:22.520254Z"
    },
    "papermill": {
     "duration": 0.099393,
     "end_time": "2025-03-06T01:07:22.523777",
     "exception": false,
     "start_time": "2025-03-06T01:07:22.424384",
     "status": "completed"
    },
    "tags": []
   },
   "outputs": [
    {
     "name": "stderr",
     "output_type": "stream",
     "text": [
      "C:\\Users\\Ali\\AppData\\Local\\Temp\\ipykernel_9100\\622269024.py:4: FutureWarning:\n",
      "\n",
      "'m' is deprecated and will be removed in a future version, please use 'ME' instead.\n",
      "\n"
     ]
    },
    {
     "data": {
      "application/vnd.plotly.v1+json": {
       "config": {
        "plotlyServerURL": "https://plot.ly"
       },
       "data": [
        {
         "hovertemplate": "variable=country<br>orderdate=%{x}<br>value=%{y}<extra></extra>",
         "legendgroup": "country",
         "line": {
          "color": "#636efa",
          "dash": "solid"
         },
         "marker": {
          "symbol": "circle"
         },
         "mode": "lines",
         "name": "country",
         "orientation": "v",
         "showlegend": true,
         "type": "scatter",
         "x": [
          "2012-07-31T00:00:00.000000000",
          "2012-08-31T00:00:00.000000000",
          "2012-09-30T00:00:00.000000000",
          "2012-10-31T00:00:00.000000000",
          "2012-11-30T00:00:00.000000000",
          "2012-12-31T00:00:00.000000000",
          "2013-01-31T00:00:00.000000000",
          "2013-02-28T00:00:00.000000000",
          "2013-03-31T00:00:00.000000000",
          "2013-04-30T00:00:00.000000000",
          "2013-05-31T00:00:00.000000000",
          "2013-06-30T00:00:00.000000000",
          "2013-07-31T00:00:00.000000000",
          "2013-08-31T00:00:00.000000000",
          "2013-09-30T00:00:00.000000000",
          "2013-10-31T00:00:00.000000000",
          "2013-11-30T00:00:00.000000000",
          "2013-12-31T00:00:00.000000000",
          "2014-01-31T00:00:00.000000000",
          "2014-02-28T00:00:00.000000000",
          "2014-03-31T00:00:00.000000000",
          "2014-04-30T00:00:00.000000000",
          "2014-05-31T00:00:00.000000000"
         ],
         "xaxis": "x",
         "y": {
          "bdata": "CwsLDQsPDw4MDQ8ODREODg8PDhESFQk=",
          "dtype": "i1"
         },
         "yaxis": "y"
        }
       ],
       "layout": {
        "legend": {
         "title": {
          "text": "variable"
         },
         "tracegroupgap": 0
        },
        "template": {
         "data": {
          "bar": [
           {
            "error_x": {
             "color": "#2a3f5f"
            },
            "error_y": {
             "color": "#2a3f5f"
            },
            "marker": {
             "line": {
              "color": "#E5ECF6",
              "width": 0.5
             },
             "pattern": {
              "fillmode": "overlay",
              "size": 10,
              "solidity": 0.2
             }
            },
            "type": "bar"
           }
          ],
          "barpolar": [
           {
            "marker": {
             "line": {
              "color": "#E5ECF6",
              "width": 0.5
             },
             "pattern": {
              "fillmode": "overlay",
              "size": 10,
              "solidity": 0.2
             }
            },
            "type": "barpolar"
           }
          ],
          "carpet": [
           {
            "aaxis": {
             "endlinecolor": "#2a3f5f",
             "gridcolor": "white",
             "linecolor": "white",
             "minorgridcolor": "white",
             "startlinecolor": "#2a3f5f"
            },
            "baxis": {
             "endlinecolor": "#2a3f5f",
             "gridcolor": "white",
             "linecolor": "white",
             "minorgridcolor": "white",
             "startlinecolor": "#2a3f5f"
            },
            "type": "carpet"
           }
          ],
          "choropleth": [
           {
            "colorbar": {
             "outlinewidth": 0,
             "ticks": ""
            },
            "type": "choropleth"
           }
          ],
          "contour": [
           {
            "colorbar": {
             "outlinewidth": 0,
             "ticks": ""
            },
            "colorscale": [
             [
              0,
              "#0d0887"
             ],
             [
              0.1111111111111111,
              "#46039f"
             ],
             [
              0.2222222222222222,
              "#7201a8"
             ],
             [
              0.3333333333333333,
              "#9c179e"
             ],
             [
              0.4444444444444444,
              "#bd3786"
             ],
             [
              0.5555555555555556,
              "#d8576b"
             ],
             [
              0.6666666666666666,
              "#ed7953"
             ],
             [
              0.7777777777777778,
              "#fb9f3a"
             ],
             [
              0.8888888888888888,
              "#fdca26"
             ],
             [
              1,
              "#f0f921"
             ]
            ],
            "type": "contour"
           }
          ],
          "contourcarpet": [
           {
            "colorbar": {
             "outlinewidth": 0,
             "ticks": ""
            },
            "type": "contourcarpet"
           }
          ],
          "heatmap": [
           {
            "colorbar": {
             "outlinewidth": 0,
             "ticks": ""
            },
            "colorscale": [
             [
              0,
              "#0d0887"
             ],
             [
              0.1111111111111111,
              "#46039f"
             ],
             [
              0.2222222222222222,
              "#7201a8"
             ],
             [
              0.3333333333333333,
              "#9c179e"
             ],
             [
              0.4444444444444444,
              "#bd3786"
             ],
             [
              0.5555555555555556,
              "#d8576b"
             ],
             [
              0.6666666666666666,
              "#ed7953"
             ],
             [
              0.7777777777777778,
              "#fb9f3a"
             ],
             [
              0.8888888888888888,
              "#fdca26"
             ],
             [
              1,
              "#f0f921"
             ]
            ],
            "type": "heatmap"
           }
          ],
          "histogram": [
           {
            "marker": {
             "pattern": {
              "fillmode": "overlay",
              "size": 10,
              "solidity": 0.2
             }
            },
            "type": "histogram"
           }
          ],
          "histogram2d": [
           {
            "colorbar": {
             "outlinewidth": 0,
             "ticks": ""
            },
            "colorscale": [
             [
              0,
              "#0d0887"
             ],
             [
              0.1111111111111111,
              "#46039f"
             ],
             [
              0.2222222222222222,
              "#7201a8"
             ],
             [
              0.3333333333333333,
              "#9c179e"
             ],
             [
              0.4444444444444444,
              "#bd3786"
             ],
             [
              0.5555555555555556,
              "#d8576b"
             ],
             [
              0.6666666666666666,
              "#ed7953"
             ],
             [
              0.7777777777777778,
              "#fb9f3a"
             ],
             [
              0.8888888888888888,
              "#fdca26"
             ],
             [
              1,
              "#f0f921"
             ]
            ],
            "type": "histogram2d"
           }
          ],
          "histogram2dcontour": [
           {
            "colorbar": {
             "outlinewidth": 0,
             "ticks": ""
            },
            "colorscale": [
             [
              0,
              "#0d0887"
             ],
             [
              0.1111111111111111,
              "#46039f"
             ],
             [
              0.2222222222222222,
              "#7201a8"
             ],
             [
              0.3333333333333333,
              "#9c179e"
             ],
             [
              0.4444444444444444,
              "#bd3786"
             ],
             [
              0.5555555555555556,
              "#d8576b"
             ],
             [
              0.6666666666666666,
              "#ed7953"
             ],
             [
              0.7777777777777778,
              "#fb9f3a"
             ],
             [
              0.8888888888888888,
              "#fdca26"
             ],
             [
              1,
              "#f0f921"
             ]
            ],
            "type": "histogram2dcontour"
           }
          ],
          "mesh3d": [
           {
            "colorbar": {
             "outlinewidth": 0,
             "ticks": ""
            },
            "type": "mesh3d"
           }
          ],
          "parcoords": [
           {
            "line": {
             "colorbar": {
              "outlinewidth": 0,
              "ticks": ""
             }
            },
            "type": "parcoords"
           }
          ],
          "pie": [
           {
            "automargin": true,
            "type": "pie"
           }
          ],
          "scatter": [
           {
            "fillpattern": {
             "fillmode": "overlay",
             "size": 10,
             "solidity": 0.2
            },
            "type": "scatter"
           }
          ],
          "scatter3d": [
           {
            "line": {
             "colorbar": {
              "outlinewidth": 0,
              "ticks": ""
             }
            },
            "marker": {
             "colorbar": {
              "outlinewidth": 0,
              "ticks": ""
             }
            },
            "type": "scatter3d"
           }
          ],
          "scattercarpet": [
           {
            "marker": {
             "colorbar": {
              "outlinewidth": 0,
              "ticks": ""
             }
            },
            "type": "scattercarpet"
           }
          ],
          "scattergeo": [
           {
            "marker": {
             "colorbar": {
              "outlinewidth": 0,
              "ticks": ""
             }
            },
            "type": "scattergeo"
           }
          ],
          "scattergl": [
           {
            "marker": {
             "colorbar": {
              "outlinewidth": 0,
              "ticks": ""
             }
            },
            "type": "scattergl"
           }
          ],
          "scattermap": [
           {
            "marker": {
             "colorbar": {
              "outlinewidth": 0,
              "ticks": ""
             }
            },
            "type": "scattermap"
           }
          ],
          "scattermapbox": [
           {
            "marker": {
             "colorbar": {
              "outlinewidth": 0,
              "ticks": ""
             }
            },
            "type": "scattermapbox"
           }
          ],
          "scatterpolar": [
           {
            "marker": {
             "colorbar": {
              "outlinewidth": 0,
              "ticks": ""
             }
            },
            "type": "scatterpolar"
           }
          ],
          "scatterpolargl": [
           {
            "marker": {
             "colorbar": {
              "outlinewidth": 0,
              "ticks": ""
             }
            },
            "type": "scatterpolargl"
           }
          ],
          "scatterternary": [
           {
            "marker": {
             "colorbar": {
              "outlinewidth": 0,
              "ticks": ""
             }
            },
            "type": "scatterternary"
           }
          ],
          "surface": [
           {
            "colorbar": {
             "outlinewidth": 0,
             "ticks": ""
            },
            "colorscale": [
             [
              0,
              "#0d0887"
             ],
             [
              0.1111111111111111,
              "#46039f"
             ],
             [
              0.2222222222222222,
              "#7201a8"
             ],
             [
              0.3333333333333333,
              "#9c179e"
             ],
             [
              0.4444444444444444,
              "#bd3786"
             ],
             [
              0.5555555555555556,
              "#d8576b"
             ],
             [
              0.6666666666666666,
              "#ed7953"
             ],
             [
              0.7777777777777778,
              "#fb9f3a"
             ],
             [
              0.8888888888888888,
              "#fdca26"
             ],
             [
              1,
              "#f0f921"
             ]
            ],
            "type": "surface"
           }
          ],
          "table": [
           {
            "cells": {
             "fill": {
              "color": "#EBF0F8"
             },
             "line": {
              "color": "white"
             }
            },
            "header": {
             "fill": {
              "color": "#C8D4E3"
             },
             "line": {
              "color": "white"
             }
            },
            "type": "table"
           }
          ]
         },
         "layout": {
          "annotationdefaults": {
           "arrowcolor": "#2a3f5f",
           "arrowhead": 0,
           "arrowwidth": 1
          },
          "autotypenumbers": "strict",
          "coloraxis": {
           "colorbar": {
            "outlinewidth": 0,
            "ticks": ""
           }
          },
          "colorscale": {
           "diverging": [
            [
             0,
             "#8e0152"
            ],
            [
             0.1,
             "#c51b7d"
            ],
            [
             0.2,
             "#de77ae"
            ],
            [
             0.3,
             "#f1b6da"
            ],
            [
             0.4,
             "#fde0ef"
            ],
            [
             0.5,
             "#f7f7f7"
            ],
            [
             0.6,
             "#e6f5d0"
            ],
            [
             0.7,
             "#b8e186"
            ],
            [
             0.8,
             "#7fbc41"
            ],
            [
             0.9,
             "#4d9221"
            ],
            [
             1,
             "#276419"
            ]
           ],
           "sequential": [
            [
             0,
             "#0d0887"
            ],
            [
             0.1111111111111111,
             "#46039f"
            ],
            [
             0.2222222222222222,
             "#7201a8"
            ],
            [
             0.3333333333333333,
             "#9c179e"
            ],
            [
             0.4444444444444444,
             "#bd3786"
            ],
            [
             0.5555555555555556,
             "#d8576b"
            ],
            [
             0.6666666666666666,
             "#ed7953"
            ],
            [
             0.7777777777777778,
             "#fb9f3a"
            ],
            [
             0.8888888888888888,
             "#fdca26"
            ],
            [
             1,
             "#f0f921"
            ]
           ],
           "sequentialminus": [
            [
             0,
             "#0d0887"
            ],
            [
             0.1111111111111111,
             "#46039f"
            ],
            [
             0.2222222222222222,
             "#7201a8"
            ],
            [
             0.3333333333333333,
             "#9c179e"
            ],
            [
             0.4444444444444444,
             "#bd3786"
            ],
            [
             0.5555555555555556,
             "#d8576b"
            ],
            [
             0.6666666666666666,
             "#ed7953"
            ],
            [
             0.7777777777777778,
             "#fb9f3a"
            ],
            [
             0.8888888888888888,
             "#fdca26"
            ],
            [
             1,
             "#f0f921"
            ]
           ]
          },
          "colorway": [
           "#636efa",
           "#EF553B",
           "#00cc96",
           "#ab63fa",
           "#FFA15A",
           "#19d3f3",
           "#FF6692",
           "#B6E880",
           "#FF97FF",
           "#FECB52"
          ],
          "font": {
           "color": "#2a3f5f"
          },
          "geo": {
           "bgcolor": "white",
           "lakecolor": "white",
           "landcolor": "#E5ECF6",
           "showlakes": true,
           "showland": true,
           "subunitcolor": "white"
          },
          "hoverlabel": {
           "align": "left"
          },
          "hovermode": "closest",
          "mapbox": {
           "style": "light"
          },
          "paper_bgcolor": "white",
          "plot_bgcolor": "#E5ECF6",
          "polar": {
           "angularaxis": {
            "gridcolor": "white",
            "linecolor": "white",
            "ticks": ""
           },
           "bgcolor": "#E5ECF6",
           "radialaxis": {
            "gridcolor": "white",
            "linecolor": "white",
            "ticks": ""
           }
          },
          "scene": {
           "xaxis": {
            "backgroundcolor": "#E5ECF6",
            "gridcolor": "white",
            "gridwidth": 2,
            "linecolor": "white",
            "showbackground": true,
            "ticks": "",
            "zerolinecolor": "white"
           },
           "yaxis": {
            "backgroundcolor": "#E5ECF6",
            "gridcolor": "white",
            "gridwidth": 2,
            "linecolor": "white",
            "showbackground": true,
            "ticks": "",
            "zerolinecolor": "white"
           },
           "zaxis": {
            "backgroundcolor": "#E5ECF6",
            "gridcolor": "white",
            "gridwidth": 2,
            "linecolor": "white",
            "showbackground": true,
            "ticks": "",
            "zerolinecolor": "white"
           }
          },
          "shapedefaults": {
           "line": {
            "color": "#2a3f5f"
           }
          },
          "ternary": {
           "aaxis": {
            "gridcolor": "white",
            "linecolor": "white",
            "ticks": ""
           },
           "baxis": {
            "gridcolor": "white",
            "linecolor": "white",
            "ticks": ""
           },
           "bgcolor": "#E5ECF6",
           "caxis": {
            "gridcolor": "white",
            "linecolor": "white",
            "ticks": ""
           }
          },
          "title": {
           "x": 0.05
          },
          "xaxis": {
           "automargin": true,
           "gridcolor": "white",
           "linecolor": "white",
           "ticks": "",
           "title": {
            "standoff": 15
           },
           "zerolinecolor": "white",
           "zerolinewidth": 2
          },
          "yaxis": {
           "automargin": true,
           "gridcolor": "white",
           "linecolor": "white",
           "ticks": "",
           "title": {
            "standoff": 15
           },
           "zerolinecolor": "white",
           "zerolinewidth": 2
          }
         }
        },
        "title": {
         "text": "The Number of Countries That Placed Orders Each Month"
        },
        "xaxis": {
         "anchor": "y",
         "domain": [
          0,
          1
         ],
         "title": {
          "text": "orderdate"
         }
        },
        "yaxis": {
         "anchor": "x",
         "domain": [
          0,
          1
         ],
         "title": {
          "text": "value"
         }
        }
       }
      }
     },
     "metadata": {},
     "output_type": "display_data"
    }
   ],
   "source": [
    "# Determine the number of countries that placed orders each month.\n",
    "count = df[['orderdate','country']]\n",
    "count = count.set_index(['orderdate'])\n",
    "count = count.resample(rule='1m').nunique()\n",
    "\n",
    "fig = px.line(count,\n",
    "              y=['country'],\n",
    "              title='The Number of Countries That Placed Orders Each Month')\n",
    "fig.show()"
   ]
  },
  {
   "cell_type": "code",
   "execution_count": 31,
   "id": "016ec7b3",
   "metadata": {
    "execution": {
     "iopub.execute_input": "2025-03-06T01:07:22.545108Z",
     "iopub.status.busy": "2025-03-06T01:07:22.544727Z",
     "iopub.status.idle": "2025-03-06T01:07:22.560525Z",
     "shell.execute_reply": "2025-03-06T01:07:22.559607Z"
    },
    "papermill": {
     "duration": 0.027977,
     "end_time": "2025-03-06T01:07:22.562164",
     "exception": false,
     "start_time": "2025-03-06T01:07:22.534187",
     "status": "completed"
    },
    "tags": []
   },
   "outputs": [
    {
     "name": "stderr",
     "output_type": "stream",
     "text": [
      "C:\\Users\\Ali\\AppData\\Local\\Temp\\ipykernel_9100\\2989369426.py:6: FutureWarning:\n",
      "\n",
      "'M' is deprecated and will be removed in a future version, please use 'ME' instead.\n",
      "\n"
     ]
    },
    {
     "data": {
      "text/html": [
       "<div>\n",
       "<style scoped>\n",
       "    .dataframe tbody tr th:only-of-type {\n",
       "        vertical-align: middle;\n",
       "    }\n",
       "\n",
       "    .dataframe tbody tr th {\n",
       "        vertical-align: top;\n",
       "    }\n",
       "\n",
       "    .dataframe thead th {\n",
       "        text-align: right;\n",
       "    }\n",
       "</style>\n",
       "<table border=\"1\" class=\"dataframe\">\n",
       "  <thead>\n",
       "    <tr style=\"text-align: right;\">\n",
       "      <th></th>\n",
       "      <th>country</th>\n",
       "      <th>totalamount</th>\n",
       "    </tr>\n",
       "    <tr>\n",
       "      <th>orderdate</th>\n",
       "      <th></th>\n",
       "      <th></th>\n",
       "    </tr>\n",
       "  </thead>\n",
       "  <tbody>\n",
       "    <tr>\n",
       "      <th>2012-07-31</th>\n",
       "      <td>11</td>\n",
       "      <td>89,940.50</td>\n",
       "    </tr>\n",
       "    <tr>\n",
       "      <th>2012-08-31</th>\n",
       "      <td>11</td>\n",
       "      <td>84,055.10</td>\n",
       "    </tr>\n",
       "    <tr>\n",
       "      <th>2012-09-30</th>\n",
       "      <td>11</td>\n",
       "      <td>82,387.90</td>\n",
       "    </tr>\n",
       "    <tr>\n",
       "      <th>2012-10-31</th>\n",
       "      <td>13</td>\n",
       "      <td>149,752.20</td>\n",
       "    </tr>\n",
       "    <tr>\n",
       "      <th>2012-11-30</th>\n",
       "      <td>11</td>\n",
       "      <td>151,076.20</td>\n",
       "    </tr>\n",
       "  </tbody>\n",
       "</table>\n",
       "</div>"
      ],
      "text/plain": [
       "            country  totalamount\n",
       "orderdate                       \n",
       "2012-07-31       11    89,940.50\n",
       "2012-08-31       11    84,055.10\n",
       "2012-09-30       11    82,387.90\n",
       "2012-10-31       13   149,752.20\n",
       "2012-11-30       11   151,076.20"
      ]
     },
     "execution_count": 31,
     "metadata": {},
     "output_type": "execute_result"
    }
   ],
   "source": [
    "# Calculate the number of countries that made purchases and the total sales value for each month.\n",
    "\n",
    "country = df[['orderdate', 'country', 'totalamount',]]\n",
    "country = country.set_index(['orderdate'])\n",
    "\n",
    "country = country.resample('1M').agg({'country': 'nunique', 'totalamount': 'sum'})\n",
    "country.head()"
   ]
  },
  {
   "cell_type": "code",
   "execution_count": 32,
   "id": "326dccbc",
   "metadata": {
    "execution": {
     "iopub.execute_input": "2025-03-06T01:07:22.584473Z",
     "iopub.status.busy": "2025-03-06T01:07:22.584174Z",
     "iopub.status.idle": "2025-03-06T01:07:22.640869Z",
     "shell.execute_reply": "2025-03-06T01:07:22.639881Z"
    },
    "papermill": {
     "duration": 0.069482,
     "end_time": "2025-03-06T01:07:22.642371",
     "exception": false,
     "start_time": "2025-03-06T01:07:22.572889",
     "status": "completed"
    },
    "tags": []
   },
   "outputs": [
    {
     "data": {
      "application/vnd.plotly.v1+json": {
       "config": {
        "plotlyServerURL": "https://plot.ly"
       },
       "data": [
        {
         "hovertemplate": "orderdate=%{x}<br>totalamount=%{y}<br>country=%{marker.color}<extra></extra>",
         "legendgroup": "",
         "marker": {
          "color": {
           "bdata": "CwsLDQsPDw4MDQ8ODREODg8PDhESFQk=",
           "dtype": "i1"
          },
          "coloraxis": "coloraxis",
          "pattern": {
           "shape": ""
          }
         },
         "name": "",
         "orientation": "v",
         "showlegend": false,
         "textposition": "auto",
         "texttemplate": "%{y}",
         "type": "bar",
         "x": [
          "2012-07-31T00:00:00.000000000",
          "2012-08-31T00:00:00.000000000",
          "2012-09-30T00:00:00.000000000",
          "2012-10-31T00:00:00.000000000",
          "2012-11-30T00:00:00.000000000",
          "2012-12-31T00:00:00.000000000",
          "2013-01-31T00:00:00.000000000",
          "2013-02-28T00:00:00.000000000",
          "2013-03-31T00:00:00.000000000",
          "2013-04-30T00:00:00.000000000",
          "2013-05-31T00:00:00.000000000",
          "2013-06-30T00:00:00.000000000",
          "2013-07-31T00:00:00.000000000",
          "2013-08-31T00:00:00.000000000",
          "2013-09-30T00:00:00.000000000",
          "2013-10-31T00:00:00.000000000",
          "2013-11-30T00:00:00.000000000",
          "2013-12-31T00:00:00.000000000",
          "2014-01-31T00:00:00.000000000",
          "2014-02-28T00:00:00.000000000",
          "2014-03-31T00:00:00.000000000",
          "2014-04-30T00:00:00.000000000",
          "2014-05-31T00:00:00.000000000"
         ],
         "xaxis": "x",
         "y": {
          "bdata": "AAAAAEj19UCamZmZcYX0QGZmZmY+HfRAmZmZmcFHAkGamZmZIXECQQAAAAA4nwRBAAAAAARHCkGamZmZlV4AQc3MzMwskv9AcT0K16fiB0HNzMzMuAsIQWZmZmYKU/xA61G4Hs33BUH2KFyPrC4CQexRuB7pdAZBexSuRxXgDUG4HoXruUkCQdejcD20LAtBXI/C9U4zFUHrUbgenS0QQSlcj8LnvBJBPQrXo/4zGUGF61G4xmX5QA==",
          "dtype": "f8"
         },
         "yaxis": "y"
        }
       ],
       "layout": {
        "barmode": "relative",
        "coloraxis": {
         "colorbar": {
          "title": {
           "text": "country"
          }
         },
         "colorscale": [
          [
           0,
           "#0d0887"
          ],
          [
           0.1111111111111111,
           "#46039f"
          ],
          [
           0.2222222222222222,
           "#7201a8"
          ],
          [
           0.3333333333333333,
           "#9c179e"
          ],
          [
           0.4444444444444444,
           "#bd3786"
          ],
          [
           0.5555555555555556,
           "#d8576b"
          ],
          [
           0.6666666666666666,
           "#ed7953"
          ],
          [
           0.7777777777777778,
           "#fb9f3a"
          ],
          [
           0.8888888888888888,
           "#fdca26"
          ],
          [
           1,
           "#f0f921"
          ]
         ]
        },
        "legend": {
         "tracegroupgap": 0
        },
        "template": {
         "data": {
          "bar": [
           {
            "error_x": {
             "color": "#2a3f5f"
            },
            "error_y": {
             "color": "#2a3f5f"
            },
            "marker": {
             "line": {
              "color": "#E5ECF6",
              "width": 0.5
             },
             "pattern": {
              "fillmode": "overlay",
              "size": 10,
              "solidity": 0.2
             }
            },
            "type": "bar"
           }
          ],
          "barpolar": [
           {
            "marker": {
             "line": {
              "color": "#E5ECF6",
              "width": 0.5
             },
             "pattern": {
              "fillmode": "overlay",
              "size": 10,
              "solidity": 0.2
             }
            },
            "type": "barpolar"
           }
          ],
          "carpet": [
           {
            "aaxis": {
             "endlinecolor": "#2a3f5f",
             "gridcolor": "white",
             "linecolor": "white",
             "minorgridcolor": "white",
             "startlinecolor": "#2a3f5f"
            },
            "baxis": {
             "endlinecolor": "#2a3f5f",
             "gridcolor": "white",
             "linecolor": "white",
             "minorgridcolor": "white",
             "startlinecolor": "#2a3f5f"
            },
            "type": "carpet"
           }
          ],
          "choropleth": [
           {
            "colorbar": {
             "outlinewidth": 0,
             "ticks": ""
            },
            "type": "choropleth"
           }
          ],
          "contour": [
           {
            "colorbar": {
             "outlinewidth": 0,
             "ticks": ""
            },
            "colorscale": [
             [
              0,
              "#0d0887"
             ],
             [
              0.1111111111111111,
              "#46039f"
             ],
             [
              0.2222222222222222,
              "#7201a8"
             ],
             [
              0.3333333333333333,
              "#9c179e"
             ],
             [
              0.4444444444444444,
              "#bd3786"
             ],
             [
              0.5555555555555556,
              "#d8576b"
             ],
             [
              0.6666666666666666,
              "#ed7953"
             ],
             [
              0.7777777777777778,
              "#fb9f3a"
             ],
             [
              0.8888888888888888,
              "#fdca26"
             ],
             [
              1,
              "#f0f921"
             ]
            ],
            "type": "contour"
           }
          ],
          "contourcarpet": [
           {
            "colorbar": {
             "outlinewidth": 0,
             "ticks": ""
            },
            "type": "contourcarpet"
           }
          ],
          "heatmap": [
           {
            "colorbar": {
             "outlinewidth": 0,
             "ticks": ""
            },
            "colorscale": [
             [
              0,
              "#0d0887"
             ],
             [
              0.1111111111111111,
              "#46039f"
             ],
             [
              0.2222222222222222,
              "#7201a8"
             ],
             [
              0.3333333333333333,
              "#9c179e"
             ],
             [
              0.4444444444444444,
              "#bd3786"
             ],
             [
              0.5555555555555556,
              "#d8576b"
             ],
             [
              0.6666666666666666,
              "#ed7953"
             ],
             [
              0.7777777777777778,
              "#fb9f3a"
             ],
             [
              0.8888888888888888,
              "#fdca26"
             ],
             [
              1,
              "#f0f921"
             ]
            ],
            "type": "heatmap"
           }
          ],
          "histogram": [
           {
            "marker": {
             "pattern": {
              "fillmode": "overlay",
              "size": 10,
              "solidity": 0.2
             }
            },
            "type": "histogram"
           }
          ],
          "histogram2d": [
           {
            "colorbar": {
             "outlinewidth": 0,
             "ticks": ""
            },
            "colorscale": [
             [
              0,
              "#0d0887"
             ],
             [
              0.1111111111111111,
              "#46039f"
             ],
             [
              0.2222222222222222,
              "#7201a8"
             ],
             [
              0.3333333333333333,
              "#9c179e"
             ],
             [
              0.4444444444444444,
              "#bd3786"
             ],
             [
              0.5555555555555556,
              "#d8576b"
             ],
             [
              0.6666666666666666,
              "#ed7953"
             ],
             [
              0.7777777777777778,
              "#fb9f3a"
             ],
             [
              0.8888888888888888,
              "#fdca26"
             ],
             [
              1,
              "#f0f921"
             ]
            ],
            "type": "histogram2d"
           }
          ],
          "histogram2dcontour": [
           {
            "colorbar": {
             "outlinewidth": 0,
             "ticks": ""
            },
            "colorscale": [
             [
              0,
              "#0d0887"
             ],
             [
              0.1111111111111111,
              "#46039f"
             ],
             [
              0.2222222222222222,
              "#7201a8"
             ],
             [
              0.3333333333333333,
              "#9c179e"
             ],
             [
              0.4444444444444444,
              "#bd3786"
             ],
             [
              0.5555555555555556,
              "#d8576b"
             ],
             [
              0.6666666666666666,
              "#ed7953"
             ],
             [
              0.7777777777777778,
              "#fb9f3a"
             ],
             [
              0.8888888888888888,
              "#fdca26"
             ],
             [
              1,
              "#f0f921"
             ]
            ],
            "type": "histogram2dcontour"
           }
          ],
          "mesh3d": [
           {
            "colorbar": {
             "outlinewidth": 0,
             "ticks": ""
            },
            "type": "mesh3d"
           }
          ],
          "parcoords": [
           {
            "line": {
             "colorbar": {
              "outlinewidth": 0,
              "ticks": ""
             }
            },
            "type": "parcoords"
           }
          ],
          "pie": [
           {
            "automargin": true,
            "type": "pie"
           }
          ],
          "scatter": [
           {
            "fillpattern": {
             "fillmode": "overlay",
             "size": 10,
             "solidity": 0.2
            },
            "type": "scatter"
           }
          ],
          "scatter3d": [
           {
            "line": {
             "colorbar": {
              "outlinewidth": 0,
              "ticks": ""
             }
            },
            "marker": {
             "colorbar": {
              "outlinewidth": 0,
              "ticks": ""
             }
            },
            "type": "scatter3d"
           }
          ],
          "scattercarpet": [
           {
            "marker": {
             "colorbar": {
              "outlinewidth": 0,
              "ticks": ""
             }
            },
            "type": "scattercarpet"
           }
          ],
          "scattergeo": [
           {
            "marker": {
             "colorbar": {
              "outlinewidth": 0,
              "ticks": ""
             }
            },
            "type": "scattergeo"
           }
          ],
          "scattergl": [
           {
            "marker": {
             "colorbar": {
              "outlinewidth": 0,
              "ticks": ""
             }
            },
            "type": "scattergl"
           }
          ],
          "scattermap": [
           {
            "marker": {
             "colorbar": {
              "outlinewidth": 0,
              "ticks": ""
             }
            },
            "type": "scattermap"
           }
          ],
          "scattermapbox": [
           {
            "marker": {
             "colorbar": {
              "outlinewidth": 0,
              "ticks": ""
             }
            },
            "type": "scattermapbox"
           }
          ],
          "scatterpolar": [
           {
            "marker": {
             "colorbar": {
              "outlinewidth": 0,
              "ticks": ""
             }
            },
            "type": "scatterpolar"
           }
          ],
          "scatterpolargl": [
           {
            "marker": {
             "colorbar": {
              "outlinewidth": 0,
              "ticks": ""
             }
            },
            "type": "scatterpolargl"
           }
          ],
          "scatterternary": [
           {
            "marker": {
             "colorbar": {
              "outlinewidth": 0,
              "ticks": ""
             }
            },
            "type": "scatterternary"
           }
          ],
          "surface": [
           {
            "colorbar": {
             "outlinewidth": 0,
             "ticks": ""
            },
            "colorscale": [
             [
              0,
              "#0d0887"
             ],
             [
              0.1111111111111111,
              "#46039f"
             ],
             [
              0.2222222222222222,
              "#7201a8"
             ],
             [
              0.3333333333333333,
              "#9c179e"
             ],
             [
              0.4444444444444444,
              "#bd3786"
             ],
             [
              0.5555555555555556,
              "#d8576b"
             ],
             [
              0.6666666666666666,
              "#ed7953"
             ],
             [
              0.7777777777777778,
              "#fb9f3a"
             ],
             [
              0.8888888888888888,
              "#fdca26"
             ],
             [
              1,
              "#f0f921"
             ]
            ],
            "type": "surface"
           }
          ],
          "table": [
           {
            "cells": {
             "fill": {
              "color": "#EBF0F8"
             },
             "line": {
              "color": "white"
             }
            },
            "header": {
             "fill": {
              "color": "#C8D4E3"
             },
             "line": {
              "color": "white"
             }
            },
            "type": "table"
           }
          ]
         },
         "layout": {
          "annotationdefaults": {
           "arrowcolor": "#2a3f5f",
           "arrowhead": 0,
           "arrowwidth": 1
          },
          "autotypenumbers": "strict",
          "coloraxis": {
           "colorbar": {
            "outlinewidth": 0,
            "ticks": ""
           }
          },
          "colorscale": {
           "diverging": [
            [
             0,
             "#8e0152"
            ],
            [
             0.1,
             "#c51b7d"
            ],
            [
             0.2,
             "#de77ae"
            ],
            [
             0.3,
             "#f1b6da"
            ],
            [
             0.4,
             "#fde0ef"
            ],
            [
             0.5,
             "#f7f7f7"
            ],
            [
             0.6,
             "#e6f5d0"
            ],
            [
             0.7,
             "#b8e186"
            ],
            [
             0.8,
             "#7fbc41"
            ],
            [
             0.9,
             "#4d9221"
            ],
            [
             1,
             "#276419"
            ]
           ],
           "sequential": [
            [
             0,
             "#0d0887"
            ],
            [
             0.1111111111111111,
             "#46039f"
            ],
            [
             0.2222222222222222,
             "#7201a8"
            ],
            [
             0.3333333333333333,
             "#9c179e"
            ],
            [
             0.4444444444444444,
             "#bd3786"
            ],
            [
             0.5555555555555556,
             "#d8576b"
            ],
            [
             0.6666666666666666,
             "#ed7953"
            ],
            [
             0.7777777777777778,
             "#fb9f3a"
            ],
            [
             0.8888888888888888,
             "#fdca26"
            ],
            [
             1,
             "#f0f921"
            ]
           ],
           "sequentialminus": [
            [
             0,
             "#0d0887"
            ],
            [
             0.1111111111111111,
             "#46039f"
            ],
            [
             0.2222222222222222,
             "#7201a8"
            ],
            [
             0.3333333333333333,
             "#9c179e"
            ],
            [
             0.4444444444444444,
             "#bd3786"
            ],
            [
             0.5555555555555556,
             "#d8576b"
            ],
            [
             0.6666666666666666,
             "#ed7953"
            ],
            [
             0.7777777777777778,
             "#fb9f3a"
            ],
            [
             0.8888888888888888,
             "#fdca26"
            ],
            [
             1,
             "#f0f921"
            ]
           ]
          },
          "colorway": [
           "#636efa",
           "#EF553B",
           "#00cc96",
           "#ab63fa",
           "#FFA15A",
           "#19d3f3",
           "#FF6692",
           "#B6E880",
           "#FF97FF",
           "#FECB52"
          ],
          "font": {
           "color": "#2a3f5f"
          },
          "geo": {
           "bgcolor": "white",
           "lakecolor": "white",
           "landcolor": "#E5ECF6",
           "showlakes": true,
           "showland": true,
           "subunitcolor": "white"
          },
          "hoverlabel": {
           "align": "left"
          },
          "hovermode": "closest",
          "mapbox": {
           "style": "light"
          },
          "paper_bgcolor": "white",
          "plot_bgcolor": "#E5ECF6",
          "polar": {
           "angularaxis": {
            "gridcolor": "white",
            "linecolor": "white",
            "ticks": ""
           },
           "bgcolor": "#E5ECF6",
           "radialaxis": {
            "gridcolor": "white",
            "linecolor": "white",
            "ticks": ""
           }
          },
          "scene": {
           "xaxis": {
            "backgroundcolor": "#E5ECF6",
            "gridcolor": "white",
            "gridwidth": 2,
            "linecolor": "white",
            "showbackground": true,
            "ticks": "",
            "zerolinecolor": "white"
           },
           "yaxis": {
            "backgroundcolor": "#E5ECF6",
            "gridcolor": "white",
            "gridwidth": 2,
            "linecolor": "white",
            "showbackground": true,
            "ticks": "",
            "zerolinecolor": "white"
           },
           "zaxis": {
            "backgroundcolor": "#E5ECF6",
            "gridcolor": "white",
            "gridwidth": 2,
            "linecolor": "white",
            "showbackground": true,
            "ticks": "",
            "zerolinecolor": "white"
           }
          },
          "shapedefaults": {
           "line": {
            "color": "#2a3f5f"
           }
          },
          "ternary": {
           "aaxis": {
            "gridcolor": "white",
            "linecolor": "white",
            "ticks": ""
           },
           "baxis": {
            "gridcolor": "white",
            "linecolor": "white",
            "ticks": ""
           },
           "bgcolor": "#E5ECF6",
           "caxis": {
            "gridcolor": "white",
            "linecolor": "white",
            "ticks": ""
           }
          },
          "title": {
           "x": 0.05
          },
          "xaxis": {
           "automargin": true,
           "gridcolor": "white",
           "linecolor": "white",
           "ticks": "",
           "title": {
            "standoff": 15
           },
           "zerolinecolor": "white",
           "zerolinewidth": 2
          },
          "yaxis": {
           "automargin": true,
           "gridcolor": "white",
           "linecolor": "white",
           "ticks": "",
           "title": {
            "standoff": 15
           },
           "zerolinecolor": "white",
           "zerolinewidth": 2
          }
         }
        },
        "title": {
         "text": "Total Orders Of All Countries Per Month"
        },
        "xaxis": {
         "anchor": "y",
         "domain": [
          0,
          1
         ],
         "title": {
          "text": "orderdate"
         }
        },
        "yaxis": {
         "anchor": "x",
         "domain": [
          0,
          1
         ],
         "title": {
          "text": "totalamount"
         }
        }
       }
      }
     },
     "metadata": {},
     "output_type": "display_data"
    }
   ],
   "source": [
    "fig = px.bar(\n",
    "            country, \n",
    "            x=country.index, \n",
    "            y='totalamount', \n",
    "            color='country', \n",
    "            text_auto=True,\n",
    "            title='Total Orders Of All Countries Per Month',\n",
    "            labels={'index': 'orderdate', 'Total Amount': 'totalamount'})\n",
    "fig.show()"
   ]
  },
  {
   "cell_type": "code",
   "execution_count": 33,
   "id": "efd8b8fd",
   "metadata": {
    "execution": {
     "iopub.execute_input": "2025-03-06T01:07:22.711974Z",
     "iopub.status.busy": "2025-03-06T01:07:22.711626Z",
     "iopub.status.idle": "2025-03-06T01:07:22.723623Z",
     "shell.execute_reply": "2025-03-06T01:07:22.722201Z"
    },
    "papermill": {
     "duration": 0.07237,
     "end_time": "2025-03-06T01:07:22.725360",
     "exception": false,
     "start_time": "2025-03-06T01:07:22.652990",
     "status": "completed"
    },
    "tags": []
   },
   "outputs": [
    {
     "name": "stderr",
     "output_type": "stream",
     "text": [
      "C:\\Users\\Ali\\AppData\\Local\\Temp\\ipykernel_9100\\3224862226.py:3: SettingWithCopyWarning:\n",
      "\n",
      "\n",
      "A value is trying to be set on a copy of a slice from a DataFrame.\n",
      "Try using .loc[row_indexer,col_indexer] = value instead\n",
      "\n",
      "See the caveats in the documentation: https://pandas.pydata.org/pandas-docs/stable/user_guide/indexing.html#returning-a-view-versus-a-copy\n",
      "\n"
     ]
    },
    {
     "data": {
      "text/html": [
       "<div>\n",
       "<style scoped>\n",
       "    .dataframe tbody tr th:only-of-type {\n",
       "        vertical-align: middle;\n",
       "    }\n",
       "\n",
       "    .dataframe tbody tr th {\n",
       "        vertical-align: top;\n",
       "    }\n",
       "\n",
       "    .dataframe thead th {\n",
       "        text-align: right;\n",
       "    }\n",
       "</style>\n",
       "<table border=\"1\" class=\"dataframe\">\n",
       "  <thead>\n",
       "    <tr style=\"text-align: right;\">\n",
       "      <th></th>\n",
       "      <th>orderdate</th>\n",
       "      <th>country</th>\n",
       "      <th>totalamount</th>\n",
       "    </tr>\n",
       "  </thead>\n",
       "  <tbody>\n",
       "    <tr>\n",
       "      <th>0</th>\n",
       "      <td>2012-07</td>\n",
       "      <td>France</td>\n",
       "      <td>440.00</td>\n",
       "    </tr>\n",
       "    <tr>\n",
       "      <th>1</th>\n",
       "      <td>2012-07</td>\n",
       "      <td>France</td>\n",
       "      <td>440.00</td>\n",
       "    </tr>\n",
       "    <tr>\n",
       "      <th>2</th>\n",
       "      <td>2012-07</td>\n",
       "      <td>France</td>\n",
       "      <td>440.00</td>\n",
       "    </tr>\n",
       "    <tr>\n",
       "      <th>3</th>\n",
       "      <td>2012-07</td>\n",
       "      <td>Germany</td>\n",
       "      <td>1,863.40</td>\n",
       "    </tr>\n",
       "    <tr>\n",
       "      <th>4</th>\n",
       "      <td>2012-07</td>\n",
       "      <td>Germany</td>\n",
       "      <td>1,863.40</td>\n",
       "    </tr>\n",
       "  </tbody>\n",
       "</table>\n",
       "</div>"
      ],
      "text/plain": [
       "  orderdate  country  totalamount\n",
       "0   2012-07   France       440.00\n",
       "1   2012-07   France       440.00\n",
       "2   2012-07   France       440.00\n",
       "3   2012-07  Germany     1,863.40\n",
       "4   2012-07  Germany     1,863.40"
      ]
     },
     "execution_count": 33,
     "metadata": {},
     "output_type": "execute_result"
    }
   ],
   "source": [
    "# Evaluate the sales performance of each country month by month to identify trends and performance\n",
    "country_va = df[['orderdate','country','totalamount']]\n",
    "country_va['orderdate'] = df['orderdate'].dt.to_period('M')\n",
    "country_va.head()"
   ]
  },
  {
   "cell_type": "code",
   "execution_count": 34,
   "id": "c60daba8",
   "metadata": {
    "execution": {
     "iopub.execute_input": "2025-03-06T01:07:22.747905Z",
     "iopub.status.busy": "2025-03-06T01:07:22.747613Z",
     "iopub.status.idle": "2025-03-06T01:07:22.760591Z",
     "shell.execute_reply": "2025-03-06T01:07:22.759468Z"
    },
    "papermill": {
     "duration": 0.025806,
     "end_time": "2025-03-06T01:07:22.762144",
     "exception": false,
     "start_time": "2025-03-06T01:07:22.736338",
     "status": "completed"
    },
    "tags": []
   },
   "outputs": [
    {
     "name": "stdout",
     "output_type": "stream",
     "text": [
      "<class 'pandas.core.frame.DataFrame'>\n",
      "Index: 2155 entries, 0 to 2154\n",
      "Data columns (total 3 columns):\n",
      " #   Column       Non-Null Count  Dtype    \n",
      "---  ------       --------------  -----    \n",
      " 0   orderdate    2155 non-null   period[M]\n",
      " 1   country      2155 non-null   object   \n",
      " 2   totalamount  2155 non-null   float64  \n",
      "dtypes: float64(1), object(1), period[M](1)\n",
      "memory usage: 67.3+ KB\n"
     ]
    }
   ],
   "source": [
    "country_va.groupby(['orderdate' , 'country'], as_index=False)['totalamount'].sum().sort_values(by='totalamount', ascending=False)\n",
    "country_va.info()"
   ]
  },
  {
   "cell_type": "code",
   "execution_count": 35,
   "id": "20ad3911",
   "metadata": {
    "execution": {
     "iopub.execute_input": "2025-03-06T01:07:22.785983Z",
     "iopub.status.busy": "2025-03-06T01:07:22.785595Z",
     "iopub.status.idle": "2025-03-06T01:07:22.931174Z",
     "shell.execute_reply": "2025-03-06T01:07:22.930254Z"
    },
    "papermill": {
     "duration": 0.158231,
     "end_time": "2025-03-06T01:07:22.932443",
     "exception": false,
     "start_time": "2025-03-06T01:07:22.774212",
     "status": "completed"
    },
    "tags": []
   },
   "outputs": [
    {
     "name": "stderr",
     "output_type": "stream",
     "text": [
      "C:\\Users\\Ali\\AppData\\Local\\Temp\\ipykernel_9100\\3674541650.py:1: SettingWithCopyWarning:\n",
      "\n",
      "\n",
      "A value is trying to be set on a copy of a slice from a DataFrame.\n",
      "Try using .loc[row_indexer,col_indexer] = value instead\n",
      "\n",
      "See the caveats in the documentation: https://pandas.pydata.org/pandas-docs/stable/user_guide/indexing.html#returning-a-view-versus-a-copy\n",
      "\n"
     ]
    },
    {
     "data": {
      "application/vnd.plotly.v1+json": {
       "config": {
        "plotlyServerURL": "https://plot.ly"
       },
       "data": [
        {
         "hovertemplate": "country=France<br>orderdate=%{x}<br>totalamount=%{marker.size}<extra></extra>",
         "legendgroup": "France",
         "marker": {
          "color": "#636efa",
          "size": {
           "bdata": "AAAAAACAe0AAAAAAAIB7QAAAAAAAgHtAZmZmZmb2hEBmZmZmZvaEQGZmZmZm9oRAAAAAAABgkkAAAAAAAGCSQM3MzMzM1IBAzczMzMzUgEBmZmZmZmZeQAAAAAAAMJZAAAAAAAAwlkDNzMzMzMxwQM3MzMzMzHBAAAAAAAAgVkCamZmZmRliQJqZmZmZGWJAzczMzMwIpEDNzMzMzAikQM3MzMzMCKRAMzMzMzNLhkAzMzMzM0uGQAAAAAAAQHxAAAAAAABAfEAAAAAAAEB8QDMzMzMz3rxAMzMzMzPevEAzMzMzM968QDMzMzMz3rxAMzMzMzPevEBmZmZmZjaYQGZmZmZmNphAZmZmZmY2mEDNzMzMzMxWQJqZmZmZWZlAmpmZmZlZmUCamZmZmVmZQGZmZmZmlqBAZmZmZmaWoEBmZmZmZpagQAAAAAAAAH5AAAAAAAAAfkCamZmZmUWhQJqZmZmZRaFAmpmZmZlFoUCamZmZmUWhQM3MzMzMuJxAzczMzMy4nEDNzMzMzLicQDMzMzMzm4BAMzMzMzObgEAAAAAAAOB5QAAAAAAA4HlAAAAAAADgeUAAAAAAAGCaQAAAAAAAYJpAAAAAAABgmkAzMzMzM3OcQDMzMzMzc5xAMzMzMzNznEAAAAAAAAB/QAAAAAAAoIdAAAAAAACgh0AAAAAAACCFQAAAAAAAIIVAAAAAAAAghUBmZmZmZjaBQGZmZmZmNoFAAAAAAABwp0AAAAAAAHCnQAAAAAAAcKdAAAAAAABwikAAAAAAAHCKQAAAAAAA+KVAAAAAAAD4pUAAAAAAAPilQGZmZmZmHoFAZmZmZmYegUAAAAAAAOCfQAAAAAAA4J9AAAAAAADgn0AAAAAAAIiDQAAAAAAAgHpAAAAAAACAekAAAAAAAIB6QAAAAAAA8HhAAAAAAAAgfEAAAAAAAABPQAAAAACAebNAAAAAAIB5s0AAAAAAgHmzQAAAAACAebNAAAAAAADAn0AAAAAAAMCfQAAAAAAAwJ9AzczMzMzAjEDNzMzMzMCMQM3MzMzMwIxAAAAAAACghEAAAAAAAIBPQAAAAAAAQJRAAAAAAABAlEAAAAAAANx/QAAAAAAA3H9AAAAAAADcf0AAAAAAAIB2QJqZmZmZeWFAmpmZmZl5YUDNzMzMzCxKQAAAAAAAAG5AAAAAAAAAbkAAAAAAAEykQAAAAAAATKRAAAAAAABMpEAAAAAAAEykQAAAAAAAQINAAAAAAABAg0AAAAAAAECDQJqZmZmZkaVAmpmZmZmRpUAAAAAAAM6sQAAAAAAAzqxAAAAAAADOrEAAAAAAAM6sQM3MzMzM4IFAzczMzMzggUDNzMzMzOCBQAAAAAAALKBAAAAAAAAsoEAAAAAAACygQAAAAAAALKBAAAAAAADQhkAAAAAAANCGQAAAAAAAWIpAAAAAAABYikCamZmZmceBQJqZmZmZx4FAmpmZmZnHgUCamZmZmceBQAAAAAAAgGpAAAAAAAAgh0AAAAAAACCHQAAAAAAAIIdAAAAAAABIhEAAAAAAAEiEQAAAAAAASIRAAAAAAAA4gEAAAAAAADiAQM3MzMzMRqBAzczMzMxGoEDNzMzMzEagQAAAAAAAqIxAAAAAAACojEDNzMzMzOCKQM3MzMzM4IpAzczMzMzgikAAAAAAACBbQAAAAAAAQI1AAAAAAABAjUAAAAAAAECNQAAAAAAAAIlAAAAAAAAAiUAAAAAAAACJQAAAAAAAFp5AAAAAAAAWnkAAAAAAABaeQAAAAAAAFp5AAAAAAACAdkAAAAAAAIB2QAAAAAAACaBAAAAAAAAJoEAAAAAAAAmgQArXo3A9FJtAAAAAAABwb0AAAAAAAHBvQM3MzMzMOHJAzczMzMw4ckDNzMzMzDhyQAAAAAAAQGpAAAAAAACARkAAAAAAAISQQAAAAAAAhJBAAAAAAACEkEA=",
           "dtype": "f8"
          },
          "sizemode": "area",
          "sizeref": 43.125,
          "symbol": "circle"
         },
         "mode": "markers",
         "name": "France",
         "showlegend": true,
         "type": "scattergl",
         "x": [
          "2012-07-01T00:00:00.000000000",
          "2012-07-01T00:00:00.000000000",
          "2012-07-01T00:00:00.000000000",
          "2012-07-01T00:00:00.000000000",
          "2012-07-01T00:00:00.000000000",
          "2012-07-01T00:00:00.000000000",
          "2012-07-01T00:00:00.000000000",
          "2012-07-01T00:00:00.000000000",
          "2012-08-01T00:00:00.000000000",
          "2012-08-01T00:00:00.000000000",
          "2012-09-01T00:00:00.000000000",
          "2012-09-01T00:00:00.000000000",
          "2012-09-01T00:00:00.000000000",
          "2012-09-01T00:00:00.000000000",
          "2012-09-01T00:00:00.000000000",
          "2012-10-01T00:00:00.000000000",
          "2012-10-01T00:00:00.000000000",
          "2012-10-01T00:00:00.000000000",
          "2012-10-01T00:00:00.000000000",
          "2012-10-01T00:00:00.000000000",
          "2012-10-01T00:00:00.000000000",
          "2012-11-01T00:00:00.000000000",
          "2012-11-01T00:00:00.000000000",
          "2012-11-01T00:00:00.000000000",
          "2012-11-01T00:00:00.000000000",
          "2012-11-01T00:00:00.000000000",
          "2012-11-01T00:00:00.000000000",
          "2012-11-01T00:00:00.000000000",
          "2012-11-01T00:00:00.000000000",
          "2012-11-01T00:00:00.000000000",
          "2012-11-01T00:00:00.000000000",
          "2012-11-01T00:00:00.000000000",
          "2012-11-01T00:00:00.000000000",
          "2012-11-01T00:00:00.000000000",
          "2012-12-01T00:00:00.000000000",
          "2013-01-01T00:00:00.000000000",
          "2013-01-01T00:00:00.000000000",
          "2013-01-01T00:00:00.000000000",
          "2013-01-01T00:00:00.000000000",
          "2013-01-01T00:00:00.000000000",
          "2013-01-01T00:00:00.000000000",
          "2013-01-01T00:00:00.000000000",
          "2013-01-01T00:00:00.000000000",
          "2013-02-01T00:00:00.000000000",
          "2013-02-01T00:00:00.000000000",
          "2013-02-01T00:00:00.000000000",
          "2013-02-01T00:00:00.000000000",
          "2013-02-01T00:00:00.000000000",
          "2013-02-01T00:00:00.000000000",
          "2013-02-01T00:00:00.000000000",
          "2013-02-01T00:00:00.000000000",
          "2013-02-01T00:00:00.000000000",
          "2013-02-01T00:00:00.000000000",
          "2013-02-01T00:00:00.000000000",
          "2013-02-01T00:00:00.000000000",
          "2013-02-01T00:00:00.000000000",
          "2013-02-01T00:00:00.000000000",
          "2013-02-01T00:00:00.000000000",
          "2013-03-01T00:00:00.000000000",
          "2013-03-01T00:00:00.000000000",
          "2013-03-01T00:00:00.000000000",
          "2013-03-01T00:00:00.000000000",
          "2013-03-01T00:00:00.000000000",
          "2013-03-01T00:00:00.000000000",
          "2013-04-01T00:00:00.000000000",
          "2013-04-01T00:00:00.000000000",
          "2013-04-01T00:00:00.000000000",
          "2013-04-01T00:00:00.000000000",
          "2013-04-01T00:00:00.000000000",
          "2013-04-01T00:00:00.000000000",
          "2013-04-01T00:00:00.000000000",
          "2013-04-01T00:00:00.000000000",
          "2013-05-01T00:00:00.000000000",
          "2013-05-01T00:00:00.000000000",
          "2013-05-01T00:00:00.000000000",
          "2013-05-01T00:00:00.000000000",
          "2013-05-01T00:00:00.000000000",
          "2013-06-01T00:00:00.000000000",
          "2013-06-01T00:00:00.000000000",
          "2013-06-01T00:00:00.000000000",
          "2013-06-01T00:00:00.000000000",
          "2013-06-01T00:00:00.000000000",
          "2013-06-01T00:00:00.000000000",
          "2013-07-01T00:00:00.000000000",
          "2013-07-01T00:00:00.000000000",
          "2013-07-01T00:00:00.000000000",
          "2013-07-01T00:00:00.000000000",
          "2013-08-01T00:00:00.000000000",
          "2013-08-01T00:00:00.000000000",
          "2013-08-01T00:00:00.000000000",
          "2013-08-01T00:00:00.000000000",
          "2013-08-01T00:00:00.000000000",
          "2013-08-01T00:00:00.000000000",
          "2013-09-01T00:00:00.000000000",
          "2013-09-01T00:00:00.000000000",
          "2013-09-01T00:00:00.000000000",
          "2013-09-01T00:00:00.000000000",
          "2013-09-01T00:00:00.000000000",
          "2013-09-01T00:00:00.000000000",
          "2013-09-01T00:00:00.000000000",
          "2013-09-01T00:00:00.000000000",
          "2013-10-01T00:00:00.000000000",
          "2013-10-01T00:00:00.000000000",
          "2013-11-01T00:00:00.000000000",
          "2013-11-01T00:00:00.000000000",
          "2013-11-01T00:00:00.000000000",
          "2013-11-01T00:00:00.000000000",
          "2013-11-01T00:00:00.000000000",
          "2013-11-01T00:00:00.000000000",
          "2013-11-01T00:00:00.000000000",
          "2013-11-01T00:00:00.000000000",
          "2013-11-01T00:00:00.000000000",
          "2013-11-01T00:00:00.000000000",
          "2013-11-01T00:00:00.000000000",
          "2013-11-01T00:00:00.000000000",
          "2013-11-01T00:00:00.000000000",
          "2013-12-01T00:00:00.000000000",
          "2013-12-01T00:00:00.000000000",
          "2013-12-01T00:00:00.000000000",
          "2013-12-01T00:00:00.000000000",
          "2013-12-01T00:00:00.000000000",
          "2013-12-01T00:00:00.000000000",
          "2013-12-01T00:00:00.000000000",
          "2013-12-01T00:00:00.000000000",
          "2013-12-01T00:00:00.000000000",
          "2013-12-01T00:00:00.000000000",
          "2013-12-01T00:00:00.000000000",
          "2013-12-01T00:00:00.000000000",
          "2014-01-01T00:00:00.000000000",
          "2014-01-01T00:00:00.000000000",
          "2014-01-01T00:00:00.000000000",
          "2014-01-01T00:00:00.000000000",
          "2014-01-01T00:00:00.000000000",
          "2014-01-01T00:00:00.000000000",
          "2014-01-01T00:00:00.000000000",
          "2014-01-01T00:00:00.000000000",
          "2014-01-01T00:00:00.000000000",
          "2014-01-01T00:00:00.000000000",
          "2014-01-01T00:00:00.000000000",
          "2014-01-01T00:00:00.000000000",
          "2014-01-01T00:00:00.000000000",
          "2014-01-01T00:00:00.000000000",
          "2014-01-01T00:00:00.000000000",
          "2014-01-01T00:00:00.000000000",
          "2014-01-01T00:00:00.000000000",
          "2014-01-01T00:00:00.000000000",
          "2014-01-01T00:00:00.000000000",
          "2014-01-01T00:00:00.000000000",
          "2014-01-01T00:00:00.000000000",
          "2014-02-01T00:00:00.000000000",
          "2014-02-01T00:00:00.000000000",
          "2014-02-01T00:00:00.000000000",
          "2014-02-01T00:00:00.000000000",
          "2014-02-01T00:00:00.000000000",
          "2014-02-01T00:00:00.000000000",
          "2014-02-01T00:00:00.000000000",
          "2014-02-01T00:00:00.000000000",
          "2014-02-01T00:00:00.000000000",
          "2014-03-01T00:00:00.000000000",
          "2014-03-01T00:00:00.000000000",
          "2014-03-01T00:00:00.000000000",
          "2014-03-01T00:00:00.000000000",
          "2014-03-01T00:00:00.000000000",
          "2014-03-01T00:00:00.000000000",
          "2014-03-01T00:00:00.000000000",
          "2014-03-01T00:00:00.000000000",
          "2014-03-01T00:00:00.000000000",
          "2014-03-01T00:00:00.000000000",
          "2014-03-01T00:00:00.000000000",
          "2014-03-01T00:00:00.000000000",
          "2014-03-01T00:00:00.000000000",
          "2014-03-01T00:00:00.000000000",
          "2014-03-01T00:00:00.000000000",
          "2014-03-01T00:00:00.000000000",
          "2014-03-01T00:00:00.000000000",
          "2014-03-01T00:00:00.000000000",
          "2014-03-01T00:00:00.000000000",
          "2014-03-01T00:00:00.000000000",
          "2014-03-01T00:00:00.000000000",
          "2014-04-01T00:00:00.000000000",
          "2014-04-01T00:00:00.000000000",
          "2014-05-01T00:00:00.000000000",
          "2014-05-01T00:00:00.000000000",
          "2014-05-01T00:00:00.000000000"
         ],
         "xaxis": "x",
         "y": {
          "bdata": "AAAAAACAe0AAAAAAAIB7QAAAAAAAgHtAZmZmZmb2hEBmZmZmZvaEQGZmZmZm9oRAAAAAAABgkkAAAAAAAGCSQM3MzMzM1IBAzczMzMzUgEBmZmZmZmZeQAAAAAAAMJZAAAAAAAAwlkDNzMzMzMxwQM3MzMzMzHBAAAAAAAAgVkCamZmZmRliQJqZmZmZGWJAzczMzMwIpEDNzMzMzAikQM3MzMzMCKRAMzMzMzNLhkAzMzMzM0uGQAAAAAAAQHxAAAAAAABAfEAAAAAAAEB8QDMzMzMz3rxAMzMzMzPevEAzMzMzM968QDMzMzMz3rxAMzMzMzPevEBmZmZmZjaYQGZmZmZmNphAZmZmZmY2mEDNzMzMzMxWQJqZmZmZWZlAmpmZmZlZmUCamZmZmVmZQGZmZmZmlqBAZmZmZmaWoEBmZmZmZpagQAAAAAAAAH5AAAAAAAAAfkCamZmZmUWhQJqZmZmZRaFAmpmZmZlFoUCamZmZmUWhQM3MzMzMuJxAzczMzMy4nEDNzMzMzLicQDMzMzMzm4BAMzMzMzObgEAAAAAAAOB5QAAAAAAA4HlAAAAAAADgeUAAAAAAAGCaQAAAAAAAYJpAAAAAAABgmkAzMzMzM3OcQDMzMzMzc5xAMzMzMzNznEAAAAAAAAB/QAAAAAAAoIdAAAAAAACgh0AAAAAAACCFQAAAAAAAIIVAAAAAAAAghUBmZmZmZjaBQGZmZmZmNoFAAAAAAABwp0AAAAAAAHCnQAAAAAAAcKdAAAAAAABwikAAAAAAAHCKQAAAAAAA+KVAAAAAAAD4pUAAAAAAAPilQGZmZmZmHoFAZmZmZmYegUAAAAAAAOCfQAAAAAAA4J9AAAAAAADgn0AAAAAAAIiDQAAAAAAAgHpAAAAAAACAekAAAAAAAIB6QAAAAAAA8HhAAAAAAAAgfEAAAAAAAABPQAAAAACAebNAAAAAAIB5s0AAAAAAgHmzQAAAAACAebNAAAAAAADAn0AAAAAAAMCfQAAAAAAAwJ9AzczMzMzAjEDNzMzMzMCMQM3MzMzMwIxAAAAAAACghEAAAAAAAIBPQAAAAAAAQJRAAAAAAABAlEAAAAAAANx/QAAAAAAA3H9AAAAAAADcf0AAAAAAAIB2QJqZmZmZeWFAmpmZmZl5YUDNzMzMzCxKQAAAAAAAAG5AAAAAAAAAbkAAAAAAAEykQAAAAAAATKRAAAAAAABMpEAAAAAAAEykQAAAAAAAQINAAAAAAABAg0AAAAAAAECDQJqZmZmZkaVAmpmZmZmRpUAAAAAAAM6sQAAAAAAAzqxAAAAAAADOrEAAAAAAAM6sQM3MzMzM4IFAzczMzMzggUDNzMzMzOCBQAAAAAAALKBAAAAAAAAsoEAAAAAAACygQAAAAAAALKBAAAAAAADQhkAAAAAAANCGQAAAAAAAWIpAAAAAAABYikCamZmZmceBQJqZmZmZx4FAmpmZmZnHgUCamZmZmceBQAAAAAAAgGpAAAAAAAAgh0AAAAAAACCHQAAAAAAAIIdAAAAAAABIhEAAAAAAAEiEQAAAAAAASIRAAAAAAAA4gEAAAAAAADiAQM3MzMzMRqBAzczMzMxGoEDNzMzMzEagQAAAAAAAqIxAAAAAAACojEDNzMzMzOCKQM3MzMzM4IpAzczMzMzgikAAAAAAACBbQAAAAAAAQI1AAAAAAABAjUAAAAAAAECNQAAAAAAAAIlAAAAAAAAAiUAAAAAAAACJQAAAAAAAFp5AAAAAAAAWnkAAAAAAABaeQAAAAAAAFp5AAAAAAACAdkAAAAAAAIB2QAAAAAAACaBAAAAAAAAJoEAAAAAAAAmgQArXo3A9FJtAAAAAAABwb0AAAAAAAHBvQM3MzMzMOHJAzczMzMw4ckDNzMzMzDhyQAAAAAAAQGpAAAAAAACARkAAAAAAAISQQAAAAAAAhJBAAAAAAACEkEA=",
          "dtype": "f8"
         },
         "yaxis": "y"
        },
        {
         "hovertemplate": "country=Germany<br>orderdate=%{x}<br>totalamount=%{marker.size}<extra></extra>",
         "legendgroup": "Germany",
         "marker": {
          "color": "#EF553B",
          "size": {
           "bdata": "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",
           "dtype": "f8"
          },
          "sizemode": "area",
          "sizeref": 43.125,
          "symbol": "circle"
         },
         "mode": "markers",
         "name": "Germany",
         "showlegend": true,
         "type": "scattergl",
         "x": [
          "2012-07-01T00:00:00.000000000",
          "2012-07-01T00:00:00.000000000",
          "2012-07-01T00:00:00.000000000",
          "2012-07-01T00:00:00.000000000",
          "2012-07-01T00:00:00.000000000",
          "2012-07-01T00:00:00.000000000",
          "2012-07-01T00:00:00.000000000",
          "2012-07-01T00:00:00.000000000",
          "2012-07-01T00:00:00.000000000",
          "2012-08-01T00:00:00.000000000",
          "2012-08-01T00:00:00.000000000",
          "2012-08-01T00:00:00.000000000",
          "2012-08-01T00:00:00.000000000",
          "2012-08-01T00:00:00.000000000",
          "2012-08-01T00:00:00.000000000",
          "2012-08-01T00:00:00.000000000",
          "2012-08-01T00:00:00.000000000",
          "2012-08-01T00:00:00.000000000",
          "2012-08-01T00:00:00.000000000",
          "2012-08-01T00:00:00.000000000",
          "2012-08-01T00:00:00.000000000",
          "2012-08-01T00:00:00.000000000",
          "2012-08-01T00:00:00.000000000",
          "2012-08-01T00:00:00.000000000",
          "2012-08-01T00:00:00.000000000",
          "2012-08-01T00:00:00.000000000",
          "2012-09-01T00:00:00.000000000",
          "2012-09-01T00:00:00.000000000",
          "2012-09-01T00:00:00.000000000",
          "2012-09-01T00:00:00.000000000",
          "2012-09-01T00:00:00.000000000",
          "2012-09-01T00:00:00.000000000",
          "2012-09-01T00:00:00.000000000",
          "2012-10-01T00:00:00.000000000",
          "2012-10-01T00:00:00.000000000",
          "2012-10-01T00:00:00.000000000",
          "2012-10-01T00:00:00.000000000",
          "2012-10-01T00:00:00.000000000",
          "2012-10-01T00:00:00.000000000",
          "2012-10-01T00:00:00.000000000",
          "2012-10-01T00:00:00.000000000",
          "2012-10-01T00:00:00.000000000",
          "2012-10-01T00:00:00.000000000",
          "2012-10-01T00:00:00.000000000",
          "2012-10-01T00:00:00.000000000",
          "2012-10-01T00:00:00.000000000",
          "2012-10-01T00:00:00.000000000",
          "2012-10-01T00:00:00.000000000",
          "2012-10-01T00:00:00.000000000",
          "2012-10-01T00:00:00.000000000",
          "2012-10-01T00:00:00.000000000",
          "2012-10-01T00:00:00.000000000",
          "2012-10-01T00:00:00.000000000",
          "2012-11-01T00:00:00.000000000",
          "2012-11-01T00:00:00.000000000",
          "2012-11-01T00:00:00.000000000",
          "2012-11-01T00:00:00.000000000",
          "2012-11-01T00:00:00.000000000",
          "2012-11-01T00:00:00.000000000",
          "2012-11-01T00:00:00.000000000",
          "2012-11-01T00:00:00.000000000",
          "2012-11-01T00:00:00.000000000",
          "2012-11-01T00:00:00.000000000",
          "2012-11-01T00:00:00.000000000",
          "2012-11-01T00:00:00.000000000",
          "2012-11-01T00:00:00.000000000",
          "2012-12-01T00:00:00.000000000",
          "2012-12-01T00:00:00.000000000",
          "2012-12-01T00:00:00.000000000",
          "2012-12-01T00:00:00.000000000",
          "2013-01-01T00:00:00.000000000",
          "2013-01-01T00:00:00.000000000",
          "2013-01-01T00:00:00.000000000",
          "2013-01-01T00:00:00.000000000",
          "2013-01-01T00:00:00.000000000",
          "2013-01-01T00:00:00.000000000",
          "2013-01-01T00:00:00.000000000",
          "2013-02-01T00:00:00.000000000",
          "2013-02-01T00:00:00.000000000",
          "2013-02-01T00:00:00.000000000",
          "2013-02-01T00:00:00.000000000",
          "2013-02-01T00:00:00.000000000",
          "2013-02-01T00:00:00.000000000",
          "2013-02-01T00:00:00.000000000",
          "2013-02-01T00:00:00.000000000",
          "2013-02-01T00:00:00.000000000",
          "2013-02-01T00:00:00.000000000",
          "2013-02-01T00:00:00.000000000",
          "2013-02-01T00:00:00.000000000",
          "2013-02-01T00:00:00.000000000",
          "2013-02-01T00:00:00.000000000",
          "2013-03-01T00:00:00.000000000",
          "2013-03-01T00:00:00.000000000",
          "2013-03-01T00:00:00.000000000",
          "2013-03-01T00:00:00.000000000",
          "2013-04-01T00:00:00.000000000",
          "2013-04-01T00:00:00.000000000",
          "2013-04-01T00:00:00.000000000",
          "2013-04-01T00:00:00.000000000",
          "2013-04-01T00:00:00.000000000",
          "2013-04-01T00:00:00.000000000",
          "2013-04-01T00:00:00.000000000",
          "2013-04-01T00:00:00.000000000",
          "2013-04-01T00:00:00.000000000",
          "2013-04-01T00:00:00.000000000",
          "2013-04-01T00:00:00.000000000",
          "2013-04-01T00:00:00.000000000",
          "2013-04-01T00:00:00.000000000",
          "2013-04-01T00:00:00.000000000",
          "2013-04-01T00:00:00.000000000",
          "2013-04-01T00:00:00.000000000",
          "2013-04-01T00:00:00.000000000",
          "2013-04-01T00:00:00.000000000",
          "2013-04-01T00:00:00.000000000",
          "2013-04-01T00:00:00.000000000",
          "2013-04-01T00:00:00.000000000",
          "2013-05-01T00:00:00.000000000",
          "2013-05-01T00:00:00.000000000",
          "2013-05-01T00:00:00.000000000",
          "2013-05-01T00:00:00.000000000",
          "2013-05-01T00:00:00.000000000",
          "2013-05-01T00:00:00.000000000",
          "2013-05-01T00:00:00.000000000",
          "2013-05-01T00:00:00.000000000",
          "2013-05-01T00:00:00.000000000",
          "2013-05-01T00:00:00.000000000",
          "2013-05-01T00:00:00.000000000",
          "2013-05-01T00:00:00.000000000",
          "2013-05-01T00:00:00.000000000",
          "2013-05-01T00:00:00.000000000",
          "2013-05-01T00:00:00.000000000",
          "2013-05-01T00:00:00.000000000",
          "2013-05-01T00:00:00.000000000",
          "2013-05-01T00:00:00.000000000",
          "2013-05-01T00:00:00.000000000",
          "2013-05-01T00:00:00.000000000",
          "2013-05-01T00:00:00.000000000",
          "2013-05-01T00:00:00.000000000",
          "2013-05-01T00:00:00.000000000",
          "2013-05-01T00:00:00.000000000",
          "2013-06-01T00:00:00.000000000",
          "2013-06-01T00:00:00.000000000",
          "2013-06-01T00:00:00.000000000",
          "2013-06-01T00:00:00.000000000",
          "2013-06-01T00:00:00.000000000",
          "2013-06-01T00:00:00.000000000",
          "2013-06-01T00:00:00.000000000",
          "2013-06-01T00:00:00.000000000",
          "2013-06-01T00:00:00.000000000",
          "2013-06-01T00:00:00.000000000",
          "2013-06-01T00:00:00.000000000",
          "2013-06-01T00:00:00.000000000",
          "2013-06-01T00:00:00.000000000",
          "2013-07-01T00:00:00.000000000",
          "2013-07-01T00:00:00.000000000",
          "2013-07-01T00:00:00.000000000",
          "2013-07-01T00:00:00.000000000",
          "2013-07-01T00:00:00.000000000",
          "2013-07-01T00:00:00.000000000",
          "2013-07-01T00:00:00.000000000",
          "2013-07-01T00:00:00.000000000",
          "2013-07-01T00:00:00.000000000",
          "2013-07-01T00:00:00.000000000",
          "2013-07-01T00:00:00.000000000",
          "2013-08-01T00:00:00.000000000",
          "2013-08-01T00:00:00.000000000",
          "2013-08-01T00:00:00.000000000",
          "2013-08-01T00:00:00.000000000",
          "2013-08-01T00:00:00.000000000",
          "2013-08-01T00:00:00.000000000",
          "2013-08-01T00:00:00.000000000",
          "2013-08-01T00:00:00.000000000",
          "2013-08-01T00:00:00.000000000",
          "2013-08-01T00:00:00.000000000",
          "2013-08-01T00:00:00.000000000",
          "2013-08-01T00:00:00.000000000",
          "2013-08-01T00:00:00.000000000",
          "2013-08-01T00:00:00.000000000",
          "2013-09-01T00:00:00.000000000",
          "2013-09-01T00:00:00.000000000",
          "2013-09-01T00:00:00.000000000",
          "2013-09-01T00:00:00.000000000",
          "2013-09-01T00:00:00.000000000",
          "2013-09-01T00:00:00.000000000",
          "2013-09-01T00:00:00.000000000",
          "2013-09-01T00:00:00.000000000",
          "2013-09-01T00:00:00.000000000",
          "2013-09-01T00:00:00.000000000",
          "2013-09-01T00:00:00.000000000",
          "2013-09-01T00:00:00.000000000",
          "2013-09-01T00:00:00.000000000",
          "2013-09-01T00:00:00.000000000",
          "2013-09-01T00:00:00.000000000",
          "2013-09-01T00:00:00.000000000",
          "2013-09-01T00:00:00.000000000",
          "2013-09-01T00:00:00.000000000",
          "2013-09-01T00:00:00.000000000",
          "2013-09-01T00:00:00.000000000",
          "2013-09-01T00:00:00.000000000",
          "2013-09-01T00:00:00.000000000",
          "2013-10-01T00:00:00.000000000",
          "2013-10-01T00:00:00.000000000",
          "2013-10-01T00:00:00.000000000",
          "2013-10-01T00:00:00.000000000",
          "2013-10-01T00:00:00.000000000",
          "2013-10-01T00:00:00.000000000",
          "2013-10-01T00:00:00.000000000",
          "2013-10-01T00:00:00.000000000",
          "2013-10-01T00:00:00.000000000",
          "2013-10-01T00:00:00.000000000",
          "2013-10-01T00:00:00.000000000",
          "2013-10-01T00:00:00.000000000",
          "2013-10-01T00:00:00.000000000",
          "2013-10-01T00:00:00.000000000",
          "2013-10-01T00:00:00.000000000",
          "2013-10-01T00:00:00.000000000",
          "2013-10-01T00:00:00.000000000",
          "2013-10-01T00:00:00.000000000",
          "2013-10-01T00:00:00.000000000",
          "2013-10-01T00:00:00.000000000",
          "2013-11-01T00:00:00.000000000",
          "2013-11-01T00:00:00.000000000",
          "2013-11-01T00:00:00.000000000",
          "2013-11-01T00:00:00.000000000",
          "2013-12-01T00:00:00.000000000",
          "2013-12-01T00:00:00.000000000",
          "2013-12-01T00:00:00.000000000",
          "2013-12-01T00:00:00.000000000",
          "2013-12-01T00:00:00.000000000",
          "2013-12-01T00:00:00.000000000",
          "2013-12-01T00:00:00.000000000",
          "2013-12-01T00:00:00.000000000",
          "2013-12-01T00:00:00.000000000",
          "2013-12-01T00:00:00.000000000",
          "2013-12-01T00:00:00.000000000",
          "2013-12-01T00:00:00.000000000",
          "2013-12-01T00:00:00.000000000",
          "2013-12-01T00:00:00.000000000",
          "2013-12-01T00:00:00.000000000",
          "2013-12-01T00:00:00.000000000",
          "2014-01-01T00:00:00.000000000",
          "2014-01-01T00:00:00.000000000",
          "2014-01-01T00:00:00.000000000",
          "2014-01-01T00:00:00.000000000",
          "2014-01-01T00:00:00.000000000",
          "2014-01-01T00:00:00.000000000",
          "2014-01-01T00:00:00.000000000",
          "2014-01-01T00:00:00.000000000",
          "2014-01-01T00:00:00.000000000",
          "2014-01-01T00:00:00.000000000",
          "2014-01-01T00:00:00.000000000",
          "2014-01-01T00:00:00.000000000",
          "2014-01-01T00:00:00.000000000",
          "2014-01-01T00:00:00.000000000",
          "2014-01-01T00:00:00.000000000",
          "2014-01-01T00:00:00.000000000",
          "2014-01-01T00:00:00.000000000",
          "2014-01-01T00:00:00.000000000",
          "2014-01-01T00:00:00.000000000",
          "2014-01-01T00:00:00.000000000",
          "2014-01-01T00:00:00.000000000",
          "2014-01-01T00:00:00.000000000",
          "2014-01-01T00:00:00.000000000",
          "2014-01-01T00:00:00.000000000",
          "2014-02-01T00:00:00.000000000",
          "2014-02-01T00:00:00.000000000",
          "2014-02-01T00:00:00.000000000",
          "2014-02-01T00:00:00.000000000",
          "2014-02-01T00:00:00.000000000",
          "2014-02-01T00:00:00.000000000",
          "2014-02-01T00:00:00.000000000",
          "2014-02-01T00:00:00.000000000",
          "2014-02-01T00:00:00.000000000",
          "2014-03-01T00:00:00.000000000",
          "2014-03-01T00:00:00.000000000",
          "2014-03-01T00:00:00.000000000",
          "2014-03-01T00:00:00.000000000",
          "2014-03-01T00:00:00.000000000",
          "2014-03-01T00:00:00.000000000",
          "2014-03-01T00:00:00.000000000",
          "2014-03-01T00:00:00.000000000",
          "2014-03-01T00:00:00.000000000",
          "2014-03-01T00:00:00.000000000",
          "2014-03-01T00:00:00.000000000",
          "2014-03-01T00:00:00.000000000",
          "2014-03-01T00:00:00.000000000",
          "2014-03-01T00:00:00.000000000",
          "2014-03-01T00:00:00.000000000",
          "2014-03-01T00:00:00.000000000",
          "2014-03-01T00:00:00.000000000",
          "2014-03-01T00:00:00.000000000",
          "2014-03-01T00:00:00.000000000",
          "2014-03-01T00:00:00.000000000",
          "2014-03-01T00:00:00.000000000",
          "2014-03-01T00:00:00.000000000",
          "2014-04-01T00:00:00.000000000",
          "2014-04-01T00:00:00.000000000",
          "2014-04-01T00:00:00.000000000",
          "2014-04-01T00:00:00.000000000",
          "2014-04-01T00:00:00.000000000",
          "2014-04-01T00:00:00.000000000",
          "2014-04-01T00:00:00.000000000",
          "2014-04-01T00:00:00.000000000",
          "2014-04-01T00:00:00.000000000",
          "2014-04-01T00:00:00.000000000",
          "2014-04-01T00:00:00.000000000",
          "2014-04-01T00:00:00.000000000",
          "2014-04-01T00:00:00.000000000",
          "2014-04-01T00:00:00.000000000",
          "2014-04-01T00:00:00.000000000",
          "2014-04-01T00:00:00.000000000",
          "2014-04-01T00:00:00.000000000",
          "2014-04-01T00:00:00.000000000",
          "2014-04-01T00:00:00.000000000",
          "2014-04-01T00:00:00.000000000",
          "2014-04-01T00:00:00.000000000",
          "2014-04-01T00:00:00.000000000",
          "2014-04-01T00:00:00.000000000",
          "2014-04-01T00:00:00.000000000",
          "2014-04-01T00:00:00.000000000",
          "2014-04-01T00:00:00.000000000",
          "2014-04-01T00:00:00.000000000",
          "2014-04-01T00:00:00.000000000",
          "2014-05-01T00:00:00.000000000",
          "2014-05-01T00:00:00.000000000",
          "2014-05-01T00:00:00.000000000",
          "2014-05-01T00:00:00.000000000",
          "2014-05-01T00:00:00.000000000"
         ],
         "xaxis": "x",
         "y": {
          "bdata": "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",
          "dtype": "f8"
         },
         "yaxis": "y"
        },
        {
         "hovertemplate": "country=Brazil<br>orderdate=%{x}<br>totalamount=%{marker.size}<extra></extra>",
         "legendgroup": "Brazil",
         "marker": {
          "color": "#00cc96",
          "size": {
           "bdata": "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",
           "dtype": "f8"
          },
          "sizemode": "area",
          "sizeref": 43.125,
          "symbol": "circle"
         },
         "mode": "markers",
         "name": "Brazil",
         "showlegend": true,
         "type": "scattergl",
         "x": [
          "2012-07-01T00:00:00.000000000",
          "2012-07-01T00:00:00.000000000",
          "2012-07-01T00:00:00.000000000",
          "2012-07-01T00:00:00.000000000",
          "2012-07-01T00:00:00.000000000",
          "2012-07-01T00:00:00.000000000",
          "2012-07-01T00:00:00.000000000",
          "2012-07-01T00:00:00.000000000",
          "2012-07-01T00:00:00.000000000",
          "2012-07-01T00:00:00.000000000",
          "2012-08-01T00:00:00.000000000",
          "2012-08-01T00:00:00.000000000",
          "2012-08-01T00:00:00.000000000",
          "2012-08-01T00:00:00.000000000",
          "2012-08-01T00:00:00.000000000",
          "2012-08-01T00:00:00.000000000",
          "2012-08-01T00:00:00.000000000",
          "2012-08-01T00:00:00.000000000",
          "2012-08-01T00:00:00.000000000",
          "2012-08-01T00:00:00.000000000",
          "2012-08-01T00:00:00.000000000",
          "2012-09-01T00:00:00.000000000",
          "2012-09-01T00:00:00.000000000",
          "2012-11-01T00:00:00.000000000",
          "2012-11-01T00:00:00.000000000",
          "2012-11-01T00:00:00.000000000",
          "2012-11-01T00:00:00.000000000",
          "2012-12-01T00:00:00.000000000",
          "2012-12-01T00:00:00.000000000",
          "2012-12-01T00:00:00.000000000",
          "2012-12-01T00:00:00.000000000",
          "2012-12-01T00:00:00.000000000",
          "2012-12-01T00:00:00.000000000",
          "2012-12-01T00:00:00.000000000",
          "2012-12-01T00:00:00.000000000",
          "2012-12-01T00:00:00.000000000",
          "2013-01-01T00:00:00.000000000",
          "2013-01-01T00:00:00.000000000",
          "2013-01-01T00:00:00.000000000",
          "2013-01-01T00:00:00.000000000",
          "2013-01-01T00:00:00.000000000",
          "2013-01-01T00:00:00.000000000",
          "2013-01-01T00:00:00.000000000",
          "2013-01-01T00:00:00.000000000",
          "2013-01-01T00:00:00.000000000",
          "2013-01-01T00:00:00.000000000",
          "2013-01-01T00:00:00.000000000",
          "2013-01-01T00:00:00.000000000",
          "2013-01-01T00:00:00.000000000",
          "2013-01-01T00:00:00.000000000",
          "2013-01-01T00:00:00.000000000",
          "2013-01-01T00:00:00.000000000",
          "2013-01-01T00:00:00.000000000",
          "2013-02-01T00:00:00.000000000",
          "2013-02-01T00:00:00.000000000",
          "2013-02-01T00:00:00.000000000",
          "2013-03-01T00:00:00.000000000",
          "2013-03-01T00:00:00.000000000",
          "2013-03-01T00:00:00.000000000",
          "2013-03-01T00:00:00.000000000",
          "2013-03-01T00:00:00.000000000",
          "2013-03-01T00:00:00.000000000",
          "2013-03-01T00:00:00.000000000",
          "2013-04-01T00:00:00.000000000",
          "2013-04-01T00:00:00.000000000",
          "2013-04-01T00:00:00.000000000",
          "2013-04-01T00:00:00.000000000",
          "2013-04-01T00:00:00.000000000",
          "2013-04-01T00:00:00.000000000",
          "2013-05-01T00:00:00.000000000",
          "2013-05-01T00:00:00.000000000",
          "2013-05-01T00:00:00.000000000",
          "2013-05-01T00:00:00.000000000",
          "2013-06-01T00:00:00.000000000",
          "2013-06-01T00:00:00.000000000",
          "2013-06-01T00:00:00.000000000",
          "2013-07-01T00:00:00.000000000",
          "2013-07-01T00:00:00.000000000",
          "2013-07-01T00:00:00.000000000",
          "2013-07-01T00:00:00.000000000",
          "2013-07-01T00:00:00.000000000",
          "2013-07-01T00:00:00.000000000",
          "2013-07-01T00:00:00.000000000",
          "2013-08-01T00:00:00.000000000",
          "2013-08-01T00:00:00.000000000",
          "2013-08-01T00:00:00.000000000",
          "2013-08-01T00:00:00.000000000",
          "2013-08-01T00:00:00.000000000",
          "2013-08-01T00:00:00.000000000",
          "2013-08-01T00:00:00.000000000",
          "2013-08-01T00:00:00.000000000",
          "2013-08-01T00:00:00.000000000",
          "2013-08-01T00:00:00.000000000",
          "2013-08-01T00:00:00.000000000",
          "2013-08-01T00:00:00.000000000",
          "2013-08-01T00:00:00.000000000",
          "2013-08-01T00:00:00.000000000",
          "2013-08-01T00:00:00.000000000",
          "2013-08-01T00:00:00.000000000",
          "2013-08-01T00:00:00.000000000",
          "2013-09-01T00:00:00.000000000",
          "2013-09-01T00:00:00.000000000",
          "2013-09-01T00:00:00.000000000",
          "2013-09-01T00:00:00.000000000",
          "2013-09-01T00:00:00.000000000",
          "2013-09-01T00:00:00.000000000",
          "2013-09-01T00:00:00.000000000",
          "2013-09-01T00:00:00.000000000",
          "2013-10-01T00:00:00.000000000",
          "2013-10-01T00:00:00.000000000",
          "2013-10-01T00:00:00.000000000",
          "2013-10-01T00:00:00.000000000",
          "2013-10-01T00:00:00.000000000",
          "2013-10-01T00:00:00.000000000",
          "2013-10-01T00:00:00.000000000",
          "2013-10-01T00:00:00.000000000",
          "2013-10-01T00:00:00.000000000",
          "2013-10-01T00:00:00.000000000",
          "2013-10-01T00:00:00.000000000",
          "2013-10-01T00:00:00.000000000",
          "2013-10-01T00:00:00.000000000",
          "2013-11-01T00:00:00.000000000",
          "2013-11-01T00:00:00.000000000",
          "2013-11-01T00:00:00.000000000",
          "2013-11-01T00:00:00.000000000",
          "2013-11-01T00:00:00.000000000",
          "2013-11-01T00:00:00.000000000",
          "2013-11-01T00:00:00.000000000",
          "2013-12-01T00:00:00.000000000",
          "2013-12-01T00:00:00.000000000",
          "2013-12-01T00:00:00.000000000",
          "2013-12-01T00:00:00.000000000",
          "2013-12-01T00:00:00.000000000",
          "2013-12-01T00:00:00.000000000",
          "2013-12-01T00:00:00.000000000",
          "2013-12-01T00:00:00.000000000",
          "2013-12-01T00:00:00.000000000",
          "2013-12-01T00:00:00.000000000",
          "2013-12-01T00:00:00.000000000",
          "2013-12-01T00:00:00.000000000",
          "2013-12-01T00:00:00.000000000",
          "2013-12-01T00:00:00.000000000",
          "2014-01-01T00:00:00.000000000",
          "2014-01-01T00:00:00.000000000",
          "2014-01-01T00:00:00.000000000",
          "2014-01-01T00:00:00.000000000",
          "2014-01-01T00:00:00.000000000",
          "2014-01-01T00:00:00.000000000",
          "2014-01-01T00:00:00.000000000",
          "2014-01-01T00:00:00.000000000",
          "2014-01-01T00:00:00.000000000",
          "2014-01-01T00:00:00.000000000",
          "2014-01-01T00:00:00.000000000",
          "2014-01-01T00:00:00.000000000",
          "2014-01-01T00:00:00.000000000",
          "2014-01-01T00:00:00.000000000",
          "2014-01-01T00:00:00.000000000",
          "2014-02-01T00:00:00.000000000",
          "2014-02-01T00:00:00.000000000",
          "2014-02-01T00:00:00.000000000",
          "2014-02-01T00:00:00.000000000",
          "2014-02-01T00:00:00.000000000",
          "2014-02-01T00:00:00.000000000",
          "2014-02-01T00:00:00.000000000",
          "2014-02-01T00:00:00.000000000",
          "2014-02-01T00:00:00.000000000",
          "2014-02-01T00:00:00.000000000",
          "2014-02-01T00:00:00.000000000",
          "2014-02-01T00:00:00.000000000",
          "2014-02-01T00:00:00.000000000",
          "2014-02-01T00:00:00.000000000",
          "2014-02-01T00:00:00.000000000",
          "2014-02-01T00:00:00.000000000",
          "2014-02-01T00:00:00.000000000",
          "2014-03-01T00:00:00.000000000",
          "2014-03-01T00:00:00.000000000",
          "2014-03-01T00:00:00.000000000",
          "2014-03-01T00:00:00.000000000",
          "2014-03-01T00:00:00.000000000",
          "2014-03-01T00:00:00.000000000",
          "2014-03-01T00:00:00.000000000",
          "2014-03-01T00:00:00.000000000",
          "2014-03-01T00:00:00.000000000",
          "2014-03-01T00:00:00.000000000",
          "2014-03-01T00:00:00.000000000",
          "2014-03-01T00:00:00.000000000",
          "2014-03-01T00:00:00.000000000",
          "2014-03-01T00:00:00.000000000",
          "2014-03-01T00:00:00.000000000",
          "2014-04-01T00:00:00.000000000",
          "2014-04-01T00:00:00.000000000",
          "2014-04-01T00:00:00.000000000",
          "2014-04-01T00:00:00.000000000",
          "2014-04-01T00:00:00.000000000",
          "2014-04-01T00:00:00.000000000",
          "2014-04-01T00:00:00.000000000",
          "2014-04-01T00:00:00.000000000",
          "2014-04-01T00:00:00.000000000",
          "2014-04-01T00:00:00.000000000",
          "2014-04-01T00:00:00.000000000",
          "2014-05-01T00:00:00.000000000",
          "2014-05-01T00:00:00.000000000",
          "2014-05-01T00:00:00.000000000"
         ],
         "xaxis": "x",
         "y": {
          "bdata": "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",
          "dtype": "f8"
         },
         "yaxis": "y"
        },
        {
         "hovertemplate": "country=Belgium<br>orderdate=%{x}<br>totalamount=%{marker.size}<extra></extra>",
         "legendgroup": "Belgium",
         "marker": {
          "color": "#ab63fa",
          "size": {
           "bdata": "AAAAAAAkrUAAAAAAACStQAAAAAAAJK1AmpmZmZkppUCamZmZmSmlQJqZmZmZKaVAAAAAAABmrkAAAAAAAGauQAAAAAAAZq5AAAAAAABmrkAAAAAAAGauQGZmZmZmSoZAZmZmZmZKhkAzMzMzM6ubQDMzMzMzq5tAMzMzMzOrm0AAAAAAAJCNQAAAAAAAkI1AAAAAAACQjUAAAAAAAGiWQAAAAAAAaJZAAAAAAADQqUAAAAAAANCpQAAAAAAA0KlAAAAAAAAAPEAAAAAAAOWxQAAAAAAA5bFAAAAAAADlsUAAAAAAAOWxQAAAAAAAYJFAAAAAAABgkUAAAAAAAGCRQAAAAAAA5JJAAAAAAADkkkAAAAAAAOSSQAAAAAAA5JJAAAAAAAAwoUAAAAAAAHSHQAAAAAAAdIdAAAAAAAAuo0AAAAAAAC6jQAAAAAAALqNAAAAAAAAuo0DNzMzMzHKXQM3MzMzMcpdAzczMzMxyl0DNzMzMzHKXQK5H4XoUdnJArkfhehR2ckAAAAAAAGqbQAAAAAAAaptAAAAAAABqm0AAAAAAAGqbQAAAAAAAeIdAAAAAAAB4h0AAAAAAAHiHQA==",
           "dtype": "f8"
          },
          "sizemode": "area",
          "sizeref": 43.125,
          "symbol": "circle"
         },
         "mode": "markers",
         "name": "Belgium",
         "showlegend": true,
         "type": "scattergl",
         "x": [
          "2012-07-01T00:00:00.000000000",
          "2012-07-01T00:00:00.000000000",
          "2012-07-01T00:00:00.000000000",
          "2012-09-01T00:00:00.000000000",
          "2012-09-01T00:00:00.000000000",
          "2012-09-01T00:00:00.000000000",
          "2013-02-01T00:00:00.000000000",
          "2013-02-01T00:00:00.000000000",
          "2013-02-01T00:00:00.000000000",
          "2013-02-01T00:00:00.000000000",
          "2013-02-01T00:00:00.000000000",
          "2013-03-01T00:00:00.000000000",
          "2013-03-01T00:00:00.000000000",
          "2013-03-01T00:00:00.000000000",
          "2013-03-01T00:00:00.000000000",
          "2013-03-01T00:00:00.000000000",
          "2013-05-01T00:00:00.000000000",
          "2013-05-01T00:00:00.000000000",
          "2013-05-01T00:00:00.000000000",
          "2013-08-01T00:00:00.000000000",
          "2013-08-01T00:00:00.000000000",
          "2013-12-01T00:00:00.000000000",
          "2013-12-01T00:00:00.000000000",
          "2013-12-01T00:00:00.000000000",
          "2013-12-01T00:00:00.000000000",
          "2014-01-01T00:00:00.000000000",
          "2014-01-01T00:00:00.000000000",
          "2014-01-01T00:00:00.000000000",
          "2014-01-01T00:00:00.000000000",
          "2014-01-01T00:00:00.000000000",
          "2014-01-01T00:00:00.000000000",
          "2014-01-01T00:00:00.000000000",
          "2014-02-01T00:00:00.000000000",
          "2014-02-01T00:00:00.000000000",
          "2014-02-01T00:00:00.000000000",
          "2014-02-01T00:00:00.000000000",
          "2014-02-01T00:00:00.000000000",
          "2014-02-01T00:00:00.000000000",
          "2014-02-01T00:00:00.000000000",
          "2014-03-01T00:00:00.000000000",
          "2014-03-01T00:00:00.000000000",
          "2014-03-01T00:00:00.000000000",
          "2014-03-01T00:00:00.000000000",
          "2014-03-01T00:00:00.000000000",
          "2014-03-01T00:00:00.000000000",
          "2014-03-01T00:00:00.000000000",
          "2014-03-01T00:00:00.000000000",
          "2014-04-01T00:00:00.000000000",
          "2014-04-01T00:00:00.000000000",
          "2014-04-01T00:00:00.000000000",
          "2014-04-01T00:00:00.000000000",
          "2014-04-01T00:00:00.000000000",
          "2014-04-01T00:00:00.000000000",
          "2014-04-01T00:00:00.000000000",
          "2014-04-01T00:00:00.000000000",
          "2014-04-01T00:00:00.000000000"
         ],
         "xaxis": "x",
         "y": {
          "bdata": "AAAAAAAkrUAAAAAAACStQAAAAAAAJK1AmpmZmZkppUCamZmZmSmlQJqZmZmZKaVAAAAAAABmrkAAAAAAAGauQAAAAAAAZq5AAAAAAABmrkAAAAAAAGauQGZmZmZmSoZAZmZmZmZKhkAzMzMzM6ubQDMzMzMzq5tAMzMzMzOrm0AAAAAAAJCNQAAAAAAAkI1AAAAAAACQjUAAAAAAAGiWQAAAAAAAaJZAAAAAAADQqUAAAAAAANCpQAAAAAAA0KlAAAAAAAAAPEAAAAAAAOWxQAAAAAAA5bFAAAAAAADlsUAAAAAAAOWxQAAAAAAAYJFAAAAAAABgkUAAAAAAAGCRQAAAAAAA5JJAAAAAAADkkkAAAAAAAOSSQAAAAAAA5JJAAAAAAAAwoUAAAAAAAHSHQAAAAAAAdIdAAAAAAAAuo0AAAAAAAC6jQAAAAAAALqNAAAAAAAAuo0DNzMzMzHKXQM3MzMzMcpdAzczMzMxyl0DNzMzMzHKXQK5H4XoUdnJArkfhehR2ckAAAAAAAGqbQAAAAAAAaptAAAAAAABqm0AAAAAAAGqbQAAAAAAAeIdAAAAAAAB4h0AAAAAAAHiHQA==",
          "dtype": "f8"
         },
         "yaxis": "y"
        },
        {
         "hovertemplate": "country=Switzerland<br>orderdate=%{x}<br>totalamount=%{marker.size}<extra></extra>",
         "legendgroup": "Switzerland",
         "marker": {
          "color": "#FFA15A",
          "size": {
           "bdata": "mpmZmZmJg0CamZmZmYmDQJqZmZmZiYNAAAAAAAB1o0AAAAAAAHWjQAAAAAAAdaNAAAAAAAB1o0AAAAAAAFiSQAAAAAAAWJJAAAAAAABYkkAAAAAAAEChQAAAAAAAQKFAAAAAAABookAAAAAAAGiiQAAAAAAAaKJAMzMzMzN/nEAzMzMzM3+cQDMzMzMzf5xAMzMzMzN/nEAzMzMzM3+cQD0K16PwOrJAPQrXo/A6skAAAAAAABifQAAAAAAAGJ9AZmZmZmYPokBmZmZmZg+iQGZmZmZmD6JAZmZmZmYPokCkcD0K15WaQKRwPQrXlZpApHA9CteVmkCkcD0K15WaQGZmZmZmsplAZmZmZmaymUBmZmZmZrKZQAAAAAAAKIpAAAAAAAAoikBmZmZmZi5+QGZmZmZmLn5AZmZmZmYufkBmZmZmZp6TQGZmZmZmnpNAZmZmZmaek0AzMzMzMxuUQDMzMzMzG5RAAAAAAAAQrEAAAAAAABCsQAAAAAAAfJ1AAAAAAAB8nUAAAAAAAFCCQAAAAAAAUIJAAAAAAABQgkA=",
           "dtype": "f8"
          },
          "sizemode": "area",
          "sizeref": 43.125,
          "symbol": "circle"
         },
         "mode": "markers",
         "name": "Switzerland",
         "showlegend": true,
         "type": "scattergl",
         "x": [
          "2012-07-01T00:00:00.000000000",
          "2012-07-01T00:00:00.000000000",
          "2012-07-01T00:00:00.000000000",
          "2012-07-01T00:00:00.000000000",
          "2012-07-01T00:00:00.000000000",
          "2012-07-01T00:00:00.000000000",
          "2012-07-01T00:00:00.000000000",
          "2012-12-01T00:00:00.000000000",
          "2012-12-01T00:00:00.000000000",
          "2012-12-01T00:00:00.000000000",
          "2013-01-01T00:00:00.000000000",
          "2013-01-01T00:00:00.000000000",
          "2013-04-01T00:00:00.000000000",
          "2013-04-01T00:00:00.000000000",
          "2013-04-01T00:00:00.000000000",
          "2013-05-01T00:00:00.000000000",
          "2013-05-01T00:00:00.000000000",
          "2013-05-01T00:00:00.000000000",
          "2013-05-01T00:00:00.000000000",
          "2013-05-01T00:00:00.000000000",
          "2013-09-01T00:00:00.000000000",
          "2013-09-01T00:00:00.000000000",
          "2013-11-01T00:00:00.000000000",
          "2013-11-01T00:00:00.000000000",
          "2013-11-01T00:00:00.000000000",
          "2013-11-01T00:00:00.000000000",
          "2013-11-01T00:00:00.000000000",
          "2013-11-01T00:00:00.000000000",
          "2013-11-01T00:00:00.000000000",
          "2013-11-01T00:00:00.000000000",
          "2013-11-01T00:00:00.000000000",
          "2013-11-01T00:00:00.000000000",
          "2013-11-01T00:00:00.000000000",
          "2013-11-01T00:00:00.000000000",
          "2013-11-01T00:00:00.000000000",
          "2014-03-01T00:00:00.000000000",
          "2014-03-01T00:00:00.000000000",
          "2014-03-01T00:00:00.000000000",
          "2014-03-01T00:00:00.000000000",
          "2014-03-01T00:00:00.000000000",
          "2014-03-01T00:00:00.000000000",
          "2014-03-01T00:00:00.000000000",
          "2014-03-01T00:00:00.000000000",
          "2014-04-01T00:00:00.000000000",
          "2014-04-01T00:00:00.000000000",
          "2014-04-01T00:00:00.000000000",
          "2014-04-01T00:00:00.000000000",
          "2014-04-01T00:00:00.000000000",
          "2014-04-01T00:00:00.000000000",
          "2014-05-01T00:00:00.000000000",
          "2014-05-01T00:00:00.000000000",
          "2014-05-01T00:00:00.000000000"
         ],
         "xaxis": "x",
         "y": {
          "bdata": "mpmZmZmJg0CamZmZmYmDQJqZmZmZiYNAAAAAAAB1o0AAAAAAAHWjQAAAAAAAdaNAAAAAAAB1o0AAAAAAAFiSQAAAAAAAWJJAAAAAAABYkkAAAAAAAEChQAAAAAAAQKFAAAAAAABookAAAAAAAGiiQAAAAAAAaKJAMzMzMzN/nEAzMzMzM3+cQDMzMzMzf5xAMzMzMzN/nEAzMzMzM3+cQD0K16PwOrJAPQrXo/A6skAAAAAAABifQAAAAAAAGJ9AZmZmZmYPokBmZmZmZg+iQGZmZmZmD6JAZmZmZmYPokCkcD0K15WaQKRwPQrXlZpApHA9CteVmkCkcD0K15WaQGZmZmZmsplAZmZmZmaymUBmZmZmZrKZQAAAAAAAKIpAAAAAAAAoikBmZmZmZi5+QGZmZmZmLn5AZmZmZmYufkBmZmZmZp6TQGZmZmZmnpNAZmZmZmaek0AzMzMzMxuUQDMzMzMzG5RAAAAAAAAQrEAAAAAAABCsQAAAAAAAfJ1AAAAAAAB8nUAAAAAAAFCCQAAAAAAAUIJAAAAAAABQgkA=",
          "dtype": "f8"
         },
         "yaxis": "y"
        },
        {
         "hovertemplate": "country=Venezuela<br>orderdate=%{x}<br>totalamount=%{marker.size}<extra></extra>",
         "legendgroup": "Venezuela",
         "marker": {
          "color": "#19d3f3",
          "size": {
           "bdata": "mpmZmZl/kUCamZmZmX+RQJqZmZmZf5FAzczMzMw0kUDNzMzMzDSRQDMzMzMzG5ZAMzMzMzMblkAzMzMzMxuWQDMzMzMzG5ZAZmZmZmZqkEBmZmZmZmqQQGZmZmZmapBAAAAAAABQnkAAAAAAAFCeQAAAAAAAQJVAAAAAAABAlUAAAAAAAECVQAAAAAAAAFxAZmZmZmY6okBmZmZmZjqiQGZmZmZmOqJAAAAAAAAAeUAzMzMzMwegQDMzMzMzB6BAMzMzMzMHoEDNzMzMzMxmQM3MzMzMzGZAAAAAAACAm0AAAAAAAICbQAAAAAAAgJtAAAAAAACAm0AAAAAAAOCTQAAAAAAA4JNAAAAAAADgk0BmZmZmZraoQGZmZmZmtqhAZmZmZma2qEAAAAAAAPiBQAAAAAAA+IFAAAAAAAD4gUAAAAAAABCWQAAAAAAAEJZAAAAAAACom0AAAAAAAKibQAAAAAAAhItAAAAAAACEi0AAAAAAANqhQAAAAAAA2qFAAAAAAABgdkAAAAAAAGB2QJqZmZkZQKVAmpmZmRlApUCamZmZGUClQAAAAAAADKBAAAAAAAAMoECamZmZmceQQJqZmZmZx5BAmpmZmZnHkECamZmZmceQQAAAAAAAoHdAAAAAAACgd0AAAAAAAOicQAAAAAAA6JxAAAAAAADonEAAAAAAAICGQAAAAAAAgIZAAAAAAAA4eEAAAAAAADh4QFyPwvUofKZAXI/C9Sh8pkBcj8L1KHymQFyPwvUofKZAAAAAAACgikAAAAAAAKCKQAAAAAAAoIpAAAAAAABHqEAAAAAAAEeoQAAAAAAAR6hAAAAAAABHqEAAAAAAADGkQAAAAAAAMaRAAAAAAAAxpEAAAAAAAIBwQAAAAAAAgHBAAAAAAAA4gEAAAAAAADiAQAAAAAAAAGJAAAAAAAA0jUAAAAAAADSNQDMzMzMzi5FAMzMzMzOLkUAzMzMzM4uRQGZmZmZmuJ1AZmZmZma4nUBmZmZmZridQGZmZmZmuJ1AzczMzMyKm0DNzMzMzIqbQM3MzMzMiptAmpmZmZlJcUCamZmZmUlxQAAAAAAAgIxAAAAAAADwnkAAAAAAAPCeQAAAAAAA8J5AMzMzMzPjcEAAAAAAACSoQAAAAAAAJKhAAAAAAAAkqEAAAAAAACSoQAAAAAAA/ppAAAAAAAD+mkAAAAAAAP6aQAAAAAAA/ppAUrgeheuRb0BSuB6F65FvQAAAAAAA4H9AAAAAAADgf0A=",
           "dtype": "f8"
          },
          "sizemode": "area",
          "sizeref": 43.125,
          "symbol": "circle"
         },
         "mode": "markers",
         "name": "Venezuela",
         "showlegend": true,
         "type": "scattergl",
         "x": [
          "2012-07-01T00:00:00.000000000",
          "2012-07-01T00:00:00.000000000",
          "2012-07-01T00:00:00.000000000",
          "2012-07-01T00:00:00.000000000",
          "2012-07-01T00:00:00.000000000",
          "2012-08-01T00:00:00.000000000",
          "2012-08-01T00:00:00.000000000",
          "2012-08-01T00:00:00.000000000",
          "2012-08-01T00:00:00.000000000",
          "2012-09-01T00:00:00.000000000",
          "2012-09-01T00:00:00.000000000",
          "2012-09-01T00:00:00.000000000",
          "2012-10-01T00:00:00.000000000",
          "2012-10-01T00:00:00.000000000",
          "2012-11-01T00:00:00.000000000",
          "2012-11-01T00:00:00.000000000",
          "2012-11-01T00:00:00.000000000",
          "2012-12-01T00:00:00.000000000",
          "2012-12-01T00:00:00.000000000",
          "2012-12-01T00:00:00.000000000",
          "2012-12-01T00:00:00.000000000",
          "2013-01-01T00:00:00.000000000",
          "2013-02-01T00:00:00.000000000",
          "2013-02-01T00:00:00.000000000",
          "2013-02-01T00:00:00.000000000",
          "2013-03-01T00:00:00.000000000",
          "2013-03-01T00:00:00.000000000",
          "2013-03-01T00:00:00.000000000",
          "2013-03-01T00:00:00.000000000",
          "2013-03-01T00:00:00.000000000",
          "2013-03-01T00:00:00.000000000",
          "2013-03-01T00:00:00.000000000",
          "2013-03-01T00:00:00.000000000",
          "2013-03-01T00:00:00.000000000",
          "2013-03-01T00:00:00.000000000",
          "2013-03-01T00:00:00.000000000",
          "2013-03-01T00:00:00.000000000",
          "2013-04-01T00:00:00.000000000",
          "2013-04-01T00:00:00.000000000",
          "2013-04-01T00:00:00.000000000",
          "2013-04-01T00:00:00.000000000",
          "2013-04-01T00:00:00.000000000",
          "2013-05-01T00:00:00.000000000",
          "2013-05-01T00:00:00.000000000",
          "2013-05-01T00:00:00.000000000",
          "2013-05-01T00:00:00.000000000",
          "2013-07-01T00:00:00.000000000",
          "2013-07-01T00:00:00.000000000",
          "2013-07-01T00:00:00.000000000",
          "2013-07-01T00:00:00.000000000",
          "2013-08-01T00:00:00.000000000",
          "2013-08-01T00:00:00.000000000",
          "2013-08-01T00:00:00.000000000",
          "2013-08-01T00:00:00.000000000",
          "2013-08-01T00:00:00.000000000",
          "2013-10-01T00:00:00.000000000",
          "2013-10-01T00:00:00.000000000",
          "2013-10-01T00:00:00.000000000",
          "2013-10-01T00:00:00.000000000",
          "2013-10-01T00:00:00.000000000",
          "2013-10-01T00:00:00.000000000",
          "2013-11-01T00:00:00.000000000",
          "2013-11-01T00:00:00.000000000",
          "2013-11-01T00:00:00.000000000",
          "2013-12-01T00:00:00.000000000",
          "2013-12-01T00:00:00.000000000",
          "2013-12-01T00:00:00.000000000",
          "2013-12-01T00:00:00.000000000",
          "2013-12-01T00:00:00.000000000",
          "2013-12-01T00:00:00.000000000",
          "2013-12-01T00:00:00.000000000",
          "2013-12-01T00:00:00.000000000",
          "2014-01-01T00:00:00.000000000",
          "2014-01-01T00:00:00.000000000",
          "2014-01-01T00:00:00.000000000",
          "2014-01-01T00:00:00.000000000",
          "2014-01-01T00:00:00.000000000",
          "2014-01-01T00:00:00.000000000",
          "2014-01-01T00:00:00.000000000",
          "2014-01-01T00:00:00.000000000",
          "2014-01-01T00:00:00.000000000",
          "2014-01-01T00:00:00.000000000",
          "2014-01-01T00:00:00.000000000",
          "2014-01-01T00:00:00.000000000",
          "2014-02-01T00:00:00.000000000",
          "2014-02-01T00:00:00.000000000",
          "2014-02-01T00:00:00.000000000",
          "2014-02-01T00:00:00.000000000",
          "2014-02-01T00:00:00.000000000",
          "2014-03-01T00:00:00.000000000",
          "2014-03-01T00:00:00.000000000",
          "2014-03-01T00:00:00.000000000",
          "2014-03-01T00:00:00.000000000",
          "2014-03-01T00:00:00.000000000",
          "2014-03-01T00:00:00.000000000",
          "2014-03-01T00:00:00.000000000",
          "2014-03-01T00:00:00.000000000",
          "2014-03-01T00:00:00.000000000",
          "2014-03-01T00:00:00.000000000",
          "2014-03-01T00:00:00.000000000",
          "2014-03-01T00:00:00.000000000",
          "2014-03-01T00:00:00.000000000",
          "2014-04-01T00:00:00.000000000",
          "2014-04-01T00:00:00.000000000",
          "2014-04-01T00:00:00.000000000",
          "2014-04-01T00:00:00.000000000",
          "2014-04-01T00:00:00.000000000",
          "2014-04-01T00:00:00.000000000",
          "2014-04-01T00:00:00.000000000",
          "2014-04-01T00:00:00.000000000",
          "2014-04-01T00:00:00.000000000",
          "2014-04-01T00:00:00.000000000",
          "2014-04-01T00:00:00.000000000",
          "2014-04-01T00:00:00.000000000",
          "2014-05-01T00:00:00.000000000",
          "2014-05-01T00:00:00.000000000",
          "2014-05-01T00:00:00.000000000",
          "2014-05-01T00:00:00.000000000"
         ],
         "xaxis": "x",
         "y": {
          "bdata": "mpmZmZl/kUCamZmZmX+RQJqZmZmZf5FAzczMzMw0kUDNzMzMzDSRQDMzMzMzG5ZAMzMzMzMblkAzMzMzMxuWQDMzMzMzG5ZAZmZmZmZqkEBmZmZmZmqQQGZmZmZmapBAAAAAAABQnkAAAAAAAFCeQAAAAAAAQJVAAAAAAABAlUAAAAAAAECVQAAAAAAAAFxAZmZmZmY6okBmZmZmZjqiQGZmZmZmOqJAAAAAAAAAeUAzMzMzMwegQDMzMzMzB6BAMzMzMzMHoEDNzMzMzMxmQM3MzMzMzGZAAAAAAACAm0AAAAAAAICbQAAAAAAAgJtAAAAAAACAm0AAAAAAAOCTQAAAAAAA4JNAAAAAAADgk0BmZmZmZraoQGZmZmZmtqhAZmZmZma2qEAAAAAAAPiBQAAAAAAA+IFAAAAAAAD4gUAAAAAAABCWQAAAAAAAEJZAAAAAAACom0AAAAAAAKibQAAAAAAAhItAAAAAAACEi0AAAAAAANqhQAAAAAAA2qFAAAAAAABgdkAAAAAAAGB2QJqZmZkZQKVAmpmZmRlApUCamZmZGUClQAAAAAAADKBAAAAAAAAMoECamZmZmceQQJqZmZmZx5BAmpmZmZnHkECamZmZmceQQAAAAAAAoHdAAAAAAACgd0AAAAAAAOicQAAAAAAA6JxAAAAAAADonEAAAAAAAICGQAAAAAAAgIZAAAAAAAA4eEAAAAAAADh4QFyPwvUofKZAXI/C9Sh8pkBcj8L1KHymQFyPwvUofKZAAAAAAACgikAAAAAAAKCKQAAAAAAAoIpAAAAAAABHqEAAAAAAAEeoQAAAAAAAR6hAAAAAAABHqEAAAAAAADGkQAAAAAAAMaRAAAAAAAAxpEAAAAAAAIBwQAAAAAAAgHBAAAAAAAA4gEAAAAAAADiAQAAAAAAAAGJAAAAAAAA0jUAAAAAAADSNQDMzMzMzi5FAMzMzMzOLkUAzMzMzM4uRQGZmZmZmuJ1AZmZmZma4nUBmZmZmZridQGZmZmZmuJ1AzczMzMyKm0DNzMzMzIqbQM3MzMzMiptAmpmZmZlJcUCamZmZmUlxQAAAAAAAgIxAAAAAAADwnkAAAAAAAPCeQAAAAAAA8J5AMzMzMzPjcEAAAAAAACSoQAAAAAAAJKhAAAAAAAAkqEAAAAAAACSoQAAAAAAA/ppAAAAAAAD+mkAAAAAAAP6aQAAAAAAA/ppAUrgeheuRb0BSuB6F65FvQAAAAAAA4H9AAAAAAADgf0A=",
          "dtype": "f8"
         },
         "yaxis": "y"
        },
        {
         "hovertemplate": "country=Austria<br>orderdate=%{x}<br>totalamount=%{marker.size}<extra></extra>",
         "legendgroup": "Austria",
         "marker": {
          "color": "#FF6692",
          "size": {
           "bdata": "ZmZmZmaKn0BmZmZmZoqfQGZmZmZmip9AmpmZmZlBo0CamZmZmUGjQJqZmZmZQaNAmpmZmZlBo0CamZmZmS22QJqZmZmZLbZAmpmZmZkttkCamZmZmS22QM3MzMzM+sRAzczMzMz6xEDNzMzMzKicQM3MzMzMqJxAzczMzMyonEDNzMzMzKicQAAAAAAAqKZAAAAAAACopkAAAAAAAKimQAAAAAAAqKZAAAAAAACopkBmZmZmZsahQGZmZmZmxqFAZmZmZmbGoUBmZmZmZsahQAAAAAAAgJZAAAAAAAAzpUAAAAAAADOlQDMzMzMzb49AMzMzMzNvj0AAAAAAAFiEQAAAAAAApLZAAAAAAACktkAAAAAAAKS2QAAAAAAApLZAAAAAAAAAnEAAAAAAAACcQAAAAAAAAJxAMzMzMzNjf0AzMzMzM2N/QJqZmZm518BAmpmZmbnXwECamZmZudfAQJqZmZm518BAmpmZmbnXwEAAAAAAAFSwQAAAAAAAVLBAAAAAAABUsEAAAAAAAFSwQAAAAAAAPoRAAAAAAAA+hEAAAAAAAJy4QAAAAAAAnLhAAAAAAACcuEDNzMzMzACJQM3MzMzMAIlAzczMzMwAiUDNzMzMDFO5QM3MzMwMU7lAzczMzAxTuUDNzMzMDFO5QAAAAAAABJ5AAAAAAAAEnkDNzMzMzJmZQM3MzMzMmZlAKVyPwnUhrEApXI/CdSGsQClcj8J1IaxAKVyPwnUhrEApXI/CdSGsQGZmZmZm451AZmZmZmbjnUBmZmZmZuOdQGZmZmZm451AAAAAAADYo0AAAAAAANijQAAAAAAAgHVAAAAAAIBQoUAAAAAAgFChQAAAAACAUKFAAAAAAIBIu0AAAAAAgEi7QAAAAACASLtAAAAAAIBIu0AAAAAAgIajQAAAAACAhqNAAAAAAIBhskAAAAAAgGGyQAAAAACAYbJAAAAAAIBhskAAAAAAgGGyQAAAAAAA+IZAAAAAAABEq0AAAAAAAESrQGZmZmZm67hAZmZmZmbruEBmZmZmZuu4QGZmZmZm67hAAAAAAAAAlkAAAAAAAACWQAAAAAAAAJZAAAAAAIDNskAAAAAAgM2yQAAAAACAzbJAAAAAAIDNskAAAAAAgM2yQAAAAACAzbJAAAAAAABDs0AAAAAAAEOzQAAAAAAAQ7NAAAAAAABDs0AAAAAAgCezQAAAAACAJ7NAAAAAAIAns0AAAAAAAF66QAAAAAAAXrpAAAAAAABeukAAAAAAgJWsQAAAAACAlaxAAAAAAICVrEAAAAAAAGK0QAAAAAAAYrRAAAAAAABitEAAAAAAAGK0QA==",
           "dtype": "f8"
          },
          "sizemode": "area",
          "sizeref": 43.125,
          "symbol": "circle"
         },
         "mode": "markers",
         "name": "Austria",
         "showlegend": true,
         "type": "scattergl",
         "x": [
          "2012-07-01T00:00:00.000000000",
          "2012-07-01T00:00:00.000000000",
          "2012-07-01T00:00:00.000000000",
          "2012-07-01T00:00:00.000000000",
          "2012-07-01T00:00:00.000000000",
          "2012-07-01T00:00:00.000000000",
          "2012-07-01T00:00:00.000000000",
          "2012-11-01T00:00:00.000000000",
          "2012-11-01T00:00:00.000000000",
          "2012-11-01T00:00:00.000000000",
          "2012-11-01T00:00:00.000000000",
          "2012-11-01T00:00:00.000000000",
          "2012-11-01T00:00:00.000000000",
          "2012-11-01T00:00:00.000000000",
          "2012-11-01T00:00:00.000000000",
          "2012-11-01T00:00:00.000000000",
          "2012-11-01T00:00:00.000000000",
          "2012-12-01T00:00:00.000000000",
          "2012-12-01T00:00:00.000000000",
          "2012-12-01T00:00:00.000000000",
          "2012-12-01T00:00:00.000000000",
          "2012-12-01T00:00:00.000000000",
          "2012-12-01T00:00:00.000000000",
          "2012-12-01T00:00:00.000000000",
          "2012-12-01T00:00:00.000000000",
          "2012-12-01T00:00:00.000000000",
          "2012-12-01T00:00:00.000000000",
          "2013-01-01T00:00:00.000000000",
          "2013-01-01T00:00:00.000000000",
          "2013-01-01T00:00:00.000000000",
          "2013-01-01T00:00:00.000000000",
          "2013-01-01T00:00:00.000000000",
          "2013-01-01T00:00:00.000000000",
          "2013-01-01T00:00:00.000000000",
          "2013-01-01T00:00:00.000000000",
          "2013-01-01T00:00:00.000000000",
          "2013-02-01T00:00:00.000000000",
          "2013-02-01T00:00:00.000000000",
          "2013-02-01T00:00:00.000000000",
          "2013-03-01T00:00:00.000000000",
          "2013-03-01T00:00:00.000000000",
          "2013-04-01T00:00:00.000000000",
          "2013-04-01T00:00:00.000000000",
          "2013-04-01T00:00:00.000000000",
          "2013-04-01T00:00:00.000000000",
          "2013-04-01T00:00:00.000000000",
          "2013-05-01T00:00:00.000000000",
          "2013-05-01T00:00:00.000000000",
          "2013-05-01T00:00:00.000000000",
          "2013-05-01T00:00:00.000000000",
          "2013-06-01T00:00:00.000000000",
          "2013-06-01T00:00:00.000000000",
          "2013-07-01T00:00:00.000000000",
          "2013-07-01T00:00:00.000000000",
          "2013-07-01T00:00:00.000000000",
          "2013-07-01T00:00:00.000000000",
          "2013-07-01T00:00:00.000000000",
          "2013-07-01T00:00:00.000000000",
          "2013-08-01T00:00:00.000000000",
          "2013-08-01T00:00:00.000000000",
          "2013-08-01T00:00:00.000000000",
          "2013-08-01T00:00:00.000000000",
          "2013-09-01T00:00:00.000000000",
          "2013-09-01T00:00:00.000000000",
          "2013-09-01T00:00:00.000000000",
          "2013-09-01T00:00:00.000000000",
          "2013-10-01T00:00:00.000000000",
          "2013-10-01T00:00:00.000000000",
          "2013-10-01T00:00:00.000000000",
          "2013-10-01T00:00:00.000000000",
          "2013-10-01T00:00:00.000000000",
          "2013-11-01T00:00:00.000000000",
          "2013-11-01T00:00:00.000000000",
          "2013-11-01T00:00:00.000000000",
          "2013-11-01T00:00:00.000000000",
          "2013-12-01T00:00:00.000000000",
          "2013-12-01T00:00:00.000000000",
          "2013-12-01T00:00:00.000000000",
          "2013-12-01T00:00:00.000000000",
          "2013-12-01T00:00:00.000000000",
          "2013-12-01T00:00:00.000000000",
          "2013-12-01T00:00:00.000000000",
          "2013-12-01T00:00:00.000000000",
          "2013-12-01T00:00:00.000000000",
          "2013-12-01T00:00:00.000000000",
          "2013-12-01T00:00:00.000000000",
          "2013-12-01T00:00:00.000000000",
          "2014-01-01T00:00:00.000000000",
          "2014-01-01T00:00:00.000000000",
          "2014-01-01T00:00:00.000000000",
          "2014-01-01T00:00:00.000000000",
          "2014-01-01T00:00:00.000000000",
          "2014-01-01T00:00:00.000000000",
          "2014-01-01T00:00:00.000000000",
          "2014-01-01T00:00:00.000000000",
          "2014-02-01T00:00:00.000000000",
          "2014-02-01T00:00:00.000000000",
          "2014-02-01T00:00:00.000000000",
          "2014-02-01T00:00:00.000000000",
          "2014-03-01T00:00:00.000000000",
          "2014-03-01T00:00:00.000000000",
          "2014-03-01T00:00:00.000000000",
          "2014-03-01T00:00:00.000000000",
          "2014-03-01T00:00:00.000000000",
          "2014-03-01T00:00:00.000000000",
          "2014-03-01T00:00:00.000000000",
          "2014-03-01T00:00:00.000000000",
          "2014-03-01T00:00:00.000000000",
          "2014-04-01T00:00:00.000000000",
          "2014-04-01T00:00:00.000000000",
          "2014-04-01T00:00:00.000000000",
          "2014-04-01T00:00:00.000000000",
          "2014-04-01T00:00:00.000000000",
          "2014-04-01T00:00:00.000000000",
          "2014-04-01T00:00:00.000000000",
          "2014-04-01T00:00:00.000000000",
          "2014-04-01T00:00:00.000000000",
          "2014-04-01T00:00:00.000000000",
          "2014-04-01T00:00:00.000000000",
          "2014-04-01T00:00:00.000000000",
          "2014-04-01T00:00:00.000000000",
          "2014-05-01T00:00:00.000000000",
          "2014-05-01T00:00:00.000000000",
          "2014-05-01T00:00:00.000000000",
          "2014-05-01T00:00:00.000000000"
         ],
         "xaxis": "x",
         "y": {
          "bdata": "ZmZmZmaKn0BmZmZmZoqfQGZmZmZmip9AmpmZmZlBo0CamZmZmUGjQJqZmZmZQaNAmpmZmZlBo0CamZmZmS22QJqZmZmZLbZAmpmZmZkttkCamZmZmS22QM3MzMzM+sRAzczMzMz6xEDNzMzMzKicQM3MzMzMqJxAzczMzMyonEDNzMzMzKicQAAAAAAAqKZAAAAAAACopkAAAAAAAKimQAAAAAAAqKZAAAAAAACopkBmZmZmZsahQGZmZmZmxqFAZmZmZmbGoUBmZmZmZsahQAAAAAAAgJZAAAAAAAAzpUAAAAAAADOlQDMzMzMzb49AMzMzMzNvj0AAAAAAAFiEQAAAAAAApLZAAAAAAACktkAAAAAAAKS2QAAAAAAApLZAAAAAAAAAnEAAAAAAAACcQAAAAAAAAJxAMzMzMzNjf0AzMzMzM2N/QJqZmZm518BAmpmZmbnXwECamZmZudfAQJqZmZm518BAmpmZmbnXwEAAAAAAAFSwQAAAAAAAVLBAAAAAAABUsEAAAAAAAFSwQAAAAAAAPoRAAAAAAAA+hEAAAAAAAJy4QAAAAAAAnLhAAAAAAACcuEDNzMzMzACJQM3MzMzMAIlAzczMzMwAiUDNzMzMDFO5QM3MzMwMU7lAzczMzAxTuUDNzMzMDFO5QAAAAAAABJ5AAAAAAAAEnkDNzMzMzJmZQM3MzMzMmZlAKVyPwnUhrEApXI/CdSGsQClcj8J1IaxAKVyPwnUhrEApXI/CdSGsQGZmZmZm451AZmZmZmbjnUBmZmZmZuOdQGZmZmZm451AAAAAAADYo0AAAAAAANijQAAAAAAAgHVAAAAAAIBQoUAAAAAAgFChQAAAAACAUKFAAAAAAIBIu0AAAAAAgEi7QAAAAACASLtAAAAAAIBIu0AAAAAAgIajQAAAAACAhqNAAAAAAIBhskAAAAAAgGGyQAAAAACAYbJAAAAAAIBhskAAAAAAgGGyQAAAAAAA+IZAAAAAAABEq0AAAAAAAESrQGZmZmZm67hAZmZmZmbruEBmZmZmZuu4QGZmZmZm67hAAAAAAAAAlkAAAAAAAACWQAAAAAAAAJZAAAAAAIDNskAAAAAAgM2yQAAAAACAzbJAAAAAAIDNskAAAAAAgM2yQAAAAACAzbJAAAAAAABDs0AAAAAAAEOzQAAAAAAAQ7NAAAAAAABDs0AAAAAAgCezQAAAAACAJ7NAAAAAAIAns0AAAAAAAF66QAAAAAAAXrpAAAAAAABeukAAAAAAgJWsQAAAAACAlaxAAAAAAICVrEAAAAAAAGK0QAAAAAAAYrRAAAAAAABitEAAAAAAAGK0QA==",
          "dtype": "f8"
         },
         "yaxis": "y"
        },
        {
         "hovertemplate": "country=Mexico<br>orderdate=%{x}<br>totalamount=%{marker.size}<extra></extra>",
         "legendgroup": "Mexico",
         "marker": {
          "color": "#B6E880",
          "size": {
           "bdata": "MzMzMzMzWUAzMzMzMzNZQAAAAAAAQHpAAAAAAABAekCamZmZmYWKQJqZmZmZhYpAmpmZmZmFikCamZmZmYWKQDMzMzMz041AMzMzMzPTjUAzMzMzM9ONQDMzMzMzM1ZAMzMzMzMzVkDNzMzMzJySQM3MzMzMnJJAzczMzMyckkAAAAAAAABcQGZmZmZmxoFAZmZmZmbGgUAzMzMzMzN5QGZmZmZmhJNAZmZmZmaEk0BmZmZmZoSTQGZmZmZmhJNAZmZmZmaCiUBmZmZmZoKJQGZmZmZmgolAAAAAAACKi0AAAAAAAIqLQM3MzMwMNrBAzczMzAw2sEDNzMzMDDawQAAAAAAA2aBAAAAAAADZoEAAAAAAANmgQAAAAAAA2aBAAAAAAABEoEAAAAAAAESgQAAAAAAARKBAmpmZmZkzikCamZmZmTOKQJqZmZmZM4pAAAAAAAD8fUAAAAAAAPx9QAAAAAAA/H1AzczMzMy2gEDNzMzMzLaAQM3MzMzMtoBAMzMzMzPnjUAzMzMzM+eNQAAAAAAAeHdAAAAAAAB4d0AAAAAAAHh3QAAAAAAAAHRAAAAAAAB4jkAAAAAAAHiOQAAAAAAAeI5AAAAAAAB4jkAAAAAAAKCEQAAAAAAAoIRAAAAAAADcgEAAAAAAANyAQAAAAAAA3IBAMzMzMzMTgEAzMzMzMxOAQDMzMzMzE4BAMzMzMzMTgEAAAAAAALCSQAAAAAAAsJJAAAAAAACAdkAAAAAAAMByQAAAAAAAwHJA",
           "dtype": "f8"
          },
          "sizemode": "area",
          "sizeref": 43.125,
          "symbol": "circle"
         },
         "mode": "markers",
         "name": "Mexico",
         "showlegend": true,
         "type": "scattergl",
         "x": [
          "2012-07-01T00:00:00.000000000",
          "2012-07-01T00:00:00.000000000",
          "2012-08-01T00:00:00.000000000",
          "2012-08-01T00:00:00.000000000",
          "2012-08-01T00:00:00.000000000",
          "2012-08-01T00:00:00.000000000",
          "2012-08-01T00:00:00.000000000",
          "2012-08-01T00:00:00.000000000",
          "2012-09-01T00:00:00.000000000",
          "2012-09-01T00:00:00.000000000",
          "2012-09-01T00:00:00.000000000",
          "2012-09-01T00:00:00.000000000",
          "2012-09-01T00:00:00.000000000",
          "2012-10-01T00:00:00.000000000",
          "2012-10-01T00:00:00.000000000",
          "2012-10-01T00:00:00.000000000",
          "2012-10-01T00:00:00.000000000",
          "2012-11-01T00:00:00.000000000",
          "2012-11-01T00:00:00.000000000",
          "2012-11-01T00:00:00.000000000",
          "2013-03-01T00:00:00.000000000",
          "2013-03-01T00:00:00.000000000",
          "2013-03-01T00:00:00.000000000",
          "2013-03-01T00:00:00.000000000",
          "2013-04-01T00:00:00.000000000",
          "2013-04-01T00:00:00.000000000",
          "2013-04-01T00:00:00.000000000",
          "2013-04-01T00:00:00.000000000",
          "2013-04-01T00:00:00.000000000",
          "2013-04-01T00:00:00.000000000",
          "2013-04-01T00:00:00.000000000",
          "2013-04-01T00:00:00.000000000",
          "2013-05-01T00:00:00.000000000",
          "2013-05-01T00:00:00.000000000",
          "2013-05-01T00:00:00.000000000",
          "2013-05-01T00:00:00.000000000",
          "2013-06-01T00:00:00.000000000",
          "2013-06-01T00:00:00.000000000",
          "2013-06-01T00:00:00.000000000",
          "2013-06-01T00:00:00.000000000",
          "2013-06-01T00:00:00.000000000",
          "2013-06-01T00:00:00.000000000",
          "2013-08-01T00:00:00.000000000",
          "2013-08-01T00:00:00.000000000",
          "2013-08-01T00:00:00.000000000",
          "2013-09-01T00:00:00.000000000",
          "2013-09-01T00:00:00.000000000",
          "2013-09-01T00:00:00.000000000",
          "2013-09-01T00:00:00.000000000",
          "2013-09-01T00:00:00.000000000",
          "2013-09-01T00:00:00.000000000",
          "2013-09-01T00:00:00.000000000",
          "2013-09-01T00:00:00.000000000",
          "2013-11-01T00:00:00.000000000",
          "2014-01-01T00:00:00.000000000",
          "2014-01-01T00:00:00.000000000",
          "2014-01-01T00:00:00.000000000",
          "2014-01-01T00:00:00.000000000",
          "2014-01-01T00:00:00.000000000",
          "2014-01-01T00:00:00.000000000",
          "2014-02-01T00:00:00.000000000",
          "2014-02-01T00:00:00.000000000",
          "2014-02-01T00:00:00.000000000",
          "2014-03-01T00:00:00.000000000",
          "2014-03-01T00:00:00.000000000",
          "2014-03-01T00:00:00.000000000",
          "2014-03-01T00:00:00.000000000",
          "2014-04-01T00:00:00.000000000",
          "2014-04-01T00:00:00.000000000",
          "2014-05-01T00:00:00.000000000",
          "2014-05-01T00:00:00.000000000",
          "2014-05-01T00:00:00.000000000"
         ],
         "xaxis": "x",
         "y": {
          "bdata": "MzMzMzMzWUAzMzMzMzNZQAAAAAAAQHpAAAAAAABAekCamZmZmYWKQJqZmZmZhYpAmpmZmZmFikCamZmZmYWKQDMzMzMz041AMzMzMzPTjUAzMzMzM9ONQDMzMzMzM1ZAMzMzMzMzVkDNzMzMzJySQM3MzMzMnJJAzczMzMyckkAAAAAAAABcQGZmZmZmxoFAZmZmZmbGgUAzMzMzMzN5QGZmZmZmhJNAZmZmZmaEk0BmZmZmZoSTQGZmZmZmhJNAZmZmZmaCiUBmZmZmZoKJQGZmZmZmgolAAAAAAACKi0AAAAAAAIqLQM3MzMwMNrBAzczMzAw2sEDNzMzMDDawQAAAAAAA2aBAAAAAAADZoEAAAAAAANmgQAAAAAAA2aBAAAAAAABEoEAAAAAAAESgQAAAAAAARKBAmpmZmZkzikCamZmZmTOKQJqZmZmZM4pAAAAAAAD8fUAAAAAAAPx9QAAAAAAA/H1AzczMzMy2gEDNzMzMzLaAQM3MzMzMtoBAMzMzMzPnjUAzMzMzM+eNQAAAAAAAeHdAAAAAAAB4d0AAAAAAAHh3QAAAAAAAAHRAAAAAAAB4jkAAAAAAAHiOQAAAAAAAeI5AAAAAAAB4jkAAAAAAAKCEQAAAAAAAoIRAAAAAAADcgEAAAAAAANyAQAAAAAAA3IBAMzMzMzMTgEAzMzMzMxOAQDMzMzMzE4BAMzMzMzMTgEAAAAAAALCSQAAAAAAAsJJAAAAAAACAdkAAAAAAAMByQAAAAAAAwHJA",
          "dtype": "f8"
         },
         "yaxis": "y"
        },
        {
         "hovertemplate": "country=USA<br>orderdate=%{x}<br>totalamount=%{marker.size}<extra></extra>",
         "legendgroup": "USA",
         "marker": {
          "color": "#FF97FF",
          "size": {
           "bdata": "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",
           "dtype": "f8"
          },
          "sizemode": "area",
          "sizeref": 43.125,
          "symbol": "circle"
         },
         "mode": "markers",
         "name": "USA",
         "showlegend": true,
         "type": "scattergl",
         "x": [
          "2012-07-01T00:00:00.000000000",
          "2012-07-01T00:00:00.000000000",
          "2012-07-01T00:00:00.000000000",
          "2012-07-01T00:00:00.000000000",
          "2012-07-01T00:00:00.000000000",
          "2012-08-01T00:00:00.000000000",
          "2012-08-01T00:00:00.000000000",
          "2012-08-01T00:00:00.000000000",
          "2012-08-01T00:00:00.000000000",
          "2012-08-01T00:00:00.000000000",
          "2012-08-01T00:00:00.000000000",
          "2012-08-01T00:00:00.000000000",
          "2012-08-01T00:00:00.000000000",
          "2012-08-01T00:00:00.000000000",
          "2012-09-01T00:00:00.000000000",
          "2012-09-01T00:00:00.000000000",
          "2012-09-01T00:00:00.000000000",
          "2012-09-01T00:00:00.000000000",
          "2012-09-01T00:00:00.000000000",
          "2012-09-01T00:00:00.000000000",
          "2012-09-01T00:00:00.000000000",
          "2012-09-01T00:00:00.000000000",
          "2012-09-01T00:00:00.000000000",
          "2012-09-01T00:00:00.000000000",
          "2012-09-01T00:00:00.000000000",
          "2012-09-01T00:00:00.000000000",
          "2012-09-01T00:00:00.000000000",
          "2012-10-01T00:00:00.000000000",
          "2012-10-01T00:00:00.000000000",
          "2012-10-01T00:00:00.000000000",
          "2012-10-01T00:00:00.000000000",
          "2012-10-01T00:00:00.000000000",
          "2012-10-01T00:00:00.000000000",
          "2012-10-01T00:00:00.000000000",
          "2012-10-01T00:00:00.000000000",
          "2012-10-01T00:00:00.000000000",
          "2012-10-01T00:00:00.000000000",
          "2012-10-01T00:00:00.000000000",
          "2012-11-01T00:00:00.000000000",
          "2012-11-01T00:00:00.000000000",
          "2012-11-01T00:00:00.000000000",
          "2012-11-01T00:00:00.000000000",
          "2012-11-01T00:00:00.000000000",
          "2012-12-01T00:00:00.000000000",
          "2012-12-01T00:00:00.000000000",
          "2012-12-01T00:00:00.000000000",
          "2012-12-01T00:00:00.000000000",
          "2012-12-01T00:00:00.000000000",
          "2012-12-01T00:00:00.000000000",
          "2012-12-01T00:00:00.000000000",
          "2012-12-01T00:00:00.000000000",
          "2012-12-01T00:00:00.000000000",
          "2012-12-01T00:00:00.000000000",
          "2012-12-01T00:00:00.000000000",
          "2012-12-01T00:00:00.000000000",
          "2012-12-01T00:00:00.000000000",
          "2012-12-01T00:00:00.000000000",
          "2012-12-01T00:00:00.000000000",
          "2012-12-01T00:00:00.000000000",
          "2013-01-01T00:00:00.000000000",
          "2013-01-01T00:00:00.000000000",
          "2013-01-01T00:00:00.000000000",
          "2013-01-01T00:00:00.000000000",
          "2013-01-01T00:00:00.000000000",
          "2013-01-01T00:00:00.000000000",
          "2013-01-01T00:00:00.000000000",
          "2013-01-01T00:00:00.000000000",
          "2013-02-01T00:00:00.000000000",
          "2013-02-01T00:00:00.000000000",
          "2013-02-01T00:00:00.000000000",
          "2013-02-01T00:00:00.000000000",
          "2013-02-01T00:00:00.000000000",
          "2013-02-01T00:00:00.000000000",
          "2013-02-01T00:00:00.000000000",
          "2013-03-01T00:00:00.000000000",
          "2013-03-01T00:00:00.000000000",
          "2013-03-01T00:00:00.000000000",
          "2013-03-01T00:00:00.000000000",
          "2013-03-01T00:00:00.000000000",
          "2013-03-01T00:00:00.000000000",
          "2013-03-01T00:00:00.000000000",
          "2013-03-01T00:00:00.000000000",
          "2013-03-01T00:00:00.000000000",
          "2013-03-01T00:00:00.000000000",
          "2013-04-01T00:00:00.000000000",
          "2013-04-01T00:00:00.000000000",
          "2013-04-01T00:00:00.000000000",
          "2013-04-01T00:00:00.000000000",
          "2013-04-01T00:00:00.000000000",
          "2013-04-01T00:00:00.000000000",
          "2013-05-01T00:00:00.000000000",
          "2013-05-01T00:00:00.000000000",
          "2013-05-01T00:00:00.000000000",
          "2013-05-01T00:00:00.000000000",
          "2013-05-01T00:00:00.000000000",
          "2013-05-01T00:00:00.000000000",
          "2013-06-01T00:00:00.000000000",
          "2013-06-01T00:00:00.000000000",
          "2013-06-01T00:00:00.000000000",
          "2013-06-01T00:00:00.000000000",
          "2013-06-01T00:00:00.000000000",
          "2013-06-01T00:00:00.000000000",
          "2013-06-01T00:00:00.000000000",
          "2013-06-01T00:00:00.000000000",
          "2013-06-01T00:00:00.000000000",
          "2013-06-01T00:00:00.000000000",
          "2013-06-01T00:00:00.000000000",
          "2013-06-01T00:00:00.000000000",
          "2013-06-01T00:00:00.000000000",
          "2013-06-01T00:00:00.000000000",
          "2013-06-01T00:00:00.000000000",
          "2013-06-01T00:00:00.000000000",
          "2013-06-01T00:00:00.000000000",
          "2013-06-01T00:00:00.000000000",
          "2013-06-01T00:00:00.000000000",
          "2013-07-01T00:00:00.000000000",
          "2013-07-01T00:00:00.000000000",
          "2013-07-01T00:00:00.000000000",
          "2013-07-01T00:00:00.000000000",
          "2013-07-01T00:00:00.000000000",
          "2013-07-01T00:00:00.000000000",
          "2013-07-01T00:00:00.000000000",
          "2013-07-01T00:00:00.000000000",
          "2013-07-01T00:00:00.000000000",
          "2013-07-01T00:00:00.000000000",
          "2013-07-01T00:00:00.000000000",
          "2013-07-01T00:00:00.000000000",
          "2013-07-01T00:00:00.000000000",
          "2013-07-01T00:00:00.000000000",
          "2013-07-01T00:00:00.000000000",
          "2013-07-01T00:00:00.000000000",
          "2013-07-01T00:00:00.000000000",
          "2013-07-01T00:00:00.000000000",
          "2013-07-01T00:00:00.000000000",
          "2013-07-01T00:00:00.000000000",
          "2013-07-01T00:00:00.000000000",
          "2013-07-01T00:00:00.000000000",
          "2013-07-01T00:00:00.000000000",
          "2013-07-01T00:00:00.000000000",
          "2013-07-01T00:00:00.000000000",
          "2013-07-01T00:00:00.000000000",
          "2013-07-01T00:00:00.000000000",
          "2013-08-01T00:00:00.000000000",
          "2013-08-01T00:00:00.000000000",
          "2013-08-01T00:00:00.000000000",
          "2013-08-01T00:00:00.000000000",
          "2013-08-01T00:00:00.000000000",
          "2013-09-01T00:00:00.000000000",
          "2013-09-01T00:00:00.000000000",
          "2013-09-01T00:00:00.000000000",
          "2013-09-01T00:00:00.000000000",
          "2013-09-01T00:00:00.000000000",
          "2013-09-01T00:00:00.000000000",
          "2013-09-01T00:00:00.000000000",
          "2013-09-01T00:00:00.000000000",
          "2013-09-01T00:00:00.000000000",
          "2013-09-01T00:00:00.000000000",
          "2013-09-01T00:00:00.000000000",
          "2013-09-01T00:00:00.000000000",
          "2013-09-01T00:00:00.000000000",
          "2013-09-01T00:00:00.000000000",
          "2013-09-01T00:00:00.000000000",
          "2013-09-01T00:00:00.000000000",
          "2013-09-01T00:00:00.000000000",
          "2013-09-01T00:00:00.000000000",
          "2013-09-01T00:00:00.000000000",
          "2013-09-01T00:00:00.000000000",
          "2013-09-01T00:00:00.000000000",
          "2013-09-01T00:00:00.000000000",
          "2013-09-01T00:00:00.000000000",
          "2013-09-01T00:00:00.000000000",
          "2013-10-01T00:00:00.000000000",
          "2013-10-01T00:00:00.000000000",
          "2013-10-01T00:00:00.000000000",
          "2013-10-01T00:00:00.000000000",
          "2013-10-01T00:00:00.000000000",
          "2013-10-01T00:00:00.000000000",
          "2013-10-01T00:00:00.000000000",
          "2013-10-01T00:00:00.000000000",
          "2013-10-01T00:00:00.000000000",
          "2013-10-01T00:00:00.000000000",
          "2013-10-01T00:00:00.000000000",
          "2013-10-01T00:00:00.000000000",
          "2013-10-01T00:00:00.000000000",
          "2013-10-01T00:00:00.000000000",
          "2013-10-01T00:00:00.000000000",
          "2013-10-01T00:00:00.000000000",
          "2013-10-01T00:00:00.000000000",
          "2013-10-01T00:00:00.000000000",
          "2013-10-01T00:00:00.000000000",
          "2013-10-01T00:00:00.000000000",
          "2013-10-01T00:00:00.000000000",
          "2013-10-01T00:00:00.000000000",
          "2013-10-01T00:00:00.000000000",
          "2013-10-01T00:00:00.000000000",
          "2013-10-01T00:00:00.000000000",
          "2013-10-01T00:00:00.000000000",
          "2013-10-01T00:00:00.000000000",
          "2013-10-01T00:00:00.000000000",
          "2013-10-01T00:00:00.000000000",
          "2013-10-01T00:00:00.000000000",
          "2013-10-01T00:00:00.000000000",
          "2013-10-01T00:00:00.000000000",
          "2013-10-01T00:00:00.000000000",
          "2013-10-01T00:00:00.000000000",
          "2013-10-01T00:00:00.000000000",
          "2013-11-01T00:00:00.000000000",
          "2013-11-01T00:00:00.000000000",
          "2013-11-01T00:00:00.000000000",
          "2013-11-01T00:00:00.000000000",
          "2013-11-01T00:00:00.000000000",
          "2013-11-01T00:00:00.000000000",
          "2013-11-01T00:00:00.000000000",
          "2013-11-01T00:00:00.000000000",
          "2013-11-01T00:00:00.000000000",
          "2013-11-01T00:00:00.000000000",
          "2013-11-01T00:00:00.000000000",
          "2013-11-01T00:00:00.000000000",
          "2013-11-01T00:00:00.000000000",
          "2013-11-01T00:00:00.000000000",
          "2013-11-01T00:00:00.000000000",
          "2013-11-01T00:00:00.000000000",
          "2013-11-01T00:00:00.000000000",
          "2013-12-01T00:00:00.000000000",
          "2013-12-01T00:00:00.000000000",
          "2013-12-01T00:00:00.000000000",
          "2013-12-01T00:00:00.000000000",
          "2013-12-01T00:00:00.000000000",
          "2013-12-01T00:00:00.000000000",
          "2014-01-01T00:00:00.000000000",
          "2014-01-01T00:00:00.000000000",
          "2014-01-01T00:00:00.000000000",
          "2014-01-01T00:00:00.000000000",
          "2014-01-01T00:00:00.000000000",
          "2014-01-01T00:00:00.000000000",
          "2014-01-01T00:00:00.000000000",
          "2014-01-01T00:00:00.000000000",
          "2014-01-01T00:00:00.000000000",
          "2014-01-01T00:00:00.000000000",
          "2014-01-01T00:00:00.000000000",
          "2014-01-01T00:00:00.000000000",
          "2014-01-01T00:00:00.000000000",
          "2014-01-01T00:00:00.000000000",
          "2014-01-01T00:00:00.000000000",
          "2014-01-01T00:00:00.000000000",
          "2014-01-01T00:00:00.000000000",
          "2014-01-01T00:00:00.000000000",
          "2014-01-01T00:00:00.000000000",
          "2014-01-01T00:00:00.000000000",
          "2014-01-01T00:00:00.000000000",
          "2014-01-01T00:00:00.000000000",
          "2014-01-01T00:00:00.000000000",
          "2014-01-01T00:00:00.000000000",
          "2014-01-01T00:00:00.000000000",
          "2014-01-01T00:00:00.000000000",
          "2014-01-01T00:00:00.000000000",
          "2014-01-01T00:00:00.000000000",
          "2014-02-01T00:00:00.000000000",
          "2014-02-01T00:00:00.000000000",
          "2014-02-01T00:00:00.000000000",
          "2014-02-01T00:00:00.000000000",
          "2014-02-01T00:00:00.000000000",
          "2014-02-01T00:00:00.000000000",
          "2014-02-01T00:00:00.000000000",
          "2014-02-01T00:00:00.000000000",
          "2014-02-01T00:00:00.000000000",
          "2014-02-01T00:00:00.000000000",
          "2014-02-01T00:00:00.000000000",
          "2014-02-01T00:00:00.000000000",
          "2014-02-01T00:00:00.000000000",
          "2014-02-01T00:00:00.000000000",
          "2014-02-01T00:00:00.000000000",
          "2014-03-01T00:00:00.000000000",
          "2014-03-01T00:00:00.000000000",
          "2014-03-01T00:00:00.000000000",
          "2014-03-01T00:00:00.000000000",
          "2014-03-01T00:00:00.000000000",
          "2014-03-01T00:00:00.000000000",
          "2014-03-01T00:00:00.000000000",
          "2014-03-01T00:00:00.000000000",
          "2014-03-01T00:00:00.000000000",
          "2014-03-01T00:00:00.000000000",
          "2014-03-01T00:00:00.000000000",
          "2014-03-01T00:00:00.000000000",
          "2014-03-01T00:00:00.000000000",
          "2014-03-01T00:00:00.000000000",
          "2014-04-01T00:00:00.000000000",
          "2014-04-01T00:00:00.000000000",
          "2014-04-01T00:00:00.000000000",
          "2014-04-01T00:00:00.000000000",
          "2014-04-01T00:00:00.000000000",
          "2014-04-01T00:00:00.000000000",
          "2014-04-01T00:00:00.000000000",
          "2014-04-01T00:00:00.000000000",
          "2014-04-01T00:00:00.000000000",
          "2014-04-01T00:00:00.000000000",
          "2014-04-01T00:00:00.000000000",
          "2014-04-01T00:00:00.000000000",
          "2014-04-01T00:00:00.000000000",
          "2014-04-01T00:00:00.000000000",
          "2014-04-01T00:00:00.000000000",
          "2014-04-01T00:00:00.000000000",
          "2014-04-01T00:00:00.000000000",
          "2014-04-01T00:00:00.000000000",
          "2014-04-01T00:00:00.000000000",
          "2014-04-01T00:00:00.000000000",
          "2014-04-01T00:00:00.000000000",
          "2014-04-01T00:00:00.000000000",
          "2014-04-01T00:00:00.000000000",
          "2014-04-01T00:00:00.000000000",
          "2014-04-01T00:00:00.000000000",
          "2014-04-01T00:00:00.000000000",
          "2014-04-01T00:00:00.000000000",
          "2014-04-01T00:00:00.000000000",
          "2014-04-01T00:00:00.000000000",
          "2014-04-01T00:00:00.000000000",
          "2014-04-01T00:00:00.000000000",
          "2014-04-01T00:00:00.000000000",
          "2014-04-01T00:00:00.000000000",
          "2014-05-01T00:00:00.000000000",
          "2014-05-01T00:00:00.000000000",
          "2014-05-01T00:00:00.000000000",
          "2014-05-01T00:00:00.000000000",
          "2014-05-01T00:00:00.000000000",
          "2014-05-01T00:00:00.000000000",
          "2014-05-01T00:00:00.000000000",
          "2014-05-01T00:00:00.000000000",
          "2014-05-01T00:00:00.000000000",
          "2014-05-01T00:00:00.000000000",
          "2014-05-01T00:00:00.000000000",
          "2014-05-01T00:00:00.000000000",
          "2014-05-01T00:00:00.000000000",
          "2014-05-01T00:00:00.000000000",
          "2014-05-01T00:00:00.000000000",
          "2014-05-01T00:00:00.000000000",
          "2014-05-01T00:00:00.000000000",
          "2014-05-01T00:00:00.000000000",
          "2014-05-01T00:00:00.000000000",
          "2014-05-01T00:00:00.000000000",
          "2014-05-01T00:00:00.000000000",
          "2014-05-01T00:00:00.000000000",
          "2014-05-01T00:00:00.000000000",
          "2014-05-01T00:00:00.000000000",
          "2014-05-01T00:00:00.000000000",
          "2014-05-01T00:00:00.000000000",
          "2014-05-01T00:00:00.000000000",
          "2014-05-01T00:00:00.000000000",
          "2014-05-01T00:00:00.000000000",
          "2014-05-01T00:00:00.000000000",
          "2014-05-01T00:00:00.000000000",
          "2014-05-01T00:00:00.000000000",
          "2014-05-01T00:00:00.000000000"
         ],
         "xaxis": "x",
         "y": {
          "bdata": "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",
          "dtype": "f8"
         },
         "yaxis": "y"
        },
        {
         "hovertemplate": "country=Sweden<br>orderdate=%{x}<br>totalamount=%{marker.size}<extra></extra>",
         "legendgroup": "Sweden",
         "marker": {
          "color": "#FECB52",
          "size": {
           "bdata": "AAAAAACkhkAAAAAAAKSGQDMzMzMzQ5dAMzMzMzNDl0AzMzMzM0OXQDMzMzMzQ5dAmpmZmZkpg0CamZmZmSmDQJqZmZmZKYNAAAAAAACtoUAAAAAAAK2hQAAAAAAAraFAAAAAAACtoUDNzMzMzMxZQM3MzMzMXKFAzczMzMxcoUAAAAAAAIB2QAAAAAAAgHZAzczMzMwekEDNzMzMzB6QQM3MzMzMHpBAzczMzMwekEDNzMzMzNxlQM3MzMzM3GVAmpmZmZlZbUCamZmZmVltQM3MzMxM8ahAzczMzEzxqEDNzMzMTPGoQM3MzMxM8ahAZmZmZmbuoUBmZmZmZu6hQGZmZmZm7qFAAAAAAAA5pkAAAAAAADmmQJqZmZmZdphAmpmZmZl2mECamZmZmXaYQJqZmZmZdphAZmZmZmZ+l0BmZmZmZn6XQGZmZmZmfpdAmpmZmZnlhECamZmZmeWEQJqZmZmZ5YRAAAAAAIBysEAAAAAAgHKwQAAAAAAAsINAAAAAAADio0AAAAAAAOKjQAAAAAAA4qNAAAAAAADMlkAAAAAAAMyWQAAAAAAAzJZAAAAAAADxsEAAAAAAAPGwQAAAAAAA8bBAAAAAAADxsEAAAAAAAFiLQAAAAAAAWItAAAAAAAAgWECamZmZmVlvQJqZmZmZWW9AAAAAAACYk0AAAAAAAJiTQAAAAAAAmJNAAAAAAACYk0BmZmZm5o2kQGZmZmbmjaRAZmZmZuaNpEBmZmZmZtaWQGZmZmZm1pZAZmZmZmbWlkAAAAAAAMyGQAAAAAAAzIZAAAAAAADMhkAAAAAAAEydQAAAAAAATJ1AAAAAAABMnUBmZmZmZr6PQGZmZmZmvo9AAAAAAADKn0AAAAAAAMqfQAAAAAAAyp9AAAAAAABAV0AAAAAAAHKhQAAAAAAAcqFAAAAAAAByoUAAAAAAAHKhQAAAAAAAYHNAAAAAAEB/uUAAAAAAQH+5QAAAAAAAoqVAAAAAAACipUAAAAAAAKKlQAAAAAAAoqVAAAAAAAAgjEA=",
           "dtype": "f8"
          },
          "sizemode": "area",
          "sizeref": 43.125,
          "symbol": "circle"
         },
         "mode": "markers",
         "name": "Sweden",
         "showlegend": true,
         "type": "scattergl",
         "x": [
          "2012-07-01T00:00:00.000000000",
          "2012-07-01T00:00:00.000000000",
          "2012-08-01T00:00:00.000000000",
          "2012-08-01T00:00:00.000000000",
          "2012-08-01T00:00:00.000000000",
          "2012-08-01T00:00:00.000000000",
          "2012-08-01T00:00:00.000000000",
          "2012-08-01T00:00:00.000000000",
          "2012-08-01T00:00:00.000000000",
          "2012-10-01T00:00:00.000000000",
          "2012-10-01T00:00:00.000000000",
          "2012-10-01T00:00:00.000000000",
          "2012-10-01T00:00:00.000000000",
          "2012-12-01T00:00:00.000000000",
          "2012-12-01T00:00:00.000000000",
          "2012-12-01T00:00:00.000000000",
          "2013-02-01T00:00:00.000000000",
          "2013-02-01T00:00:00.000000000",
          "2013-02-01T00:00:00.000000000",
          "2013-02-01T00:00:00.000000000",
          "2013-02-01T00:00:00.000000000",
          "2013-02-01T00:00:00.000000000",
          "2013-02-01T00:00:00.000000000",
          "2013-02-01T00:00:00.000000000",
          "2013-02-01T00:00:00.000000000",
          "2013-02-01T00:00:00.000000000",
          "2013-05-01T00:00:00.000000000",
          "2013-05-01T00:00:00.000000000",
          "2013-05-01T00:00:00.000000000",
          "2013-05-01T00:00:00.000000000",
          "2013-05-01T00:00:00.000000000",
          "2013-05-01T00:00:00.000000000",
          "2013-05-01T00:00:00.000000000",
          "2013-06-01T00:00:00.000000000",
          "2013-06-01T00:00:00.000000000",
          "2013-06-01T00:00:00.000000000",
          "2013-06-01T00:00:00.000000000",
          "2013-06-01T00:00:00.000000000",
          "2013-06-01T00:00:00.000000000",
          "2013-08-01T00:00:00.000000000",
          "2013-08-01T00:00:00.000000000",
          "2013-08-01T00:00:00.000000000",
          "2013-09-01T00:00:00.000000000",
          "2013-09-01T00:00:00.000000000",
          "2013-09-01T00:00:00.000000000",
          "2013-09-01T00:00:00.000000000",
          "2013-09-01T00:00:00.000000000",
          "2013-10-01T00:00:00.000000000",
          "2013-10-01T00:00:00.000000000",
          "2013-10-01T00:00:00.000000000",
          "2013-10-01T00:00:00.000000000",
          "2013-11-01T00:00:00.000000000",
          "2013-11-01T00:00:00.000000000",
          "2013-11-01T00:00:00.000000000",
          "2013-12-01T00:00:00.000000000",
          "2013-12-01T00:00:00.000000000",
          "2013-12-01T00:00:00.000000000",
          "2013-12-01T00:00:00.000000000",
          "2013-12-01T00:00:00.000000000",
          "2013-12-01T00:00:00.000000000",
          "2013-12-01T00:00:00.000000000",
          "2014-01-01T00:00:00.000000000",
          "2014-01-01T00:00:00.000000000",
          "2014-01-01T00:00:00.000000000",
          "2014-01-01T00:00:00.000000000",
          "2014-01-01T00:00:00.000000000",
          "2014-01-01T00:00:00.000000000",
          "2014-01-01T00:00:00.000000000",
          "2014-01-01T00:00:00.000000000",
          "2014-01-01T00:00:00.000000000",
          "2014-02-01T00:00:00.000000000",
          "2014-02-01T00:00:00.000000000",
          "2014-02-01T00:00:00.000000000",
          "2014-02-01T00:00:00.000000000",
          "2014-02-01T00:00:00.000000000",
          "2014-02-01T00:00:00.000000000",
          "2014-02-01T00:00:00.000000000",
          "2014-02-01T00:00:00.000000000",
          "2014-02-01T00:00:00.000000000",
          "2014-02-01T00:00:00.000000000",
          "2014-02-01T00:00:00.000000000",
          "2014-03-01T00:00:00.000000000",
          "2014-03-01T00:00:00.000000000",
          "2014-03-01T00:00:00.000000000",
          "2014-03-01T00:00:00.000000000",
          "2014-03-01T00:00:00.000000000",
          "2014-03-01T00:00:00.000000000",
          "2014-03-01T00:00:00.000000000",
          "2014-03-01T00:00:00.000000000",
          "2014-03-01T00:00:00.000000000",
          "2014-04-01T00:00:00.000000000",
          "2014-04-01T00:00:00.000000000",
          "2014-04-01T00:00:00.000000000",
          "2014-04-01T00:00:00.000000000",
          "2014-04-01T00:00:00.000000000",
          "2014-04-01T00:00:00.000000000",
          "2014-04-01T00:00:00.000000000"
         ],
         "xaxis": "x",
         "y": {
          "bdata": "AAAAAACkhkAAAAAAAKSGQDMzMzMzQ5dAMzMzMzNDl0AzMzMzM0OXQDMzMzMzQ5dAmpmZmZkpg0CamZmZmSmDQJqZmZmZKYNAAAAAAACtoUAAAAAAAK2hQAAAAAAAraFAAAAAAACtoUDNzMzMzMxZQM3MzMzMXKFAzczMzMxcoUAAAAAAAIB2QAAAAAAAgHZAzczMzMwekEDNzMzMzB6QQM3MzMzMHpBAzczMzMwekEDNzMzMzNxlQM3MzMzM3GVAmpmZmZlZbUCamZmZmVltQM3MzMxM8ahAzczMzEzxqEDNzMzMTPGoQM3MzMxM8ahAZmZmZmbuoUBmZmZmZu6hQGZmZmZm7qFAAAAAAAA5pkAAAAAAADmmQJqZmZmZdphAmpmZmZl2mECamZmZmXaYQJqZmZmZdphAZmZmZmZ+l0BmZmZmZn6XQGZmZmZmfpdAmpmZmZnlhECamZmZmeWEQJqZmZmZ5YRAAAAAAIBysEAAAAAAgHKwQAAAAAAAsINAAAAAAADio0AAAAAAAOKjQAAAAAAA4qNAAAAAAADMlkAAAAAAAMyWQAAAAAAAzJZAAAAAAADxsEAAAAAAAPGwQAAAAAAA8bBAAAAAAADxsEAAAAAAAFiLQAAAAAAAWItAAAAAAAAgWECamZmZmVlvQJqZmZmZWW9AAAAAAACYk0AAAAAAAJiTQAAAAAAAmJNAAAAAAACYk0BmZmZm5o2kQGZmZmbmjaRAZmZmZuaNpEBmZmZmZtaWQGZmZmZm1pZAZmZmZmbWlkAAAAAAAMyGQAAAAAAAzIZAAAAAAADMhkAAAAAAAEydQAAAAAAATJ1AAAAAAABMnUBmZmZmZr6PQGZmZmZmvo9AAAAAAADKn0AAAAAAAMqfQAAAAAAAyp9AAAAAAABAV0AAAAAAAHKhQAAAAAAAcqFAAAAAAAByoUAAAAAAAHKhQAAAAAAAYHNAAAAAAEB/uUAAAAAAQH+5QAAAAAAAoqVAAAAAAACipUAAAAAAAKKlQAAAAAAAoqVAAAAAAAAgjEA=",
          "dtype": "f8"
         },
         "yaxis": "y"
        },
        {
         "hovertemplate": "country=Finland<br>orderdate=%{x}<br>totalamount=%{marker.size}<extra></extra>",
         "legendgroup": "Finland",
         "marker": {
          "color": "#636efa",
          "size": {
           "bdata": "zczMzMzMdkAAAAAAAICVQAAAAAAAgJVAAAAAAAAggEAAAAAAANCNQAAAAAAA0I1AAAAAAADQjUAAAAAAAEB3QAAAAAAAgIZAAAAAAACAhkAAAAAAAICGQAAAAAAAkHhAAAAAAAD4pEAAAAAAAPikQAAAAAAA+KRAAAAAAAD4pEAAAAAAAACVQAAAAAAAAJVAAAAAAAAAlUAzMzMzMymYQDMzMzMzKZhAMzMzMzMpmEAzMzMzMymYQDMzMzMzKZhAzczMzMzbokDNzMzMzNuiQM3MzMzM26JAAAAAAAAAXkAAAAAAAKyDQAAAAAAArINAmpmZmZnFeUCamZmZmcV5QJqZmZmZxXlAAAAAAAAQhEAAAAAAABCEQAAAAAAAEIRAAAAAAAA9nUAAAAAAAD2dQAAAAAAAPZ1AZmZmZmaxkUBmZmZmZrGRQGZmZmZmsZFAzczMzMwMdUDNzMzMzAx1QGZmZmZmGoNAZmZmZmYag0BmZmZmZhqDQGZmZmZmTnxAZmZmZmZOfEBmZmZmZk58QAAAAAAAUIJAAAAAAABQgkAAAAAAAMByQAAAAAAAwHJA",
           "dtype": "f8"
          },
          "sizemode": "area",
          "sizeref": 43.125,
          "symbol": "circle"
         },
         "mode": "markers",
         "name": "Finland",
         "showlegend": true,
         "type": "scattergl",
         "x": [
          "2012-07-01T00:00:00.000000000",
          "2012-08-01T00:00:00.000000000",
          "2012-08-01T00:00:00.000000000",
          "2012-10-01T00:00:00.000000000",
          "2012-10-01T00:00:00.000000000",
          "2012-10-01T00:00:00.000000000",
          "2012-10-01T00:00:00.000000000",
          "2013-01-01T00:00:00.000000000",
          "2013-01-01T00:00:00.000000000",
          "2013-01-01T00:00:00.000000000",
          "2013-01-01T00:00:00.000000000",
          "2013-02-01T00:00:00.000000000",
          "2013-02-01T00:00:00.000000000",
          "2013-02-01T00:00:00.000000000",
          "2013-02-01T00:00:00.000000000",
          "2013-02-01T00:00:00.000000000",
          "2013-05-01T00:00:00.000000000",
          "2013-05-01T00:00:00.000000000",
          "2013-05-01T00:00:00.000000000",
          "2013-05-01T00:00:00.000000000",
          "2013-05-01T00:00:00.000000000",
          "2013-05-01T00:00:00.000000000",
          "2013-05-01T00:00:00.000000000",
          "2013-05-01T00:00:00.000000000",
          "2013-06-01T00:00:00.000000000",
          "2013-06-01T00:00:00.000000000",
          "2013-06-01T00:00:00.000000000",
          "2013-07-01T00:00:00.000000000",
          "2013-08-01T00:00:00.000000000",
          "2013-08-01T00:00:00.000000000",
          "2013-09-01T00:00:00.000000000",
          "2013-09-01T00:00:00.000000000",
          "2013-09-01T00:00:00.000000000",
          "2013-10-01T00:00:00.000000000",
          "2013-10-01T00:00:00.000000000",
          "2013-10-01T00:00:00.000000000",
          "2013-11-01T00:00:00.000000000",
          "2013-11-01T00:00:00.000000000",
          "2013-11-01T00:00:00.000000000",
          "2013-12-01T00:00:00.000000000",
          "2013-12-01T00:00:00.000000000",
          "2013-12-01T00:00:00.000000000",
          "2014-02-01T00:00:00.000000000",
          "2014-02-01T00:00:00.000000000",
          "2014-02-01T00:00:00.000000000",
          "2014-02-01T00:00:00.000000000",
          "2014-02-01T00:00:00.000000000",
          "2014-02-01T00:00:00.000000000",
          "2014-02-01T00:00:00.000000000",
          "2014-02-01T00:00:00.000000000",
          "2014-04-01T00:00:00.000000000",
          "2014-04-01T00:00:00.000000000",
          "2014-04-01T00:00:00.000000000",
          "2014-04-01T00:00:00.000000000"
         ],
         "xaxis": "x",
         "y": {
          "bdata": "zczMzMzMdkAAAAAAAICVQAAAAAAAgJVAAAAAAAAggEAAAAAAANCNQAAAAAAA0I1AAAAAAADQjUAAAAAAAEB3QAAAAAAAgIZAAAAAAACAhkAAAAAAAICGQAAAAAAAkHhAAAAAAAD4pEAAAAAAAPikQAAAAAAA+KRAAAAAAAD4pEAAAAAAAACVQAAAAAAAAJVAAAAAAAAAlUAzMzMzMymYQDMzMzMzKZhAMzMzMzMpmEAzMzMzMymYQDMzMzMzKZhAzczMzMzbokDNzMzMzNuiQM3MzMzM26JAAAAAAAAAXkAAAAAAAKyDQAAAAAAArINAmpmZmZnFeUCamZmZmcV5QJqZmZmZxXlAAAAAAAAQhEAAAAAAABCEQAAAAAAAEIRAAAAAAAA9nUAAAAAAAD2dQAAAAAAAPZ1AZmZmZmaxkUBmZmZmZrGRQGZmZmZmsZFAzczMzMwMdUDNzMzMzAx1QGZmZmZmGoNAZmZmZmYag0BmZmZmZhqDQGZmZmZmTnxAZmZmZmZOfEBmZmZmZk58QAAAAAAAUIJAAAAAAABQgkAAAAAAAMByQAAAAAAAwHJA",
          "dtype": "f8"
         },
         "yaxis": "y"
        },
        {
         "hovertemplate": "country=Italy<br>orderdate=%{x}<br>totalamount=%{marker.size}<extra></extra>",
         "legendgroup": "Italy",
         "marker": {
          "color": "#EF553B",
          "size": {
           "bdata": "MzMzMzMzc0AzMzMzMzNzQAAAAAAAQFZAAAAAAABAVkAAAAAAAACDQAAAAAAAAINAAAAAAAAsmkAAAAAAACyaQAAAAAAALJpAZmZmZmbmSEAAAAAAAABoQM3MzMzMzIBAzczMzMzMgEBmZmZmZmZtQGZmZmZmZm1AAAAAAAD4gEAAAAAAAPiAQAAAAAAAADxAAAAAAACRlUAAAAAAAJGVQAAAAAAAkZVAAAAAAAAgaEAAAAAAAGBXQAAAAAAAYFdAAAAAAAC4mkAAAAAAALiaQAAAAAAAuJpAAAAAAAAAVkAAAAAAAABWQJqZmZmZmUtAAAAAAADImUAAAAAAAMiZQAAAAAAAyJlAZmZmZmZmMkAAAAAAAPCcQAAAAAAA8JxAAAAAAADwnEAAAAAAAAiKQAAAAAAACIpAAAAAAADQhUAAAAAAANCFQAAAAAAAcIdAAAAAAABwh0AAAAAAAICBQAAAAAAAgFtAAAAAAAAohEAAAAAAACiEQAAAAAAAGJBAAAAAAAAYkEAAAAAAAKBwQAAAAAAAoHBAAAAAAADAf0AAAAAAAMB/QA==",
           "dtype": "f8"
          },
          "sizemode": "area",
          "sizeref": 43.125,
          "symbol": "circle"
         },
         "mode": "markers",
         "name": "Italy",
         "showlegend": true,
         "type": "scattergl",
         "x": [
          "2012-08-01T00:00:00.000000000",
          "2012-08-01T00:00:00.000000000",
          "2012-08-01T00:00:00.000000000",
          "2012-08-01T00:00:00.000000000",
          "2012-09-01T00:00:00.000000000",
          "2012-09-01T00:00:00.000000000",
          "2013-01-01T00:00:00.000000000",
          "2013-01-01T00:00:00.000000000",
          "2013-01-01T00:00:00.000000000",
          "2013-01-01T00:00:00.000000000",
          "2013-01-01T00:00:00.000000000",
          "2013-02-01T00:00:00.000000000",
          "2013-02-01T00:00:00.000000000",
          "2013-03-01T00:00:00.000000000",
          "2013-03-01T00:00:00.000000000",
          "2013-06-01T00:00:00.000000000",
          "2013-06-01T00:00:00.000000000",
          "2013-07-01T00:00:00.000000000",
          "2013-08-01T00:00:00.000000000",
          "2013-08-01T00:00:00.000000000",
          "2013-08-01T00:00:00.000000000",
          "2013-09-01T00:00:00.000000000",
          "2013-10-01T00:00:00.000000000",
          "2013-10-01T00:00:00.000000000",
          "2013-11-01T00:00:00.000000000",
          "2013-11-01T00:00:00.000000000",
          "2013-11-01T00:00:00.000000000",
          "2013-11-01T00:00:00.000000000",
          "2013-11-01T00:00:00.000000000",
          "2013-11-01T00:00:00.000000000",
          "2013-12-01T00:00:00.000000000",
          "2013-12-01T00:00:00.000000000",
          "2013-12-01T00:00:00.000000000",
          "2013-12-01T00:00:00.000000000",
          "2014-01-01T00:00:00.000000000",
          "2014-01-01T00:00:00.000000000",
          "2014-01-01T00:00:00.000000000",
          "2014-01-01T00:00:00.000000000",
          "2014-01-01T00:00:00.000000000",
          "2014-02-01T00:00:00.000000000",
          "2014-02-01T00:00:00.000000000",
          "2014-03-01T00:00:00.000000000",
          "2014-03-01T00:00:00.000000000",
          "2014-03-01T00:00:00.000000000",
          "2014-03-01T00:00:00.000000000",
          "2014-04-01T00:00:00.000000000",
          "2014-04-01T00:00:00.000000000",
          "2014-04-01T00:00:00.000000000",
          "2014-04-01T00:00:00.000000000",
          "2014-04-01T00:00:00.000000000",
          "2014-04-01T00:00:00.000000000",
          "2014-04-01T00:00:00.000000000",
          "2014-04-01T00:00:00.000000000"
         ],
         "xaxis": "x",
         "y": {
          "bdata": "MzMzMzMzc0AzMzMzMzNzQAAAAAAAQFZAAAAAAABAVkAAAAAAAACDQAAAAAAAAINAAAAAAAAsmkAAAAAAACyaQAAAAAAALJpAZmZmZmbmSEAAAAAAAABoQM3MzMzMzIBAzczMzMzMgEBmZmZmZmZtQGZmZmZmZm1AAAAAAAD4gEAAAAAAAPiAQAAAAAAAADxAAAAAAACRlUAAAAAAAJGVQAAAAAAAkZVAAAAAAAAgaEAAAAAAAGBXQAAAAAAAYFdAAAAAAAC4mkAAAAAAALiaQAAAAAAAuJpAAAAAAAAAVkAAAAAAAABWQJqZmZmZmUtAAAAAAADImUAAAAAAAMiZQAAAAAAAyJlAZmZmZmZmMkAAAAAAAPCcQAAAAAAA8JxAAAAAAADwnEAAAAAAAAiKQAAAAAAACIpAAAAAAADQhUAAAAAAANCFQAAAAAAAcIdAAAAAAABwh0AAAAAAAICBQAAAAAAAgFtAAAAAAAAohEAAAAAAACiEQAAAAAAAGJBAAAAAAAAYkEAAAAAAAKBwQAAAAAAAoHBAAAAAAADAf0AAAAAAAMB/QA==",
          "dtype": "f8"
         },
         "yaxis": "y"
        },
        {
         "hovertemplate": "country=Spain<br>orderdate=%{x}<br>totalamount=%{marker.size}<extra></extra>",
         "legendgroup": "Spain",
         "marker": {
          "color": "#00cc96",
          "size": {
           "bdata": "AAAAAACgVUAAAAAAAKBVQAAAAAAAoFVAzczMzMxsY0DNzMzMzGxjQAAAAAAAaJNAAAAAAABok0AAAAAAAGiTQAAAAAAAKH9AAAAAAAAof0AAAAAAACh/QAAAAAAAsI5AAAAAAACwjkAAAAAAALCOQAAAAAAAAGFAAAAAAAAAYUAzMzMzMyN1QDMzMzMzI3VAAAAAAABoh0AAAAAAAGiHQAAAAAAAaIdAAAAAAABoh0AAAAAAAGBjQJqZmZkZrqVAmpmZmRmupUCamZmZmYevQJqZmZmZh69AmpmZmZntoECamZmZme2gQJqZmZmZ7aBAmpmZmZntoEAAAAAAAGBzQAAAAAAAgFFAAAAAAADogkAAAAAAAOiCQAAAAAAA0IpAAAAAAADQikAAAAAAANCKQArXo3A93nZACtejcD3edkAAAAAAADBhQAAAAAAAMGFAAAAAAIB0okAAAAAAgHSiQAAAAACAdKJAAAAAAACAcUAAAAAAAPCFQAAAAAAA8IVAAAAAAADwhUAAAAAAAJB2QAAAAAAAkHZAAAAAAACQdkAAAAAAAJB2QAAAAAAAAE5A",
           "dtype": "f8"
          },
          "sizemode": "area",
          "sizeref": 43.125,
          "symbol": "circle"
         },
         "mode": "markers",
         "name": "Spain",
         "showlegend": true,
         "type": "scattergl",
         "x": [
          "2012-08-01T00:00:00.000000000",
          "2012-08-01T00:00:00.000000000",
          "2012-08-01T00:00:00.000000000",
          "2012-08-01T00:00:00.000000000",
          "2012-08-01T00:00:00.000000000",
          "2012-09-01T00:00:00.000000000",
          "2012-09-01T00:00:00.000000000",
          "2012-09-01T00:00:00.000000000",
          "2012-09-01T00:00:00.000000000",
          "2012-09-01T00:00:00.000000000",
          "2012-09-01T00:00:00.000000000",
          "2012-10-01T00:00:00.000000000",
          "2012-10-01T00:00:00.000000000",
          "2012-10-01T00:00:00.000000000",
          "2012-11-01T00:00:00.000000000",
          "2012-11-01T00:00:00.000000000",
          "2013-01-01T00:00:00.000000000",
          "2013-01-01T00:00:00.000000000",
          "2013-05-01T00:00:00.000000000",
          "2013-05-01T00:00:00.000000000",
          "2013-05-01T00:00:00.000000000",
          "2013-05-01T00:00:00.000000000",
          "2013-06-01T00:00:00.000000000",
          "2013-08-01T00:00:00.000000000",
          "2013-08-01T00:00:00.000000000",
          "2013-12-01T00:00:00.000000000",
          "2013-12-01T00:00:00.000000000",
          "2014-02-01T00:00:00.000000000",
          "2014-02-01T00:00:00.000000000",
          "2014-02-01T00:00:00.000000000",
          "2014-02-01T00:00:00.000000000",
          "2014-02-01T00:00:00.000000000",
          "2014-02-01T00:00:00.000000000",
          "2014-02-01T00:00:00.000000000",
          "2014-02-01T00:00:00.000000000",
          "2014-02-01T00:00:00.000000000",
          "2014-02-01T00:00:00.000000000",
          "2014-02-01T00:00:00.000000000",
          "2014-03-01T00:00:00.000000000",
          "2014-03-01T00:00:00.000000000",
          "2014-03-01T00:00:00.000000000",
          "2014-03-01T00:00:00.000000000",
          "2014-03-01T00:00:00.000000000",
          "2014-03-01T00:00:00.000000000",
          "2014-03-01T00:00:00.000000000",
          "2014-03-01T00:00:00.000000000",
          "2014-04-01T00:00:00.000000000",
          "2014-04-01T00:00:00.000000000",
          "2014-04-01T00:00:00.000000000",
          "2014-04-01T00:00:00.000000000",
          "2014-04-01T00:00:00.000000000",
          "2014-04-01T00:00:00.000000000",
          "2014-04-01T00:00:00.000000000",
          "2014-04-01T00:00:00.000000000"
         ],
         "xaxis": "x",
         "y": {
          "bdata": "AAAAAACgVUAAAAAAAKBVQAAAAAAAoFVAzczMzMxsY0DNzMzMzGxjQAAAAAAAaJNAAAAAAABok0AAAAAAAGiTQAAAAAAAKH9AAAAAAAAof0AAAAAAACh/QAAAAAAAsI5AAAAAAACwjkAAAAAAALCOQAAAAAAAAGFAAAAAAAAAYUAzMzMzMyN1QDMzMzMzI3VAAAAAAABoh0AAAAAAAGiHQAAAAAAAaIdAAAAAAABoh0AAAAAAAGBjQJqZmZkZrqVAmpmZmRmupUCamZmZmYevQJqZmZmZh69AmpmZmZntoECamZmZme2gQJqZmZmZ7aBAmpmZmZntoEAAAAAAAGBzQAAAAAAAgFFAAAAAAADogkAAAAAAAOiCQAAAAAAA0IpAAAAAAADQikAAAAAAANCKQArXo3A93nZACtejcD3edkAAAAAAADBhQAAAAAAAMGFAAAAAAIB0okAAAAAAgHSiQAAAAACAdKJAAAAAAACAcUAAAAAAAPCFQAAAAAAA8IVAAAAAAADwhUAAAAAAAJB2QAAAAAAAkHZAAAAAAACQdkAAAAAAAJB2QAAAAAAAAE5A",
          "dtype": "f8"
         },
         "yaxis": "y"
        },
        {
         "hovertemplate": "country=UK<br>orderdate=%{x}<br>totalamount=%{marker.size}<extra></extra>",
         "legendgroup": "UK",
         "marker": {
          "color": "#ab63fa",
          "size": {
           "bdata": "ZmZmZmb2fUBmZmZmZvZ9QGZmZmZmJoBAZmZmZmYmgEDNzMzMzAxuQM3MzMzMDG5AAAAAAAAAYkAAAAAAAAB+QAAAAAAAAH5AzczMzMyMrEDNzMzMzIysQM3MzMzMjKxAAAAAAACwjUAAAAAAALCNQAAAAAAAwI9AAAAAAADAj0AAAAAAABiMQAAAAAAAGIxAAAAAAAAYjEAAAAAAAOiTQAAAAAAA6JNAAAAAAADok0AAAAAAAO6nQAAAAAAA7qdAAAAAAADup0DNzMzMzLyDQM3MzMzMvINAzczMzMy8g0AAAAAAAFB8QAAAAAAAUHxAAAAAAACAY0AAAAAAAIBjQAAAAAAAwJRAAAAAAADAlEDNzMzMzGyQQM3MzMzMbJBAzczMzMzMbEDNzMzMzMxsQDMzMzMzI3hAMzMzMzMjeEAzMzMzMyN4QAAAAAAAAHZAAAAAAAAAdkAAAAAAAAB2QM3MzMzMN6VAzczMzMw3pUDNzMzMzDelQM3MzMzMN6VAzczMzMziiEDNzMzMzOKIQJqZmZmZeWFAmpmZmZl5YUAAAAAAADh2QAAAAAAAOHZAAAAAAAA4dkAAAAAAADh2QAAAAAAA0J1AAAAAAADQnUDNzMzMzL2gQM3MzMzMvaBAzczMzMy9oEDNzMzMzL2gQM3MzMzMvaBAAAAAAADQfUAAAAAAANB9QAAAAAAA0H5AAAAAAAC0h0AAAAAAALSHQAAAAAAAtIdAAAAAAAC0h0AAAAAAAIBGQAAAAAAAoJpAAAAAAACgmkAAAAAAAKCaQAAAAAAAeIRAAAAAAAB4hEAAAAAAANBxQAAAAAAAAHVAAAAAAADgkEAAAAAAAOCQQAAAAAAA4JBAAAAAAACAb0AAAAAAAIBvQAAAAAAAFJdAAAAAAAAUl0AAAAAAABSXQAAAAAAAFJdAMzMzMzPjZ0AzMzMzM+NnQJqZmZmZ6XtAmpmZmZnpe0CamZmZmYCZQJqZmZmZgJlAmpmZmZmAmUDNzMzMzOShQM3MzMzM5KFAzczMzMzkoUAAAAAAAJCbQAAAAAAAkJtAAAAAAACQm0AAAAAAAJCbQAAAAAAAHI1AAAAAAAAcjUAAAAAAAKBxQAAAAAAAoHFAAAAAAAB4mUAAAAAAAHiZQAAAAAAAeJlAAAAAAAB4mUAAAAAAAGB4QM3MzMzMxIxAzczMzMzEjEAAAAAAADiGQAAAAAAAOIZAAAAAAAA4hkAAAAAAAIBrQAAAAAAAQ7JAAAAAAABDskAAAAAAAKilQAAAAAAAqKVAAAAAAACopUAAAAAAALh+QAAAAAAAuH5AAAAAAABwl0AAAAAAAHCXQArXo3A9u55ACtejcD27nkAK16NwPbueQArXo3A9u55AAAAAAAAKkUAAAAAAAAqRQAAAAAAAOK1AAAAAAAA4rUAAAAAAADitQAAAAAAAgEZA",
           "dtype": "f8"
          },
          "sizemode": "area",
          "sizeref": 43.125,
          "symbol": "circle"
         },
         "mode": "markers",
         "name": "UK",
         "showlegend": true,
         "type": "scattergl",
         "x": [
          "2012-08-01T00:00:00.000000000",
          "2012-08-01T00:00:00.000000000",
          "2012-09-01T00:00:00.000000000",
          "2012-09-01T00:00:00.000000000",
          "2012-10-01T00:00:00.000000000",
          "2012-10-01T00:00:00.000000000",
          "2012-10-01T00:00:00.000000000",
          "2012-11-01T00:00:00.000000000",
          "2012-11-01T00:00:00.000000000",
          "2012-11-01T00:00:00.000000000",
          "2012-11-01T00:00:00.000000000",
          "2012-11-01T00:00:00.000000000",
          "2012-11-01T00:00:00.000000000",
          "2012-11-01T00:00:00.000000000",
          "2012-12-01T00:00:00.000000000",
          "2012-12-01T00:00:00.000000000",
          "2012-12-01T00:00:00.000000000",
          "2012-12-01T00:00:00.000000000",
          "2012-12-01T00:00:00.000000000",
          "2012-12-01T00:00:00.000000000",
          "2012-12-01T00:00:00.000000000",
          "2012-12-01T00:00:00.000000000",
          "2013-01-01T00:00:00.000000000",
          "2013-01-01T00:00:00.000000000",
          "2013-01-01T00:00:00.000000000",
          "2013-02-01T00:00:00.000000000",
          "2013-02-01T00:00:00.000000000",
          "2013-02-01T00:00:00.000000000",
          "2013-02-01T00:00:00.000000000",
          "2013-02-01T00:00:00.000000000",
          "2013-03-01T00:00:00.000000000",
          "2013-03-01T00:00:00.000000000",
          "2013-03-01T00:00:00.000000000",
          "2013-03-01T00:00:00.000000000",
          "2013-03-01T00:00:00.000000000",
          "2013-03-01T00:00:00.000000000",
          "2013-03-01T00:00:00.000000000",
          "2013-03-01T00:00:00.000000000",
          "2013-03-01T00:00:00.000000000",
          "2013-03-01T00:00:00.000000000",
          "2013-03-01T00:00:00.000000000",
          "2013-04-01T00:00:00.000000000",
          "2013-04-01T00:00:00.000000000",
          "2013-04-01T00:00:00.000000000",
          "2013-05-01T00:00:00.000000000",
          "2013-05-01T00:00:00.000000000",
          "2013-05-01T00:00:00.000000000",
          "2013-05-01T00:00:00.000000000",
          "2013-05-01T00:00:00.000000000",
          "2013-05-01T00:00:00.000000000",
          "2013-05-01T00:00:00.000000000",
          "2013-05-01T00:00:00.000000000",
          "2013-05-01T00:00:00.000000000",
          "2013-05-01T00:00:00.000000000",
          "2013-05-01T00:00:00.000000000",
          "2013-05-01T00:00:00.000000000",
          "2013-05-01T00:00:00.000000000",
          "2013-05-01T00:00:00.000000000",
          "2013-06-01T00:00:00.000000000",
          "2013-06-01T00:00:00.000000000",
          "2013-06-01T00:00:00.000000000",
          "2013-06-01T00:00:00.000000000",
          "2013-06-01T00:00:00.000000000",
          "2013-06-01T00:00:00.000000000",
          "2013-06-01T00:00:00.000000000",
          "2013-07-01T00:00:00.000000000",
          "2013-08-01T00:00:00.000000000",
          "2013-08-01T00:00:00.000000000",
          "2013-08-01T00:00:00.000000000",
          "2013-08-01T00:00:00.000000000",
          "2013-09-01T00:00:00.000000000",
          "2013-10-01T00:00:00.000000000",
          "2013-10-01T00:00:00.000000000",
          "2013-10-01T00:00:00.000000000",
          "2013-11-01T00:00:00.000000000",
          "2013-11-01T00:00:00.000000000",
          "2013-11-01T00:00:00.000000000",
          "2013-11-01T00:00:00.000000000",
          "2013-11-01T00:00:00.000000000",
          "2013-11-01T00:00:00.000000000",
          "2013-11-01T00:00:00.000000000",
          "2013-11-01T00:00:00.000000000",
          "2013-11-01T00:00:00.000000000",
          "2013-12-01T00:00:00.000000000",
          "2013-12-01T00:00:00.000000000",
          "2013-12-01T00:00:00.000000000",
          "2013-12-01T00:00:00.000000000",
          "2013-12-01T00:00:00.000000000",
          "2013-12-01T00:00:00.000000000",
          "2013-12-01T00:00:00.000000000",
          "2013-12-01T00:00:00.000000000",
          "2013-12-01T00:00:00.000000000",
          "2013-12-01T00:00:00.000000000",
          "2013-12-01T00:00:00.000000000",
          "2013-12-01T00:00:00.000000000",
          "2013-12-01T00:00:00.000000000",
          "2013-12-01T00:00:00.000000000",
          "2014-01-01T00:00:00.000000000",
          "2014-01-01T00:00:00.000000000",
          "2014-01-01T00:00:00.000000000",
          "2014-01-01T00:00:00.000000000",
          "2014-01-01T00:00:00.000000000",
          "2014-01-01T00:00:00.000000000",
          "2014-02-01T00:00:00.000000000",
          "2014-02-01T00:00:00.000000000",
          "2014-02-01T00:00:00.000000000",
          "2014-02-01T00:00:00.000000000",
          "2014-02-01T00:00:00.000000000",
          "2014-02-01T00:00:00.000000000",
          "2014-03-01T00:00:00.000000000",
          "2014-03-01T00:00:00.000000000",
          "2014-03-01T00:00:00.000000000",
          "2014-03-01T00:00:00.000000000",
          "2014-03-01T00:00:00.000000000",
          "2014-03-01T00:00:00.000000000",
          "2014-03-01T00:00:00.000000000",
          "2014-03-01T00:00:00.000000000",
          "2014-03-01T00:00:00.000000000",
          "2014-03-01T00:00:00.000000000",
          "2014-03-01T00:00:00.000000000",
          "2014-03-01T00:00:00.000000000",
          "2014-04-01T00:00:00.000000000",
          "2014-04-01T00:00:00.000000000",
          "2014-04-01T00:00:00.000000000",
          "2014-04-01T00:00:00.000000000",
          "2014-04-01T00:00:00.000000000",
          "2014-04-01T00:00:00.000000000",
          "2014-04-01T00:00:00.000000000",
          "2014-04-01T00:00:00.000000000",
          "2014-04-01T00:00:00.000000000",
          "2014-04-01T00:00:00.000000000",
          "2014-04-01T00:00:00.000000000",
          "2014-04-01T00:00:00.000000000",
          "2014-04-01T00:00:00.000000000",
          "2014-04-01T00:00:00.000000000"
         ],
         "xaxis": "x",
         "y": {
          "bdata": "ZmZmZmb2fUBmZmZmZvZ9QGZmZmZmJoBAZmZmZmYmgEDNzMzMzAxuQM3MzMzMDG5AAAAAAAAAYkAAAAAAAAB+QAAAAAAAAH5AzczMzMyMrEDNzMzMzIysQM3MzMzMjKxAAAAAAACwjUAAAAAAALCNQAAAAAAAwI9AAAAAAADAj0AAAAAAABiMQAAAAAAAGIxAAAAAAAAYjEAAAAAAAOiTQAAAAAAA6JNAAAAAAADok0AAAAAAAO6nQAAAAAAA7qdAAAAAAADup0DNzMzMzLyDQM3MzMzMvINAzczMzMy8g0AAAAAAAFB8QAAAAAAAUHxAAAAAAACAY0AAAAAAAIBjQAAAAAAAwJRAAAAAAADAlEDNzMzMzGyQQM3MzMzMbJBAzczMzMzMbEDNzMzMzMxsQDMzMzMzI3hAMzMzMzMjeEAzMzMzMyN4QAAAAAAAAHZAAAAAAAAAdkAAAAAAAAB2QM3MzMzMN6VAzczMzMw3pUDNzMzMzDelQM3MzMzMN6VAzczMzMziiEDNzMzMzOKIQJqZmZmZeWFAmpmZmZl5YUAAAAAAADh2QAAAAAAAOHZAAAAAAAA4dkAAAAAAADh2QAAAAAAA0J1AAAAAAADQnUDNzMzMzL2gQM3MzMzMvaBAzczMzMy9oEDNzMzMzL2gQM3MzMzMvaBAAAAAAADQfUAAAAAAANB9QAAAAAAA0H5AAAAAAAC0h0AAAAAAALSHQAAAAAAAtIdAAAAAAAC0h0AAAAAAAIBGQAAAAAAAoJpAAAAAAACgmkAAAAAAAKCaQAAAAAAAeIRAAAAAAAB4hEAAAAAAANBxQAAAAAAAAHVAAAAAAADgkEAAAAAAAOCQQAAAAAAA4JBAAAAAAACAb0AAAAAAAIBvQAAAAAAAFJdAAAAAAAAUl0AAAAAAABSXQAAAAAAAFJdAMzMzMzPjZ0AzMzMzM+NnQJqZmZmZ6XtAmpmZmZnpe0CamZmZmYCZQJqZmZmZgJlAmpmZmZmAmUDNzMzMzOShQM3MzMzM5KFAzczMzMzkoUAAAAAAAJCbQAAAAAAAkJtAAAAAAACQm0AAAAAAAJCbQAAAAAAAHI1AAAAAAAAcjUAAAAAAAKBxQAAAAAAAoHFAAAAAAAB4mUAAAAAAAHiZQAAAAAAAeJlAAAAAAAB4mUAAAAAAAGB4QM3MzMzMxIxAzczMzMzEjEAAAAAAADiGQAAAAAAAOIZAAAAAAAA4hkAAAAAAAIBrQAAAAAAAQ7JAAAAAAABDskAAAAAAAKilQAAAAAAAqKVAAAAAAACopUAAAAAAALh+QAAAAAAAuH5AAAAAAABwl0AAAAAAAHCXQArXo3A9u55ACtejcD27nkAK16NwPbueQArXo3A9u55AAAAAAAAKkUAAAAAAAAqRQAAAAAAAOK1AAAAAAAA4rUAAAAAAADitQAAAAAAAgEZA",
          "dtype": "f8"
         },
         "yaxis": "y"
        },
        {
         "hovertemplate": "country=Ireland<br>orderdate=%{x}<br>totalamount=%{marker.size}<extra></extra>",
         "legendgroup": "Ireland",
         "marker": {
          "color": "#FFA15A",
          "size": {
           "bdata": "AAAAAABuqEAAAAAAAG6oQAAAAAAAbqhAAAAAAABuqEAAAAAAAIibQAAAAAAAiJtAAAAAAACIm0AAAAAAAIibQAAAAAAAiJtAZmZmZmbio0BmZmZmZuKjQGZmZmZm4qNAZmZmZmbio0AAAAAAALCaQAAAAAAAsJpAMzMzMzMvlkAzMzMzMy+WQDMzMzMzL5ZAMzMzMzMvlkAAAAAAAFKbQAAAAAAAUptAAAAAAAABoEAAAAAAAAGgQAAAAAAAbaRAAAAAAABtpEAAAAAAAG2kQAAAAAAASqhAAAAAAABKqEAAAAAAAEqoQAAAAAAAIJ5AAAAAAAAgnkAAAAAAACCeQAAAAAAAIJ5AAAAAAAD6hUAAAAAAAPqFQGZmZmbmObhAZmZmZuY5uEBmZmZm5jm4QAAAAAAAVKpAAAAAAABUqkAAAAAAAFSqQJqZmZmZWZNAmpmZmZlZk0AAAAAAACiPQAAAAAAAKI9AhetRuJ4pxUCF61G4ninFQDMzMzOzJcBAMzMzM7MlwEBmZmZmZpChQGZmZmZmkKFAZmZmZmaQoUAAAAAAAJaWQAAAAAAAlpZAAAAAAACWlkA=",
           "dtype": "f8"
          },
          "sizemode": "area",
          "sizeref": 43.125,
          "symbol": "circle"
         },
         "mode": "markers",
         "name": "Ireland",
         "showlegend": true,
         "type": "scattergl",
         "x": [
          "2012-09-01T00:00:00.000000000",
          "2012-09-01T00:00:00.000000000",
          "2012-09-01T00:00:00.000000000",
          "2012-09-01T00:00:00.000000000",
          "2012-09-01T00:00:00.000000000",
          "2012-09-01T00:00:00.000000000",
          "2012-09-01T00:00:00.000000000",
          "2012-09-01T00:00:00.000000000",
          "2012-09-01T00:00:00.000000000",
          "2012-10-01T00:00:00.000000000",
          "2012-10-01T00:00:00.000000000",
          "2012-10-01T00:00:00.000000000",
          "2012-10-01T00:00:00.000000000",
          "2012-12-01T00:00:00.000000000",
          "2012-12-01T00:00:00.000000000",
          "2012-12-01T00:00:00.000000000",
          "2012-12-01T00:00:00.000000000",
          "2012-12-01T00:00:00.000000000",
          "2012-12-01T00:00:00.000000000",
          "2013-01-01T00:00:00.000000000",
          "2013-01-01T00:00:00.000000000",
          "2013-04-01T00:00:00.000000000",
          "2013-04-01T00:00:00.000000000",
          "2013-04-01T00:00:00.000000000",
          "2013-04-01T00:00:00.000000000",
          "2013-04-01T00:00:00.000000000",
          "2013-06-01T00:00:00.000000000",
          "2013-06-01T00:00:00.000000000",
          "2013-06-01T00:00:00.000000000",
          "2013-08-01T00:00:00.000000000",
          "2013-08-01T00:00:00.000000000",
          "2013-08-01T00:00:00.000000000",
          "2013-08-01T00:00:00.000000000",
          "2013-09-01T00:00:00.000000000",
          "2013-09-01T00:00:00.000000000",
          "2013-09-01T00:00:00.000000000",
          "2013-09-01T00:00:00.000000000",
          "2013-09-01T00:00:00.000000000",
          "2013-10-01T00:00:00.000000000",
          "2013-10-01T00:00:00.000000000",
          "2013-10-01T00:00:00.000000000",
          "2013-10-01T00:00:00.000000000",
          "2013-10-01T00:00:00.000000000",
          "2013-11-01T00:00:00.000000000",
          "2013-11-01T00:00:00.000000000",
          "2014-02-01T00:00:00.000000000",
          "2014-02-01T00:00:00.000000000",
          "2014-02-01T00:00:00.000000000",
          "2014-02-01T00:00:00.000000000",
          "2014-03-01T00:00:00.000000000",
          "2014-03-01T00:00:00.000000000",
          "2014-03-01T00:00:00.000000000",
          "2014-04-01T00:00:00.000000000",
          "2014-04-01T00:00:00.000000000",
          "2014-04-01T00:00:00.000000000"
         ],
         "xaxis": "x",
         "y": {
          "bdata": "AAAAAABuqEAAAAAAAG6oQAAAAAAAbqhAAAAAAABuqEAAAAAAAIibQAAAAAAAiJtAAAAAAACIm0AAAAAAAIibQAAAAAAAiJtAZmZmZmbio0BmZmZmZuKjQGZmZmZm4qNAZmZmZmbio0AAAAAAALCaQAAAAAAAsJpAMzMzMzMvlkAzMzMzMy+WQDMzMzMzL5ZAMzMzMzMvlkAAAAAAAFKbQAAAAAAAUptAAAAAAAABoEAAAAAAAAGgQAAAAAAAbaRAAAAAAABtpEAAAAAAAG2kQAAAAAAASqhAAAAAAABKqEAAAAAAAEqoQAAAAAAAIJ5AAAAAAAAgnkAAAAAAACCeQAAAAAAAIJ5AAAAAAAD6hUAAAAAAAPqFQGZmZmbmObhAZmZmZuY5uEBmZmZm5jm4QAAAAAAAVKpAAAAAAABUqkAAAAAAAFSqQJqZmZmZWZNAmpmZmZlZk0AAAAAAACiPQAAAAAAAKI9AhetRuJ4pxUCF61G4ninFQDMzMzOzJcBAMzMzM7MlwEBmZmZmZpChQGZmZmZmkKFAZmZmZmaQoUAAAAAAAJaWQAAAAAAAlpZAAAAAAACWlkA=",
          "dtype": "f8"
         },
         "yaxis": "y"
        },
        {
         "hovertemplate": "country=Portugal<br>orderdate=%{x}<br>totalamount=%{marker.size}<extra></extra>",
         "legendgroup": "Portugal",
         "marker": {
          "color": "#19d3f3",
          "size": {
           "bdata": "AAAAAABAkkAAAAAAAECSQAAAAAAAQJJAzczMzMzMc0AAAAAAAEBjQAAAAAAAQGNAmpmZmZlZikCamZmZmVmKQJqZmZmZmYpAAAAAAADgnEAAAAAAAOCcQAAAAAAA4JxAAAAAAADgnEAAAAAAAACFQAAAAAAAAIVAAAAAAAAAhUDNzMzMzBRzQM3MzMzMFHNAAAAAAACwnEAAAAAAALCcQAAAAAAAsJxAAAAAAAAIcEAAAAAAAAhwQAAAAAAAr5dAAAAAAACvl0AAAAAAAK+XQAAAAAAAAFFAzczMzMyTpEDNzMzMzJOkQM3MzMzMk6RA",
           "dtype": "f8"
          },
          "sizemode": "area",
          "sizeref": 43.125,
          "symbol": "circle"
         },
         "mode": "markers",
         "name": "Portugal",
         "showlegend": true,
         "type": "scattergl",
         "x": [
          "2012-10-01T00:00:00.000000000",
          "2012-10-01T00:00:00.000000000",
          "2012-10-01T00:00:00.000000000",
          "2012-10-01T00:00:00.000000000",
          "2012-11-01T00:00:00.000000000",
          "2012-11-01T00:00:00.000000000",
          "2012-12-01T00:00:00.000000000",
          "2012-12-01T00:00:00.000000000",
          "2013-02-01T00:00:00.000000000",
          "2013-03-01T00:00:00.000000000",
          "2013-03-01T00:00:00.000000000",
          "2013-03-01T00:00:00.000000000",
          "2013-03-01T00:00:00.000000000",
          "2013-03-01T00:00:00.000000000",
          "2013-03-01T00:00:00.000000000",
          "2013-03-01T00:00:00.000000000",
          "2013-03-01T00:00:00.000000000",
          "2013-03-01T00:00:00.000000000",
          "2013-05-01T00:00:00.000000000",
          "2013-05-01T00:00:00.000000000",
          "2013-05-01T00:00:00.000000000",
          "2013-07-01T00:00:00.000000000",
          "2013-07-01T00:00:00.000000000",
          "2013-09-01T00:00:00.000000000",
          "2013-09-01T00:00:00.000000000",
          "2013-09-01T00:00:00.000000000",
          "2014-03-01T00:00:00.000000000",
          "2014-04-01T00:00:00.000000000",
          "2014-04-01T00:00:00.000000000",
          "2014-04-01T00:00:00.000000000"
         ],
         "xaxis": "x",
         "y": {
          "bdata": "AAAAAABAkkAAAAAAAECSQAAAAAAAQJJAzczMzMzMc0AAAAAAAEBjQAAAAAAAQGNAmpmZmZlZikCamZmZmVmKQJqZmZmZmYpAAAAAAADgnEAAAAAAAOCcQAAAAAAA4JxAAAAAAADgnEAAAAAAAACFQAAAAAAAAIVAAAAAAAAAhUDNzMzMzBRzQM3MzMzMFHNAAAAAAACwnEAAAAAAALCcQAAAAAAAsJxAAAAAAAAIcEAAAAAAAAhwQAAAAAAAr5dAAAAAAACvl0AAAAAAAK+XQAAAAAAAAFFAzczMzMyTpEDNzMzMzJOkQM3MzMzMk6RA",
          "dtype": "f8"
         },
         "yaxis": "y"
        },
        {
         "hovertemplate": "country=Canada<br>orderdate=%{x}<br>totalamount=%{marker.size}<extra></extra>",
         "legendgroup": "Canada",
         "marker": {
          "color": "#FF6692",
          "size": {
           "bdata": "MzMzMzNzoUAzMzMzM3OhQDMzMzMzc6FAZmZmZmYOq0BmZmZmZg6rQGZmZmZmDqtAAAAAAABAekAzMzMzM6OcQDMzMzMzo5xAMzMzMzOjnEAzMzMzM6OcQAAAAAAAEIlAAAAAAAAQiUAAAAAAAOKSQAAAAAAA4pJAAAAAAADikkCamZmZmXLGQJqZmZmZcsZAmpmZmZlyxkAAAAAAALajQAAAAAAAtqNAAAAAAAC2o0AAAAAAANiQQAAAAAAA2JBAAAAAAADYkEAAAAAAANiQQAAAAAAAAIxAAAAAAAAAjEAAAAAAAGBxQAAAAAAAYHFAAAAAAABgcUDNzMzMzHxiQAAAAAAAOIZAAAAAAAA4hkAAAAAAAEakQAAAAAAARqRAAAAAAADQkUAAAAAAANCRQAAAAAAA5rBAAAAAAADmsEAAAAAAAOawQAAAAAAA5rBAAAAAAAATpUAAAAAAABOlQAAAAAAAE6VAAAAAAACwk0AAAAAAALCTQAAAAAAAwExAAAAAAADATEAAAAAAAPSDQAAAAAAA9INAAAAAAABcqEAAAAAAAFyoQAAAAAAAXKhAAAAAAABgZ0AAAAAAAGBnQAAAAAAAYGdAAAAAAAAonkAAAAAAACieQGZmZmZmzJFAZmZmZmbMkUBmZmZmZsyRQAAAAAAARrFAAAAAAABGsUAAAAAAAEaxQAAAAAAARrFAAAAAAABshkAAAAAAAGyGQAAAAAAAsI9AAAAAAACwj0AzMzMzM0mSQDMzMzMzSZJAAAAAAAB2lEAAAAAAAHaUQAAAAAAAaIBA",
           "dtype": "f8"
          },
          "sizemode": "area",
          "sizeref": 43.125,
          "symbol": "circle"
         },
         "mode": "markers",
         "name": "Canada",
         "showlegend": true,
         "type": "scattergl",
         "x": [
          "2012-10-01T00:00:00.000000000",
          "2012-10-01T00:00:00.000000000",
          "2012-10-01T00:00:00.000000000",
          "2012-10-01T00:00:00.000000000",
          "2012-10-01T00:00:00.000000000",
          "2012-10-01T00:00:00.000000000",
          "2012-12-01T00:00:00.000000000",
          "2012-12-01T00:00:00.000000000",
          "2012-12-01T00:00:00.000000000",
          "2012-12-01T00:00:00.000000000",
          "2012-12-01T00:00:00.000000000",
          "2013-01-01T00:00:00.000000000",
          "2013-01-01T00:00:00.000000000",
          "2013-01-01T00:00:00.000000000",
          "2013-01-01T00:00:00.000000000",
          "2013-01-01T00:00:00.000000000",
          "2013-01-01T00:00:00.000000000",
          "2013-01-01T00:00:00.000000000",
          "2013-01-01T00:00:00.000000000",
          "2013-01-01T00:00:00.000000000",
          "2013-01-01T00:00:00.000000000",
          "2013-01-01T00:00:00.000000000",
          "2013-02-01T00:00:00.000000000",
          "2013-02-01T00:00:00.000000000",
          "2013-02-01T00:00:00.000000000",
          "2013-02-01T00:00:00.000000000",
          "2013-04-01T00:00:00.000000000",
          "2013-04-01T00:00:00.000000000",
          "2013-04-01T00:00:00.000000000",
          "2013-04-01T00:00:00.000000000",
          "2013-04-01T00:00:00.000000000",
          "2013-04-01T00:00:00.000000000",
          "2013-06-01T00:00:00.000000000",
          "2013-06-01T00:00:00.000000000",
          "2013-06-01T00:00:00.000000000",
          "2013-06-01T00:00:00.000000000",
          "2013-07-01T00:00:00.000000000",
          "2013-07-01T00:00:00.000000000",
          "2013-07-01T00:00:00.000000000",
          "2013-07-01T00:00:00.000000000",
          "2013-07-01T00:00:00.000000000",
          "2013-07-01T00:00:00.000000000",
          "2013-08-01T00:00:00.000000000",
          "2013-08-01T00:00:00.000000000",
          "2013-08-01T00:00:00.000000000",
          "2013-08-01T00:00:00.000000000",
          "2013-08-01T00:00:00.000000000",
          "2013-08-01T00:00:00.000000000",
          "2013-08-01T00:00:00.000000000",
          "2013-10-01T00:00:00.000000000",
          "2013-10-01T00:00:00.000000000",
          "2013-11-01T00:00:00.000000000",
          "2013-11-01T00:00:00.000000000",
          "2013-11-01T00:00:00.000000000",
          "2014-01-01T00:00:00.000000000",
          "2014-01-01T00:00:00.000000000",
          "2014-01-01T00:00:00.000000000",
          "2014-03-01T00:00:00.000000000",
          "2014-03-01T00:00:00.000000000",
          "2014-03-01T00:00:00.000000000",
          "2014-03-01T00:00:00.000000000",
          "2014-03-01T00:00:00.000000000",
          "2014-03-01T00:00:00.000000000",
          "2014-03-01T00:00:00.000000000",
          "2014-03-01T00:00:00.000000000",
          "2014-03-01T00:00:00.000000000",
          "2014-03-01T00:00:00.000000000",
          "2014-03-01T00:00:00.000000000",
          "2014-03-01T00:00:00.000000000",
          "2014-03-01T00:00:00.000000000",
          "2014-04-01T00:00:00.000000000",
          "2014-04-01T00:00:00.000000000",
          "2014-04-01T00:00:00.000000000",
          "2014-04-01T00:00:00.000000000",
          "2014-04-01T00:00:00.000000000"
         ],
         "xaxis": "x",
         "y": {
          "bdata": "MzMzMzNzoUAzMzMzM3OhQDMzMzMzc6FAZmZmZmYOq0BmZmZmZg6rQGZmZmZmDqtAAAAAAABAekAzMzMzM6OcQDMzMzMzo5xAMzMzMzOjnEAzMzMzM6OcQAAAAAAAEIlAAAAAAAAQiUAAAAAAAOKSQAAAAAAA4pJAAAAAAADikkCamZmZmXLGQJqZmZmZcsZAmpmZmZlyxkAAAAAAALajQAAAAAAAtqNAAAAAAAC2o0AAAAAAANiQQAAAAAAA2JBAAAAAAADYkEAAAAAAANiQQAAAAAAAAIxAAAAAAAAAjEAAAAAAAGBxQAAAAAAAYHFAAAAAAABgcUDNzMzMzHxiQAAAAAAAOIZAAAAAAAA4hkAAAAAAAEakQAAAAAAARqRAAAAAAADQkUAAAAAAANCRQAAAAAAA5rBAAAAAAADmsEAAAAAAAOawQAAAAAAA5rBAAAAAAAATpUAAAAAAABOlQAAAAAAAE6VAAAAAAACwk0AAAAAAALCTQAAAAAAAwExAAAAAAADATEAAAAAAAPSDQAAAAAAA9INAAAAAAABcqEAAAAAAAFyoQAAAAAAAXKhAAAAAAABgZ0AAAAAAAGBnQAAAAAAAYGdAAAAAAAAonkAAAAAAACieQGZmZmZmzJFAZmZmZmbMkUBmZmZmZsyRQAAAAAAARrFAAAAAAABGsUAAAAAAAEaxQAAAAAAARrFAAAAAAABshkAAAAAAAGyGQAAAAAAAsI9AAAAAAACwj0AzMzMzM0mSQDMzMzMzSZJAAAAAAAB2lEAAAAAAAHaUQAAAAAAAaIBA",
          "dtype": "f8"
         },
         "yaxis": "y"
        },
        {
         "hovertemplate": "country=Denmark<br>orderdate=%{x}<br>totalamount=%{marker.size}<extra></extra>",
         "legendgroup": "Denmark",
         "marker": {
          "color": "#B6E880",
          "size": {
           "bdata": "AAAAAADAeUAAAAAAAMB5QJqZmZmZEYpAmpmZmZkRikCamZmZmRGKQJqZmZmZEYpAZmZmZmaWm0BmZmZmZpabQGZmZmZmlptAZmZmZmaWm0CamZmZmQnGQJqZmZmZCcZAmpmZmZkJxkCamZmZmQnGQAAAAAAAPqVAAAAAAAA+pUAAAAAAAD6lQAAAAAAAPqVAAAAAAAA+pUCamZmZmRmKQAAAAAAAZIlAAAAAAABkiUAAAAAAAGSJQAAAAAAAQFBAAAAAAAAwi0AAAAAAADCLQAAAAAAA0IFAAAAAAABEq0AAAAAAAESrQAAAAAAARKtAAAAAAADAjEAAAAAAAKCaQAAAAAAAoJpAAAAAAACgmkAAAAAAAKCaQAAAAACAp65AAAAAAICnrkAAAAAAgKeuQAAAAACAp65AAAAAAABAnkAAAAAAAECeQAAAAAAA/pVAAAAAAAD+lUAAAAAAAP6VQAAAAAAA8I5AmpmZmZmJbkA=",
           "dtype": "f8"
          },
          "sizemode": "area",
          "sizeref": 43.125,
          "symbol": "circle"
         },
         "mode": "markers",
         "name": "Denmark",
         "showlegend": true,
         "type": "scattergl",
         "x": [
          "2012-10-01T00:00:00.000000000",
          "2012-10-01T00:00:00.000000000",
          "2012-11-01T00:00:00.000000000",
          "2012-11-01T00:00:00.000000000",
          "2012-11-01T00:00:00.000000000",
          "2012-11-01T00:00:00.000000000",
          "2012-12-01T00:00:00.000000000",
          "2012-12-01T00:00:00.000000000",
          "2012-12-01T00:00:00.000000000",
          "2012-12-01T00:00:00.000000000",
          "2013-01-01T00:00:00.000000000",
          "2013-01-01T00:00:00.000000000",
          "2013-01-01T00:00:00.000000000",
          "2013-01-01T00:00:00.000000000",
          "2013-03-01T00:00:00.000000000",
          "2013-03-01T00:00:00.000000000",
          "2013-03-01T00:00:00.000000000",
          "2013-03-01T00:00:00.000000000",
          "2013-03-01T00:00:00.000000000",
          "2013-06-01T00:00:00.000000000",
          "2013-07-01T00:00:00.000000000",
          "2013-07-01T00:00:00.000000000",
          "2013-07-01T00:00:00.000000000",
          "2013-07-01T00:00:00.000000000",
          "2013-08-01T00:00:00.000000000",
          "2013-08-01T00:00:00.000000000",
          "2013-09-01T00:00:00.000000000",
          "2013-10-01T00:00:00.000000000",
          "2013-10-01T00:00:00.000000000",
          "2013-10-01T00:00:00.000000000",
          "2013-11-01T00:00:00.000000000",
          "2013-12-01T00:00:00.000000000",
          "2013-12-01T00:00:00.000000000",
          "2013-12-01T00:00:00.000000000",
          "2013-12-01T00:00:00.000000000",
          "2013-12-01T00:00:00.000000000",
          "2013-12-01T00:00:00.000000000",
          "2013-12-01T00:00:00.000000000",
          "2013-12-01T00:00:00.000000000",
          "2014-03-01T00:00:00.000000000",
          "2014-03-01T00:00:00.000000000",
          "2014-03-01T00:00:00.000000000",
          "2014-03-01T00:00:00.000000000",
          "2014-03-01T00:00:00.000000000",
          "2014-04-01T00:00:00.000000000",
          "2014-05-01T00:00:00.000000000"
         ],
         "xaxis": "x",
         "y": {
          "bdata": "AAAAAADAeUAAAAAAAMB5QJqZmZmZEYpAmpmZmZkRikCamZmZmRGKQJqZmZmZEYpAZmZmZmaWm0BmZmZmZpabQGZmZmZmlptAZmZmZmaWm0CamZmZmQnGQJqZmZmZCcZAmpmZmZkJxkCamZmZmQnGQAAAAAAAPqVAAAAAAAA+pUAAAAAAAD6lQAAAAAAAPqVAAAAAAAA+pUCamZmZmRmKQAAAAAAAZIlAAAAAAABkiUAAAAAAAGSJQAAAAAAAQFBAAAAAAAAwi0AAAAAAADCLQAAAAAAA0IFAAAAAAABEq0AAAAAAAESrQAAAAAAARKtAAAAAAADAjEAAAAAAAKCaQAAAAAAAoJpAAAAAAACgmkAAAAAAAKCaQAAAAACAp65AAAAAAICnrkAAAAAAgKeuQAAAAACAp65AAAAAAABAnkAAAAAAAECeQAAAAAAA/pVAAAAAAAD+lUAAAAAAAP6VQAAAAAAA8I5AmpmZmZmJbkA=",
          "dtype": "f8"
         },
         "yaxis": "y"
        },
        {
         "hovertemplate": "country=Poland<br>orderdate=%{x}<br>totalamount=%{marker.size}<extra></extra>",
         "legendgroup": "Poland",
         "marker": {
          "color": "#FF97FF",
          "size": {
           "bdata": "AAAAAACwfEAAAAAAALB8QAAAAAAAQIlAAAAAAABAiUAAAAAAAECJQJqZmZmZ/XhAmpmZmZn9eECamZmZmf14QAAAAAAAAGRAAAAAAAAAZEAAAAAAALh6QAAAAAAAcIVAAAAAAABwhUAAAAAAAHCFQAAAAAAAcIVAzczMzMx8gkA=",
           "dtype": "f8"
          },
          "sizemode": "area",
          "sizeref": 43.125,
          "symbol": "circle"
         },
         "mode": "markers",
         "name": "Poland",
         "showlegend": true,
         "type": "scattergl",
         "x": [
          "2012-12-01T00:00:00.000000000",
          "2012-12-01T00:00:00.000000000",
          "2013-07-01T00:00:00.000000000",
          "2013-07-01T00:00:00.000000000",
          "2013-07-01T00:00:00.000000000",
          "2013-12-01T00:00:00.000000000",
          "2013-12-01T00:00:00.000000000",
          "2013-12-01T00:00:00.000000000",
          "2014-02-01T00:00:00.000000000",
          "2014-02-01T00:00:00.000000000",
          "2014-02-01T00:00:00.000000000",
          "2014-04-01T00:00:00.000000000",
          "2014-04-01T00:00:00.000000000",
          "2014-04-01T00:00:00.000000000",
          "2014-04-01T00:00:00.000000000",
          "2014-04-01T00:00:00.000000000"
         ],
         "xaxis": "x",
         "y": {
          "bdata": "AAAAAACwfEAAAAAAALB8QAAAAAAAQIlAAAAAAABAiUAAAAAAAECJQJqZmZmZ/XhAmpmZmZn9eECamZmZmf14QAAAAAAAAGRAAAAAAAAAZEAAAAAAALh6QAAAAAAAcIVAAAAAAABwhUAAAAAAAHCFQAAAAAAAcIVAzczMzMx8gkA=",
          "dtype": "f8"
         },
         "yaxis": "y"
        },
        {
         "hovertemplate": "country=Norway<br>orderdate=%{x}<br>totalamount=%{marker.size}<extra></extra>",
         "legendgroup": "Norway",
         "marker": {
          "color": "#FECB52",
          "size": {
           "bdata": "mpmZmZmJkECamZmZmYmQQJqZmZmZiZBAmpmZmZmJkEAAAAAAAABpQAAAAAAAAGlAAAAAAABAf0DNzMzMzPikQM3MzMzM+KRAzczMzMz4pEDNzMzMzPikQAAAAAAA8IRAAAAAAADwhEAAAAAAAPCEQM3MzMzMcoNAzczMzMxyg0A=",
           "dtype": "f8"
          },
          "sizemode": "area",
          "sizeref": 43.125,
          "symbol": "circle"
         },
         "mode": "markers",
         "name": "Norway",
         "showlegend": true,
         "type": "scattergl",
         "x": [
          "2012-12-01T00:00:00.000000000",
          "2012-12-01T00:00:00.000000000",
          "2012-12-01T00:00:00.000000000",
          "2012-12-01T00:00:00.000000000",
          "2013-04-01T00:00:00.000000000",
          "2013-04-01T00:00:00.000000000",
          "2013-08-01T00:00:00.000000000",
          "2014-01-01T00:00:00.000000000",
          "2014-01-01T00:00:00.000000000",
          "2014-01-01T00:00:00.000000000",
          "2014-01-01T00:00:00.000000000",
          "2014-02-01T00:00:00.000000000",
          "2014-02-01T00:00:00.000000000",
          "2014-02-01T00:00:00.000000000",
          "2014-04-01T00:00:00.000000000",
          "2014-04-01T00:00:00.000000000"
         ],
         "xaxis": "x",
         "y": {
          "bdata": "mpmZmZmJkECamZmZmYmQQJqZmZmZiZBAmpmZmZmJkEAAAAAAAABpQAAAAAAAAGlAAAAAAABAf0DNzMzMzPikQM3MzMzM+KRAzczMzMz4pEDNzMzMzPikQAAAAAAA8IRAAAAAAADwhEAAAAAAAPCEQM3MzMzMcoNAzczMzMxyg0A=",
          "dtype": "f8"
         },
         "yaxis": "y"
        },
        {
         "hovertemplate": "country=Argentina<br>orderdate=%{x}<br>totalamount=%{marker.size}<extra></extra>",
         "legendgroup": "Argentina",
         "marker": {
          "color": "#636efa",
          "size": {
           "bdata": "MzMzMzPzc0AzMzMzM/NzQGZmZmZmtntAZmZmZma2e0AAAAAAADBsQAAAAAAAMGxAAAAAAAAwbEAAAAAAAIBbQAAAAAAAEIZAAAAAAAAQhkAAAAAAABCGQAAAAAAAAClAAAAAAADQfUAAAAAAANB9QAAAAAAAII1AAAAAAAAgjUAAAAAAAMBiQAAAAAAAAD5AmpmZmZl1hUCamZmZmXWFQJqZmZmZdYVAZmZmZmYmhEBmZmZmZiaEQAAAAAAAaIhAAAAAAABoiEAAAAAAAGiIQAAAAAAAWKFAAAAAAABYoUAAAAAAAFihQAAAAAAAWKFAAAAAAAAAU0AAAAAAAABTQAAAAAAAEHNAAAAAAAAQc0A=",
           "dtype": "f8"
          },
          "sizemode": "area",
          "sizeref": 43.125,
          "symbol": "circle"
         },
         "mode": "markers",
         "name": "Argentina",
         "showlegend": true,
         "type": "scattergl",
         "x": [
          "2013-01-01T00:00:00.000000000",
          "2013-01-01T00:00:00.000000000",
          "2013-02-01T00:00:00.000000000",
          "2013-02-01T00:00:00.000000000",
          "2013-04-01T00:00:00.000000000",
          "2013-04-01T00:00:00.000000000",
          "2013-04-01T00:00:00.000000000",
          "2013-05-01T00:00:00.000000000",
          "2013-10-01T00:00:00.000000000",
          "2013-10-01T00:00:00.000000000",
          "2013-10-01T00:00:00.000000000",
          "2013-12-01T00:00:00.000000000",
          "2014-01-01T00:00:00.000000000",
          "2014-01-01T00:00:00.000000000",
          "2014-01-01T00:00:00.000000000",
          "2014-01-01T00:00:00.000000000",
          "2014-02-01T00:00:00.000000000",
          "2014-02-01T00:00:00.000000000",
          "2014-02-01T00:00:00.000000000",
          "2014-02-01T00:00:00.000000000",
          "2014-02-01T00:00:00.000000000",
          "2014-03-01T00:00:00.000000000",
          "2014-03-01T00:00:00.000000000",
          "2014-03-01T00:00:00.000000000",
          "2014-03-01T00:00:00.000000000",
          "2014-03-01T00:00:00.000000000",
          "2014-03-01T00:00:00.000000000",
          "2014-03-01T00:00:00.000000000",
          "2014-03-01T00:00:00.000000000",
          "2014-03-01T00:00:00.000000000",
          "2014-04-01T00:00:00.000000000",
          "2014-04-01T00:00:00.000000000",
          "2014-04-01T00:00:00.000000000",
          "2014-04-01T00:00:00.000000000"
         ],
         "xaxis": "x",
         "y": {
          "bdata": "MzMzMzPzc0AzMzMzM/NzQGZmZmZmtntAZmZmZma2e0AAAAAAADBsQAAAAAAAMGxAAAAAAAAwbEAAAAAAAIBbQAAAAAAAEIZAAAAAAAAQhkAAAAAAABCGQAAAAAAAAClAAAAAAADQfUAAAAAAANB9QAAAAAAAII1AAAAAAAAgjUAAAAAAAMBiQAAAAAAAAD5AmpmZmZl1hUCamZmZmXWFQJqZmZmZdYVAZmZmZmYmhEBmZmZmZiaEQAAAAAAAaIhAAAAAAABoiEAAAAAAAGiIQAAAAAAAWKFAAAAAAABYoUAAAAAAAFihQAAAAAAAWKFAAAAAAAAAU0AAAAAAAABTQAAAAAAAEHNAAAAAAAAQc0A=",
          "dtype": "f8"
         },
         "yaxis": "y"
        }
       ],
       "layout": {
        "legend": {
         "itemsizing": "constant",
         "title": {
          "text": "country"
         },
         "tracegroupgap": 0
        },
        "template": {
         "data": {
          "bar": [
           {
            "error_x": {
             "color": "#2a3f5f"
            },
            "error_y": {
             "color": "#2a3f5f"
            },
            "marker": {
             "line": {
              "color": "#E5ECF6",
              "width": 0.5
             },
             "pattern": {
              "fillmode": "overlay",
              "size": 10,
              "solidity": 0.2
             }
            },
            "type": "bar"
           }
          ],
          "barpolar": [
           {
            "marker": {
             "line": {
              "color": "#E5ECF6",
              "width": 0.5
             },
             "pattern": {
              "fillmode": "overlay",
              "size": 10,
              "solidity": 0.2
             }
            },
            "type": "barpolar"
           }
          ],
          "carpet": [
           {
            "aaxis": {
             "endlinecolor": "#2a3f5f",
             "gridcolor": "white",
             "linecolor": "white",
             "minorgridcolor": "white",
             "startlinecolor": "#2a3f5f"
            },
            "baxis": {
             "endlinecolor": "#2a3f5f",
             "gridcolor": "white",
             "linecolor": "white",
             "minorgridcolor": "white",
             "startlinecolor": "#2a3f5f"
            },
            "type": "carpet"
           }
          ],
          "choropleth": [
           {
            "colorbar": {
             "outlinewidth": 0,
             "ticks": ""
            },
            "type": "choropleth"
           }
          ],
          "contour": [
           {
            "colorbar": {
             "outlinewidth": 0,
             "ticks": ""
            },
            "colorscale": [
             [
              0,
              "#0d0887"
             ],
             [
              0.1111111111111111,
              "#46039f"
             ],
             [
              0.2222222222222222,
              "#7201a8"
             ],
             [
              0.3333333333333333,
              "#9c179e"
             ],
             [
              0.4444444444444444,
              "#bd3786"
             ],
             [
              0.5555555555555556,
              "#d8576b"
             ],
             [
              0.6666666666666666,
              "#ed7953"
             ],
             [
              0.7777777777777778,
              "#fb9f3a"
             ],
             [
              0.8888888888888888,
              "#fdca26"
             ],
             [
              1,
              "#f0f921"
             ]
            ],
            "type": "contour"
           }
          ],
          "contourcarpet": [
           {
            "colorbar": {
             "outlinewidth": 0,
             "ticks": ""
            },
            "type": "contourcarpet"
           }
          ],
          "heatmap": [
           {
            "colorbar": {
             "outlinewidth": 0,
             "ticks": ""
            },
            "colorscale": [
             [
              0,
              "#0d0887"
             ],
             [
              0.1111111111111111,
              "#46039f"
             ],
             [
              0.2222222222222222,
              "#7201a8"
             ],
             [
              0.3333333333333333,
              "#9c179e"
             ],
             [
              0.4444444444444444,
              "#bd3786"
             ],
             [
              0.5555555555555556,
              "#d8576b"
             ],
             [
              0.6666666666666666,
              "#ed7953"
             ],
             [
              0.7777777777777778,
              "#fb9f3a"
             ],
             [
              0.8888888888888888,
              "#fdca26"
             ],
             [
              1,
              "#f0f921"
             ]
            ],
            "type": "heatmap"
           }
          ],
          "histogram": [
           {
            "marker": {
             "pattern": {
              "fillmode": "overlay",
              "size": 10,
              "solidity": 0.2
             }
            },
            "type": "histogram"
           }
          ],
          "histogram2d": [
           {
            "colorbar": {
             "outlinewidth": 0,
             "ticks": ""
            },
            "colorscale": [
             [
              0,
              "#0d0887"
             ],
             [
              0.1111111111111111,
              "#46039f"
             ],
             [
              0.2222222222222222,
              "#7201a8"
             ],
             [
              0.3333333333333333,
              "#9c179e"
             ],
             [
              0.4444444444444444,
              "#bd3786"
             ],
             [
              0.5555555555555556,
              "#d8576b"
             ],
             [
              0.6666666666666666,
              "#ed7953"
             ],
             [
              0.7777777777777778,
              "#fb9f3a"
             ],
             [
              0.8888888888888888,
              "#fdca26"
             ],
             [
              1,
              "#f0f921"
             ]
            ],
            "type": "histogram2d"
           }
          ],
          "histogram2dcontour": [
           {
            "colorbar": {
             "outlinewidth": 0,
             "ticks": ""
            },
            "colorscale": [
             [
              0,
              "#0d0887"
             ],
             [
              0.1111111111111111,
              "#46039f"
             ],
             [
              0.2222222222222222,
              "#7201a8"
             ],
             [
              0.3333333333333333,
              "#9c179e"
             ],
             [
              0.4444444444444444,
              "#bd3786"
             ],
             [
              0.5555555555555556,
              "#d8576b"
             ],
             [
              0.6666666666666666,
              "#ed7953"
             ],
             [
              0.7777777777777778,
              "#fb9f3a"
             ],
             [
              0.8888888888888888,
              "#fdca26"
             ],
             [
              1,
              "#f0f921"
             ]
            ],
            "type": "histogram2dcontour"
           }
          ],
          "mesh3d": [
           {
            "colorbar": {
             "outlinewidth": 0,
             "ticks": ""
            },
            "type": "mesh3d"
           }
          ],
          "parcoords": [
           {
            "line": {
             "colorbar": {
              "outlinewidth": 0,
              "ticks": ""
             }
            },
            "type": "parcoords"
           }
          ],
          "pie": [
           {
            "automargin": true,
            "type": "pie"
           }
          ],
          "scatter": [
           {
            "fillpattern": {
             "fillmode": "overlay",
             "size": 10,
             "solidity": 0.2
            },
            "type": "scatter"
           }
          ],
          "scatter3d": [
           {
            "line": {
             "colorbar": {
              "outlinewidth": 0,
              "ticks": ""
             }
            },
            "marker": {
             "colorbar": {
              "outlinewidth": 0,
              "ticks": ""
             }
            },
            "type": "scatter3d"
           }
          ],
          "scattercarpet": [
           {
            "marker": {
             "colorbar": {
              "outlinewidth": 0,
              "ticks": ""
             }
            },
            "type": "scattercarpet"
           }
          ],
          "scattergeo": [
           {
            "marker": {
             "colorbar": {
              "outlinewidth": 0,
              "ticks": ""
             }
            },
            "type": "scattergeo"
           }
          ],
          "scattergl": [
           {
            "marker": {
             "colorbar": {
              "outlinewidth": 0,
              "ticks": ""
             }
            },
            "type": "scattergl"
           }
          ],
          "scattermap": [
           {
            "marker": {
             "colorbar": {
              "outlinewidth": 0,
              "ticks": ""
             }
            },
            "type": "scattermap"
           }
          ],
          "scattermapbox": [
           {
            "marker": {
             "colorbar": {
              "outlinewidth": 0,
              "ticks": ""
             }
            },
            "type": "scattermapbox"
           }
          ],
          "scatterpolar": [
           {
            "marker": {
             "colorbar": {
              "outlinewidth": 0,
              "ticks": ""
             }
            },
            "type": "scatterpolar"
           }
          ],
          "scatterpolargl": [
           {
            "marker": {
             "colorbar": {
              "outlinewidth": 0,
              "ticks": ""
             }
            },
            "type": "scatterpolargl"
           }
          ],
          "scatterternary": [
           {
            "marker": {
             "colorbar": {
              "outlinewidth": 0,
              "ticks": ""
             }
            },
            "type": "scatterternary"
           }
          ],
          "surface": [
           {
            "colorbar": {
             "outlinewidth": 0,
             "ticks": ""
            },
            "colorscale": [
             [
              0,
              "#0d0887"
             ],
             [
              0.1111111111111111,
              "#46039f"
             ],
             [
              0.2222222222222222,
              "#7201a8"
             ],
             [
              0.3333333333333333,
              "#9c179e"
             ],
             [
              0.4444444444444444,
              "#bd3786"
             ],
             [
              0.5555555555555556,
              "#d8576b"
             ],
             [
              0.6666666666666666,
              "#ed7953"
             ],
             [
              0.7777777777777778,
              "#fb9f3a"
             ],
             [
              0.8888888888888888,
              "#fdca26"
             ],
             [
              1,
              "#f0f921"
             ]
            ],
            "type": "surface"
           }
          ],
          "table": [
           {
            "cells": {
             "fill": {
              "color": "#EBF0F8"
             },
             "line": {
              "color": "white"
             }
            },
            "header": {
             "fill": {
              "color": "#C8D4E3"
             },
             "line": {
              "color": "white"
             }
            },
            "type": "table"
           }
          ]
         },
         "layout": {
          "annotationdefaults": {
           "arrowcolor": "#2a3f5f",
           "arrowhead": 0,
           "arrowwidth": 1
          },
          "autotypenumbers": "strict",
          "coloraxis": {
           "colorbar": {
            "outlinewidth": 0,
            "ticks": ""
           }
          },
          "colorscale": {
           "diverging": [
            [
             0,
             "#8e0152"
            ],
            [
             0.1,
             "#c51b7d"
            ],
            [
             0.2,
             "#de77ae"
            ],
            [
             0.3,
             "#f1b6da"
            ],
            [
             0.4,
             "#fde0ef"
            ],
            [
             0.5,
             "#f7f7f7"
            ],
            [
             0.6,
             "#e6f5d0"
            ],
            [
             0.7,
             "#b8e186"
            ],
            [
             0.8,
             "#7fbc41"
            ],
            [
             0.9,
             "#4d9221"
            ],
            [
             1,
             "#276419"
            ]
           ],
           "sequential": [
            [
             0,
             "#0d0887"
            ],
            [
             0.1111111111111111,
             "#46039f"
            ],
            [
             0.2222222222222222,
             "#7201a8"
            ],
            [
             0.3333333333333333,
             "#9c179e"
            ],
            [
             0.4444444444444444,
             "#bd3786"
            ],
            [
             0.5555555555555556,
             "#d8576b"
            ],
            [
             0.6666666666666666,
             "#ed7953"
            ],
            [
             0.7777777777777778,
             "#fb9f3a"
            ],
            [
             0.8888888888888888,
             "#fdca26"
            ],
            [
             1,
             "#f0f921"
            ]
           ],
           "sequentialminus": [
            [
             0,
             "#0d0887"
            ],
            [
             0.1111111111111111,
             "#46039f"
            ],
            [
             0.2222222222222222,
             "#7201a8"
            ],
            [
             0.3333333333333333,
             "#9c179e"
            ],
            [
             0.4444444444444444,
             "#bd3786"
            ],
            [
             0.5555555555555556,
             "#d8576b"
            ],
            [
             0.6666666666666666,
             "#ed7953"
            ],
            [
             0.7777777777777778,
             "#fb9f3a"
            ],
            [
             0.8888888888888888,
             "#fdca26"
            ],
            [
             1,
             "#f0f921"
            ]
           ]
          },
          "colorway": [
           "#636efa",
           "#EF553B",
           "#00cc96",
           "#ab63fa",
           "#FFA15A",
           "#19d3f3",
           "#FF6692",
           "#B6E880",
           "#FF97FF",
           "#FECB52"
          ],
          "font": {
           "color": "#2a3f5f"
          },
          "geo": {
           "bgcolor": "white",
           "lakecolor": "white",
           "landcolor": "#E5ECF6",
           "showlakes": true,
           "showland": true,
           "subunitcolor": "white"
          },
          "hoverlabel": {
           "align": "left"
          },
          "hovermode": "closest",
          "mapbox": {
           "style": "light"
          },
          "paper_bgcolor": "white",
          "plot_bgcolor": "#E5ECF6",
          "polar": {
           "angularaxis": {
            "gridcolor": "white",
            "linecolor": "white",
            "ticks": ""
           },
           "bgcolor": "#E5ECF6",
           "radialaxis": {
            "gridcolor": "white",
            "linecolor": "white",
            "ticks": ""
           }
          },
          "scene": {
           "xaxis": {
            "backgroundcolor": "#E5ECF6",
            "gridcolor": "white",
            "gridwidth": 2,
            "linecolor": "white",
            "showbackground": true,
            "ticks": "",
            "zerolinecolor": "white"
           },
           "yaxis": {
            "backgroundcolor": "#E5ECF6",
            "gridcolor": "white",
            "gridwidth": 2,
            "linecolor": "white",
            "showbackground": true,
            "ticks": "",
            "zerolinecolor": "white"
           },
           "zaxis": {
            "backgroundcolor": "#E5ECF6",
            "gridcolor": "white",
            "gridwidth": 2,
            "linecolor": "white",
            "showbackground": true,
            "ticks": "",
            "zerolinecolor": "white"
           }
          },
          "shapedefaults": {
           "line": {
            "color": "#2a3f5f"
           }
          },
          "ternary": {
           "aaxis": {
            "gridcolor": "white",
            "linecolor": "white",
            "ticks": ""
           },
           "baxis": {
            "gridcolor": "white",
            "linecolor": "white",
            "ticks": ""
           },
           "bgcolor": "#E5ECF6",
           "caxis": {
            "gridcolor": "white",
            "linecolor": "white",
            "ticks": ""
           }
          },
          "title": {
           "x": 0.05
          },
          "xaxis": {
           "automargin": true,
           "gridcolor": "white",
           "linecolor": "white",
           "ticks": "",
           "title": {
            "standoff": 15
           },
           "zerolinecolor": "white",
           "zerolinewidth": 2
          },
          "yaxis": {
           "automargin": true,
           "gridcolor": "white",
           "linecolor": "white",
           "ticks": "",
           "title": {
            "standoff": 15
           },
           "zerolinecolor": "white",
           "zerolinewidth": 2
          }
         }
        },
        "title": {
         "text": "Sales Performance of Each Country Month"
        },
        "xaxis": {
         "anchor": "y",
         "domain": [
          0,
          1
         ],
         "title": {
          "text": "orderdate"
         }
        },
        "yaxis": {
         "anchor": "x",
         "domain": [
          0,
          1
         ],
         "title": {
          "text": "totalamount"
         }
        }
       }
      }
     },
     "metadata": {},
     "output_type": "display_data"
    }
   ],
   "source": [
    "country_va['orderdate'] = country_va['orderdate'].astype('datetime64[ns]')\n",
    "\n",
    "fig = px.scatter(country_va,\n",
    "                 x=country_va.orderdate,\n",
    "                 y='totalamount',\n",
    "                 color='country',\n",
    "                 title= 'Sales Performance of Each Country Month',\n",
    "                 size='totalamount')\n",
    "fig.show()"
   ]
  },
  {
   "cell_type": "code",
   "execution_count": 36,
   "id": "dbdf8df7",
   "metadata": {
    "execution": {
     "iopub.execute_input": "2025-03-06T01:07:22.956450Z",
     "iopub.status.busy": "2025-03-06T01:07:22.956158Z",
     "iopub.status.idle": "2025-03-06T01:07:23.026530Z",
     "shell.execute_reply": "2025-03-06T01:07:23.025383Z"
    },
    "papermill": {
     "duration": 0.083713,
     "end_time": "2025-03-06T01:07:23.027906",
     "exception": false,
     "start_time": "2025-03-06T01:07:22.944193",
     "status": "completed"
    },
    "tags": []
   },
   "outputs": [],
   "source": [
    "# total sales for each country and their percentage contribution to the overall sales\n",
    "df.groupby('country',as_index=False)['totalamount'].sum().sort_values(['totalamount'], ascending=False)\n",
    "\n",
    "def plots(columnname, Top10=True):\n",
    "    pro = df.groupby(columnname, as_index=False)['totalamount'].sum()\n",
    "    pro['prop'] = (pro['totalamount'] / df['totalamount'].sum()) * 100  \n",
    "    \n",
    "    pro = pro.sort_values('prop', ascending=False)\n",
    "    \n",
    "    print('Proportion of total amount by', columnname)\n",
    "    print(pro.totalamount.describe())\n",
    "    \n",
    "    if Top10:\n",
    "        pro = pro.head(10)  \n",
    "    \n",
    "    fig1 = px.bar(pro, x=columnname, y='totalamount', title='Total Sales For Each Country')\n",
    "    fig2 = px.pie(pro, names=columnname, values='totalamount', title= 'Percentage Contribution To The Overall Sales')\n",
    "    \n",
    "    fig1.show()\n",
    "    fig2.show()"
   ]
  },
  {
   "cell_type": "code",
   "execution_count": 37,
   "id": "6f6e4320",
   "metadata": {},
   "outputs": [
    {
     "name": "stdout",
     "output_type": "stream",
     "text": [
      "Proportion of total amount by country\n",
      "count        21.00\n",
      "mean    203,805.12\n",
      "std     249,407.46\n",
      "min       8,624.65\n",
      "25%      51,273.63\n",
      "50%     118,828.50\n",
      "75%     179,496.89\n",
      "max     926,143.87\n",
      "Name: totalamount, dtype: float64\n"
     ]
    },
    {
     "data": {
      "application/vnd.plotly.v1+json": {
       "config": {
        "plotlyServerURL": "https://plot.ly"
       },
       "data": [
        {
         "hovertemplate": "country=%{x}<br>totalamount=%{y}<extra></extra>",
         "legendgroup": "",
         "marker": {
          "color": "#636efa",
          "pattern": {
           "shape": ""
          }
         },
         "name": "",
         "orientation": "v",
         "showlegend": false,
         "textposition": "auto",
         "type": "bar",
         "x": [
          "USA",
          "Germany",
          "Austria",
          "Brazil",
          "France",
          "Venezuela",
          "Sweden",
          "UK",
          "Canada",
          "Ireland"
         ],
         "xaxis": "x",
         "y": {
          "bdata": "16NwvX9DLEG4HoXrD70oQc3MzMw6Eh5Bw/UoXI7vEkGuR+F6SvMPQetRuB5H6QVBZmZmZrxcBUHsUbge5+YEQQAAAACQrgNBpHA9Cq8oA0E=",
          "dtype": "f8"
         },
         "yaxis": "y"
        }
       ],
       "layout": {
        "barmode": "relative",
        "legend": {
         "tracegroupgap": 0
        },
        "template": {
         "data": {
          "bar": [
           {
            "error_x": {
             "color": "#2a3f5f"
            },
            "error_y": {
             "color": "#2a3f5f"
            },
            "marker": {
             "line": {
              "color": "#E5ECF6",
              "width": 0.5
             },
             "pattern": {
              "fillmode": "overlay",
              "size": 10,
              "solidity": 0.2
             }
            },
            "type": "bar"
           }
          ],
          "barpolar": [
           {
            "marker": {
             "line": {
              "color": "#E5ECF6",
              "width": 0.5
             },
             "pattern": {
              "fillmode": "overlay",
              "size": 10,
              "solidity": 0.2
             }
            },
            "type": "barpolar"
           }
          ],
          "carpet": [
           {
            "aaxis": {
             "endlinecolor": "#2a3f5f",
             "gridcolor": "white",
             "linecolor": "white",
             "minorgridcolor": "white",
             "startlinecolor": "#2a3f5f"
            },
            "baxis": {
             "endlinecolor": "#2a3f5f",
             "gridcolor": "white",
             "linecolor": "white",
             "minorgridcolor": "white",
             "startlinecolor": "#2a3f5f"
            },
            "type": "carpet"
           }
          ],
          "choropleth": [
           {
            "colorbar": {
             "outlinewidth": 0,
             "ticks": ""
            },
            "type": "choropleth"
           }
          ],
          "contour": [
           {
            "colorbar": {
             "outlinewidth": 0,
             "ticks": ""
            },
            "colorscale": [
             [
              0,
              "#0d0887"
             ],
             [
              0.1111111111111111,
              "#46039f"
             ],
             [
              0.2222222222222222,
              "#7201a8"
             ],
             [
              0.3333333333333333,
              "#9c179e"
             ],
             [
              0.4444444444444444,
              "#bd3786"
             ],
             [
              0.5555555555555556,
              "#d8576b"
             ],
             [
              0.6666666666666666,
              "#ed7953"
             ],
             [
              0.7777777777777778,
              "#fb9f3a"
             ],
             [
              0.8888888888888888,
              "#fdca26"
             ],
             [
              1,
              "#f0f921"
             ]
            ],
            "type": "contour"
           }
          ],
          "contourcarpet": [
           {
            "colorbar": {
             "outlinewidth": 0,
             "ticks": ""
            },
            "type": "contourcarpet"
           }
          ],
          "heatmap": [
           {
            "colorbar": {
             "outlinewidth": 0,
             "ticks": ""
            },
            "colorscale": [
             [
              0,
              "#0d0887"
             ],
             [
              0.1111111111111111,
              "#46039f"
             ],
             [
              0.2222222222222222,
              "#7201a8"
             ],
             [
              0.3333333333333333,
              "#9c179e"
             ],
             [
              0.4444444444444444,
              "#bd3786"
             ],
             [
              0.5555555555555556,
              "#d8576b"
             ],
             [
              0.6666666666666666,
              "#ed7953"
             ],
             [
              0.7777777777777778,
              "#fb9f3a"
             ],
             [
              0.8888888888888888,
              "#fdca26"
             ],
             [
              1,
              "#f0f921"
             ]
            ],
            "type": "heatmap"
           }
          ],
          "histogram": [
           {
            "marker": {
             "pattern": {
              "fillmode": "overlay",
              "size": 10,
              "solidity": 0.2
             }
            },
            "type": "histogram"
           }
          ],
          "histogram2d": [
           {
            "colorbar": {
             "outlinewidth": 0,
             "ticks": ""
            },
            "colorscale": [
             [
              0,
              "#0d0887"
             ],
             [
              0.1111111111111111,
              "#46039f"
             ],
             [
              0.2222222222222222,
              "#7201a8"
             ],
             [
              0.3333333333333333,
              "#9c179e"
             ],
             [
              0.4444444444444444,
              "#bd3786"
             ],
             [
              0.5555555555555556,
              "#d8576b"
             ],
             [
              0.6666666666666666,
              "#ed7953"
             ],
             [
              0.7777777777777778,
              "#fb9f3a"
             ],
             [
              0.8888888888888888,
              "#fdca26"
             ],
             [
              1,
              "#f0f921"
             ]
            ],
            "type": "histogram2d"
           }
          ],
          "histogram2dcontour": [
           {
            "colorbar": {
             "outlinewidth": 0,
             "ticks": ""
            },
            "colorscale": [
             [
              0,
              "#0d0887"
             ],
             [
              0.1111111111111111,
              "#46039f"
             ],
             [
              0.2222222222222222,
              "#7201a8"
             ],
             [
              0.3333333333333333,
              "#9c179e"
             ],
             [
              0.4444444444444444,
              "#bd3786"
             ],
             [
              0.5555555555555556,
              "#d8576b"
             ],
             [
              0.6666666666666666,
              "#ed7953"
             ],
             [
              0.7777777777777778,
              "#fb9f3a"
             ],
             [
              0.8888888888888888,
              "#fdca26"
             ],
             [
              1,
              "#f0f921"
             ]
            ],
            "type": "histogram2dcontour"
           }
          ],
          "mesh3d": [
           {
            "colorbar": {
             "outlinewidth": 0,
             "ticks": ""
            },
            "type": "mesh3d"
           }
          ],
          "parcoords": [
           {
            "line": {
             "colorbar": {
              "outlinewidth": 0,
              "ticks": ""
             }
            },
            "type": "parcoords"
           }
          ],
          "pie": [
           {
            "automargin": true,
            "type": "pie"
           }
          ],
          "scatter": [
           {
            "fillpattern": {
             "fillmode": "overlay",
             "size": 10,
             "solidity": 0.2
            },
            "type": "scatter"
           }
          ],
          "scatter3d": [
           {
            "line": {
             "colorbar": {
              "outlinewidth": 0,
              "ticks": ""
             }
            },
            "marker": {
             "colorbar": {
              "outlinewidth": 0,
              "ticks": ""
             }
            },
            "type": "scatter3d"
           }
          ],
          "scattercarpet": [
           {
            "marker": {
             "colorbar": {
              "outlinewidth": 0,
              "ticks": ""
             }
            },
            "type": "scattercarpet"
           }
          ],
          "scattergeo": [
           {
            "marker": {
             "colorbar": {
              "outlinewidth": 0,
              "ticks": ""
             }
            },
            "type": "scattergeo"
           }
          ],
          "scattergl": [
           {
            "marker": {
             "colorbar": {
              "outlinewidth": 0,
              "ticks": ""
             }
            },
            "type": "scattergl"
           }
          ],
          "scattermap": [
           {
            "marker": {
             "colorbar": {
              "outlinewidth": 0,
              "ticks": ""
             }
            },
            "type": "scattermap"
           }
          ],
          "scattermapbox": [
           {
            "marker": {
             "colorbar": {
              "outlinewidth": 0,
              "ticks": ""
             }
            },
            "type": "scattermapbox"
           }
          ],
          "scatterpolar": [
           {
            "marker": {
             "colorbar": {
              "outlinewidth": 0,
              "ticks": ""
             }
            },
            "type": "scatterpolar"
           }
          ],
          "scatterpolargl": [
           {
            "marker": {
             "colorbar": {
              "outlinewidth": 0,
              "ticks": ""
             }
            },
            "type": "scatterpolargl"
           }
          ],
          "scatterternary": [
           {
            "marker": {
             "colorbar": {
              "outlinewidth": 0,
              "ticks": ""
             }
            },
            "type": "scatterternary"
           }
          ],
          "surface": [
           {
            "colorbar": {
             "outlinewidth": 0,
             "ticks": ""
            },
            "colorscale": [
             [
              0,
              "#0d0887"
             ],
             [
              0.1111111111111111,
              "#46039f"
             ],
             [
              0.2222222222222222,
              "#7201a8"
             ],
             [
              0.3333333333333333,
              "#9c179e"
             ],
             [
              0.4444444444444444,
              "#bd3786"
             ],
             [
              0.5555555555555556,
              "#d8576b"
             ],
             [
              0.6666666666666666,
              "#ed7953"
             ],
             [
              0.7777777777777778,
              "#fb9f3a"
             ],
             [
              0.8888888888888888,
              "#fdca26"
             ],
             [
              1,
              "#f0f921"
             ]
            ],
            "type": "surface"
           }
          ],
          "table": [
           {
            "cells": {
             "fill": {
              "color": "#EBF0F8"
             },
             "line": {
              "color": "white"
             }
            },
            "header": {
             "fill": {
              "color": "#C8D4E3"
             },
             "line": {
              "color": "white"
             }
            },
            "type": "table"
           }
          ]
         },
         "layout": {
          "annotationdefaults": {
           "arrowcolor": "#2a3f5f",
           "arrowhead": 0,
           "arrowwidth": 1
          },
          "autotypenumbers": "strict",
          "coloraxis": {
           "colorbar": {
            "outlinewidth": 0,
            "ticks": ""
           }
          },
          "colorscale": {
           "diverging": [
            [
             0,
             "#8e0152"
            ],
            [
             0.1,
             "#c51b7d"
            ],
            [
             0.2,
             "#de77ae"
            ],
            [
             0.3,
             "#f1b6da"
            ],
            [
             0.4,
             "#fde0ef"
            ],
            [
             0.5,
             "#f7f7f7"
            ],
            [
             0.6,
             "#e6f5d0"
            ],
            [
             0.7,
             "#b8e186"
            ],
            [
             0.8,
             "#7fbc41"
            ],
            [
             0.9,
             "#4d9221"
            ],
            [
             1,
             "#276419"
            ]
           ],
           "sequential": [
            [
             0,
             "#0d0887"
            ],
            [
             0.1111111111111111,
             "#46039f"
            ],
            [
             0.2222222222222222,
             "#7201a8"
            ],
            [
             0.3333333333333333,
             "#9c179e"
            ],
            [
             0.4444444444444444,
             "#bd3786"
            ],
            [
             0.5555555555555556,
             "#d8576b"
            ],
            [
             0.6666666666666666,
             "#ed7953"
            ],
            [
             0.7777777777777778,
             "#fb9f3a"
            ],
            [
             0.8888888888888888,
             "#fdca26"
            ],
            [
             1,
             "#f0f921"
            ]
           ],
           "sequentialminus": [
            [
             0,
             "#0d0887"
            ],
            [
             0.1111111111111111,
             "#46039f"
            ],
            [
             0.2222222222222222,
             "#7201a8"
            ],
            [
             0.3333333333333333,
             "#9c179e"
            ],
            [
             0.4444444444444444,
             "#bd3786"
            ],
            [
             0.5555555555555556,
             "#d8576b"
            ],
            [
             0.6666666666666666,
             "#ed7953"
            ],
            [
             0.7777777777777778,
             "#fb9f3a"
            ],
            [
             0.8888888888888888,
             "#fdca26"
            ],
            [
             1,
             "#f0f921"
            ]
           ]
          },
          "colorway": [
           "#636efa",
           "#EF553B",
           "#00cc96",
           "#ab63fa",
           "#FFA15A",
           "#19d3f3",
           "#FF6692",
           "#B6E880",
           "#FF97FF",
           "#FECB52"
          ],
          "font": {
           "color": "#2a3f5f"
          },
          "geo": {
           "bgcolor": "white",
           "lakecolor": "white",
           "landcolor": "#E5ECF6",
           "showlakes": true,
           "showland": true,
           "subunitcolor": "white"
          },
          "hoverlabel": {
           "align": "left"
          },
          "hovermode": "closest",
          "mapbox": {
           "style": "light"
          },
          "paper_bgcolor": "white",
          "plot_bgcolor": "#E5ECF6",
          "polar": {
           "angularaxis": {
            "gridcolor": "white",
            "linecolor": "white",
            "ticks": ""
           },
           "bgcolor": "#E5ECF6",
           "radialaxis": {
            "gridcolor": "white",
            "linecolor": "white",
            "ticks": ""
           }
          },
          "scene": {
           "xaxis": {
            "backgroundcolor": "#E5ECF6",
            "gridcolor": "white",
            "gridwidth": 2,
            "linecolor": "white",
            "showbackground": true,
            "ticks": "",
            "zerolinecolor": "white"
           },
           "yaxis": {
            "backgroundcolor": "#E5ECF6",
            "gridcolor": "white",
            "gridwidth": 2,
            "linecolor": "white",
            "showbackground": true,
            "ticks": "",
            "zerolinecolor": "white"
           },
           "zaxis": {
            "backgroundcolor": "#E5ECF6",
            "gridcolor": "white",
            "gridwidth": 2,
            "linecolor": "white",
            "showbackground": true,
            "ticks": "",
            "zerolinecolor": "white"
           }
          },
          "shapedefaults": {
           "line": {
            "color": "#2a3f5f"
           }
          },
          "ternary": {
           "aaxis": {
            "gridcolor": "white",
            "linecolor": "white",
            "ticks": ""
           },
           "baxis": {
            "gridcolor": "white",
            "linecolor": "white",
            "ticks": ""
           },
           "bgcolor": "#E5ECF6",
           "caxis": {
            "gridcolor": "white",
            "linecolor": "white",
            "ticks": ""
           }
          },
          "title": {
           "x": 0.05
          },
          "xaxis": {
           "automargin": true,
           "gridcolor": "white",
           "linecolor": "white",
           "ticks": "",
           "title": {
            "standoff": 15
           },
           "zerolinecolor": "white",
           "zerolinewidth": 2
          },
          "yaxis": {
           "automargin": true,
           "gridcolor": "white",
           "linecolor": "white",
           "ticks": "",
           "title": {
            "standoff": 15
           },
           "zerolinecolor": "white",
           "zerolinewidth": 2
          }
         }
        },
        "title": {
         "text": "Total Sales For Each Country"
        },
        "xaxis": {
         "anchor": "y",
         "domain": [
          0,
          1
         ],
         "title": {
          "text": "country"
         }
        },
        "yaxis": {
         "anchor": "x",
         "domain": [
          0,
          1
         ],
         "title": {
          "text": "totalamount"
         }
        }
       }
      }
     },
     "metadata": {},
     "output_type": "display_data"
    },
    {
     "data": {
      "application/vnd.plotly.v1+json": {
       "config": {
        "plotlyServerURL": "https://plot.ly"
       },
       "data": [
        {
         "domain": {
          "x": [
           0,
           1
          ],
          "y": [
           0,
           1
          ]
         },
         "hovertemplate": "country=%{label}<br>totalamount=%{value}<extra></extra>",
         "labels": [
          "USA",
          "Germany",
          "Austria",
          "Brazil",
          "France",
          "Venezuela",
          "Sweden",
          "UK",
          "Canada",
          "Ireland"
         ],
         "legendgroup": "",
         "name": "",
         "showlegend": true,
         "type": "pie",
         "values": {
          "bdata": "16NwvX9DLEG4HoXrD70oQc3MzMw6Eh5Bw/UoXI7vEkGuR+F6SvMPQetRuB5H6QVBZmZmZrxcBUHsUbge5+YEQQAAAACQrgNBpHA9Cq8oA0E=",
          "dtype": "f8"
         }
        }
       ],
       "layout": {
        "legend": {
         "tracegroupgap": 0
        },
        "template": {
         "data": {
          "bar": [
           {
            "error_x": {
             "color": "#2a3f5f"
            },
            "error_y": {
             "color": "#2a3f5f"
            },
            "marker": {
             "line": {
              "color": "#E5ECF6",
              "width": 0.5
             },
             "pattern": {
              "fillmode": "overlay",
              "size": 10,
              "solidity": 0.2
             }
            },
            "type": "bar"
           }
          ],
          "barpolar": [
           {
            "marker": {
             "line": {
              "color": "#E5ECF6",
              "width": 0.5
             },
             "pattern": {
              "fillmode": "overlay",
              "size": 10,
              "solidity": 0.2
             }
            },
            "type": "barpolar"
           }
          ],
          "carpet": [
           {
            "aaxis": {
             "endlinecolor": "#2a3f5f",
             "gridcolor": "white",
             "linecolor": "white",
             "minorgridcolor": "white",
             "startlinecolor": "#2a3f5f"
            },
            "baxis": {
             "endlinecolor": "#2a3f5f",
             "gridcolor": "white",
             "linecolor": "white",
             "minorgridcolor": "white",
             "startlinecolor": "#2a3f5f"
            },
            "type": "carpet"
           }
          ],
          "choropleth": [
           {
            "colorbar": {
             "outlinewidth": 0,
             "ticks": ""
            },
            "type": "choropleth"
           }
          ],
          "contour": [
           {
            "colorbar": {
             "outlinewidth": 0,
             "ticks": ""
            },
            "colorscale": [
             [
              0,
              "#0d0887"
             ],
             [
              0.1111111111111111,
              "#46039f"
             ],
             [
              0.2222222222222222,
              "#7201a8"
             ],
             [
              0.3333333333333333,
              "#9c179e"
             ],
             [
              0.4444444444444444,
              "#bd3786"
             ],
             [
              0.5555555555555556,
              "#d8576b"
             ],
             [
              0.6666666666666666,
              "#ed7953"
             ],
             [
              0.7777777777777778,
              "#fb9f3a"
             ],
             [
              0.8888888888888888,
              "#fdca26"
             ],
             [
              1,
              "#f0f921"
             ]
            ],
            "type": "contour"
           }
          ],
          "contourcarpet": [
           {
            "colorbar": {
             "outlinewidth": 0,
             "ticks": ""
            },
            "type": "contourcarpet"
           }
          ],
          "heatmap": [
           {
            "colorbar": {
             "outlinewidth": 0,
             "ticks": ""
            },
            "colorscale": [
             [
              0,
              "#0d0887"
             ],
             [
              0.1111111111111111,
              "#46039f"
             ],
             [
              0.2222222222222222,
              "#7201a8"
             ],
             [
              0.3333333333333333,
              "#9c179e"
             ],
             [
              0.4444444444444444,
              "#bd3786"
             ],
             [
              0.5555555555555556,
              "#d8576b"
             ],
             [
              0.6666666666666666,
              "#ed7953"
             ],
             [
              0.7777777777777778,
              "#fb9f3a"
             ],
             [
              0.8888888888888888,
              "#fdca26"
             ],
             [
              1,
              "#f0f921"
             ]
            ],
            "type": "heatmap"
           }
          ],
          "histogram": [
           {
            "marker": {
             "pattern": {
              "fillmode": "overlay",
              "size": 10,
              "solidity": 0.2
             }
            },
            "type": "histogram"
           }
          ],
          "histogram2d": [
           {
            "colorbar": {
             "outlinewidth": 0,
             "ticks": ""
            },
            "colorscale": [
             [
              0,
              "#0d0887"
             ],
             [
              0.1111111111111111,
              "#46039f"
             ],
             [
              0.2222222222222222,
              "#7201a8"
             ],
             [
              0.3333333333333333,
              "#9c179e"
             ],
             [
              0.4444444444444444,
              "#bd3786"
             ],
             [
              0.5555555555555556,
              "#d8576b"
             ],
             [
              0.6666666666666666,
              "#ed7953"
             ],
             [
              0.7777777777777778,
              "#fb9f3a"
             ],
             [
              0.8888888888888888,
              "#fdca26"
             ],
             [
              1,
              "#f0f921"
             ]
            ],
            "type": "histogram2d"
           }
          ],
          "histogram2dcontour": [
           {
            "colorbar": {
             "outlinewidth": 0,
             "ticks": ""
            },
            "colorscale": [
             [
              0,
              "#0d0887"
             ],
             [
              0.1111111111111111,
              "#46039f"
             ],
             [
              0.2222222222222222,
              "#7201a8"
             ],
             [
              0.3333333333333333,
              "#9c179e"
             ],
             [
              0.4444444444444444,
              "#bd3786"
             ],
             [
              0.5555555555555556,
              "#d8576b"
             ],
             [
              0.6666666666666666,
              "#ed7953"
             ],
             [
              0.7777777777777778,
              "#fb9f3a"
             ],
             [
              0.8888888888888888,
              "#fdca26"
             ],
             [
              1,
              "#f0f921"
             ]
            ],
            "type": "histogram2dcontour"
           }
          ],
          "mesh3d": [
           {
            "colorbar": {
             "outlinewidth": 0,
             "ticks": ""
            },
            "type": "mesh3d"
           }
          ],
          "parcoords": [
           {
            "line": {
             "colorbar": {
              "outlinewidth": 0,
              "ticks": ""
             }
            },
            "type": "parcoords"
           }
          ],
          "pie": [
           {
            "automargin": true,
            "type": "pie"
           }
          ],
          "scatter": [
           {
            "fillpattern": {
             "fillmode": "overlay",
             "size": 10,
             "solidity": 0.2
            },
            "type": "scatter"
           }
          ],
          "scatter3d": [
           {
            "line": {
             "colorbar": {
              "outlinewidth": 0,
              "ticks": ""
             }
            },
            "marker": {
             "colorbar": {
              "outlinewidth": 0,
              "ticks": ""
             }
            },
            "type": "scatter3d"
           }
          ],
          "scattercarpet": [
           {
            "marker": {
             "colorbar": {
              "outlinewidth": 0,
              "ticks": ""
             }
            },
            "type": "scattercarpet"
           }
          ],
          "scattergeo": [
           {
            "marker": {
             "colorbar": {
              "outlinewidth": 0,
              "ticks": ""
             }
            },
            "type": "scattergeo"
           }
          ],
          "scattergl": [
           {
            "marker": {
             "colorbar": {
              "outlinewidth": 0,
              "ticks": ""
             }
            },
            "type": "scattergl"
           }
          ],
          "scattermap": [
           {
            "marker": {
             "colorbar": {
              "outlinewidth": 0,
              "ticks": ""
             }
            },
            "type": "scattermap"
           }
          ],
          "scattermapbox": [
           {
            "marker": {
             "colorbar": {
              "outlinewidth": 0,
              "ticks": ""
             }
            },
            "type": "scattermapbox"
           }
          ],
          "scatterpolar": [
           {
            "marker": {
             "colorbar": {
              "outlinewidth": 0,
              "ticks": ""
             }
            },
            "type": "scatterpolar"
           }
          ],
          "scatterpolargl": [
           {
            "marker": {
             "colorbar": {
              "outlinewidth": 0,
              "ticks": ""
             }
            },
            "type": "scatterpolargl"
           }
          ],
          "scatterternary": [
           {
            "marker": {
             "colorbar": {
              "outlinewidth": 0,
              "ticks": ""
             }
            },
            "type": "scatterternary"
           }
          ],
          "surface": [
           {
            "colorbar": {
             "outlinewidth": 0,
             "ticks": ""
            },
            "colorscale": [
             [
              0,
              "#0d0887"
             ],
             [
              0.1111111111111111,
              "#46039f"
             ],
             [
              0.2222222222222222,
              "#7201a8"
             ],
             [
              0.3333333333333333,
              "#9c179e"
             ],
             [
              0.4444444444444444,
              "#bd3786"
             ],
             [
              0.5555555555555556,
              "#d8576b"
             ],
             [
              0.6666666666666666,
              "#ed7953"
             ],
             [
              0.7777777777777778,
              "#fb9f3a"
             ],
             [
              0.8888888888888888,
              "#fdca26"
             ],
             [
              1,
              "#f0f921"
             ]
            ],
            "type": "surface"
           }
          ],
          "table": [
           {
            "cells": {
             "fill": {
              "color": "#EBF0F8"
             },
             "line": {
              "color": "white"
             }
            },
            "header": {
             "fill": {
              "color": "#C8D4E3"
             },
             "line": {
              "color": "white"
             }
            },
            "type": "table"
           }
          ]
         },
         "layout": {
          "annotationdefaults": {
           "arrowcolor": "#2a3f5f",
           "arrowhead": 0,
           "arrowwidth": 1
          },
          "autotypenumbers": "strict",
          "coloraxis": {
           "colorbar": {
            "outlinewidth": 0,
            "ticks": ""
           }
          },
          "colorscale": {
           "diverging": [
            [
             0,
             "#8e0152"
            ],
            [
             0.1,
             "#c51b7d"
            ],
            [
             0.2,
             "#de77ae"
            ],
            [
             0.3,
             "#f1b6da"
            ],
            [
             0.4,
             "#fde0ef"
            ],
            [
             0.5,
             "#f7f7f7"
            ],
            [
             0.6,
             "#e6f5d0"
            ],
            [
             0.7,
             "#b8e186"
            ],
            [
             0.8,
             "#7fbc41"
            ],
            [
             0.9,
             "#4d9221"
            ],
            [
             1,
             "#276419"
            ]
           ],
           "sequential": [
            [
             0,
             "#0d0887"
            ],
            [
             0.1111111111111111,
             "#46039f"
            ],
            [
             0.2222222222222222,
             "#7201a8"
            ],
            [
             0.3333333333333333,
             "#9c179e"
            ],
            [
             0.4444444444444444,
             "#bd3786"
            ],
            [
             0.5555555555555556,
             "#d8576b"
            ],
            [
             0.6666666666666666,
             "#ed7953"
            ],
            [
             0.7777777777777778,
             "#fb9f3a"
            ],
            [
             0.8888888888888888,
             "#fdca26"
            ],
            [
             1,
             "#f0f921"
            ]
           ],
           "sequentialminus": [
            [
             0,
             "#0d0887"
            ],
            [
             0.1111111111111111,
             "#46039f"
            ],
            [
             0.2222222222222222,
             "#7201a8"
            ],
            [
             0.3333333333333333,
             "#9c179e"
            ],
            [
             0.4444444444444444,
             "#bd3786"
            ],
            [
             0.5555555555555556,
             "#d8576b"
            ],
            [
             0.6666666666666666,
             "#ed7953"
            ],
            [
             0.7777777777777778,
             "#fb9f3a"
            ],
            [
             0.8888888888888888,
             "#fdca26"
            ],
            [
             1,
             "#f0f921"
            ]
           ]
          },
          "colorway": [
           "#636efa",
           "#EF553B",
           "#00cc96",
           "#ab63fa",
           "#FFA15A",
           "#19d3f3",
           "#FF6692",
           "#B6E880",
           "#FF97FF",
           "#FECB52"
          ],
          "font": {
           "color": "#2a3f5f"
          },
          "geo": {
           "bgcolor": "white",
           "lakecolor": "white",
           "landcolor": "#E5ECF6",
           "showlakes": true,
           "showland": true,
           "subunitcolor": "white"
          },
          "hoverlabel": {
           "align": "left"
          },
          "hovermode": "closest",
          "mapbox": {
           "style": "light"
          },
          "paper_bgcolor": "white",
          "plot_bgcolor": "#E5ECF6",
          "polar": {
           "angularaxis": {
            "gridcolor": "white",
            "linecolor": "white",
            "ticks": ""
           },
           "bgcolor": "#E5ECF6",
           "radialaxis": {
            "gridcolor": "white",
            "linecolor": "white",
            "ticks": ""
           }
          },
          "scene": {
           "xaxis": {
            "backgroundcolor": "#E5ECF6",
            "gridcolor": "white",
            "gridwidth": 2,
            "linecolor": "white",
            "showbackground": true,
            "ticks": "",
            "zerolinecolor": "white"
           },
           "yaxis": {
            "backgroundcolor": "#E5ECF6",
            "gridcolor": "white",
            "gridwidth": 2,
            "linecolor": "white",
            "showbackground": true,
            "ticks": "",
            "zerolinecolor": "white"
           },
           "zaxis": {
            "backgroundcolor": "#E5ECF6",
            "gridcolor": "white",
            "gridwidth": 2,
            "linecolor": "white",
            "showbackground": true,
            "ticks": "",
            "zerolinecolor": "white"
           }
          },
          "shapedefaults": {
           "line": {
            "color": "#2a3f5f"
           }
          },
          "ternary": {
           "aaxis": {
            "gridcolor": "white",
            "linecolor": "white",
            "ticks": ""
           },
           "baxis": {
            "gridcolor": "white",
            "linecolor": "white",
            "ticks": ""
           },
           "bgcolor": "#E5ECF6",
           "caxis": {
            "gridcolor": "white",
            "linecolor": "white",
            "ticks": ""
           }
          },
          "title": {
           "x": 0.05
          },
          "xaxis": {
           "automargin": true,
           "gridcolor": "white",
           "linecolor": "white",
           "ticks": "",
           "title": {
            "standoff": 15
           },
           "zerolinecolor": "white",
           "zerolinewidth": 2
          },
          "yaxis": {
           "automargin": true,
           "gridcolor": "white",
           "linecolor": "white",
           "ticks": "",
           "title": {
            "standoff": 15
           },
           "zerolinecolor": "white",
           "zerolinewidth": 2
          }
         }
        },
        "title": {
         "text": "Percentage Contribution To The Overall Sales"
        }
       }
      }
     },
     "metadata": {},
     "output_type": "display_data"
    }
   ],
   "source": [
    "plots('country')"
   ]
  },
  {
   "cell_type": "code",
   "execution_count": 38,
   "id": "04d1740c",
   "metadata": {},
   "outputs": [
    {
     "name": "stdout",
     "output_type": "stream",
     "text": [
      "Proportion of total amount by city\n"
     ]
    },
    {
     "name": "stdout",
     "output_type": "stream",
     "text": [
      "count        69.00\n",
      "mean     62,027.64\n",
      "std      91,785.51\n",
      "min         357.00\n",
      "25%       9,958.70\n",
      "50%      35,222.95\n",
      "75%      66,911.40\n",
      "max     481,076.03\n",
      "Name: totalamount, dtype: float64\n"
     ]
    },
    {
     "data": {
      "application/vnd.plotly.v1+json": {
       "config": {
        "plotlyServerURL": "https://plot.ly"
       },
       "data": [
        {
         "hovertemplate": "city=%{x}<br>totalamount=%{y}<extra></extra>",
         "legendgroup": "",
         "marker": {
          "color": "#636efa",
          "pattern": {
           "shape": ""
          }
         },
         "name": "",
         "orientation": "v",
         "showlegend": false,
         "textposition": "auto",
         "type": "bar",
         "x": [
          "Boise",
          "Graz",
          "Cunewalde",
          "Albuquerque",
          "Cork",
          "London",
          "Sao Paulo",
          "Rio de Janeiro",
          "Brandenburg",
          "München"
         ],
         "xaxis": "x",
         "y": {
          "bdata": "61G4HtBcHUEAAAAAsQUaQWZmZmZFfRlBzczMzKTdBUGkcD0KrygDQR+F61FCrQJBUrgehd02AkEK16NwwQb9QEjhehQa+PtA7FG4HnEs90A=",
          "dtype": "f8"
         },
         "yaxis": "y"
        }
       ],
       "layout": {
        "barmode": "relative",
        "legend": {
         "tracegroupgap": 0
        },
        "template": {
         "data": {
          "bar": [
           {
            "error_x": {
             "color": "#2a3f5f"
            },
            "error_y": {
             "color": "#2a3f5f"
            },
            "marker": {
             "line": {
              "color": "#E5ECF6",
              "width": 0.5
             },
             "pattern": {
              "fillmode": "overlay",
              "size": 10,
              "solidity": 0.2
             }
            },
            "type": "bar"
           }
          ],
          "barpolar": [
           {
            "marker": {
             "line": {
              "color": "#E5ECF6",
              "width": 0.5
             },
             "pattern": {
              "fillmode": "overlay",
              "size": 10,
              "solidity": 0.2
             }
            },
            "type": "barpolar"
           }
          ],
          "carpet": [
           {
            "aaxis": {
             "endlinecolor": "#2a3f5f",
             "gridcolor": "white",
             "linecolor": "white",
             "minorgridcolor": "white",
             "startlinecolor": "#2a3f5f"
            },
            "baxis": {
             "endlinecolor": "#2a3f5f",
             "gridcolor": "white",
             "linecolor": "white",
             "minorgridcolor": "white",
             "startlinecolor": "#2a3f5f"
            },
            "type": "carpet"
           }
          ],
          "choropleth": [
           {
            "colorbar": {
             "outlinewidth": 0,
             "ticks": ""
            },
            "type": "choropleth"
           }
          ],
          "contour": [
           {
            "colorbar": {
             "outlinewidth": 0,
             "ticks": ""
            },
            "colorscale": [
             [
              0,
              "#0d0887"
             ],
             [
              0.1111111111111111,
              "#46039f"
             ],
             [
              0.2222222222222222,
              "#7201a8"
             ],
             [
              0.3333333333333333,
              "#9c179e"
             ],
             [
              0.4444444444444444,
              "#bd3786"
             ],
             [
              0.5555555555555556,
              "#d8576b"
             ],
             [
              0.6666666666666666,
              "#ed7953"
             ],
             [
              0.7777777777777778,
              "#fb9f3a"
             ],
             [
              0.8888888888888888,
              "#fdca26"
             ],
             [
              1,
              "#f0f921"
             ]
            ],
            "type": "contour"
           }
          ],
          "contourcarpet": [
           {
            "colorbar": {
             "outlinewidth": 0,
             "ticks": ""
            },
            "type": "contourcarpet"
           }
          ],
          "heatmap": [
           {
            "colorbar": {
             "outlinewidth": 0,
             "ticks": ""
            },
            "colorscale": [
             [
              0,
              "#0d0887"
             ],
             [
              0.1111111111111111,
              "#46039f"
             ],
             [
              0.2222222222222222,
              "#7201a8"
             ],
             [
              0.3333333333333333,
              "#9c179e"
             ],
             [
              0.4444444444444444,
              "#bd3786"
             ],
             [
              0.5555555555555556,
              "#d8576b"
             ],
             [
              0.6666666666666666,
              "#ed7953"
             ],
             [
              0.7777777777777778,
              "#fb9f3a"
             ],
             [
              0.8888888888888888,
              "#fdca26"
             ],
             [
              1,
              "#f0f921"
             ]
            ],
            "type": "heatmap"
           }
          ],
          "histogram": [
           {
            "marker": {
             "pattern": {
              "fillmode": "overlay",
              "size": 10,
              "solidity": 0.2
             }
            },
            "type": "histogram"
           }
          ],
          "histogram2d": [
           {
            "colorbar": {
             "outlinewidth": 0,
             "ticks": ""
            },
            "colorscale": [
             [
              0,
              "#0d0887"
             ],
             [
              0.1111111111111111,
              "#46039f"
             ],
             [
              0.2222222222222222,
              "#7201a8"
             ],
             [
              0.3333333333333333,
              "#9c179e"
             ],
             [
              0.4444444444444444,
              "#bd3786"
             ],
             [
              0.5555555555555556,
              "#d8576b"
             ],
             [
              0.6666666666666666,
              "#ed7953"
             ],
             [
              0.7777777777777778,
              "#fb9f3a"
             ],
             [
              0.8888888888888888,
              "#fdca26"
             ],
             [
              1,
              "#f0f921"
             ]
            ],
            "type": "histogram2d"
           }
          ],
          "histogram2dcontour": [
           {
            "colorbar": {
             "outlinewidth": 0,
             "ticks": ""
            },
            "colorscale": [
             [
              0,
              "#0d0887"
             ],
             [
              0.1111111111111111,
              "#46039f"
             ],
             [
              0.2222222222222222,
              "#7201a8"
             ],
             [
              0.3333333333333333,
              "#9c179e"
             ],
             [
              0.4444444444444444,
              "#bd3786"
             ],
             [
              0.5555555555555556,
              "#d8576b"
             ],
             [
              0.6666666666666666,
              "#ed7953"
             ],
             [
              0.7777777777777778,
              "#fb9f3a"
             ],
             [
              0.8888888888888888,
              "#fdca26"
             ],
             [
              1,
              "#f0f921"
             ]
            ],
            "type": "histogram2dcontour"
           }
          ],
          "mesh3d": [
           {
            "colorbar": {
             "outlinewidth": 0,
             "ticks": ""
            },
            "type": "mesh3d"
           }
          ],
          "parcoords": [
           {
            "line": {
             "colorbar": {
              "outlinewidth": 0,
              "ticks": ""
             }
            },
            "type": "parcoords"
           }
          ],
          "pie": [
           {
            "automargin": true,
            "type": "pie"
           }
          ],
          "scatter": [
           {
            "fillpattern": {
             "fillmode": "overlay",
             "size": 10,
             "solidity": 0.2
            },
            "type": "scatter"
           }
          ],
          "scatter3d": [
           {
            "line": {
             "colorbar": {
              "outlinewidth": 0,
              "ticks": ""
             }
            },
            "marker": {
             "colorbar": {
              "outlinewidth": 0,
              "ticks": ""
             }
            },
            "type": "scatter3d"
           }
          ],
          "scattercarpet": [
           {
            "marker": {
             "colorbar": {
              "outlinewidth": 0,
              "ticks": ""
             }
            },
            "type": "scattercarpet"
           }
          ],
          "scattergeo": [
           {
            "marker": {
             "colorbar": {
              "outlinewidth": 0,
              "ticks": ""
             }
            },
            "type": "scattergeo"
           }
          ],
          "scattergl": [
           {
            "marker": {
             "colorbar": {
              "outlinewidth": 0,
              "ticks": ""
             }
            },
            "type": "scattergl"
           }
          ],
          "scattermap": [
           {
            "marker": {
             "colorbar": {
              "outlinewidth": 0,
              "ticks": ""
             }
            },
            "type": "scattermap"
           }
          ],
          "scattermapbox": [
           {
            "marker": {
             "colorbar": {
              "outlinewidth": 0,
              "ticks": ""
             }
            },
            "type": "scattermapbox"
           }
          ],
          "scatterpolar": [
           {
            "marker": {
             "colorbar": {
              "outlinewidth": 0,
              "ticks": ""
             }
            },
            "type": "scatterpolar"
           }
          ],
          "scatterpolargl": [
           {
            "marker": {
             "colorbar": {
              "outlinewidth": 0,
              "ticks": ""
             }
            },
            "type": "scatterpolargl"
           }
          ],
          "scatterternary": [
           {
            "marker": {
             "colorbar": {
              "outlinewidth": 0,
              "ticks": ""
             }
            },
            "type": "scatterternary"
           }
          ],
          "surface": [
           {
            "colorbar": {
             "outlinewidth": 0,
             "ticks": ""
            },
            "colorscale": [
             [
              0,
              "#0d0887"
             ],
             [
              0.1111111111111111,
              "#46039f"
             ],
             [
              0.2222222222222222,
              "#7201a8"
             ],
             [
              0.3333333333333333,
              "#9c179e"
             ],
             [
              0.4444444444444444,
              "#bd3786"
             ],
             [
              0.5555555555555556,
              "#d8576b"
             ],
             [
              0.6666666666666666,
              "#ed7953"
             ],
             [
              0.7777777777777778,
              "#fb9f3a"
             ],
             [
              0.8888888888888888,
              "#fdca26"
             ],
             [
              1,
              "#f0f921"
             ]
            ],
            "type": "surface"
           }
          ],
          "table": [
           {
            "cells": {
             "fill": {
              "color": "#EBF0F8"
             },
             "line": {
              "color": "white"
             }
            },
            "header": {
             "fill": {
              "color": "#C8D4E3"
             },
             "line": {
              "color": "white"
             }
            },
            "type": "table"
           }
          ]
         },
         "layout": {
          "annotationdefaults": {
           "arrowcolor": "#2a3f5f",
           "arrowhead": 0,
           "arrowwidth": 1
          },
          "autotypenumbers": "strict",
          "coloraxis": {
           "colorbar": {
            "outlinewidth": 0,
            "ticks": ""
           }
          },
          "colorscale": {
           "diverging": [
            [
             0,
             "#8e0152"
            ],
            [
             0.1,
             "#c51b7d"
            ],
            [
             0.2,
             "#de77ae"
            ],
            [
             0.3,
             "#f1b6da"
            ],
            [
             0.4,
             "#fde0ef"
            ],
            [
             0.5,
             "#f7f7f7"
            ],
            [
             0.6,
             "#e6f5d0"
            ],
            [
             0.7,
             "#b8e186"
            ],
            [
             0.8,
             "#7fbc41"
            ],
            [
             0.9,
             "#4d9221"
            ],
            [
             1,
             "#276419"
            ]
           ],
           "sequential": [
            [
             0,
             "#0d0887"
            ],
            [
             0.1111111111111111,
             "#46039f"
            ],
            [
             0.2222222222222222,
             "#7201a8"
            ],
            [
             0.3333333333333333,
             "#9c179e"
            ],
            [
             0.4444444444444444,
             "#bd3786"
            ],
            [
             0.5555555555555556,
             "#d8576b"
            ],
            [
             0.6666666666666666,
             "#ed7953"
            ],
            [
             0.7777777777777778,
             "#fb9f3a"
            ],
            [
             0.8888888888888888,
             "#fdca26"
            ],
            [
             1,
             "#f0f921"
            ]
           ],
           "sequentialminus": [
            [
             0,
             "#0d0887"
            ],
            [
             0.1111111111111111,
             "#46039f"
            ],
            [
             0.2222222222222222,
             "#7201a8"
            ],
            [
             0.3333333333333333,
             "#9c179e"
            ],
            [
             0.4444444444444444,
             "#bd3786"
            ],
            [
             0.5555555555555556,
             "#d8576b"
            ],
            [
             0.6666666666666666,
             "#ed7953"
            ],
            [
             0.7777777777777778,
             "#fb9f3a"
            ],
            [
             0.8888888888888888,
             "#fdca26"
            ],
            [
             1,
             "#f0f921"
            ]
           ]
          },
          "colorway": [
           "#636efa",
           "#EF553B",
           "#00cc96",
           "#ab63fa",
           "#FFA15A",
           "#19d3f3",
           "#FF6692",
           "#B6E880",
           "#FF97FF",
           "#FECB52"
          ],
          "font": {
           "color": "#2a3f5f"
          },
          "geo": {
           "bgcolor": "white",
           "lakecolor": "white",
           "landcolor": "#E5ECF6",
           "showlakes": true,
           "showland": true,
           "subunitcolor": "white"
          },
          "hoverlabel": {
           "align": "left"
          },
          "hovermode": "closest",
          "mapbox": {
           "style": "light"
          },
          "paper_bgcolor": "white",
          "plot_bgcolor": "#E5ECF6",
          "polar": {
           "angularaxis": {
            "gridcolor": "white",
            "linecolor": "white",
            "ticks": ""
           },
           "bgcolor": "#E5ECF6",
           "radialaxis": {
            "gridcolor": "white",
            "linecolor": "white",
            "ticks": ""
           }
          },
          "scene": {
           "xaxis": {
            "backgroundcolor": "#E5ECF6",
            "gridcolor": "white",
            "gridwidth": 2,
            "linecolor": "white",
            "showbackground": true,
            "ticks": "",
            "zerolinecolor": "white"
           },
           "yaxis": {
            "backgroundcolor": "#E5ECF6",
            "gridcolor": "white",
            "gridwidth": 2,
            "linecolor": "white",
            "showbackground": true,
            "ticks": "",
            "zerolinecolor": "white"
           },
           "zaxis": {
            "backgroundcolor": "#E5ECF6",
            "gridcolor": "white",
            "gridwidth": 2,
            "linecolor": "white",
            "showbackground": true,
            "ticks": "",
            "zerolinecolor": "white"
           }
          },
          "shapedefaults": {
           "line": {
            "color": "#2a3f5f"
           }
          },
          "ternary": {
           "aaxis": {
            "gridcolor": "white",
            "linecolor": "white",
            "ticks": ""
           },
           "baxis": {
            "gridcolor": "white",
            "linecolor": "white",
            "ticks": ""
           },
           "bgcolor": "#E5ECF6",
           "caxis": {
            "gridcolor": "white",
            "linecolor": "white",
            "ticks": ""
           }
          },
          "title": {
           "x": 0.05
          },
          "xaxis": {
           "automargin": true,
           "gridcolor": "white",
           "linecolor": "white",
           "ticks": "",
           "title": {
            "standoff": 15
           },
           "zerolinecolor": "white",
           "zerolinewidth": 2
          },
          "yaxis": {
           "automargin": true,
           "gridcolor": "white",
           "linecolor": "white",
           "ticks": "",
           "title": {
            "standoff": 15
           },
           "zerolinecolor": "white",
           "zerolinewidth": 2
          }
         }
        },
        "title": {
         "text": "Total Sales For Each Country"
        },
        "xaxis": {
         "anchor": "y",
         "domain": [
          0,
          1
         ],
         "title": {
          "text": "city"
         }
        },
        "yaxis": {
         "anchor": "x",
         "domain": [
          0,
          1
         ],
         "title": {
          "text": "totalamount"
         }
        }
       }
      }
     },
     "metadata": {},
     "output_type": "display_data"
    },
    {
     "data": {
      "application/vnd.plotly.v1+json": {
       "config": {
        "plotlyServerURL": "https://plot.ly"
       },
       "data": [
        {
         "domain": {
          "x": [
           0,
           1
          ],
          "y": [
           0,
           1
          ]
         },
         "hovertemplate": "city=%{label}<br>totalamount=%{value}<extra></extra>",
         "labels": [
          "Boise",
          "Graz",
          "Cunewalde",
          "Albuquerque",
          "Cork",
          "London",
          "Sao Paulo",
          "Rio de Janeiro",
          "Brandenburg",
          "München"
         ],
         "legendgroup": "",
         "name": "",
         "showlegend": true,
         "type": "pie",
         "values": {
          "bdata": "61G4HtBcHUEAAAAAsQUaQWZmZmZFfRlBzczMzKTdBUGkcD0KrygDQR+F61FCrQJBUrgehd02AkEK16NwwQb9QEjhehQa+PtA7FG4HnEs90A=",
          "dtype": "f8"
         }
        }
       ],
       "layout": {
        "legend": {
         "tracegroupgap": 0
        },
        "template": {
         "data": {
          "bar": [
           {
            "error_x": {
             "color": "#2a3f5f"
            },
            "error_y": {
             "color": "#2a3f5f"
            },
            "marker": {
             "line": {
              "color": "#E5ECF6",
              "width": 0.5
             },
             "pattern": {
              "fillmode": "overlay",
              "size": 10,
              "solidity": 0.2
             }
            },
            "type": "bar"
           }
          ],
          "barpolar": [
           {
            "marker": {
             "line": {
              "color": "#E5ECF6",
              "width": 0.5
             },
             "pattern": {
              "fillmode": "overlay",
              "size": 10,
              "solidity": 0.2
             }
            },
            "type": "barpolar"
           }
          ],
          "carpet": [
           {
            "aaxis": {
             "endlinecolor": "#2a3f5f",
             "gridcolor": "white",
             "linecolor": "white",
             "minorgridcolor": "white",
             "startlinecolor": "#2a3f5f"
            },
            "baxis": {
             "endlinecolor": "#2a3f5f",
             "gridcolor": "white",
             "linecolor": "white",
             "minorgridcolor": "white",
             "startlinecolor": "#2a3f5f"
            },
            "type": "carpet"
           }
          ],
          "choropleth": [
           {
            "colorbar": {
             "outlinewidth": 0,
             "ticks": ""
            },
            "type": "choropleth"
           }
          ],
          "contour": [
           {
            "colorbar": {
             "outlinewidth": 0,
             "ticks": ""
            },
            "colorscale": [
             [
              0,
              "#0d0887"
             ],
             [
              0.1111111111111111,
              "#46039f"
             ],
             [
              0.2222222222222222,
              "#7201a8"
             ],
             [
              0.3333333333333333,
              "#9c179e"
             ],
             [
              0.4444444444444444,
              "#bd3786"
             ],
             [
              0.5555555555555556,
              "#d8576b"
             ],
             [
              0.6666666666666666,
              "#ed7953"
             ],
             [
              0.7777777777777778,
              "#fb9f3a"
             ],
             [
              0.8888888888888888,
              "#fdca26"
             ],
             [
              1,
              "#f0f921"
             ]
            ],
            "type": "contour"
           }
          ],
          "contourcarpet": [
           {
            "colorbar": {
             "outlinewidth": 0,
             "ticks": ""
            },
            "type": "contourcarpet"
           }
          ],
          "heatmap": [
           {
            "colorbar": {
             "outlinewidth": 0,
             "ticks": ""
            },
            "colorscale": [
             [
              0,
              "#0d0887"
             ],
             [
              0.1111111111111111,
              "#46039f"
             ],
             [
              0.2222222222222222,
              "#7201a8"
             ],
             [
              0.3333333333333333,
              "#9c179e"
             ],
             [
              0.4444444444444444,
              "#bd3786"
             ],
             [
              0.5555555555555556,
              "#d8576b"
             ],
             [
              0.6666666666666666,
              "#ed7953"
             ],
             [
              0.7777777777777778,
              "#fb9f3a"
             ],
             [
              0.8888888888888888,
              "#fdca26"
             ],
             [
              1,
              "#f0f921"
             ]
            ],
            "type": "heatmap"
           }
          ],
          "histogram": [
           {
            "marker": {
             "pattern": {
              "fillmode": "overlay",
              "size": 10,
              "solidity": 0.2
             }
            },
            "type": "histogram"
           }
          ],
          "histogram2d": [
           {
            "colorbar": {
             "outlinewidth": 0,
             "ticks": ""
            },
            "colorscale": [
             [
              0,
              "#0d0887"
             ],
             [
              0.1111111111111111,
              "#46039f"
             ],
             [
              0.2222222222222222,
              "#7201a8"
             ],
             [
              0.3333333333333333,
              "#9c179e"
             ],
             [
              0.4444444444444444,
              "#bd3786"
             ],
             [
              0.5555555555555556,
              "#d8576b"
             ],
             [
              0.6666666666666666,
              "#ed7953"
             ],
             [
              0.7777777777777778,
              "#fb9f3a"
             ],
             [
              0.8888888888888888,
              "#fdca26"
             ],
             [
              1,
              "#f0f921"
             ]
            ],
            "type": "histogram2d"
           }
          ],
          "histogram2dcontour": [
           {
            "colorbar": {
             "outlinewidth": 0,
             "ticks": ""
            },
            "colorscale": [
             [
              0,
              "#0d0887"
             ],
             [
              0.1111111111111111,
              "#46039f"
             ],
             [
              0.2222222222222222,
              "#7201a8"
             ],
             [
              0.3333333333333333,
              "#9c179e"
             ],
             [
              0.4444444444444444,
              "#bd3786"
             ],
             [
              0.5555555555555556,
              "#d8576b"
             ],
             [
              0.6666666666666666,
              "#ed7953"
             ],
             [
              0.7777777777777778,
              "#fb9f3a"
             ],
             [
              0.8888888888888888,
              "#fdca26"
             ],
             [
              1,
              "#f0f921"
             ]
            ],
            "type": "histogram2dcontour"
           }
          ],
          "mesh3d": [
           {
            "colorbar": {
             "outlinewidth": 0,
             "ticks": ""
            },
            "type": "mesh3d"
           }
          ],
          "parcoords": [
           {
            "line": {
             "colorbar": {
              "outlinewidth": 0,
              "ticks": ""
             }
            },
            "type": "parcoords"
           }
          ],
          "pie": [
           {
            "automargin": true,
            "type": "pie"
           }
          ],
          "scatter": [
           {
            "fillpattern": {
             "fillmode": "overlay",
             "size": 10,
             "solidity": 0.2
            },
            "type": "scatter"
           }
          ],
          "scatter3d": [
           {
            "line": {
             "colorbar": {
              "outlinewidth": 0,
              "ticks": ""
             }
            },
            "marker": {
             "colorbar": {
              "outlinewidth": 0,
              "ticks": ""
             }
            },
            "type": "scatter3d"
           }
          ],
          "scattercarpet": [
           {
            "marker": {
             "colorbar": {
              "outlinewidth": 0,
              "ticks": ""
             }
            },
            "type": "scattercarpet"
           }
          ],
          "scattergeo": [
           {
            "marker": {
             "colorbar": {
              "outlinewidth": 0,
              "ticks": ""
             }
            },
            "type": "scattergeo"
           }
          ],
          "scattergl": [
           {
            "marker": {
             "colorbar": {
              "outlinewidth": 0,
              "ticks": ""
             }
            },
            "type": "scattergl"
           }
          ],
          "scattermap": [
           {
            "marker": {
             "colorbar": {
              "outlinewidth": 0,
              "ticks": ""
             }
            },
            "type": "scattermap"
           }
          ],
          "scattermapbox": [
           {
            "marker": {
             "colorbar": {
              "outlinewidth": 0,
              "ticks": ""
             }
            },
            "type": "scattermapbox"
           }
          ],
          "scatterpolar": [
           {
            "marker": {
             "colorbar": {
              "outlinewidth": 0,
              "ticks": ""
             }
            },
            "type": "scatterpolar"
           }
          ],
          "scatterpolargl": [
           {
            "marker": {
             "colorbar": {
              "outlinewidth": 0,
              "ticks": ""
             }
            },
            "type": "scatterpolargl"
           }
          ],
          "scatterternary": [
           {
            "marker": {
             "colorbar": {
              "outlinewidth": 0,
              "ticks": ""
             }
            },
            "type": "scatterternary"
           }
          ],
          "surface": [
           {
            "colorbar": {
             "outlinewidth": 0,
             "ticks": ""
            },
            "colorscale": [
             [
              0,
              "#0d0887"
             ],
             [
              0.1111111111111111,
              "#46039f"
             ],
             [
              0.2222222222222222,
              "#7201a8"
             ],
             [
              0.3333333333333333,
              "#9c179e"
             ],
             [
              0.4444444444444444,
              "#bd3786"
             ],
             [
              0.5555555555555556,
              "#d8576b"
             ],
             [
              0.6666666666666666,
              "#ed7953"
             ],
             [
              0.7777777777777778,
              "#fb9f3a"
             ],
             [
              0.8888888888888888,
              "#fdca26"
             ],
             [
              1,
              "#f0f921"
             ]
            ],
            "type": "surface"
           }
          ],
          "table": [
           {
            "cells": {
             "fill": {
              "color": "#EBF0F8"
             },
             "line": {
              "color": "white"
             }
            },
            "header": {
             "fill": {
              "color": "#C8D4E3"
             },
             "line": {
              "color": "white"
             }
            },
            "type": "table"
           }
          ]
         },
         "layout": {
          "annotationdefaults": {
           "arrowcolor": "#2a3f5f",
           "arrowhead": 0,
           "arrowwidth": 1
          },
          "autotypenumbers": "strict",
          "coloraxis": {
           "colorbar": {
            "outlinewidth": 0,
            "ticks": ""
           }
          },
          "colorscale": {
           "diverging": [
            [
             0,
             "#8e0152"
            ],
            [
             0.1,
             "#c51b7d"
            ],
            [
             0.2,
             "#de77ae"
            ],
            [
             0.3,
             "#f1b6da"
            ],
            [
             0.4,
             "#fde0ef"
            ],
            [
             0.5,
             "#f7f7f7"
            ],
            [
             0.6,
             "#e6f5d0"
            ],
            [
             0.7,
             "#b8e186"
            ],
            [
             0.8,
             "#7fbc41"
            ],
            [
             0.9,
             "#4d9221"
            ],
            [
             1,
             "#276419"
            ]
           ],
           "sequential": [
            [
             0,
             "#0d0887"
            ],
            [
             0.1111111111111111,
             "#46039f"
            ],
            [
             0.2222222222222222,
             "#7201a8"
            ],
            [
             0.3333333333333333,
             "#9c179e"
            ],
            [
             0.4444444444444444,
             "#bd3786"
            ],
            [
             0.5555555555555556,
             "#d8576b"
            ],
            [
             0.6666666666666666,
             "#ed7953"
            ],
            [
             0.7777777777777778,
             "#fb9f3a"
            ],
            [
             0.8888888888888888,
             "#fdca26"
            ],
            [
             1,
             "#f0f921"
            ]
           ],
           "sequentialminus": [
            [
             0,
             "#0d0887"
            ],
            [
             0.1111111111111111,
             "#46039f"
            ],
            [
             0.2222222222222222,
             "#7201a8"
            ],
            [
             0.3333333333333333,
             "#9c179e"
            ],
            [
             0.4444444444444444,
             "#bd3786"
            ],
            [
             0.5555555555555556,
             "#d8576b"
            ],
            [
             0.6666666666666666,
             "#ed7953"
            ],
            [
             0.7777777777777778,
             "#fb9f3a"
            ],
            [
             0.8888888888888888,
             "#fdca26"
            ],
            [
             1,
             "#f0f921"
            ]
           ]
          },
          "colorway": [
           "#636efa",
           "#EF553B",
           "#00cc96",
           "#ab63fa",
           "#FFA15A",
           "#19d3f3",
           "#FF6692",
           "#B6E880",
           "#FF97FF",
           "#FECB52"
          ],
          "font": {
           "color": "#2a3f5f"
          },
          "geo": {
           "bgcolor": "white",
           "lakecolor": "white",
           "landcolor": "#E5ECF6",
           "showlakes": true,
           "showland": true,
           "subunitcolor": "white"
          },
          "hoverlabel": {
           "align": "left"
          },
          "hovermode": "closest",
          "mapbox": {
           "style": "light"
          },
          "paper_bgcolor": "white",
          "plot_bgcolor": "#E5ECF6",
          "polar": {
           "angularaxis": {
            "gridcolor": "white",
            "linecolor": "white",
            "ticks": ""
           },
           "bgcolor": "#E5ECF6",
           "radialaxis": {
            "gridcolor": "white",
            "linecolor": "white",
            "ticks": ""
           }
          },
          "scene": {
           "xaxis": {
            "backgroundcolor": "#E5ECF6",
            "gridcolor": "white",
            "gridwidth": 2,
            "linecolor": "white",
            "showbackground": true,
            "ticks": "",
            "zerolinecolor": "white"
           },
           "yaxis": {
            "backgroundcolor": "#E5ECF6",
            "gridcolor": "white",
            "gridwidth": 2,
            "linecolor": "white",
            "showbackground": true,
            "ticks": "",
            "zerolinecolor": "white"
           },
           "zaxis": {
            "backgroundcolor": "#E5ECF6",
            "gridcolor": "white",
            "gridwidth": 2,
            "linecolor": "white",
            "showbackground": true,
            "ticks": "",
            "zerolinecolor": "white"
           }
          },
          "shapedefaults": {
           "line": {
            "color": "#2a3f5f"
           }
          },
          "ternary": {
           "aaxis": {
            "gridcolor": "white",
            "linecolor": "white",
            "ticks": ""
           },
           "baxis": {
            "gridcolor": "white",
            "linecolor": "white",
            "ticks": ""
           },
           "bgcolor": "#E5ECF6",
           "caxis": {
            "gridcolor": "white",
            "linecolor": "white",
            "ticks": ""
           }
          },
          "title": {
           "x": 0.05
          },
          "xaxis": {
           "automargin": true,
           "gridcolor": "white",
           "linecolor": "white",
           "ticks": "",
           "title": {
            "standoff": 15
           },
           "zerolinecolor": "white",
           "zerolinewidth": 2
          },
          "yaxis": {
           "automargin": true,
           "gridcolor": "white",
           "linecolor": "white",
           "ticks": "",
           "title": {
            "standoff": 15
           },
           "zerolinecolor": "white",
           "zerolinewidth": 2
          }
         }
        },
        "title": {
         "text": "Percentage Contribution To The Overall Sales"
        }
       }
      }
     },
     "metadata": {},
     "output_type": "display_data"
    }
   ],
   "source": [
    "plots('city')"
   ]
  },
  {
   "cell_type": "code",
   "execution_count": 39,
   "id": "c993f4f2",
   "metadata": {
    "execution": {
     "iopub.execute_input": "2025-03-06T01:07:23.052934Z",
     "iopub.status.busy": "2025-03-06T01:07:23.052567Z",
     "iopub.status.idle": "2025-03-06T01:07:23.062271Z",
     "shell.execute_reply": "2025-03-06T01:07:23.061030Z"
    },
    "papermill": {
     "duration": 0.023815,
     "end_time": "2025-03-06T01:07:23.063591",
     "exception": false,
     "start_time": "2025-03-06T01:07:23.039776",
     "status": "completed"
    },
    "tags": []
   },
   "outputs": [
    {
     "data": {
      "text/html": [
       "<div>\n",
       "<style scoped>\n",
       "    .dataframe tbody tr th:only-of-type {\n",
       "        vertical-align: middle;\n",
       "    }\n",
       "\n",
       "    .dataframe tbody tr th {\n",
       "        vertical-align: top;\n",
       "    }\n",
       "\n",
       "    .dataframe thead th {\n",
       "        text-align: right;\n",
       "    }\n",
       "</style>\n",
       "<table border=\"1\" class=\"dataframe\">\n",
       "  <thead>\n",
       "    <tr style=\"text-align: right;\">\n",
       "      <th></th>\n",
       "      <th>customerfullname</th>\n",
       "      <th>total</th>\n",
       "    </tr>\n",
       "  </thead>\n",
       "  <tbody>\n",
       "    <tr>\n",
       "      <th>0</th>\n",
       "      <td>Paul Henriot</td>\n",
       "      <td>440.00</td>\n",
       "    </tr>\n",
       "    <tr>\n",
       "      <th>1</th>\n",
       "      <td>Paul Henriot</td>\n",
       "      <td>440.00</td>\n",
       "    </tr>\n",
       "    <tr>\n",
       "      <th>2</th>\n",
       "      <td>Paul Henriot</td>\n",
       "      <td>440.00</td>\n",
       "    </tr>\n",
       "    <tr>\n",
       "      <th>3</th>\n",
       "      <td>Karin Josephs</td>\n",
       "      <td>1,863.40</td>\n",
       "    </tr>\n",
       "    <tr>\n",
       "      <th>4</th>\n",
       "      <td>Karin Josephs</td>\n",
       "      <td>1,863.40</td>\n",
       "    </tr>\n",
       "    <tr>\n",
       "      <th>5</th>\n",
       "      <td>Mario Pontes</td>\n",
       "      <td>1,813.00</td>\n",
       "    </tr>\n",
       "    <tr>\n",
       "      <th>6</th>\n",
       "      <td>Mario Pontes</td>\n",
       "      <td>1,813.00</td>\n",
       "    </tr>\n",
       "    <tr>\n",
       "      <th>7</th>\n",
       "      <td>Mario Pontes</td>\n",
       "      <td>1,813.00</td>\n",
       "    </tr>\n",
       "    <tr>\n",
       "      <th>8</th>\n",
       "      <td>Mary Saveley</td>\n",
       "      <td>670.80</td>\n",
       "    </tr>\n",
       "    <tr>\n",
       "      <th>9</th>\n",
       "      <td>Mary Saveley</td>\n",
       "      <td>670.80</td>\n",
       "    </tr>\n",
       "  </tbody>\n",
       "</table>\n",
       "</div>"
      ],
      "text/plain": [
       "  customerfullname    total\n",
       "0     Paul Henriot   440.00\n",
       "1     Paul Henriot   440.00\n",
       "2     Paul Henriot   440.00\n",
       "3    Karin Josephs 1,863.40\n",
       "4    Karin Josephs 1,863.40\n",
       "5     Mario Pontes 1,813.00\n",
       "6     Mario Pontes 1,813.00\n",
       "7     Mario Pontes 1,813.00\n",
       "8     Mary Saveley   670.80\n",
       "9     Mary Saveley   670.80"
      ]
     },
     "execution_count": 39,
     "metadata": {},
     "output_type": "execute_result"
    }
   ],
   "source": [
    "# Top 10 customers by number of orders\n",
    "customer = {\n",
    "    'customerfullname' : df['firstname']+' '+df['lastname'],'total':  df['totalamount']\n",
    "}\n",
    "\n",
    "customer = pd.DataFrame(customer)\n",
    "customer.head(10)"
   ]
  },
  {
   "cell_type": "code",
   "execution_count": 40,
   "id": "252f18a1",
   "metadata": {
    "execution": {
     "iopub.execute_input": "2025-03-06T01:07:23.088693Z",
     "iopub.status.busy": "2025-03-06T01:07:23.088390Z",
     "iopub.status.idle": "2025-03-06T01:07:23.128745Z",
     "shell.execute_reply": "2025-03-06T01:07:23.127909Z"
    },
    "papermill": {
     "duration": 0.054623,
     "end_time": "2025-03-06T01:07:23.130441",
     "exception": false,
     "start_time": "2025-03-06T01:07:23.075818",
     "status": "completed"
    },
    "tags": []
   },
   "outputs": [
    {
     "data": {
      "application/vnd.plotly.v1+json": {
       "config": {
        "plotlyServerURL": "https://plot.ly"
       },
       "data": [
        {
         "hovertemplate": "variable=total<br>name=%{x}<br>frequancy=%{y}<extra></extra>",
         "legendgroup": "total",
         "marker": {
          "color": "#636efa",
          "pattern": {
           "shape": ""
          }
         },
         "name": "total",
         "orientation": "v",
         "showlegend": true,
         "textposition": "auto",
         "texttemplate": "%{y}",
         "type": "bar",
         "x": [
          "Jose Pavarotti",
          "Roland Mendel",
          "Horst Kloss",
          "Paula Wilson",
          "Patricia McKenna",
          "Christina Berglund",
          "Peter Franken",
          "Maria Larsson",
          "Carlos Hern?ndez",
          "Laurence Lebihan"
         ],
         "xaxis": "x",
         "y": {
          "bdata": "dGZWRzc0MC0tLA==",
          "dtype": "i1"
         },
         "yaxis": "y"
        }
       ],
       "layout": {
        "barmode": "relative",
        "legend": {
         "title": {
          "text": "variable"
         },
         "tracegroupgap": 0
        },
        "template": {
         "data": {
          "bar": [
           {
            "error_x": {
             "color": "#2a3f5f"
            },
            "error_y": {
             "color": "#2a3f5f"
            },
            "marker": {
             "line": {
              "color": "#E5ECF6",
              "width": 0.5
             },
             "pattern": {
              "fillmode": "overlay",
              "size": 10,
              "solidity": 0.2
             }
            },
            "type": "bar"
           }
          ],
          "barpolar": [
           {
            "marker": {
             "line": {
              "color": "#E5ECF6",
              "width": 0.5
             },
             "pattern": {
              "fillmode": "overlay",
              "size": 10,
              "solidity": 0.2
             }
            },
            "type": "barpolar"
           }
          ],
          "carpet": [
           {
            "aaxis": {
             "endlinecolor": "#2a3f5f",
             "gridcolor": "white",
             "linecolor": "white",
             "minorgridcolor": "white",
             "startlinecolor": "#2a3f5f"
            },
            "baxis": {
             "endlinecolor": "#2a3f5f",
             "gridcolor": "white",
             "linecolor": "white",
             "minorgridcolor": "white",
             "startlinecolor": "#2a3f5f"
            },
            "type": "carpet"
           }
          ],
          "choropleth": [
           {
            "colorbar": {
             "outlinewidth": 0,
             "ticks": ""
            },
            "type": "choropleth"
           }
          ],
          "contour": [
           {
            "colorbar": {
             "outlinewidth": 0,
             "ticks": ""
            },
            "colorscale": [
             [
              0,
              "#0d0887"
             ],
             [
              0.1111111111111111,
              "#46039f"
             ],
             [
              0.2222222222222222,
              "#7201a8"
             ],
             [
              0.3333333333333333,
              "#9c179e"
             ],
             [
              0.4444444444444444,
              "#bd3786"
             ],
             [
              0.5555555555555556,
              "#d8576b"
             ],
             [
              0.6666666666666666,
              "#ed7953"
             ],
             [
              0.7777777777777778,
              "#fb9f3a"
             ],
             [
              0.8888888888888888,
              "#fdca26"
             ],
             [
              1,
              "#f0f921"
             ]
            ],
            "type": "contour"
           }
          ],
          "contourcarpet": [
           {
            "colorbar": {
             "outlinewidth": 0,
             "ticks": ""
            },
            "type": "contourcarpet"
           }
          ],
          "heatmap": [
           {
            "colorbar": {
             "outlinewidth": 0,
             "ticks": ""
            },
            "colorscale": [
             [
              0,
              "#0d0887"
             ],
             [
              0.1111111111111111,
              "#46039f"
             ],
             [
              0.2222222222222222,
              "#7201a8"
             ],
             [
              0.3333333333333333,
              "#9c179e"
             ],
             [
              0.4444444444444444,
              "#bd3786"
             ],
             [
              0.5555555555555556,
              "#d8576b"
             ],
             [
              0.6666666666666666,
              "#ed7953"
             ],
             [
              0.7777777777777778,
              "#fb9f3a"
             ],
             [
              0.8888888888888888,
              "#fdca26"
             ],
             [
              1,
              "#f0f921"
             ]
            ],
            "type": "heatmap"
           }
          ],
          "histogram": [
           {
            "marker": {
             "pattern": {
              "fillmode": "overlay",
              "size": 10,
              "solidity": 0.2
             }
            },
            "type": "histogram"
           }
          ],
          "histogram2d": [
           {
            "colorbar": {
             "outlinewidth": 0,
             "ticks": ""
            },
            "colorscale": [
             [
              0,
              "#0d0887"
             ],
             [
              0.1111111111111111,
              "#46039f"
             ],
             [
              0.2222222222222222,
              "#7201a8"
             ],
             [
              0.3333333333333333,
              "#9c179e"
             ],
             [
              0.4444444444444444,
              "#bd3786"
             ],
             [
              0.5555555555555556,
              "#d8576b"
             ],
             [
              0.6666666666666666,
              "#ed7953"
             ],
             [
              0.7777777777777778,
              "#fb9f3a"
             ],
             [
              0.8888888888888888,
              "#fdca26"
             ],
             [
              1,
              "#f0f921"
             ]
            ],
            "type": "histogram2d"
           }
          ],
          "histogram2dcontour": [
           {
            "colorbar": {
             "outlinewidth": 0,
             "ticks": ""
            },
            "colorscale": [
             [
              0,
              "#0d0887"
             ],
             [
              0.1111111111111111,
              "#46039f"
             ],
             [
              0.2222222222222222,
              "#7201a8"
             ],
             [
              0.3333333333333333,
              "#9c179e"
             ],
             [
              0.4444444444444444,
              "#bd3786"
             ],
             [
              0.5555555555555556,
              "#d8576b"
             ],
             [
              0.6666666666666666,
              "#ed7953"
             ],
             [
              0.7777777777777778,
              "#fb9f3a"
             ],
             [
              0.8888888888888888,
              "#fdca26"
             ],
             [
              1,
              "#f0f921"
             ]
            ],
            "type": "histogram2dcontour"
           }
          ],
          "mesh3d": [
           {
            "colorbar": {
             "outlinewidth": 0,
             "ticks": ""
            },
            "type": "mesh3d"
           }
          ],
          "parcoords": [
           {
            "line": {
             "colorbar": {
              "outlinewidth": 0,
              "ticks": ""
             }
            },
            "type": "parcoords"
           }
          ],
          "pie": [
           {
            "automargin": true,
            "type": "pie"
           }
          ],
          "scatter": [
           {
            "fillpattern": {
             "fillmode": "overlay",
             "size": 10,
             "solidity": 0.2
            },
            "type": "scatter"
           }
          ],
          "scatter3d": [
           {
            "line": {
             "colorbar": {
              "outlinewidth": 0,
              "ticks": ""
             }
            },
            "marker": {
             "colorbar": {
              "outlinewidth": 0,
              "ticks": ""
             }
            },
            "type": "scatter3d"
           }
          ],
          "scattercarpet": [
           {
            "marker": {
             "colorbar": {
              "outlinewidth": 0,
              "ticks": ""
             }
            },
            "type": "scattercarpet"
           }
          ],
          "scattergeo": [
           {
            "marker": {
             "colorbar": {
              "outlinewidth": 0,
              "ticks": ""
             }
            },
            "type": "scattergeo"
           }
          ],
          "scattergl": [
           {
            "marker": {
             "colorbar": {
              "outlinewidth": 0,
              "ticks": ""
             }
            },
            "type": "scattergl"
           }
          ],
          "scattermap": [
           {
            "marker": {
             "colorbar": {
              "outlinewidth": 0,
              "ticks": ""
             }
            },
            "type": "scattermap"
           }
          ],
          "scattermapbox": [
           {
            "marker": {
             "colorbar": {
              "outlinewidth": 0,
              "ticks": ""
             }
            },
            "type": "scattermapbox"
           }
          ],
          "scatterpolar": [
           {
            "marker": {
             "colorbar": {
              "outlinewidth": 0,
              "ticks": ""
             }
            },
            "type": "scatterpolar"
           }
          ],
          "scatterpolargl": [
           {
            "marker": {
             "colorbar": {
              "outlinewidth": 0,
              "ticks": ""
             }
            },
            "type": "scatterpolargl"
           }
          ],
          "scatterternary": [
           {
            "marker": {
             "colorbar": {
              "outlinewidth": 0,
              "ticks": ""
             }
            },
            "type": "scatterternary"
           }
          ],
          "surface": [
           {
            "colorbar": {
             "outlinewidth": 0,
             "ticks": ""
            },
            "colorscale": [
             [
              0,
              "#0d0887"
             ],
             [
              0.1111111111111111,
              "#46039f"
             ],
             [
              0.2222222222222222,
              "#7201a8"
             ],
             [
              0.3333333333333333,
              "#9c179e"
             ],
             [
              0.4444444444444444,
              "#bd3786"
             ],
             [
              0.5555555555555556,
              "#d8576b"
             ],
             [
              0.6666666666666666,
              "#ed7953"
             ],
             [
              0.7777777777777778,
              "#fb9f3a"
             ],
             [
              0.8888888888888888,
              "#fdca26"
             ],
             [
              1,
              "#f0f921"
             ]
            ],
            "type": "surface"
           }
          ],
          "table": [
           {
            "cells": {
             "fill": {
              "color": "#EBF0F8"
             },
             "line": {
              "color": "white"
             }
            },
            "header": {
             "fill": {
              "color": "#C8D4E3"
             },
             "line": {
              "color": "white"
             }
            },
            "type": "table"
           }
          ]
         },
         "layout": {
          "annotationdefaults": {
           "arrowcolor": "#2a3f5f",
           "arrowhead": 0,
           "arrowwidth": 1
          },
          "autotypenumbers": "strict",
          "coloraxis": {
           "colorbar": {
            "outlinewidth": 0,
            "ticks": ""
           }
          },
          "colorscale": {
           "diverging": [
            [
             0,
             "#8e0152"
            ],
            [
             0.1,
             "#c51b7d"
            ],
            [
             0.2,
             "#de77ae"
            ],
            [
             0.3,
             "#f1b6da"
            ],
            [
             0.4,
             "#fde0ef"
            ],
            [
             0.5,
             "#f7f7f7"
            ],
            [
             0.6,
             "#e6f5d0"
            ],
            [
             0.7,
             "#b8e186"
            ],
            [
             0.8,
             "#7fbc41"
            ],
            [
             0.9,
             "#4d9221"
            ],
            [
             1,
             "#276419"
            ]
           ],
           "sequential": [
            [
             0,
             "#0d0887"
            ],
            [
             0.1111111111111111,
             "#46039f"
            ],
            [
             0.2222222222222222,
             "#7201a8"
            ],
            [
             0.3333333333333333,
             "#9c179e"
            ],
            [
             0.4444444444444444,
             "#bd3786"
            ],
            [
             0.5555555555555556,
             "#d8576b"
            ],
            [
             0.6666666666666666,
             "#ed7953"
            ],
            [
             0.7777777777777778,
             "#fb9f3a"
            ],
            [
             0.8888888888888888,
             "#fdca26"
            ],
            [
             1,
             "#f0f921"
            ]
           ],
           "sequentialminus": [
            [
             0,
             "#0d0887"
            ],
            [
             0.1111111111111111,
             "#46039f"
            ],
            [
             0.2222222222222222,
             "#7201a8"
            ],
            [
             0.3333333333333333,
             "#9c179e"
            ],
            [
             0.4444444444444444,
             "#bd3786"
            ],
            [
             0.5555555555555556,
             "#d8576b"
            ],
            [
             0.6666666666666666,
             "#ed7953"
            ],
            [
             0.7777777777777778,
             "#fb9f3a"
            ],
            [
             0.8888888888888888,
             "#fdca26"
            ],
            [
             1,
             "#f0f921"
            ]
           ]
          },
          "colorway": [
           "#636efa",
           "#EF553B",
           "#00cc96",
           "#ab63fa",
           "#FFA15A",
           "#19d3f3",
           "#FF6692",
           "#B6E880",
           "#FF97FF",
           "#FECB52"
          ],
          "font": {
           "color": "#2a3f5f"
          },
          "geo": {
           "bgcolor": "white",
           "lakecolor": "white",
           "landcolor": "#E5ECF6",
           "showlakes": true,
           "showland": true,
           "subunitcolor": "white"
          },
          "hoverlabel": {
           "align": "left"
          },
          "hovermode": "closest",
          "mapbox": {
           "style": "light"
          },
          "paper_bgcolor": "white",
          "plot_bgcolor": "#E5ECF6",
          "polar": {
           "angularaxis": {
            "gridcolor": "white",
            "linecolor": "white",
            "ticks": ""
           },
           "bgcolor": "#E5ECF6",
           "radialaxis": {
            "gridcolor": "white",
            "linecolor": "white",
            "ticks": ""
           }
          },
          "scene": {
           "xaxis": {
            "backgroundcolor": "#E5ECF6",
            "gridcolor": "white",
            "gridwidth": 2,
            "linecolor": "white",
            "showbackground": true,
            "ticks": "",
            "zerolinecolor": "white"
           },
           "yaxis": {
            "backgroundcolor": "#E5ECF6",
            "gridcolor": "white",
            "gridwidth": 2,
            "linecolor": "white",
            "showbackground": true,
            "ticks": "",
            "zerolinecolor": "white"
           },
           "zaxis": {
            "backgroundcolor": "#E5ECF6",
            "gridcolor": "white",
            "gridwidth": 2,
            "linecolor": "white",
            "showbackground": true,
            "ticks": "",
            "zerolinecolor": "white"
           }
          },
          "shapedefaults": {
           "line": {
            "color": "#2a3f5f"
           }
          },
          "ternary": {
           "aaxis": {
            "gridcolor": "white",
            "linecolor": "white",
            "ticks": ""
           },
           "baxis": {
            "gridcolor": "white",
            "linecolor": "white",
            "ticks": ""
           },
           "bgcolor": "#E5ECF6",
           "caxis": {
            "gridcolor": "white",
            "linecolor": "white",
            "ticks": ""
           }
          },
          "title": {
           "x": 0.05
          },
          "xaxis": {
           "automargin": true,
           "gridcolor": "white",
           "linecolor": "white",
           "ticks": "",
           "title": {
            "standoff": 15
           },
           "zerolinecolor": "white",
           "zerolinewidth": 2
          },
          "yaxis": {
           "automargin": true,
           "gridcolor": "white",
           "linecolor": "white",
           "ticks": "",
           "title": {
            "standoff": 15
           },
           "zerolinecolor": "white",
           "zerolinewidth": 2
          }
         }
        },
        "title": {
         "text": "Count Orders of Customers"
        },
        "xaxis": {
         "anchor": "y",
         "domain": [
          0,
          1
         ],
         "title": {
          "text": "name"
         }
        },
        "yaxis": {
         "anchor": "x",
         "domain": [
          0,
          1
         ],
         "title": {
          "text": "frequancy"
         }
        }
       }
      }
     },
     "metadata": {},
     "output_type": "display_data"
    }
   ],
   "source": [
    "fig = px.bar( customer.groupby('customerfullname')['total'].count().sort_values(ascending=False).head(10),\n",
    "              text_auto=True,\n",
    "              title='Count Orders of Customers',\n",
    "              labels={'customerfullname':'name','value':'frequancy'})\n",
    "fig.show()"
   ]
  },
  {
   "cell_type": "code",
   "execution_count": 41,
   "id": "9901b860",
   "metadata": {
    "execution": {
     "iopub.execute_input": "2025-03-06T01:07:23.156309Z",
     "iopub.status.busy": "2025-03-06T01:07:23.155985Z",
     "iopub.status.idle": "2025-03-06T01:07:23.225746Z",
     "shell.execute_reply": "2025-03-06T01:07:23.224863Z"
    },
    "papermill": {
     "duration": 0.084408,
     "end_time": "2025-03-06T01:07:23.227164",
     "exception": false,
     "start_time": "2025-03-06T01:07:23.142756",
     "status": "completed"
    },
    "tags": []
   },
   "outputs": [
    {
     "data": {
      "application/vnd.plotly.v1+json": {
       "config": {
        "plotlyServerURL": "https://plot.ly"
       },
       "data": [
        {
         "hovertemplate": "variable=totalamount<br>orderdate=%{x}<br>value=%{y}<extra></extra>",
         "legendgroup": "totalamount",
         "line": {
          "color": "#636efa",
          "dash": "solid"
         },
         "marker": {
          "symbol": "circle"
         },
         "mode": "lines",
         "name": "totalamount",
         "showlegend": true,
         "type": "scattergl",
         "x": [
          "2012-07-04T00:00:00.000000000",
          "2012-07-04T00:00:00.000000000",
          "2012-07-04T00:00:00.000000000",
          "2012-07-05T00:00:00.000000000",
          "2012-07-05T00:00:00.000000000",
          "2012-07-08T00:00:00.000000000",
          "2012-07-08T00:00:00.000000000",
          "2012-07-08T00:00:00.000000000",
          "2012-07-08T00:00:00.000000000",
          "2012-07-08T00:00:00.000000000",
          "2012-07-08T00:00:00.000000000",
          "2012-07-09T00:00:00.000000000",
          "2012-07-09T00:00:00.000000000",
          "2012-07-09T00:00:00.000000000",
          "2012-07-10T00:00:00.000000000",
          "2012-07-10T00:00:00.000000000",
          "2012-07-10T00:00:00.000000000",
          "2012-07-11T00:00:00.000000000",
          "2012-07-11T00:00:00.000000000",
          "2012-07-11T00:00:00.000000000",
          "2012-07-12T00:00:00.000000000",
          "2012-07-12T00:00:00.000000000",
          "2012-07-12T00:00:00.000000000",
          "2012-07-12T00:00:00.000000000",
          "2012-07-15T00:00:00.000000000",
          "2012-07-15T00:00:00.000000000",
          "2012-07-16T00:00:00.000000000",
          "2012-07-16T00:00:00.000000000",
          "2012-07-16T00:00:00.000000000",
          "2012-07-17T00:00:00.000000000",
          "2012-07-17T00:00:00.000000000",
          "2012-07-17T00:00:00.000000000",
          "2012-07-18T00:00:00.000000000",
          "2012-07-18T00:00:00.000000000",
          "2012-07-19T00:00:00.000000000",
          "2012-07-19T00:00:00.000000000",
          "2012-07-19T00:00:00.000000000",
          "2012-07-19T00:00:00.000000000",
          "2012-07-19T00:00:00.000000000",
          "2012-07-19T00:00:00.000000000",
          "2012-07-22T00:00:00.000000000",
          "2012-07-22T00:00:00.000000000",
          "2012-07-22T00:00:00.000000000",
          "2012-07-23T00:00:00.000000000",
          "2012-07-23T00:00:00.000000000",
          "2012-07-23T00:00:00.000000000",
          "2012-07-23T00:00:00.000000000",
          "2012-07-24T00:00:00.000000000",
          "2012-07-24T00:00:00.000000000",
          "2012-07-25T00:00:00.000000000",
          "2012-07-25T00:00:00.000000000",
          "2012-07-26T00:00:00.000000000",
          "2012-07-29T00:00:00.000000000",
          "2012-07-29T00:00:00.000000000",
          "2012-07-29T00:00:00.000000000",
          "2012-07-30T00:00:00.000000000",
          "2012-07-30T00:00:00.000000000",
          "2012-07-31T00:00:00.000000000",
          "2012-07-31T00:00:00.000000000",
          "2012-08-01T00:00:00.000000000",
          "2012-08-01T00:00:00.000000000",
          "2012-08-01T00:00:00.000000000",
          "2012-08-02T00:00:00.000000000",
          "2012-08-02T00:00:00.000000000",
          "2012-08-02T00:00:00.000000000",
          "2012-08-05T00:00:00.000000000",
          "2012-08-05T00:00:00.000000000",
          "2012-08-05T00:00:00.000000000",
          "2012-08-05T00:00:00.000000000",
          "2012-08-05T00:00:00.000000000",
          "2012-08-06T00:00:00.000000000",
          "2012-08-06T00:00:00.000000000",
          "2012-08-07T00:00:00.000000000",
          "2012-08-07T00:00:00.000000000",
          "2012-08-08T00:00:00.000000000",
          "2012-08-08T00:00:00.000000000",
          "2012-08-09T00:00:00.000000000",
          "2012-08-09T00:00:00.000000000",
          "2012-08-12T00:00:00.000000000",
          "2012-08-12T00:00:00.000000000",
          "2012-08-12T00:00:00.000000000",
          "2012-08-12T00:00:00.000000000",
          "2012-08-13T00:00:00.000000000",
          "2012-08-14T00:00:00.000000000",
          "2012-08-14T00:00:00.000000000",
          "2012-08-14T00:00:00.000000000",
          "2012-08-14T00:00:00.000000000",
          "2012-08-14T00:00:00.000000000",
          "2012-08-14T00:00:00.000000000",
          "2012-08-15T00:00:00.000000000",
          "2012-08-15T00:00:00.000000000",
          "2012-08-16T00:00:00.000000000",
          "2012-08-16T00:00:00.000000000",
          "2012-08-16T00:00:00.000000000",
          "2012-08-16T00:00:00.000000000",
          "2012-08-19T00:00:00.000000000",
          "2012-08-19T00:00:00.000000000",
          "2012-08-19T00:00:00.000000000",
          "2012-08-19T00:00:00.000000000",
          "2012-08-20T00:00:00.000000000",
          "2012-08-20T00:00:00.000000000",
          "2012-08-20T00:00:00.000000000",
          "2012-08-21T00:00:00.000000000",
          "2012-08-21T00:00:00.000000000",
          "2012-08-22T00:00:00.000000000",
          "2012-08-22T00:00:00.000000000",
          "2012-08-22T00:00:00.000000000",
          "2012-08-23T00:00:00.000000000",
          "2012-08-23T00:00:00.000000000",
          "2012-08-26T00:00:00.000000000",
          "2012-08-26T00:00:00.000000000",
          "2012-08-27T00:00:00.000000000",
          "2012-08-27T00:00:00.000000000",
          "2012-08-27T00:00:00.000000000",
          "2012-08-27T00:00:00.000000000",
          "2012-08-27T00:00:00.000000000",
          "2012-08-27T00:00:00.000000000",
          "2012-08-27T00:00:00.000000000",
          "2012-08-28T00:00:00.000000000",
          "2012-08-29T00:00:00.000000000",
          "2012-08-29T00:00:00.000000000",
          "2012-08-29T00:00:00.000000000",
          "2012-08-29T00:00:00.000000000",
          "2012-08-30T00:00:00.000000000",
          "2012-08-30T00:00:00.000000000",
          "2012-08-30T00:00:00.000000000",
          "2012-08-30T00:00:00.000000000",
          "2012-08-30T00:00:00.000000000",
          "2012-09-02T00:00:00.000000000",
          "2012-09-03T00:00:00.000000000",
          "2012-09-03T00:00:00.000000000",
          "2012-09-03T00:00:00.000000000",
          "2012-09-04T00:00:00.000000000",
          "2012-09-04T00:00:00.000000000",
          "2012-09-05T00:00:00.000000000",
          "2012-09-05T00:00:00.000000000",
          "2012-09-05T00:00:00.000000000",
          "2012-09-05T00:00:00.000000000",
          "2012-09-06T00:00:00.000000000",
          "2012-09-06T00:00:00.000000000",
          "2012-09-09T00:00:00.000000000",
          "2012-09-09T00:00:00.000000000",
          "2012-09-09T00:00:00.000000000",
          "2012-09-09T00:00:00.000000000",
          "2012-09-10T00:00:00.000000000",
          "2012-09-10T00:00:00.000000000",
          "2012-09-10T00:00:00.000000000",
          "2012-09-11T00:00:00.000000000",
          "2012-09-11T00:00:00.000000000",
          "2012-09-11T00:00:00.000000000",
          "2012-09-12T00:00:00.000000000",
          "2012-09-12T00:00:00.000000000",
          "2012-09-12T00:00:00.000000000",
          "2012-09-13T00:00:00.000000000",
          "2012-09-13T00:00:00.000000000",
          "2012-09-13T00:00:00.000000000",
          "2012-09-16T00:00:00.000000000",
          "2012-09-16T00:00:00.000000000",
          "2012-09-16T00:00:00.000000000",
          "2012-09-17T00:00:00.000000000",
          "2012-09-17T00:00:00.000000000",
          "2012-09-18T00:00:00.000000000",
          "2012-09-18T00:00:00.000000000",
          "2012-09-19T00:00:00.000000000",
          "2012-09-19T00:00:00.000000000",
          "2012-09-19T00:00:00.000000000",
          "2012-09-19T00:00:00.000000000",
          "2012-09-19T00:00:00.000000000",
          "2012-09-20T00:00:00.000000000",
          "2012-09-20T00:00:00.000000000",
          "2012-09-20T00:00:00.000000000",
          "2012-09-20T00:00:00.000000000",
          "2012-09-23T00:00:00.000000000",
          "2012-09-23T00:00:00.000000000",
          "2012-09-23T00:00:00.000000000",
          "2012-09-23T00:00:00.000000000",
          "2012-09-24T00:00:00.000000000",
          "2012-09-25T00:00:00.000000000",
          "2012-09-25T00:00:00.000000000",
          "2012-09-25T00:00:00.000000000",
          "2012-09-26T00:00:00.000000000",
          "2012-09-26T00:00:00.000000000",
          "2012-09-27T00:00:00.000000000",
          "2012-09-27T00:00:00.000000000",
          "2012-09-30T00:00:00.000000000",
          "2012-10-01T00:00:00.000000000",
          "2012-10-01T00:00:00.000000000",
          "2012-10-02T00:00:00.000000000",
          "2012-10-02T00:00:00.000000000",
          "2012-10-02T00:00:00.000000000",
          "2012-10-03T00:00:00.000000000",
          "2012-10-03T00:00:00.000000000",
          "2012-10-04T00:00:00.000000000",
          "2012-10-07T00:00:00.000000000",
          "2012-10-07T00:00:00.000000000",
          "2012-10-07T00:00:00.000000000",
          "2012-10-08T00:00:00.000000000",
          "2012-10-08T00:00:00.000000000",
          "2012-10-08T00:00:00.000000000",
          "2012-10-08T00:00:00.000000000",
          "2012-10-08T00:00:00.000000000",
          "2012-10-09T00:00:00.000000000",
          "2012-10-09T00:00:00.000000000",
          "2012-10-09T00:00:00.000000000",
          "2012-10-09T00:00:00.000000000",
          "2012-10-09T00:00:00.000000000",
          "2012-10-10T00:00:00.000000000",
          "2012-10-10T00:00:00.000000000",
          "2012-10-10T00:00:00.000000000",
          "2012-10-11T00:00:00.000000000",
          "2012-10-11T00:00:00.000000000",
          "2012-10-11T00:00:00.000000000",
          "2012-10-11T00:00:00.000000000",
          "2012-10-14T00:00:00.000000000",
          "2012-10-14T00:00:00.000000000",
          "2012-10-14T00:00:00.000000000",
          "2012-10-15T00:00:00.000000000",
          "2012-10-15T00:00:00.000000000",
          "2012-10-15T00:00:00.000000000",
          "2012-10-15T00:00:00.000000000",
          "2012-10-16T00:00:00.000000000",
          "2012-10-16T00:00:00.000000000",
          "2012-10-16T00:00:00.000000000",
          "2012-10-17T00:00:00.000000000",
          "2012-10-17T00:00:00.000000000",
          "2012-10-17T00:00:00.000000000",
          "2012-10-18T00:00:00.000000000",
          "2012-10-18T00:00:00.000000000",
          "2012-10-18T00:00:00.000000000",
          "2012-10-21T00:00:00.000000000",
          "2012-10-21T00:00:00.000000000",
          "2012-10-22T00:00:00.000000000",
          "2012-10-22T00:00:00.000000000",
          "2012-10-22T00:00:00.000000000",
          "2012-10-22T00:00:00.000000000",
          "2012-10-23T00:00:00.000000000",
          "2012-10-24T00:00:00.000000000",
          "2012-10-24T00:00:00.000000000",
          "2012-10-24T00:00:00.000000000",
          "2012-10-24T00:00:00.000000000",
          "2012-10-24T00:00:00.000000000",
          "2012-10-25T00:00:00.000000000",
          "2012-10-25T00:00:00.000000000",
          "2012-10-28T00:00:00.000000000",
          "2012-10-28T00:00:00.000000000",
          "2012-10-28T00:00:00.000000000",
          "2012-10-29T00:00:00.000000000",
          "2012-10-29T00:00:00.000000000",
          "2012-10-29T00:00:00.000000000",
          "2012-10-29T00:00:00.000000000",
          "2012-10-29T00:00:00.000000000",
          "2012-10-30T00:00:00.000000000",
          "2012-10-30T00:00:00.000000000",
          "2012-10-30T00:00:00.000000000",
          "2012-10-30T00:00:00.000000000",
          "2012-10-31T00:00:00.000000000",
          "2012-10-31T00:00:00.000000000",
          "2012-10-31T00:00:00.000000000",
          "2012-11-01T00:00:00.000000000",
          "2012-11-01T00:00:00.000000000",
          "2012-11-04T00:00:00.000000000",
          "2012-11-04T00:00:00.000000000",
          "2012-11-04T00:00:00.000000000",
          "2012-11-05T00:00:00.000000000",
          "2012-11-05T00:00:00.000000000",
          "2012-11-06T00:00:00.000000000",
          "2012-11-06T00:00:00.000000000",
          "2012-11-06T00:00:00.000000000",
          "2012-11-06T00:00:00.000000000",
          "2012-11-07T00:00:00.000000000",
          "2012-11-07T00:00:00.000000000",
          "2012-11-08T00:00:00.000000000",
          "2012-11-11T00:00:00.000000000",
          "2012-11-11T00:00:00.000000000",
          "2012-11-11T00:00:00.000000000",
          "2012-11-11T00:00:00.000000000",
          "2012-11-11T00:00:00.000000000",
          "2012-11-11T00:00:00.000000000",
          "2012-11-12T00:00:00.000000000",
          "2012-11-12T00:00:00.000000000",
          "2012-11-13T00:00:00.000000000",
          "2012-11-13T00:00:00.000000000",
          "2012-11-14T00:00:00.000000000",
          "2012-11-14T00:00:00.000000000",
          "2012-11-15T00:00:00.000000000",
          "2012-11-15T00:00:00.000000000",
          "2012-11-18T00:00:00.000000000",
          "2012-11-18T00:00:00.000000000",
          "2012-11-18T00:00:00.000000000",
          "2012-11-19T00:00:00.000000000",
          "2012-11-19T00:00:00.000000000",
          "2012-11-19T00:00:00.000000000",
          "2012-11-20T00:00:00.000000000",
          "2012-11-20T00:00:00.000000000",
          "2012-11-20T00:00:00.000000000",
          "2012-11-21T00:00:00.000000000",
          "2012-11-21T00:00:00.000000000",
          "2012-11-21T00:00:00.000000000",
          "2012-11-22T00:00:00.000000000",
          "2012-11-22T00:00:00.000000000",
          "2012-11-22T00:00:00.000000000",
          "2012-11-22T00:00:00.000000000",
          "2012-11-22T00:00:00.000000000",
          "2012-11-22T00:00:00.000000000",
          "2012-11-22T00:00:00.000000000",
          "2012-11-25T00:00:00.000000000",
          "2012-11-25T00:00:00.000000000",
          "2012-11-25T00:00:00.000000000",
          "2012-11-26T00:00:00.000000000",
          "2012-11-26T00:00:00.000000000",
          "2012-11-26T00:00:00.000000000",
          "2012-11-26T00:00:00.000000000",
          "2012-11-26T00:00:00.000000000",
          "2012-11-27T00:00:00.000000000",
          "2012-11-28T00:00:00.000000000",
          "2012-11-28T00:00:00.000000000",
          "2012-11-28T00:00:00.000000000",
          "2012-11-28T00:00:00.000000000",
          "2012-11-28T00:00:00.000000000",
          "2012-11-28T00:00:00.000000000",
          "2012-11-29T00:00:00.000000000",
          "2012-11-29T00:00:00.000000000",
          "2012-11-29T00:00:00.000000000",
          "2012-11-29T00:00:00.000000000",
          "2012-12-02T00:00:00.000000000",
          "2012-12-02T00:00:00.000000000",
          "2012-12-03T00:00:00.000000000",
          "2012-12-03T00:00:00.000000000",
          "2012-12-03T00:00:00.000000000",
          "2012-12-03T00:00:00.000000000",
          "2012-12-04T00:00:00.000000000",
          "2012-12-04T00:00:00.000000000",
          "2012-12-04T00:00:00.000000000",
          "2012-12-04T00:00:00.000000000",
          "2012-12-05T00:00:00.000000000",
          "2012-12-05T00:00:00.000000000",
          "2012-12-05T00:00:00.000000000",
          "2012-12-05T00:00:00.000000000",
          "2012-12-06T00:00:00.000000000",
          "2012-12-06T00:00:00.000000000",
          "2012-12-09T00:00:00.000000000",
          "2012-12-09T00:00:00.000000000",
          "2012-12-09T00:00:00.000000000",
          "2012-12-10T00:00:00.000000000",
          "2012-12-11T00:00:00.000000000",
          "2012-12-11T00:00:00.000000000",
          "2012-12-11T00:00:00.000000000",
          "2012-12-12T00:00:00.000000000",
          "2012-12-12T00:00:00.000000000",
          "2012-12-12T00:00:00.000000000",
          "2012-12-12T00:00:00.000000000",
          "2012-12-12T00:00:00.000000000",
          "2012-12-13T00:00:00.000000000",
          "2012-12-13T00:00:00.000000000",
          "2012-12-13T00:00:00.000000000",
          "2012-12-13T00:00:00.000000000",
          "2012-12-13T00:00:00.000000000",
          "2012-12-16T00:00:00.000000000",
          "2012-12-16T00:00:00.000000000",
          "2012-12-16T00:00:00.000000000",
          "2012-12-16T00:00:00.000000000",
          "2012-12-16T00:00:00.000000000",
          "2012-12-17T00:00:00.000000000",
          "2012-12-17T00:00:00.000000000",
          "2012-12-17T00:00:00.000000000",
          "2012-12-18T00:00:00.000000000",
          "2012-12-18T00:00:00.000000000",
          "2012-12-18T00:00:00.000000000",
          "2012-12-18T00:00:00.000000000",
          "2012-12-18T00:00:00.000000000",
          "2012-12-18T00:00:00.000000000",
          "2012-12-19T00:00:00.000000000",
          "2012-12-19T00:00:00.000000000",
          "2012-12-19T00:00:00.000000000",
          "2012-12-20T00:00:00.000000000",
          "2012-12-20T00:00:00.000000000",
          "2012-12-20T00:00:00.000000000",
          "2012-12-20T00:00:00.000000000",
          "2012-12-23T00:00:00.000000000",
          "2012-12-23T00:00:00.000000000",
          "2012-12-23T00:00:00.000000000",
          "2012-12-23T00:00:00.000000000",
          "2012-12-23T00:00:00.000000000",
          "2012-12-24T00:00:00.000000000",
          "2012-12-25T00:00:00.000000000",
          "2012-12-25T00:00:00.000000000",
          "2012-12-25T00:00:00.000000000",
          "2012-12-25T00:00:00.000000000",
          "2012-12-25T00:00:00.000000000",
          "2012-12-25T00:00:00.000000000",
          "2012-12-25T00:00:00.000000000",
          "2012-12-26T00:00:00.000000000",
          "2012-12-26T00:00:00.000000000",
          "2012-12-26T00:00:00.000000000",
          "2012-12-27T00:00:00.000000000",
          "2012-12-27T00:00:00.000000000",
          "2012-12-27T00:00:00.000000000",
          "2012-12-27T00:00:00.000000000",
          "2012-12-27T00:00:00.000000000",
          "2012-12-30T00:00:00.000000000",
          "2012-12-30T00:00:00.000000000",
          "2012-12-31T00:00:00.000000000",
          "2012-12-31T00:00:00.000000000",
          "2012-12-31T00:00:00.000000000",
          "2012-12-31T00:00:00.000000000",
          "2013-01-01T00:00:00.000000000",
          "2013-01-01T00:00:00.000000000",
          "2013-01-01T00:00:00.000000000",
          "2013-01-01T00:00:00.000000000",
          "2013-01-01T00:00:00.000000000",
          "2013-01-01T00:00:00.000000000",
          "2013-01-01T00:00:00.000000000",
          "2013-01-02T00:00:00.000000000",
          "2013-01-02T00:00:00.000000000",
          "2013-01-03T00:00:00.000000000",
          "2013-01-03T00:00:00.000000000",
          "2013-01-03T00:00:00.000000000",
          "2013-01-03T00:00:00.000000000",
          "2013-01-03T00:00:00.000000000",
          "2013-01-06T00:00:00.000000000",
          "2013-01-07T00:00:00.000000000",
          "2013-01-07T00:00:00.000000000",
          "2013-01-07T00:00:00.000000000",
          "2013-01-07T00:00:00.000000000",
          "2013-01-07T00:00:00.000000000",
          "2013-01-07T00:00:00.000000000",
          "2013-01-07T00:00:00.000000000",
          "2013-01-07T00:00:00.000000000",
          "2013-01-08T00:00:00.000000000",
          "2013-01-08T00:00:00.000000000",
          "2013-01-08T00:00:00.000000000",
          "2013-01-09T00:00:00.000000000",
          "2013-01-09T00:00:00.000000000",
          "2013-01-10T00:00:00.000000000",
          "2013-01-10T00:00:00.000000000",
          "2013-01-10T00:00:00.000000000",
          "2013-01-10T00:00:00.000000000",
          "2013-01-10T00:00:00.000000000",
          "2013-01-13T00:00:00.000000000",
          "2013-01-14T00:00:00.000000000",
          "2013-01-14T00:00:00.000000000",
          "2013-01-14T00:00:00.000000000",
          "2013-01-14T00:00:00.000000000",
          "2013-01-14T00:00:00.000000000",
          "2013-01-15T00:00:00.000000000",
          "2013-01-15T00:00:00.000000000",
          "2013-01-16T00:00:00.000000000",
          "2013-01-16T00:00:00.000000000",
          "2013-01-16T00:00:00.000000000",
          "2013-01-16T00:00:00.000000000",
          "2013-01-16T00:00:00.000000000",
          "2013-01-16T00:00:00.000000000",
          "2013-01-16T00:00:00.000000000",
          "2013-01-17T00:00:00.000000000",
          "2013-01-17T00:00:00.000000000",
          "2013-01-17T00:00:00.000000000",
          "2013-01-17T00:00:00.000000000",
          "2013-01-20T00:00:00.000000000",
          "2013-01-20T00:00:00.000000000",
          "2013-01-21T00:00:00.000000000",
          "2013-01-21T00:00:00.000000000",
          "2013-01-21T00:00:00.000000000",
          "2013-01-21T00:00:00.000000000",
          "2013-01-21T00:00:00.000000000",
          "2013-01-21T00:00:00.000000000",
          "2013-01-21T00:00:00.000000000",
          "2013-01-21T00:00:00.000000000",
          "2013-01-22T00:00:00.000000000",
          "2013-01-23T00:00:00.000000000",
          "2013-01-23T00:00:00.000000000",
          "2013-01-23T00:00:00.000000000",
          "2013-01-23T00:00:00.000000000",
          "2013-01-23T00:00:00.000000000",
          "2013-01-24T00:00:00.000000000",
          "2013-01-24T00:00:00.000000000",
          "2013-01-27T00:00:00.000000000",
          "2013-01-27T00:00:00.000000000",
          "2013-01-27T00:00:00.000000000",
          "2013-01-28T00:00:00.000000000",
          "2013-01-29T00:00:00.000000000",
          "2013-01-29T00:00:00.000000000",
          "2013-01-30T00:00:00.000000000",
          "2013-01-30T00:00:00.000000000",
          "2013-01-30T00:00:00.000000000",
          "2013-01-30T00:00:00.000000000",
          "2013-01-30T00:00:00.000000000",
          "2013-01-30T00:00:00.000000000",
          "2013-01-30T00:00:00.000000000",
          "2013-01-31T00:00:00.000000000",
          "2013-01-31T00:00:00.000000000",
          "2013-02-03T00:00:00.000000000",
          "2013-02-03T00:00:00.000000000",
          "2013-02-03T00:00:00.000000000",
          "2013-02-04T00:00:00.000000000",
          "2013-02-04T00:00:00.000000000",
          "2013-02-04T00:00:00.000000000",
          "2013-02-05T00:00:00.000000000",
          "2013-02-05T00:00:00.000000000",
          "2013-02-05T00:00:00.000000000",
          "2013-02-05T00:00:00.000000000",
          "2013-02-05T00:00:00.000000000",
          "2013-02-06T00:00:00.000000000",
          "2013-02-06T00:00:00.000000000",
          "2013-02-06T00:00:00.000000000",
          "2013-02-07T00:00:00.000000000",
          "2013-02-07T00:00:00.000000000",
          "2013-02-07T00:00:00.000000000",
          "2013-02-07T00:00:00.000000000",
          "2013-02-10T00:00:00.000000000",
          "2013-02-10T00:00:00.000000000",
          "2013-02-10T00:00:00.000000000",
          "2013-02-10T00:00:00.000000000",
          "2013-02-10T00:00:00.000000000",
          "2013-02-11T00:00:00.000000000",
          "2013-02-11T00:00:00.000000000",
          "2013-02-11T00:00:00.000000000",
          "2013-02-12T00:00:00.000000000",
          "2013-02-12T00:00:00.000000000",
          "2013-02-12T00:00:00.000000000",
          "2013-02-12T00:00:00.000000000",
          "2013-02-12T00:00:00.000000000",
          "2013-02-12T00:00:00.000000000",
          "2013-02-13T00:00:00.000000000",
          "2013-02-13T00:00:00.000000000",
          "2013-02-14T00:00:00.000000000",
          "2013-02-14T00:00:00.000000000",
          "2013-02-14T00:00:00.000000000",
          "2013-02-14T00:00:00.000000000",
          "2013-02-14T00:00:00.000000000",
          "2013-02-14T00:00:00.000000000",
          "2013-02-14T00:00:00.000000000",
          "2013-02-17T00:00:00.000000000",
          "2013-02-17T00:00:00.000000000",
          "2013-02-18T00:00:00.000000000",
          "2013-02-18T00:00:00.000000000",
          "2013-02-18T00:00:00.000000000",
          "2013-02-19T00:00:00.000000000",
          "2013-02-19T00:00:00.000000000",
          "2013-02-19T00:00:00.000000000",
          "2013-02-19T00:00:00.000000000",
          "2013-02-19T00:00:00.000000000",
          "2013-02-19T00:00:00.000000000",
          "2013-02-20T00:00:00.000000000",
          "2013-02-20T00:00:00.000000000",
          "2013-02-21T00:00:00.000000000",
          "2013-02-21T00:00:00.000000000",
          "2013-02-21T00:00:00.000000000",
          "2013-02-21T00:00:00.000000000",
          "2013-02-21T00:00:00.000000000",
          "2013-02-24T00:00:00.000000000",
          "2013-02-24T00:00:00.000000000",
          "2013-02-24T00:00:00.000000000",
          "2013-02-24T00:00:00.000000000",
          "2013-02-25T00:00:00.000000000",
          "2013-02-25T00:00:00.000000000",
          "2013-02-25T00:00:00.000000000",
          "2013-02-26T00:00:00.000000000",
          "2013-02-26T00:00:00.000000000",
          "2013-02-26T00:00:00.000000000",
          "2013-02-26T00:00:00.000000000",
          "2013-02-26T00:00:00.000000000",
          "2013-02-27T00:00:00.000000000",
          "2013-02-27T00:00:00.000000000",
          "2013-02-27T00:00:00.000000000",
          "2013-02-28T00:00:00.000000000",
          "2013-02-28T00:00:00.000000000",
          "2013-02-28T00:00:00.000000000",
          "2013-02-28T00:00:00.000000000",
          "2013-02-28T00:00:00.000000000",
          "2013-03-03T00:00:00.000000000",
          "2013-03-03T00:00:00.000000000",
          "2013-03-04T00:00:00.000000000",
          "2013-03-04T00:00:00.000000000",
          "2013-03-04T00:00:00.000000000",
          "2013-03-04T00:00:00.000000000",
          "2013-03-04T00:00:00.000000000",
          "2013-03-04T00:00:00.000000000",
          "2013-03-05T00:00:00.000000000",
          "2013-03-05T00:00:00.000000000",
          "2013-03-05T00:00:00.000000000",
          "2013-03-05T00:00:00.000000000",
          "2013-03-05T00:00:00.000000000",
          "2013-03-06T00:00:00.000000000",
          "2013-03-06T00:00:00.000000000",
          "2013-03-06T00:00:00.000000000",
          "2013-03-06T00:00:00.000000000",
          "2013-03-07T00:00:00.000000000",
          "2013-03-07T00:00:00.000000000",
          "2013-03-10T00:00:00.000000000",
          "2013-03-10T00:00:00.000000000",
          "2013-03-10T00:00:00.000000000",
          "2013-03-11T00:00:00.000000000",
          "2013-03-11T00:00:00.000000000",
          "2013-03-11T00:00:00.000000000",
          "2013-03-11T00:00:00.000000000",
          "2013-03-11T00:00:00.000000000",
          "2013-03-12T00:00:00.000000000",
          "2013-03-12T00:00:00.000000000",
          "2013-03-13T00:00:00.000000000",
          "2013-03-13T00:00:00.000000000",
          "2013-03-13T00:00:00.000000000",
          "2013-03-13T00:00:00.000000000",
          "2013-03-13T00:00:00.000000000",
          "2013-03-13T00:00:00.000000000",
          "2013-03-14T00:00:00.000000000",
          "2013-03-14T00:00:00.000000000",
          "2013-03-14T00:00:00.000000000",
          "2013-03-17T00:00:00.000000000",
          "2013-03-17T00:00:00.000000000",
          "2013-03-17T00:00:00.000000000",
          "2013-03-17T00:00:00.000000000",
          "2013-03-17T00:00:00.000000000",
          "2013-03-18T00:00:00.000000000",
          "2013-03-19T00:00:00.000000000",
          "2013-03-19T00:00:00.000000000",
          "2013-03-19T00:00:00.000000000",
          "2013-03-19T00:00:00.000000000",
          "2013-03-20T00:00:00.000000000",
          "2013-03-20T00:00:00.000000000",
          "2013-03-20T00:00:00.000000000",
          "2013-03-20T00:00:00.000000000",
          "2013-03-21T00:00:00.000000000",
          "2013-03-24T00:00:00.000000000",
          "2013-03-24T00:00:00.000000000",
          "2013-03-24T00:00:00.000000000",
          "2013-03-24T00:00:00.000000000",
          "2013-03-24T00:00:00.000000000",
          "2013-03-25T00:00:00.000000000",
          "2013-03-25T00:00:00.000000000",
          "2013-03-25T00:00:00.000000000",
          "2013-03-25T00:00:00.000000000",
          "2013-03-26T00:00:00.000000000",
          "2013-03-26T00:00:00.000000000",
          "2013-03-26T00:00:00.000000000",
          "2013-03-26T00:00:00.000000000",
          "2013-03-26T00:00:00.000000000",
          "2013-03-26T00:00:00.000000000",
          "2013-03-27T00:00:00.000000000",
          "2013-03-27T00:00:00.000000000",
          "2013-03-28T00:00:00.000000000",
          "2013-03-28T00:00:00.000000000",
          "2013-03-31T00:00:00.000000000",
          "2013-03-31T00:00:00.000000000",
          "2013-03-31T00:00:00.000000000",
          "2013-03-31T00:00:00.000000000",
          "2013-03-31T00:00:00.000000000",
          "2013-04-01T00:00:00.000000000",
          "2013-04-01T00:00:00.000000000",
          "2013-04-02T00:00:00.000000000",
          "2013-04-02T00:00:00.000000000",
          "2013-04-02T00:00:00.000000000",
          "2013-04-02T00:00:00.000000000",
          "2013-04-03T00:00:00.000000000",
          "2013-04-03T00:00:00.000000000",
          "2013-04-03T00:00:00.000000000",
          "2013-04-04T00:00:00.000000000",
          "2013-04-04T00:00:00.000000000",
          "2013-04-04T00:00:00.000000000",
          "2013-04-04T00:00:00.000000000",
          "2013-04-07T00:00:00.000000000",
          "2013-04-07T00:00:00.000000000",
          "2013-04-07T00:00:00.000000000",
          "2013-04-08T00:00:00.000000000",
          "2013-04-08T00:00:00.000000000",
          "2013-04-09T00:00:00.000000000",
          "2013-04-09T00:00:00.000000000",
          "2013-04-09T00:00:00.000000000",
          "2013-04-10T00:00:00.000000000",
          "2013-04-10T00:00:00.000000000",
          "2013-04-10T00:00:00.000000000",
          "2013-04-11T00:00:00.000000000",
          "2013-04-11T00:00:00.000000000",
          "2013-04-11T00:00:00.000000000",
          "2013-04-11T00:00:00.000000000",
          "2013-04-11T00:00:00.000000000",
          "2013-04-11T00:00:00.000000000",
          "2013-04-14T00:00:00.000000000",
          "2013-04-15T00:00:00.000000000",
          "2013-04-15T00:00:00.000000000",
          "2013-04-15T00:00:00.000000000",
          "2013-04-15T00:00:00.000000000",
          "2013-04-16T00:00:00.000000000",
          "2013-04-16T00:00:00.000000000",
          "2013-04-17T00:00:00.000000000",
          "2013-04-18T00:00:00.000000000",
          "2013-04-18T00:00:00.000000000",
          "2013-04-18T00:00:00.000000000",
          "2013-04-18T00:00:00.000000000",
          "2013-04-18T00:00:00.000000000",
          "2013-04-21T00:00:00.000000000",
          "2013-04-21T00:00:00.000000000",
          "2013-04-21T00:00:00.000000000",
          "2013-04-21T00:00:00.000000000",
          "2013-04-22T00:00:00.000000000",
          "2013-04-22T00:00:00.000000000",
          "2013-04-22T00:00:00.000000000",
          "2013-04-22T00:00:00.000000000",
          "2013-04-22T00:00:00.000000000",
          "2013-04-22T00:00:00.000000000",
          "2013-04-22T00:00:00.000000000",
          "2013-04-22T00:00:00.000000000",
          "2013-04-23T00:00:00.000000000",
          "2013-04-23T00:00:00.000000000",
          "2013-04-23T00:00:00.000000000",
          "2013-04-23T00:00:00.000000000",
          "2013-04-23T00:00:00.000000000",
          "2013-04-24T00:00:00.000000000",
          "2013-04-24T00:00:00.000000000",
          "2013-04-24T00:00:00.000000000",
          "2013-04-24T00:00:00.000000000",
          "2013-04-24T00:00:00.000000000",
          "2013-04-24T00:00:00.000000000",
          "2013-04-25T00:00:00.000000000",
          "2013-04-25T00:00:00.000000000",
          "2013-04-25T00:00:00.000000000",
          "2013-04-28T00:00:00.000000000",
          "2013-04-28T00:00:00.000000000",
          "2013-04-28T00:00:00.000000000",
          "2013-04-29T00:00:00.000000000",
          "2013-04-29T00:00:00.000000000",
          "2013-04-29T00:00:00.000000000",
          "2013-04-29T00:00:00.000000000",
          "2013-04-29T00:00:00.000000000",
          "2013-04-30T00:00:00.000000000",
          "2013-04-30T00:00:00.000000000",
          "2013-04-30T00:00:00.000000000",
          "2013-04-30T00:00:00.000000000",
          "2013-05-01T00:00:00.000000000",
          "2013-05-01T00:00:00.000000000",
          "2013-05-01T00:00:00.000000000",
          "2013-05-01T00:00:00.000000000",
          "2013-05-01T00:00:00.000000000",
          "2013-05-01T00:00:00.000000000",
          "2013-05-01T00:00:00.000000000",
          "2013-05-01T00:00:00.000000000",
          "2013-05-02T00:00:00.000000000",
          "2013-05-02T00:00:00.000000000",
          "2013-05-05T00:00:00.000000000",
          "2013-05-05T00:00:00.000000000",
          "2013-05-05T00:00:00.000000000",
          "2013-05-05T00:00:00.000000000",
          "2013-05-05T00:00:00.000000000",
          "2013-05-06T00:00:00.000000000",
          "2013-05-06T00:00:00.000000000",
          "2013-05-06T00:00:00.000000000",
          "2013-05-07T00:00:00.000000000",
          "2013-05-07T00:00:00.000000000",
          "2013-05-07T00:00:00.000000000",
          "2013-05-08T00:00:00.000000000",
          "2013-05-08T00:00:00.000000000",
          "2013-05-08T00:00:00.000000000",
          "2013-05-08T00:00:00.000000000",
          "2013-05-08T00:00:00.000000000",
          "2013-05-09T00:00:00.000000000",
          "2013-05-09T00:00:00.000000000",
          "2013-05-12T00:00:00.000000000",
          "2013-05-12T00:00:00.000000000",
          "2013-05-12T00:00:00.000000000",
          "2013-05-12T00:00:00.000000000",
          "2013-05-12T00:00:00.000000000",
          "2013-05-12T00:00:00.000000000",
          "2013-05-13T00:00:00.000000000",
          "2013-05-13T00:00:00.000000000",
          "2013-05-13T00:00:00.000000000",
          "2013-05-13T00:00:00.000000000",
          "2013-05-14T00:00:00.000000000",
          "2013-05-14T00:00:00.000000000",
          "2013-05-14T00:00:00.000000000",
          "2013-05-14T00:00:00.000000000",
          "2013-05-14T00:00:00.000000000",
          "2013-05-14T00:00:00.000000000",
          "2013-05-14T00:00:00.000000000",
          "2013-05-14T00:00:00.000000000",
          "2013-05-14T00:00:00.000000000",
          "2013-05-15T00:00:00.000000000",
          "2013-05-15T00:00:00.000000000",
          "2013-05-16T00:00:00.000000000",
          "2013-05-16T00:00:00.000000000",
          "2013-05-16T00:00:00.000000000",
          "2013-05-16T00:00:00.000000000",
          "2013-05-19T00:00:00.000000000",
          "2013-05-19T00:00:00.000000000",
          "2013-05-19T00:00:00.000000000",
          "2013-05-19T00:00:00.000000000",
          "2013-05-19T00:00:00.000000000",
          "2013-05-19T00:00:00.000000000",
          "2013-05-19T00:00:00.000000000",
          "2013-05-19T00:00:00.000000000",
          "2013-05-20T00:00:00.000000000",
          "2013-05-20T00:00:00.000000000",
          "2013-05-21T00:00:00.000000000",
          "2013-05-21T00:00:00.000000000",
          "2013-05-21T00:00:00.000000000",
          "2013-05-21T00:00:00.000000000",
          "2013-05-22T00:00:00.000000000",
          "2013-05-23T00:00:00.000000000",
          "2013-05-23T00:00:00.000000000",
          "2013-05-23T00:00:00.000000000",
          "2013-05-23T00:00:00.000000000",
          "2013-05-23T00:00:00.000000000",
          "2013-05-26T00:00:00.000000000",
          "2013-05-26T00:00:00.000000000",
          "2013-05-27T00:00:00.000000000",
          "2013-05-27T00:00:00.000000000",
          "2013-05-27T00:00:00.000000000",
          "2013-05-28T00:00:00.000000000",
          "2013-05-28T00:00:00.000000000",
          "2013-05-28T00:00:00.000000000",
          "2013-05-28T00:00:00.000000000",
          "2013-05-28T00:00:00.000000000",
          "2013-05-28T00:00:00.000000000",
          "2013-05-28T00:00:00.000000000",
          "2013-05-29T00:00:00.000000000",
          "2013-05-29T00:00:00.000000000",
          "2013-05-30T00:00:00.000000000",
          "2013-05-30T00:00:00.000000000",
          "2013-05-30T00:00:00.000000000",
          "2013-05-30T00:00:00.000000000",
          "2013-05-30T00:00:00.000000000",
          "2013-05-30T00:00:00.000000000",
          "2013-05-30T00:00:00.000000000",
          "2013-05-30T00:00:00.000000000",
          "2013-05-30T00:00:00.000000000",
          "2013-06-02T00:00:00.000000000",
          "2013-06-02T00:00:00.000000000",
          "2013-06-02T00:00:00.000000000",
          "2013-06-02T00:00:00.000000000",
          "2013-06-02T00:00:00.000000000",
          "2013-06-03T00:00:00.000000000",
          "2013-06-03T00:00:00.000000000",
          "2013-06-03T00:00:00.000000000",
          "2013-06-04T00:00:00.000000000",
          "2013-06-04T00:00:00.000000000",
          "2013-06-04T00:00:00.000000000",
          "2013-06-04T00:00:00.000000000",
          "2013-06-04T00:00:00.000000000",
          "2013-06-05T00:00:00.000000000",
          "2013-06-05T00:00:00.000000000",
          "2013-06-06T00:00:00.000000000",
          "2013-06-06T00:00:00.000000000",
          "2013-06-06T00:00:00.000000000",
          "2013-06-06T00:00:00.000000000",
          "2013-06-09T00:00:00.000000000",
          "2013-06-09T00:00:00.000000000",
          "2013-06-10T00:00:00.000000000",
          "2013-06-10T00:00:00.000000000",
          "2013-06-10T00:00:00.000000000",
          "2013-06-10T00:00:00.000000000",
          "2013-06-10T00:00:00.000000000",
          "2013-06-11T00:00:00.000000000",
          "2013-06-11T00:00:00.000000000",
          "2013-06-12T00:00:00.000000000",
          "2013-06-12T00:00:00.000000000",
          "2013-06-12T00:00:00.000000000",
          "2013-06-12T00:00:00.000000000",
          "2013-06-12T00:00:00.000000000",
          "2013-06-12T00:00:00.000000000",
          "2013-06-13T00:00:00.000000000",
          "2013-06-16T00:00:00.000000000",
          "2013-06-16T00:00:00.000000000",
          "2013-06-17T00:00:00.000000000",
          "2013-06-17T00:00:00.000000000",
          "2013-06-17T00:00:00.000000000",
          "2013-06-17T00:00:00.000000000",
          "2013-06-18T00:00:00.000000000",
          "2013-06-18T00:00:00.000000000",
          "2013-06-18T00:00:00.000000000",
          "2013-06-18T00:00:00.000000000",
          "2013-06-19T00:00:00.000000000",
          "2013-06-19T00:00:00.000000000",
          "2013-06-19T00:00:00.000000000",
          "2013-06-19T00:00:00.000000000",
          "2013-06-19T00:00:00.000000000",
          "2013-06-19T00:00:00.000000000",
          "2013-06-19T00:00:00.000000000",
          "2013-06-20T00:00:00.000000000",
          "2013-06-20T00:00:00.000000000",
          "2013-06-20T00:00:00.000000000",
          "2013-06-20T00:00:00.000000000",
          "2013-06-23T00:00:00.000000000",
          "2013-06-23T00:00:00.000000000",
          "2013-06-23T00:00:00.000000000",
          "2013-06-23T00:00:00.000000000",
          "2013-06-23T00:00:00.000000000",
          "2013-06-23T00:00:00.000000000",
          "2013-06-24T00:00:00.000000000",
          "2013-06-24T00:00:00.000000000",
          "2013-06-25T00:00:00.000000000",
          "2013-06-25T00:00:00.000000000",
          "2013-06-26T00:00:00.000000000",
          "2013-06-26T00:00:00.000000000",
          "2013-06-26T00:00:00.000000000",
          "2013-06-26T00:00:00.000000000",
          "2013-06-27T00:00:00.000000000",
          "2013-06-27T00:00:00.000000000",
          "2013-06-30T00:00:00.000000000",
          "2013-06-30T00:00:00.000000000",
          "2013-06-30T00:00:00.000000000",
          "2013-06-30T00:00:00.000000000",
          "2013-07-01T00:00:00.000000000",
          "2013-07-02T00:00:00.000000000",
          "2013-07-02T00:00:00.000000000",
          "2013-07-02T00:00:00.000000000",
          "2013-07-02T00:00:00.000000000",
          "2013-07-03T00:00:00.000000000",
          "2013-07-03T00:00:00.000000000",
          "2013-07-04T00:00:00.000000000",
          "2013-07-07T00:00:00.000000000",
          "2013-07-07T00:00:00.000000000",
          "2013-07-07T00:00:00.000000000",
          "2013-07-07T00:00:00.000000000",
          "2013-07-07T00:00:00.000000000",
          "2013-07-08T00:00:00.000000000",
          "2013-07-08T00:00:00.000000000",
          "2013-07-09T00:00:00.000000000",
          "2013-07-09T00:00:00.000000000",
          "2013-07-09T00:00:00.000000000",
          "2013-07-09T00:00:00.000000000",
          "2013-07-09T00:00:00.000000000",
          "2013-07-10T00:00:00.000000000",
          "2013-07-10T00:00:00.000000000",
          "2013-07-10T00:00:00.000000000",
          "2013-07-11T00:00:00.000000000",
          "2013-07-11T00:00:00.000000000",
          "2013-07-11T00:00:00.000000000",
          "2013-07-11T00:00:00.000000000",
          "2013-07-11T00:00:00.000000000",
          "2013-07-11T00:00:00.000000000",
          "2013-07-14T00:00:00.000000000",
          "2013-07-14T00:00:00.000000000",
          "2013-07-15T00:00:00.000000000",
          "2013-07-16T00:00:00.000000000",
          "2013-07-16T00:00:00.000000000",
          "2013-07-16T00:00:00.000000000",
          "2013-07-16T00:00:00.000000000",
          "2013-07-17T00:00:00.000000000",
          "2013-07-18T00:00:00.000000000",
          "2013-07-18T00:00:00.000000000",
          "2013-07-18T00:00:00.000000000",
          "2013-07-18T00:00:00.000000000",
          "2013-07-21T00:00:00.000000000",
          "2013-07-21T00:00:00.000000000",
          "2013-07-21T00:00:00.000000000",
          "2013-07-21T00:00:00.000000000",
          "2013-07-22T00:00:00.000000000",
          "2013-07-22T00:00:00.000000000",
          "2013-07-22T00:00:00.000000000",
          "2013-07-22T00:00:00.000000000",
          "2013-07-22T00:00:00.000000000",
          "2013-07-22T00:00:00.000000000",
          "2013-07-22T00:00:00.000000000",
          "2013-07-22T00:00:00.000000000",
          "2013-07-23T00:00:00.000000000",
          "2013-07-24T00:00:00.000000000",
          "2013-07-24T00:00:00.000000000",
          "2013-07-24T00:00:00.000000000",
          "2013-07-25T00:00:00.000000000",
          "2013-07-25T00:00:00.000000000",
          "2013-07-25T00:00:00.000000000",
          "2013-07-25T00:00:00.000000000",
          "2013-07-28T00:00:00.000000000",
          "2013-07-28T00:00:00.000000000",
          "2013-07-28T00:00:00.000000000",
          "2013-07-28T00:00:00.000000000",
          "2013-07-28T00:00:00.000000000",
          "2013-07-29T00:00:00.000000000",
          "2013-07-29T00:00:00.000000000",
          "2013-07-29T00:00:00.000000000",
          "2013-07-29T00:00:00.000000000",
          "2013-07-29T00:00:00.000000000",
          "2013-07-30T00:00:00.000000000",
          "2013-07-31T00:00:00.000000000",
          "2013-07-31T00:00:00.000000000",
          "2013-07-31T00:00:00.000000000",
          "2013-07-31T00:00:00.000000000",
          "2013-07-31T00:00:00.000000000",
          "2013-08-01T00:00:00.000000000",
          "2013-08-01T00:00:00.000000000",
          "2013-08-01T00:00:00.000000000",
          "2013-08-04T00:00:00.000000000",
          "2013-08-04T00:00:00.000000000",
          "2013-08-05T00:00:00.000000000",
          "2013-08-05T00:00:00.000000000",
          "2013-08-05T00:00:00.000000000",
          "2013-08-05T00:00:00.000000000",
          "2013-08-05T00:00:00.000000000",
          "2013-08-05T00:00:00.000000000",
          "2013-08-06T00:00:00.000000000",
          "2013-08-06T00:00:00.000000000",
          "2013-08-07T00:00:00.000000000",
          "2013-08-07T00:00:00.000000000",
          "2013-08-07T00:00:00.000000000",
          "2013-08-07T00:00:00.000000000",
          "2013-08-07T00:00:00.000000000",
          "2013-08-07T00:00:00.000000000",
          "2013-08-07T00:00:00.000000000",
          "2013-08-07T00:00:00.000000000",
          "2013-08-08T00:00:00.000000000",
          "2013-08-08T00:00:00.000000000",
          "2013-08-08T00:00:00.000000000",
          "2013-08-11T00:00:00.000000000",
          "2013-08-11T00:00:00.000000000",
          "2013-08-11T00:00:00.000000000",
          "2013-08-11T00:00:00.000000000",
          "2013-08-11T00:00:00.000000000",
          "2013-08-12T00:00:00.000000000",
          "2013-08-12T00:00:00.000000000",
          "2013-08-12T00:00:00.000000000",
          "2013-08-13T00:00:00.000000000",
          "2013-08-13T00:00:00.000000000",
          "2013-08-14T00:00:00.000000000",
          "2013-08-14T00:00:00.000000000",
          "2013-08-14T00:00:00.000000000",
          "2013-08-15T00:00:00.000000000",
          "2013-08-15T00:00:00.000000000",
          "2013-08-15T00:00:00.000000000",
          "2013-08-15T00:00:00.000000000",
          "2013-08-15T00:00:00.000000000",
          "2013-08-15T00:00:00.000000000",
          "2013-08-15T00:00:00.000000000",
          "2013-08-15T00:00:00.000000000",
          "2013-08-18T00:00:00.000000000",
          "2013-08-18T00:00:00.000000000",
          "2013-08-18T00:00:00.000000000",
          "2013-08-19T00:00:00.000000000",
          "2013-08-19T00:00:00.000000000",
          "2013-08-19T00:00:00.000000000",
          "2013-08-19T00:00:00.000000000",
          "2013-08-19T00:00:00.000000000",
          "2013-08-20T00:00:00.000000000",
          "2013-08-20T00:00:00.000000000",
          "2013-08-20T00:00:00.000000000",
          "2013-08-20T00:00:00.000000000",
          "2013-08-21T00:00:00.000000000",
          "2013-08-21T00:00:00.000000000",
          "2013-08-22T00:00:00.000000000",
          "2013-08-22T00:00:00.000000000",
          "2013-08-22T00:00:00.000000000",
          "2013-08-22T00:00:00.000000000",
          "2013-08-25T00:00:00.000000000",
          "2013-08-25T00:00:00.000000000",
          "2013-08-25T00:00:00.000000000",
          "2013-08-25T00:00:00.000000000",
          "2013-08-25T00:00:00.000000000",
          "2013-08-25T00:00:00.000000000",
          "2013-08-26T00:00:00.000000000",
          "2013-08-26T00:00:00.000000000",
          "2013-08-27T00:00:00.000000000",
          "2013-08-27T00:00:00.000000000",
          "2013-08-27T00:00:00.000000000",
          "2013-08-27T00:00:00.000000000",
          "2013-08-27T00:00:00.000000000",
          "2013-08-27T00:00:00.000000000",
          "2013-08-28T00:00:00.000000000",
          "2013-08-28T00:00:00.000000000",
          "2013-08-28T00:00:00.000000000",
          "2013-08-28T00:00:00.000000000",
          "2013-08-29T00:00:00.000000000",
          "2013-08-29T00:00:00.000000000",
          "2013-08-29T00:00:00.000000000",
          "2013-09-01T00:00:00.000000000",
          "2013-09-01T00:00:00.000000000",
          "2013-09-01T00:00:00.000000000",
          "2013-09-01T00:00:00.000000000",
          "2013-09-02T00:00:00.000000000",
          "2013-09-02T00:00:00.000000000",
          "2013-09-02T00:00:00.000000000",
          "2013-09-02T00:00:00.000000000",
          "2013-09-02T00:00:00.000000000",
          "2013-09-03T00:00:00.000000000",
          "2013-09-04T00:00:00.000000000",
          "2013-09-04T00:00:00.000000000",
          "2013-09-04T00:00:00.000000000",
          "2013-09-04T00:00:00.000000000",
          "2013-09-04T00:00:00.000000000",
          "2013-09-04T00:00:00.000000000",
          "2013-09-04T00:00:00.000000000",
          "2013-09-04T00:00:00.000000000",
          "2013-09-04T00:00:00.000000000",
          "2013-09-05T00:00:00.000000000",
          "2013-09-05T00:00:00.000000000",
          "2013-09-05T00:00:00.000000000",
          "2013-09-05T00:00:00.000000000",
          "2013-09-05T00:00:00.000000000",
          "2013-09-05T00:00:00.000000000",
          "2013-09-05T00:00:00.000000000",
          "2013-09-08T00:00:00.000000000",
          "2013-09-09T00:00:00.000000000",
          "2013-09-09T00:00:00.000000000",
          "2013-09-09T00:00:00.000000000",
          "2013-09-10T00:00:00.000000000",
          "2013-09-10T00:00:00.000000000",
          "2013-09-10T00:00:00.000000000",
          "2013-09-10T00:00:00.000000000",
          "2013-09-10T00:00:00.000000000",
          "2013-09-10T00:00:00.000000000",
          "2013-09-11T00:00:00.000000000",
          "2013-09-11T00:00:00.000000000",
          "2013-09-11T00:00:00.000000000",
          "2013-09-12T00:00:00.000000000",
          "2013-09-12T00:00:00.000000000",
          "2013-09-12T00:00:00.000000000",
          "2013-09-12T00:00:00.000000000",
          "2013-09-15T00:00:00.000000000",
          "2013-09-15T00:00:00.000000000",
          "2013-09-15T00:00:00.000000000",
          "2013-09-15T00:00:00.000000000",
          "2013-09-16T00:00:00.000000000",
          "2013-09-16T00:00:00.000000000",
          "2013-09-16T00:00:00.000000000",
          "2013-09-16T00:00:00.000000000",
          "2013-09-16T00:00:00.000000000",
          "2013-09-17T00:00:00.000000000",
          "2013-09-17T00:00:00.000000000",
          "2013-09-17T00:00:00.000000000",
          "2013-09-17T00:00:00.000000000",
          "2013-09-17T00:00:00.000000000",
          "2013-09-18T00:00:00.000000000",
          "2013-09-18T00:00:00.000000000",
          "2013-09-18T00:00:00.000000000",
          "2013-09-18T00:00:00.000000000",
          "2013-09-19T00:00:00.000000000",
          "2013-09-19T00:00:00.000000000",
          "2013-09-19T00:00:00.000000000",
          "2013-09-22T00:00:00.000000000",
          "2013-09-22T00:00:00.000000000",
          "2013-09-22T00:00:00.000000000",
          "2013-09-22T00:00:00.000000000",
          "2013-09-22T00:00:00.000000000",
          "2013-09-23T00:00:00.000000000",
          "2013-09-23T00:00:00.000000000",
          "2013-09-23T00:00:00.000000000",
          "2013-09-23T00:00:00.000000000",
          "2013-09-23T00:00:00.000000000",
          "2013-09-24T00:00:00.000000000",
          "2013-09-24T00:00:00.000000000",
          "2013-09-24T00:00:00.000000000",
          "2013-09-25T00:00:00.000000000",
          "2013-09-25T00:00:00.000000000",
          "2013-09-25T00:00:00.000000000",
          "2013-09-25T00:00:00.000000000",
          "2013-09-25T00:00:00.000000000",
          "2013-09-25T00:00:00.000000000",
          "2013-09-26T00:00:00.000000000",
          "2013-09-26T00:00:00.000000000",
          "2013-09-26T00:00:00.000000000",
          "2013-09-26T00:00:00.000000000",
          "2013-09-29T00:00:00.000000000",
          "2013-09-29T00:00:00.000000000",
          "2013-09-29T00:00:00.000000000",
          "2013-09-30T00:00:00.000000000",
          "2013-09-30T00:00:00.000000000",
          "2013-09-30T00:00:00.000000000",
          "2013-09-30T00:00:00.000000000",
          "2013-09-30T00:00:00.000000000",
          "2013-10-01T00:00:00.000000000",
          "2013-10-01T00:00:00.000000000",
          "2013-10-01T00:00:00.000000000",
          "2013-10-01T00:00:00.000000000",
          "2013-10-02T00:00:00.000000000",
          "2013-10-02T00:00:00.000000000",
          "2013-10-03T00:00:00.000000000",
          "2013-10-03T00:00:00.000000000",
          "2013-10-03T00:00:00.000000000",
          "2013-10-03T00:00:00.000000000",
          "2013-10-03T00:00:00.000000000",
          "2013-10-03T00:00:00.000000000",
          "2013-10-06T00:00:00.000000000",
          "2013-10-06T00:00:00.000000000",
          "2013-10-06T00:00:00.000000000",
          "2013-10-06T00:00:00.000000000",
          "2013-10-06T00:00:00.000000000",
          "2013-10-06T00:00:00.000000000",
          "2013-10-06T00:00:00.000000000",
          "2013-10-07T00:00:00.000000000",
          "2013-10-07T00:00:00.000000000",
          "2013-10-07T00:00:00.000000000",
          "2013-10-08T00:00:00.000000000",
          "2013-10-08T00:00:00.000000000",
          "2013-10-08T00:00:00.000000000",
          "2013-10-08T00:00:00.000000000",
          "2013-10-08T00:00:00.000000000",
          "2013-10-08T00:00:00.000000000",
          "2013-10-09T00:00:00.000000000",
          "2013-10-09T00:00:00.000000000",
          "2013-10-09T00:00:00.000000000",
          "2013-10-09T00:00:00.000000000",
          "2013-10-09T00:00:00.000000000",
          "2013-10-09T00:00:00.000000000",
          "2013-10-10T00:00:00.000000000",
          "2013-10-10T00:00:00.000000000",
          "2013-10-10T00:00:00.000000000",
          "2013-10-10T00:00:00.000000000",
          "2013-10-13T00:00:00.000000000",
          "2013-10-13T00:00:00.000000000",
          "2013-10-13T00:00:00.000000000",
          "2013-10-13T00:00:00.000000000",
          "2013-10-13T00:00:00.000000000",
          "2013-10-14T00:00:00.000000000",
          "2013-10-14T00:00:00.000000000",
          "2013-10-14T00:00:00.000000000",
          "2013-10-14T00:00:00.000000000",
          "2013-10-14T00:00:00.000000000",
          "2013-10-14T00:00:00.000000000",
          "2013-10-15T00:00:00.000000000",
          "2013-10-15T00:00:00.000000000",
          "2013-10-16T00:00:00.000000000",
          "2013-10-16T00:00:00.000000000",
          "2013-10-16T00:00:00.000000000",
          "2013-10-16T00:00:00.000000000",
          "2013-10-16T00:00:00.000000000",
          "2013-10-16T00:00:00.000000000",
          "2013-10-17T00:00:00.000000000",
          "2013-10-17T00:00:00.000000000",
          "2013-10-17T00:00:00.000000000",
          "2013-10-17T00:00:00.000000000",
          "2013-10-17T00:00:00.000000000",
          "2013-10-20T00:00:00.000000000",
          "2013-10-20T00:00:00.000000000",
          "2013-10-21T00:00:00.000000000",
          "2013-10-21T00:00:00.000000000",
          "2013-10-21T00:00:00.000000000",
          "2013-10-21T00:00:00.000000000",
          "2013-10-21T00:00:00.000000000",
          "2013-10-22T00:00:00.000000000",
          "2013-10-22T00:00:00.000000000",
          "2013-10-22T00:00:00.000000000",
          "2013-10-22T00:00:00.000000000",
          "2013-10-22T00:00:00.000000000",
          "2013-10-22T00:00:00.000000000",
          "2013-10-22T00:00:00.000000000",
          "2013-10-22T00:00:00.000000000",
          "2013-10-22T00:00:00.000000000",
          "2013-10-23T00:00:00.000000000",
          "2013-10-23T00:00:00.000000000",
          "2013-10-24T00:00:00.000000000",
          "2013-10-24T00:00:00.000000000",
          "2013-10-24T00:00:00.000000000",
          "2013-10-24T00:00:00.000000000",
          "2013-10-24T00:00:00.000000000",
          "2013-10-24T00:00:00.000000000",
          "2013-10-27T00:00:00.000000000",
          "2013-10-27T00:00:00.000000000",
          "2013-10-27T00:00:00.000000000",
          "2013-10-27T00:00:00.000000000",
          "2013-10-27T00:00:00.000000000",
          "2013-10-27T00:00:00.000000000",
          "2013-10-27T00:00:00.000000000",
          "2013-10-28T00:00:00.000000000",
          "2013-10-28T00:00:00.000000000",
          "2013-10-29T00:00:00.000000000",
          "2013-10-29T00:00:00.000000000",
          "2013-10-29T00:00:00.000000000",
          "2013-10-29T00:00:00.000000000",
          "2013-10-29T00:00:00.000000000",
          "2013-10-30T00:00:00.000000000",
          "2013-10-30T00:00:00.000000000",
          "2013-10-30T00:00:00.000000000",
          "2013-10-31T00:00:00.000000000",
          "2013-10-31T00:00:00.000000000",
          "2013-10-31T00:00:00.000000000",
          "2013-11-03T00:00:00.000000000",
          "2013-11-03T00:00:00.000000000",
          "2013-11-03T00:00:00.000000000",
          "2013-11-03T00:00:00.000000000",
          "2013-11-03T00:00:00.000000000",
          "2013-11-04T00:00:00.000000000",
          "2013-11-04T00:00:00.000000000",
          "2013-11-04T00:00:00.000000000",
          "2013-11-04T00:00:00.000000000",
          "2013-11-04T00:00:00.000000000",
          "2013-11-04T00:00:00.000000000",
          "2013-11-04T00:00:00.000000000",
          "2013-11-05T00:00:00.000000000",
          "2013-11-05T00:00:00.000000000",
          "2013-11-05T00:00:00.000000000",
          "2013-11-06T00:00:00.000000000",
          "2013-11-06T00:00:00.000000000",
          "2013-11-06T00:00:00.000000000",
          "2013-11-07T00:00:00.000000000",
          "2013-11-07T00:00:00.000000000",
          "2013-11-07T00:00:00.000000000",
          "2013-11-07T00:00:00.000000000",
          "2013-11-07T00:00:00.000000000",
          "2013-11-07T00:00:00.000000000",
          "2013-11-10T00:00:00.000000000",
          "2013-11-10T00:00:00.000000000",
          "2013-11-11T00:00:00.000000000",
          "2013-11-11T00:00:00.000000000",
          "2013-11-11T00:00:00.000000000",
          "2013-11-11T00:00:00.000000000",
          "2013-11-12T00:00:00.000000000",
          "2013-11-12T00:00:00.000000000",
          "2013-11-12T00:00:00.000000000",
          "2013-11-13T00:00:00.000000000",
          "2013-11-13T00:00:00.000000000",
          "2013-11-13T00:00:00.000000000",
          "2013-11-13T00:00:00.000000000",
          "2013-11-14T00:00:00.000000000",
          "2013-11-14T00:00:00.000000000",
          "2013-11-14T00:00:00.000000000",
          "2013-11-14T00:00:00.000000000",
          "2013-11-17T00:00:00.000000000",
          "2013-11-17T00:00:00.000000000",
          "2013-11-18T00:00:00.000000000",
          "2013-11-18T00:00:00.000000000",
          "2013-11-18T00:00:00.000000000",
          "2013-11-18T00:00:00.000000000",
          "2013-11-19T00:00:00.000000000",
          "2013-11-19T00:00:00.000000000",
          "2013-11-19T00:00:00.000000000",
          "2013-11-19T00:00:00.000000000",
          "2013-11-19T00:00:00.000000000",
          "2013-11-19T00:00:00.000000000",
          "2013-11-19T00:00:00.000000000",
          "2013-11-19T00:00:00.000000000",
          "2013-11-20T00:00:00.000000000",
          "2013-11-20T00:00:00.000000000",
          "2013-11-20T00:00:00.000000000",
          "2013-11-20T00:00:00.000000000",
          "2013-11-20T00:00:00.000000000",
          "2013-11-20T00:00:00.000000000",
          "2013-11-21T00:00:00.000000000",
          "2013-11-21T00:00:00.000000000",
          "2013-11-21T00:00:00.000000000",
          "2013-11-24T00:00:00.000000000",
          "2013-11-24T00:00:00.000000000",
          "2013-11-24T00:00:00.000000000",
          "2013-11-24T00:00:00.000000000",
          "2013-11-24T00:00:00.000000000",
          "2013-11-24T00:00:00.000000000",
          "2013-11-25T00:00:00.000000000",
          "2013-11-25T00:00:00.000000000",
          "2013-11-25T00:00:00.000000000",
          "2013-11-26T00:00:00.000000000",
          "2013-11-26T00:00:00.000000000",
          "2013-11-26T00:00:00.000000000",
          "2013-11-26T00:00:00.000000000",
          "2013-11-27T00:00:00.000000000",
          "2013-11-27T00:00:00.000000000",
          "2013-11-27T00:00:00.000000000",
          "2013-11-27T00:00:00.000000000",
          "2013-11-27T00:00:00.000000000",
          "2013-11-27T00:00:00.000000000",
          "2013-11-27T00:00:00.000000000",
          "2013-11-27T00:00:00.000000000",
          "2013-11-28T00:00:00.000000000",
          "2013-11-28T00:00:00.000000000",
          "2013-11-28T00:00:00.000000000",
          "2013-11-28T00:00:00.000000000",
          "2013-12-01T00:00:00.000000000",
          "2013-12-01T00:00:00.000000000",
          "2013-12-01T00:00:00.000000000",
          "2013-12-02T00:00:00.000000000",
          "2013-12-02T00:00:00.000000000",
          "2013-12-02T00:00:00.000000000",
          "2013-12-02T00:00:00.000000000",
          "2013-12-02T00:00:00.000000000",
          "2013-12-02T00:00:00.000000000",
          "2013-12-03T00:00:00.000000000",
          "2013-12-03T00:00:00.000000000",
          "2013-12-03T00:00:00.000000000",
          "2013-12-03T00:00:00.000000000",
          "2013-12-03T00:00:00.000000000",
          "2013-12-04T00:00:00.000000000",
          "2013-12-05T00:00:00.000000000",
          "2013-12-05T00:00:00.000000000",
          "2013-12-05T00:00:00.000000000",
          "2013-12-05T00:00:00.000000000",
          "2013-12-08T00:00:00.000000000",
          "2013-12-08T00:00:00.000000000",
          "2013-12-08T00:00:00.000000000",
          "2013-12-08T00:00:00.000000000",
          "2013-12-08T00:00:00.000000000",
          "2013-12-08T00:00:00.000000000",
          "2013-12-08T00:00:00.000000000",
          "2013-12-08T00:00:00.000000000",
          "2013-12-09T00:00:00.000000000",
          "2013-12-10T00:00:00.000000000",
          "2013-12-10T00:00:00.000000000",
          "2013-12-10T00:00:00.000000000",
          "2013-12-11T00:00:00.000000000",
          "2013-12-11T00:00:00.000000000",
          "2013-12-11T00:00:00.000000000",
          "2013-12-11T00:00:00.000000000",
          "2013-12-11T00:00:00.000000000",
          "2013-12-12T00:00:00.000000000",
          "2013-12-12T00:00:00.000000000",
          "2013-12-15T00:00:00.000000000",
          "2013-12-15T00:00:00.000000000",
          "2013-12-15T00:00:00.000000000",
          "2013-12-15T00:00:00.000000000",
          "2013-12-15T00:00:00.000000000",
          "2013-12-16T00:00:00.000000000",
          "2013-12-16T00:00:00.000000000",
          "2013-12-16T00:00:00.000000000",
          "2013-12-16T00:00:00.000000000",
          "2013-12-16T00:00:00.000000000",
          "2013-12-17T00:00:00.000000000",
          "2013-12-17T00:00:00.000000000",
          "2013-12-17T00:00:00.000000000",
          "2013-12-17T00:00:00.000000000",
          "2013-12-18T00:00:00.000000000",
          "2013-12-18T00:00:00.000000000",
          "2013-12-18T00:00:00.000000000",
          "2013-12-18T00:00:00.000000000",
          "2013-12-18T00:00:00.000000000",
          "2013-12-18T00:00:00.000000000",
          "2013-12-18T00:00:00.000000000",
          "2013-12-19T00:00:00.000000000",
          "2013-12-19T00:00:00.000000000",
          "2013-12-19T00:00:00.000000000",
          "2013-12-19T00:00:00.000000000",
          "2013-12-19T00:00:00.000000000",
          "2013-12-22T00:00:00.000000000",
          "2013-12-22T00:00:00.000000000",
          "2013-12-22T00:00:00.000000000",
          "2013-12-22T00:00:00.000000000",
          "2013-12-22T00:00:00.000000000",
          "2013-12-22T00:00:00.000000000",
          "2013-12-22T00:00:00.000000000",
          "2013-12-22T00:00:00.000000000",
          "2013-12-23T00:00:00.000000000",
          "2013-12-23T00:00:00.000000000",
          "2013-12-23T00:00:00.000000000",
          "2013-12-23T00:00:00.000000000",
          "2013-12-23T00:00:00.000000000",
          "2013-12-24T00:00:00.000000000",
          "2013-12-24T00:00:00.000000000",
          "2013-12-24T00:00:00.000000000",
          "2013-12-24T00:00:00.000000000",
          "2013-12-24T00:00:00.000000000",
          "2013-12-24T00:00:00.000000000",
          "2013-12-25T00:00:00.000000000",
          "2013-12-25T00:00:00.000000000",
          "2013-12-25T00:00:00.000000000",
          "2013-12-25T00:00:00.000000000",
          "2013-12-25T00:00:00.000000000",
          "2013-12-26T00:00:00.000000000",
          "2013-12-26T00:00:00.000000000",
          "2013-12-26T00:00:00.000000000",
          "2013-12-26T00:00:00.000000000",
          "2013-12-26T00:00:00.000000000",
          "2013-12-26T00:00:00.000000000",
          "2013-12-26T00:00:00.000000000",
          "2013-12-26T00:00:00.000000000",
          "2013-12-29T00:00:00.000000000",
          "2013-12-29T00:00:00.000000000",
          "2013-12-29T00:00:00.000000000",
          "2013-12-29T00:00:00.000000000",
          "2013-12-29T00:00:00.000000000",
          "2013-12-29T00:00:00.000000000",
          "2013-12-30T00:00:00.000000000",
          "2013-12-30T00:00:00.000000000",
          "2013-12-30T00:00:00.000000000",
          "2013-12-30T00:00:00.000000000",
          "2013-12-30T00:00:00.000000000",
          "2013-12-30T00:00:00.000000000",
          "2013-12-30T00:00:00.000000000",
          "2013-12-30T00:00:00.000000000",
          "2013-12-31T00:00:00.000000000",
          "2013-12-31T00:00:00.000000000",
          "2013-12-31T00:00:00.000000000",
          "2013-12-31T00:00:00.000000000",
          "2014-01-01T00:00:00.000000000",
          "2014-01-01T00:00:00.000000000",
          "2014-01-01T00:00:00.000000000",
          "2014-01-01T00:00:00.000000000",
          "2014-01-01T00:00:00.000000000",
          "2014-01-01T00:00:00.000000000",
          "2014-01-02T00:00:00.000000000",
          "2014-01-02T00:00:00.000000000",
          "2014-01-02T00:00:00.000000000",
          "2014-01-02T00:00:00.000000000",
          "2014-01-02T00:00:00.000000000",
          "2014-01-02T00:00:00.000000000",
          "2014-01-05T00:00:00.000000000",
          "2014-01-05T00:00:00.000000000",
          "2014-01-05T00:00:00.000000000",
          "2014-01-05T00:00:00.000000000",
          "2014-01-05T00:00:00.000000000",
          "2014-01-05T00:00:00.000000000",
          "2014-01-05T00:00:00.000000000",
          "2014-01-06T00:00:00.000000000",
          "2014-01-06T00:00:00.000000000",
          "2014-01-06T00:00:00.000000000",
          "2014-01-06T00:00:00.000000000",
          "2014-01-06T00:00:00.000000000",
          "2014-01-06T00:00:00.000000000",
          "2014-01-07T00:00:00.000000000",
          "2014-01-07T00:00:00.000000000",
          "2014-01-07T00:00:00.000000000",
          "2014-01-07T00:00:00.000000000",
          "2014-01-07T00:00:00.000000000",
          "2014-01-08T00:00:00.000000000",
          "2014-01-08T00:00:00.000000000",
          "2014-01-08T00:00:00.000000000",
          "2014-01-08T00:00:00.000000000",
          "2014-01-09T00:00:00.000000000",
          "2014-01-09T00:00:00.000000000",
          "2014-01-09T00:00:00.000000000",
          "2014-01-09T00:00:00.000000000",
          "2014-01-09T00:00:00.000000000",
          "2014-01-09T00:00:00.000000000",
          "2014-01-09T00:00:00.000000000",
          "2014-01-09T00:00:00.000000000",
          "2014-01-12T00:00:00.000000000",
          "2014-01-12T00:00:00.000000000",
          "2014-01-12T00:00:00.000000000",
          "2014-01-12T00:00:00.000000000",
          "2014-01-13T00:00:00.000000000",
          "2014-01-13T00:00:00.000000000",
          "2014-01-13T00:00:00.000000000",
          "2014-01-13T00:00:00.000000000",
          "2014-01-13T00:00:00.000000000",
          "2014-01-13T00:00:00.000000000",
          "2014-01-13T00:00:00.000000000",
          "2014-01-13T00:00:00.000000000",
          "2014-01-13T00:00:00.000000000",
          "2014-01-13T00:00:00.000000000",
          "2014-01-14T00:00:00.000000000",
          "2014-01-14T00:00:00.000000000",
          "2014-01-14T00:00:00.000000000",
          "2014-01-14T00:00:00.000000000",
          "2014-01-14T00:00:00.000000000",
          "2014-01-14T00:00:00.000000000",
          "2014-01-14T00:00:00.000000000",
          "2014-01-14T00:00:00.000000000",
          "2014-01-15T00:00:00.000000000",
          "2014-01-15T00:00:00.000000000",
          "2014-01-15T00:00:00.000000000",
          "2014-01-15T00:00:00.000000000",
          "2014-01-15T00:00:00.000000000",
          "2014-01-15T00:00:00.000000000",
          "2014-01-15T00:00:00.000000000",
          "2014-01-16T00:00:00.000000000",
          "2014-01-16T00:00:00.000000000",
          "2014-01-16T00:00:00.000000000",
          "2014-01-16T00:00:00.000000000",
          "2014-01-16T00:00:00.000000000",
          "2014-01-16T00:00:00.000000000",
          "2014-01-16T00:00:00.000000000",
          "2014-01-16T00:00:00.000000000",
          "2014-01-16T00:00:00.000000000",
          "2014-01-19T00:00:00.000000000",
          "2014-01-19T00:00:00.000000000",
          "2014-01-19T00:00:00.000000000",
          "2014-01-19T00:00:00.000000000",
          "2014-01-19T00:00:00.000000000",
          "2014-01-19T00:00:00.000000000",
          "2014-01-19T00:00:00.000000000",
          "2014-01-20T00:00:00.000000000",
          "2014-01-20T00:00:00.000000000",
          "2014-01-20T00:00:00.000000000",
          "2014-01-20T00:00:00.000000000",
          "2014-01-20T00:00:00.000000000",
          "2014-01-20T00:00:00.000000000",
          "2014-01-20T00:00:00.000000000",
          "2014-01-20T00:00:00.000000000",
          "2014-01-21T00:00:00.000000000",
          "2014-01-21T00:00:00.000000000",
          "2014-01-21T00:00:00.000000000",
          "2014-01-21T00:00:00.000000000",
          "2014-01-21T00:00:00.000000000",
          "2014-01-21T00:00:00.000000000",
          "2014-01-21T00:00:00.000000000",
          "2014-01-22T00:00:00.000000000",
          "2014-01-22T00:00:00.000000000",
          "2014-01-22T00:00:00.000000000",
          "2014-01-22T00:00:00.000000000",
          "2014-01-22T00:00:00.000000000",
          "2014-01-22T00:00:00.000000000",
          "2014-01-22T00:00:00.000000000",
          "2014-01-22T00:00:00.000000000",
          "2014-01-22T00:00:00.000000000",
          "2014-01-23T00:00:00.000000000",
          "2014-01-23T00:00:00.000000000",
          "2014-01-23T00:00:00.000000000",
          "2014-01-23T00:00:00.000000000",
          "2014-01-23T00:00:00.000000000",
          "2014-01-23T00:00:00.000000000",
          "2014-01-23T00:00:00.000000000",
          "2014-01-26T00:00:00.000000000",
          "2014-01-26T00:00:00.000000000",
          "2014-01-26T00:00:00.000000000",
          "2014-01-26T00:00:00.000000000",
          "2014-01-26T00:00:00.000000000",
          "2014-01-26T00:00:00.000000000",
          "2014-01-26T00:00:00.000000000",
          "2014-01-27T00:00:00.000000000",
          "2014-01-27T00:00:00.000000000",
          "2014-01-27T00:00:00.000000000",
          "2014-01-27T00:00:00.000000000",
          "2014-01-27T00:00:00.000000000",
          "2014-01-27T00:00:00.000000000",
          "2014-01-27T00:00:00.000000000",
          "2014-01-28T00:00:00.000000000",
          "2014-01-28T00:00:00.000000000",
          "2014-01-28T00:00:00.000000000",
          "2014-01-28T00:00:00.000000000",
          "2014-01-28T00:00:00.000000000",
          "2014-01-29T00:00:00.000000000",
          "2014-01-29T00:00:00.000000000",
          "2014-01-29T00:00:00.000000000",
          "2014-01-29T00:00:00.000000000",
          "2014-01-29T00:00:00.000000000",
          "2014-01-29T00:00:00.000000000",
          "2014-01-29T00:00:00.000000000",
          "2014-01-29T00:00:00.000000000",
          "2014-01-30T00:00:00.000000000",
          "2014-01-30T00:00:00.000000000",
          "2014-01-30T00:00:00.000000000",
          "2014-01-30T00:00:00.000000000",
          "2014-01-30T00:00:00.000000000",
          "2014-01-30T00:00:00.000000000",
          "2014-01-30T00:00:00.000000000",
          "2014-02-02T00:00:00.000000000",
          "2014-02-02T00:00:00.000000000",
          "2014-02-02T00:00:00.000000000",
          "2014-02-02T00:00:00.000000000",
          "2014-02-02T00:00:00.000000000",
          "2014-02-02T00:00:00.000000000",
          "2014-02-03T00:00:00.000000000",
          "2014-02-03T00:00:00.000000000",
          "2014-02-03T00:00:00.000000000",
          "2014-02-03T00:00:00.000000000",
          "2014-02-04T00:00:00.000000000",
          "2014-02-04T00:00:00.000000000",
          "2014-02-04T00:00:00.000000000",
          "2014-02-04T00:00:00.000000000",
          "2014-02-04T00:00:00.000000000",
          "2014-02-04T00:00:00.000000000",
          "2014-02-04T00:00:00.000000000",
          "2014-02-04T00:00:00.000000000",
          "2014-02-04T00:00:00.000000000",
          "2014-02-05T00:00:00.000000000",
          "2014-02-05T00:00:00.000000000",
          "2014-02-05T00:00:00.000000000",
          "2014-02-05T00:00:00.000000000",
          "2014-02-05T00:00:00.000000000",
          "2014-02-05T00:00:00.000000000",
          "2014-02-05T00:00:00.000000000",
          "2014-02-06T00:00:00.000000000",
          "2014-02-06T00:00:00.000000000",
          "2014-02-06T00:00:00.000000000",
          "2014-02-06T00:00:00.000000000",
          "2014-02-06T00:00:00.000000000",
          "2014-02-06T00:00:00.000000000",
          "2014-02-09T00:00:00.000000000",
          "2014-02-09T00:00:00.000000000",
          "2014-02-09T00:00:00.000000000",
          "2014-02-09T00:00:00.000000000",
          "2014-02-10T00:00:00.000000000",
          "2014-02-10T00:00:00.000000000",
          "2014-02-10T00:00:00.000000000",
          "2014-02-10T00:00:00.000000000",
          "2014-02-10T00:00:00.000000000",
          "2014-02-10T00:00:00.000000000",
          "2014-02-10T00:00:00.000000000",
          "2014-02-11T00:00:00.000000000",
          "2014-02-11T00:00:00.000000000",
          "2014-02-11T00:00:00.000000000",
          "2014-02-11T00:00:00.000000000",
          "2014-02-12T00:00:00.000000000",
          "2014-02-12T00:00:00.000000000",
          "2014-02-12T00:00:00.000000000",
          "2014-02-12T00:00:00.000000000",
          "2014-02-12T00:00:00.000000000",
          "2014-02-12T00:00:00.000000000",
          "2014-02-12T00:00:00.000000000",
          "2014-02-12T00:00:00.000000000",
          "2014-02-13T00:00:00.000000000",
          "2014-02-13T00:00:00.000000000",
          "2014-02-13T00:00:00.000000000",
          "2014-02-13T00:00:00.000000000",
          "2014-02-16T00:00:00.000000000",
          "2014-02-16T00:00:00.000000000",
          "2014-02-16T00:00:00.000000000",
          "2014-02-16T00:00:00.000000000",
          "2014-02-16T00:00:00.000000000",
          "2014-02-16T00:00:00.000000000",
          "2014-02-16T00:00:00.000000000",
          "2014-02-17T00:00:00.000000000",
          "2014-02-17T00:00:00.000000000",
          "2014-02-18T00:00:00.000000000",
          "2014-02-18T00:00:00.000000000",
          "2014-02-18T00:00:00.000000000",
          "2014-02-18T00:00:00.000000000",
          "2014-02-18T00:00:00.000000000",
          "2014-02-18T00:00:00.000000000",
          "2014-02-18T00:00:00.000000000",
          "2014-02-18T00:00:00.000000000",
          "2014-02-18T00:00:00.000000000",
          "2014-02-18T00:00:00.000000000",
          "2014-02-18T00:00:00.000000000",
          "2014-02-18T00:00:00.000000000",
          "2014-02-19T00:00:00.000000000",
          "2014-02-19T00:00:00.000000000",
          "2014-02-19T00:00:00.000000000",
          "2014-02-19T00:00:00.000000000",
          "2014-02-20T00:00:00.000000000",
          "2014-02-20T00:00:00.000000000",
          "2014-02-20T00:00:00.000000000",
          "2014-02-23T00:00:00.000000000",
          "2014-02-23T00:00:00.000000000",
          "2014-02-23T00:00:00.000000000",
          "2014-02-23T00:00:00.000000000",
          "2014-02-24T00:00:00.000000000",
          "2014-02-24T00:00:00.000000000",
          "2014-02-24T00:00:00.000000000",
          "2014-02-24T00:00:00.000000000",
          "2014-02-24T00:00:00.000000000",
          "2014-02-24T00:00:00.000000000",
          "2014-02-25T00:00:00.000000000",
          "2014-02-25T00:00:00.000000000",
          "2014-02-26T00:00:00.000000000",
          "2014-02-26T00:00:00.000000000",
          "2014-02-26T00:00:00.000000000",
          "2014-02-26T00:00:00.000000000",
          "2014-02-26T00:00:00.000000000",
          "2014-02-26T00:00:00.000000000",
          "2014-02-26T00:00:00.000000000",
          "2014-02-26T00:00:00.000000000",
          "2014-02-26T00:00:00.000000000",
          "2014-02-26T00:00:00.000000000",
          "2014-02-26T00:00:00.000000000",
          "2014-02-26T00:00:00.000000000",
          "2014-02-26T00:00:00.000000000",
          "2014-02-26T00:00:00.000000000",
          "2014-02-26T00:00:00.000000000",
          "2014-02-26T00:00:00.000000000",
          "2014-02-27T00:00:00.000000000",
          "2014-02-27T00:00:00.000000000",
          "2014-02-27T00:00:00.000000000",
          "2014-02-27T00:00:00.000000000",
          "2014-02-27T00:00:00.000000000",
          "2014-02-27T00:00:00.000000000",
          "2014-02-27T00:00:00.000000000",
          "2014-03-02T00:00:00.000000000",
          "2014-03-02T00:00:00.000000000",
          "2014-03-02T00:00:00.000000000",
          "2014-03-02T00:00:00.000000000",
          "2014-03-02T00:00:00.000000000",
          "2014-03-02T00:00:00.000000000",
          "2014-03-02T00:00:00.000000000",
          "2014-03-03T00:00:00.000000000",
          "2014-03-03T00:00:00.000000000",
          "2014-03-03T00:00:00.000000000",
          "2014-03-03T00:00:00.000000000",
          "2014-03-03T00:00:00.000000000",
          "2014-03-03T00:00:00.000000000",
          "2014-03-03T00:00:00.000000000",
          "2014-03-03T00:00:00.000000000",
          "2014-03-04T00:00:00.000000000",
          "2014-03-04T00:00:00.000000000",
          "2014-03-04T00:00:00.000000000",
          "2014-03-04T00:00:00.000000000",
          "2014-03-04T00:00:00.000000000",
          "2014-03-04T00:00:00.000000000",
          "2014-03-04T00:00:00.000000000",
          "2014-03-04T00:00:00.000000000",
          "2014-03-04T00:00:00.000000000",
          "2014-03-05T00:00:00.000000000",
          "2014-03-05T00:00:00.000000000",
          "2014-03-05T00:00:00.000000000",
          "2014-03-05T00:00:00.000000000",
          "2014-03-05T00:00:00.000000000",
          "2014-03-05T00:00:00.000000000",
          "2014-03-05T00:00:00.000000000",
          "2014-03-05T00:00:00.000000000",
          "2014-03-06T00:00:00.000000000",
          "2014-03-06T00:00:00.000000000",
          "2014-03-06T00:00:00.000000000",
          "2014-03-06T00:00:00.000000000",
          "2014-03-06T00:00:00.000000000",
          "2014-03-06T00:00:00.000000000",
          "2014-03-06T00:00:00.000000000",
          "2014-03-06T00:00:00.000000000",
          "2014-03-06T00:00:00.000000000",
          "2014-03-06T00:00:00.000000000",
          "2014-03-06T00:00:00.000000000",
          "2014-03-06T00:00:00.000000000",
          "2014-03-09T00:00:00.000000000",
          "2014-03-09T00:00:00.000000000",
          "2014-03-09T00:00:00.000000000",
          "2014-03-09T00:00:00.000000000",
          "2014-03-09T00:00:00.000000000",
          "2014-03-10T00:00:00.000000000",
          "2014-03-10T00:00:00.000000000",
          "2014-03-10T00:00:00.000000000",
          "2014-03-10T00:00:00.000000000",
          "2014-03-10T00:00:00.000000000",
          "2014-03-10T00:00:00.000000000",
          "2014-03-10T00:00:00.000000000",
          "2014-03-10T00:00:00.000000000",
          "2014-03-11T00:00:00.000000000",
          "2014-03-11T00:00:00.000000000",
          "2014-03-11T00:00:00.000000000",
          "2014-03-11T00:00:00.000000000",
          "2014-03-11T00:00:00.000000000",
          "2014-03-11T00:00:00.000000000",
          "2014-03-11T00:00:00.000000000",
          "2014-03-11T00:00:00.000000000",
          "2014-03-11T00:00:00.000000000",
          "2014-03-11T00:00:00.000000000",
          "2014-03-12T00:00:00.000000000",
          "2014-03-12T00:00:00.000000000",
          "2014-03-12T00:00:00.000000000",
          "2014-03-12T00:00:00.000000000",
          "2014-03-12T00:00:00.000000000",
          "2014-03-12T00:00:00.000000000",
          "2014-03-12T00:00:00.000000000",
          "2014-03-12T00:00:00.000000000",
          "2014-03-13T00:00:00.000000000",
          "2014-03-13T00:00:00.000000000",
          "2014-03-13T00:00:00.000000000",
          "2014-03-13T00:00:00.000000000",
          "2014-03-13T00:00:00.000000000",
          "2014-03-13T00:00:00.000000000",
          "2014-03-13T00:00:00.000000000",
          "2014-03-13T00:00:00.000000000",
          "2014-03-16T00:00:00.000000000",
          "2014-03-16T00:00:00.000000000",
          "2014-03-16T00:00:00.000000000",
          "2014-03-16T00:00:00.000000000",
          "2014-03-16T00:00:00.000000000",
          "2014-03-16T00:00:00.000000000",
          "2014-03-16T00:00:00.000000000",
          "2014-03-16T00:00:00.000000000",
          "2014-03-17T00:00:00.000000000",
          "2014-03-17T00:00:00.000000000",
          "2014-03-17T00:00:00.000000000",
          "2014-03-17T00:00:00.000000000",
          "2014-03-17T00:00:00.000000000",
          "2014-03-17T00:00:00.000000000",
          "2014-03-17T00:00:00.000000000",
          "2014-03-17T00:00:00.000000000",
          "2014-03-18T00:00:00.000000000",
          "2014-03-18T00:00:00.000000000",
          "2014-03-18T00:00:00.000000000",
          "2014-03-18T00:00:00.000000000",
          "2014-03-18T00:00:00.000000000",
          "2014-03-18T00:00:00.000000000",
          "2014-03-18T00:00:00.000000000",
          "2014-03-19T00:00:00.000000000",
          "2014-03-19T00:00:00.000000000",
          "2014-03-19T00:00:00.000000000",
          "2014-03-19T00:00:00.000000000",
          "2014-03-19T00:00:00.000000000",
          "2014-03-19T00:00:00.000000000",
          "2014-03-19T00:00:00.000000000",
          "2014-03-19T00:00:00.000000000",
          "2014-03-19T00:00:00.000000000",
          "2014-03-19T00:00:00.000000000",
          "2014-03-20T00:00:00.000000000",
          "2014-03-20T00:00:00.000000000",
          "2014-03-20T00:00:00.000000000",
          "2014-03-20T00:00:00.000000000",
          "2014-03-20T00:00:00.000000000",
          "2014-03-20T00:00:00.000000000",
          "2014-03-20T00:00:00.000000000",
          "2014-03-23T00:00:00.000000000",
          "2014-03-23T00:00:00.000000000",
          "2014-03-23T00:00:00.000000000",
          "2014-03-23T00:00:00.000000000",
          "2014-03-23T00:00:00.000000000",
          "2014-03-23T00:00:00.000000000",
          "2014-03-24T00:00:00.000000000",
          "2014-03-24T00:00:00.000000000",
          "2014-03-24T00:00:00.000000000",
          "2014-03-24T00:00:00.000000000",
          "2014-03-24T00:00:00.000000000",
          "2014-03-24T00:00:00.000000000",
          "2014-03-24T00:00:00.000000000",
          "2014-03-25T00:00:00.000000000",
          "2014-03-25T00:00:00.000000000",
          "2014-03-25T00:00:00.000000000",
          "2014-03-25T00:00:00.000000000",
          "2014-03-26T00:00:00.000000000",
          "2014-03-26T00:00:00.000000000",
          "2014-03-26T00:00:00.000000000",
          "2014-03-26T00:00:00.000000000",
          "2014-03-26T00:00:00.000000000",
          "2014-03-26T00:00:00.000000000",
          "2014-03-26T00:00:00.000000000",
          "2014-03-26T00:00:00.000000000",
          "2014-03-26T00:00:00.000000000",
          "2014-03-26T00:00:00.000000000",
          "2014-03-26T00:00:00.000000000",
          "2014-03-26T00:00:00.000000000",
          "2014-03-26T00:00:00.000000000",
          "2014-03-26T00:00:00.000000000",
          "2014-03-27T00:00:00.000000000",
          "2014-03-27T00:00:00.000000000",
          "2014-03-27T00:00:00.000000000",
          "2014-03-27T00:00:00.000000000",
          "2014-03-27T00:00:00.000000000",
          "2014-03-27T00:00:00.000000000",
          "2014-03-30T00:00:00.000000000",
          "2014-03-30T00:00:00.000000000",
          "2014-03-30T00:00:00.000000000",
          "2014-03-30T00:00:00.000000000",
          "2014-03-30T00:00:00.000000000",
          "2014-03-30T00:00:00.000000000",
          "2014-03-30T00:00:00.000000000",
          "2014-03-30T00:00:00.000000000",
          "2014-03-30T00:00:00.000000000",
          "2014-03-30T00:00:00.000000000",
          "2014-03-31T00:00:00.000000000",
          "2014-03-31T00:00:00.000000000",
          "2014-03-31T00:00:00.000000000",
          "2014-03-31T00:00:00.000000000",
          "2014-03-31T00:00:00.000000000",
          "2014-03-31T00:00:00.000000000",
          "2014-03-31T00:00:00.000000000",
          "2014-03-31T00:00:00.000000000",
          "2014-04-01T00:00:00.000000000",
          "2014-04-01T00:00:00.000000000",
          "2014-04-01T00:00:00.000000000",
          "2014-04-01T00:00:00.000000000",
          "2014-04-01T00:00:00.000000000",
          "2014-04-01T00:00:00.000000000",
          "2014-04-01T00:00:00.000000000",
          "2014-04-01T00:00:00.000000000",
          "2014-04-01T00:00:00.000000000",
          "2014-04-01T00:00:00.000000000",
          "2014-04-02T00:00:00.000000000",
          "2014-04-02T00:00:00.000000000",
          "2014-04-02T00:00:00.000000000",
          "2014-04-02T00:00:00.000000000",
          "2014-04-03T00:00:00.000000000",
          "2014-04-03T00:00:00.000000000",
          "2014-04-03T00:00:00.000000000",
          "2014-04-03T00:00:00.000000000",
          "2014-04-03T00:00:00.000000000",
          "2014-04-03T00:00:00.000000000",
          "2014-04-03T00:00:00.000000000",
          "2014-04-03T00:00:00.000000000",
          "2014-04-03T00:00:00.000000000",
          "2014-04-03T00:00:00.000000000",
          "2014-04-06T00:00:00.000000000",
          "2014-04-06T00:00:00.000000000",
          "2014-04-06T00:00:00.000000000",
          "2014-04-06T00:00:00.000000000",
          "2014-04-06T00:00:00.000000000",
          "2014-04-06T00:00:00.000000000",
          "2014-04-06T00:00:00.000000000",
          "2014-04-06T00:00:00.000000000",
          "2014-04-06T00:00:00.000000000",
          "2014-04-06T00:00:00.000000000",
          "2014-04-06T00:00:00.000000000",
          "2014-04-06T00:00:00.000000000",
          "2014-04-06T00:00:00.000000000",
          "2014-04-06T00:00:00.000000000",
          "2014-04-07T00:00:00.000000000",
          "2014-04-07T00:00:00.000000000",
          "2014-04-07T00:00:00.000000000",
          "2014-04-07T00:00:00.000000000",
          "2014-04-07T00:00:00.000000000",
          "2014-04-07T00:00:00.000000000",
          "2014-04-08T00:00:00.000000000",
          "2014-04-08T00:00:00.000000000",
          "2014-04-08T00:00:00.000000000",
          "2014-04-08T00:00:00.000000000",
          "2014-04-08T00:00:00.000000000",
          "2014-04-08T00:00:00.000000000",
          "2014-04-08T00:00:00.000000000",
          "2014-04-08T00:00:00.000000000",
          "2014-04-08T00:00:00.000000000",
          "2014-04-09T00:00:00.000000000",
          "2014-04-09T00:00:00.000000000",
          "2014-04-09T00:00:00.000000000",
          "2014-04-09T00:00:00.000000000",
          "2014-04-09T00:00:00.000000000",
          "2014-04-09T00:00:00.000000000",
          "2014-04-09T00:00:00.000000000",
          "2014-04-09T00:00:00.000000000",
          "2014-04-09T00:00:00.000000000",
          "2014-04-09T00:00:00.000000000",
          "2014-04-09T00:00:00.000000000",
          "2014-04-10T00:00:00.000000000",
          "2014-04-10T00:00:00.000000000",
          "2014-04-10T00:00:00.000000000",
          "2014-04-10T00:00:00.000000000",
          "2014-04-10T00:00:00.000000000",
          "2014-04-13T00:00:00.000000000",
          "2014-04-13T00:00:00.000000000",
          "2014-04-13T00:00:00.000000000",
          "2014-04-13T00:00:00.000000000",
          "2014-04-13T00:00:00.000000000",
          "2014-04-13T00:00:00.000000000",
          "2014-04-13T00:00:00.000000000",
          "2014-04-13T00:00:00.000000000",
          "2014-04-14T00:00:00.000000000",
          "2014-04-14T00:00:00.000000000",
          "2014-04-14T00:00:00.000000000",
          "2014-04-14T00:00:00.000000000",
          "2014-04-14T00:00:00.000000000",
          "2014-04-14T00:00:00.000000000",
          "2014-04-14T00:00:00.000000000",
          "2014-04-14T00:00:00.000000000",
          "2014-04-14T00:00:00.000000000",
          "2014-04-14T00:00:00.000000000",
          "2014-04-15T00:00:00.000000000",
          "2014-04-15T00:00:00.000000000",
          "2014-04-15T00:00:00.000000000",
          "2014-04-15T00:00:00.000000000",
          "2014-04-15T00:00:00.000000000",
          "2014-04-15T00:00:00.000000000",
          "2014-04-15T00:00:00.000000000",
          "2014-04-15T00:00:00.000000000",
          "2014-04-16T00:00:00.000000000",
          "2014-04-16T00:00:00.000000000",
          "2014-04-16T00:00:00.000000000",
          "2014-04-16T00:00:00.000000000",
          "2014-04-16T00:00:00.000000000",
          "2014-04-16T00:00:00.000000000",
          "2014-04-17T00:00:00.000000000",
          "2014-04-17T00:00:00.000000000",
          "2014-04-17T00:00:00.000000000",
          "2014-04-17T00:00:00.000000000",
          "2014-04-17T00:00:00.000000000",
          "2014-04-17T00:00:00.000000000",
          "2014-04-17T00:00:00.000000000",
          "2014-04-17T00:00:00.000000000",
          "2014-04-17T00:00:00.000000000",
          "2014-04-17T00:00:00.000000000",
          "2014-04-17T00:00:00.000000000",
          "2014-04-17T00:00:00.000000000",
          "2014-04-17T00:00:00.000000000",
          "2014-04-17T00:00:00.000000000",
          "2014-04-20T00:00:00.000000000",
          "2014-04-20T00:00:00.000000000",
          "2014-04-20T00:00:00.000000000",
          "2014-04-20T00:00:00.000000000",
          "2014-04-20T00:00:00.000000000",
          "2014-04-20T00:00:00.000000000",
          "2014-04-20T00:00:00.000000000",
          "2014-04-20T00:00:00.000000000",
          "2014-04-20T00:00:00.000000000",
          "2014-04-21T00:00:00.000000000",
          "2014-04-21T00:00:00.000000000",
          "2014-04-21T00:00:00.000000000",
          "2014-04-21T00:00:00.000000000",
          "2014-04-21T00:00:00.000000000",
          "2014-04-21T00:00:00.000000000",
          "2014-04-21T00:00:00.000000000",
          "2014-04-21T00:00:00.000000000",
          "2014-04-22T00:00:00.000000000",
          "2014-04-22T00:00:00.000000000",
          "2014-04-22T00:00:00.000000000",
          "2014-04-22T00:00:00.000000000",
          "2014-04-22T00:00:00.000000000",
          "2014-04-22T00:00:00.000000000",
          "2014-04-23T00:00:00.000000000",
          "2014-04-23T00:00:00.000000000",
          "2014-04-23T00:00:00.000000000",
          "2014-04-23T00:00:00.000000000",
          "2014-04-23T00:00:00.000000000",
          "2014-04-23T00:00:00.000000000",
          "2014-04-24T00:00:00.000000000",
          "2014-04-24T00:00:00.000000000",
          "2014-04-24T00:00:00.000000000",
          "2014-04-24T00:00:00.000000000",
          "2014-04-24T00:00:00.000000000",
          "2014-04-27T00:00:00.000000000",
          "2014-04-27T00:00:00.000000000",
          "2014-04-27T00:00:00.000000000",
          "2014-04-27T00:00:00.000000000",
          "2014-04-27T00:00:00.000000000",
          "2014-04-27T00:00:00.000000000",
          "2014-04-27T00:00:00.000000000",
          "2014-04-28T00:00:00.000000000",
          "2014-04-28T00:00:00.000000000",
          "2014-04-28T00:00:00.000000000",
          "2014-04-28T00:00:00.000000000",
          "2014-04-28T00:00:00.000000000",
          "2014-04-28T00:00:00.000000000",
          "2014-04-28T00:00:00.000000000",
          "2014-04-28T00:00:00.000000000",
          "2014-04-28T00:00:00.000000000",
          "2014-04-29T00:00:00.000000000",
          "2014-04-29T00:00:00.000000000",
          "2014-04-29T00:00:00.000000000",
          "2014-04-29T00:00:00.000000000",
          "2014-04-29T00:00:00.000000000",
          "2014-04-29T00:00:00.000000000",
          "2014-04-29T00:00:00.000000000",
          "2014-04-30T00:00:00.000000000",
          "2014-04-30T00:00:00.000000000",
          "2014-04-30T00:00:00.000000000",
          "2014-04-30T00:00:00.000000000",
          "2014-04-30T00:00:00.000000000",
          "2014-04-30T00:00:00.000000000",
          "2014-04-30T00:00:00.000000000",
          "2014-04-30T00:00:00.000000000",
          "2014-05-01T00:00:00.000000000",
          "2014-05-01T00:00:00.000000000",
          "2014-05-01T00:00:00.000000000",
          "2014-05-01T00:00:00.000000000",
          "2014-05-01T00:00:00.000000000",
          "2014-05-01T00:00:00.000000000",
          "2014-05-01T00:00:00.000000000",
          "2014-05-01T00:00:00.000000000",
          "2014-05-01T00:00:00.000000000",
          "2014-05-01T00:00:00.000000000",
          "2014-05-04T00:00:00.000000000",
          "2014-05-04T00:00:00.000000000",
          "2014-05-04T00:00:00.000000000",
          "2014-05-04T00:00:00.000000000",
          "2014-05-04T00:00:00.000000000",
          "2014-05-05T00:00:00.000000000",
          "2014-05-05T00:00:00.000000000",
          "2014-05-05T00:00:00.000000000",
          "2014-05-05T00:00:00.000000000",
          "2014-05-05T00:00:00.000000000",
          "2014-05-05T00:00:00.000000000",
          "2014-05-05T00:00:00.000000000",
          "2014-05-05T00:00:00.000000000",
          "2014-05-05T00:00:00.000000000",
          "2014-05-05T00:00:00.000000000",
          "2014-05-05T00:00:00.000000000",
          "2014-05-05T00:00:00.000000000",
          "2014-05-06T00:00:00.000000000",
          "2014-05-06T00:00:00.000000000",
          "2014-05-06T00:00:00.000000000",
          "2014-05-06T00:00:00.000000000",
          "2014-05-06T00:00:00.000000000",
          "2014-05-06T00:00:00.000000000",
          "2014-05-06T00:00:00.000000000",
          "2014-05-06T00:00:00.000000000",
          "2014-05-06T00:00:00.000000000",
          "2014-05-06T00:00:00.000000000",
          "2014-05-06T00:00:00.000000000",
          "2014-05-06T00:00:00.000000000",
          "2014-05-06T00:00:00.000000000",
          "2014-05-06T00:00:00.000000000",
          "2014-05-06T00:00:00.000000000",
          "2014-05-06T00:00:00.000000000",
          "2014-05-06T00:00:00.000000000",
          "2014-05-06T00:00:00.000000000",
          "2014-05-06T00:00:00.000000000",
          "2014-05-06T00:00:00.000000000",
          "2014-05-06T00:00:00.000000000",
          "2014-05-06T00:00:00.000000000",
          "2014-05-06T00:00:00.000000000",
          "2014-05-06T00:00:00.000000000",
          "2014-05-06T00:00:00.000000000",
          "2014-05-06T00:00:00.000000000",
          "2014-05-06T00:00:00.000000000",
          "2014-05-06T00:00:00.000000000",
          "2014-05-06T00:00:00.000000000",
          "2014-05-06T00:00:00.000000000",
          "2014-05-06T00:00:00.000000000",
          "2014-05-06T00:00:00.000000000"
         ],
         "xaxis": "x",
         "y": {
          "bdata": "AAAAAACAe0AAAAAAAIB7QAAAAAAAgHtAmpmZmZkdnUCamZmZmR2dQAAAAAAAVJxAAAAAAABUnEAAAAAAAFScQGZmZmZm9oRAZmZmZmb2hEBmZmZmZvaEQAAAAAAAJK1AAAAAAAAkrUAAAAAAACStQDMzMzMzk5ZAMzMzMzOTlkAzMzMzM5OWQJqZmZmZiYNAmpmZmZmJg0CamZmZmYmDQAAAAAAAdaNAAAAAAAB1o0AAAAAAAHWjQAAAAAAAdaNAZmZmZmYugEBmZmZmZi6AQJqZmZmZf5FAmpmZmZl/kUCamZmZmX+RQGZmZmZmip9AZmZmZmaKn0BmZmZmZoqfQDMzMzMzM1lAMzMzMzMzWUDNzMzMzEibQM3MzMzMSJtAzczMzMxIm0DNzMzMzEibQAAAAAAAAHxAAAAAAAAAfEBmZmZmZoaDQGZmZmZmhoNAZmZmZmaGg0CamZmZmUGjQJqZmZmZQaNAmpmZmZlBo0CamZmZmUGjQAAAAAAApIZAAAAAAACkhkAAAAAAAGCSQAAAAAAAYJJAzczMzMzMdkAAAAAAAH6vQAAAAAAAfq9AAAAAAAB+r0DNzMzMzDSRQM3MzMzMNJFAAAAAAAAghUAAAAAAACCFQAAAAAAAgJVAAAAAAACAlUAAAAAAAABIQAAAAAAAwJZAAAAAAADAlkAAAAAAAMCWQM3MzMzMvKBAzczMzMy8oEDNzMzMzLygQM3MzMzMvKBAzczMzMy8oEDNzMzMzNSAQM3MzMzM1IBAMzMzMzMzc0AzMzMzMzNzQAAAAAAAQHpAAAAAAABAekAzMzMzM8OSQDMzMzMzw5JAMzMzMzNDl0AzMzMzM0OXQDMzMzMzQ5dAMzMzMzNDl0AAAAAAAEB9QJqZmZmZKYNAmpmZmZkpg0CamZmZmSmDQAAAAAAAoFVAAAAAAACgVUAAAAAAAKBVQM3MzMzMbGNAzczMzMxsY0AzMzMzMxuWQDMzMzMzG5ZAMzMzMzMblkAzMzMzMxuWQAAAAAAAsJZAAAAAAACwlkAAAAAAALCWQAAAAAAAsJZAZmZmZmYGoUBmZmZmZgahQGZmZmZmBqFAAAAAAACQp0AAAAAAAJCnQAAAAAAA4IxAAAAAAADgjEAAAAAAAOCMQAAAAAAAQFZAAAAAAABAVkBmZmZmZvZ9QGZmZmZm9n1AAAAAAADyoEAAAAAAAPKgQAAAAAAA8qBAAAAAAADyoEBmZmZmZkaBQGZmZmZmRoFAZmZmZmZGgUAAAAAAAECUQJqZmZmZhYpAmpmZmZmFikCamZmZmYWKQJqZmZmZhYpAZmZmZmZ+nUBmZmZmZn6dQGZmZmZmfp1AZmZmZmZ+nUBmZmZmZn6dQGZmZmZmZl5AZmZmZmZqkEBmZmZmZmqQQGZmZmZmapBAAAAAAAAwlkAAAAAAADCWQAAAAAAAbqhAAAAAAABuqEAAAAAAAG6oQAAAAAAAbqhAAAAAAADYdUAAAAAAANh1QAAAAAAAAINAAAAAAAAAg0AAAAAAAJiHQAAAAAAAmIdAmpmZmZkppUCamZmZmSmlQJqZmZmZKaVAAAAAAABok0AAAAAAAGiTQAAAAAAAaJNAMzMzMzPTjUAzMzMzM9ONQDMzMzMz041AAAAAAAA9sEAAAAAAAD2wQAAAAAAAPbBAAAAAAAAof0AAAAAAACh/QAAAAAAAKH9AAAAAAACAekAAAAAAAIB6QDMzMzMzM1ZAMzMzMzMzVkAAAAAAAIibQAAAAAAAiJtAAAAAAACIm0AAAAAAAIibQAAAAAAAiJtAAAAAAAAAdUAAAAAAAAB1QM3MzMzMzHBAzczMzMzMcEAzMzMzMzuZQDMzMzMzO5lAMzMzMzM7mUAzMzMzMzuZQM3MzMzMzGZAAAAAAAAuokAAAAAAAC6iQAAAAAAALqJAZmZmZmYmgEBmZmZmZiaAQAAAAAAAJqZAAAAAAAAmpkAAAAAAAAByQM3MzMzMDG5AzczMzMwMbkDNzMzMzJySQM3MzMzMnJJAzczMzMyckkAAAAAAACCAQAAAAAAAAGJAAAAAAAAAXEDNzMzMzIxkQM3MzMzMjGRAzczMzMyMZEBmZmZm5gu4QGZmZmbmC7hAZmZmZuYLuEBmZmZm5gu4QGZmZmbmC7hAAAAAAABkl0AAAAAAAGSXQAAAAAAAZJdAAAAAAABkl0AAAAAAAGSXQAAAAAAAsI5AAAAAAACwjkAAAAAAALCOQAAAAAAAraFAAAAAAACtoUAAAAAAAK2hQAAAAAAAraFAAAAAAABAkkAAAAAAAECSQAAAAAAAQJJAZmZmZmbTskBmZmZmZtOyQGZmZmZm07JAZmZmZmbTskAAAAAAAFCeQAAAAAAAUJ5AAAAAAAAgVkAzMzMzM3OhQDMzMzMzc6FAMzMzMzNzoUAAAAAAANCNQAAAAAAA0I1AAAAAAADQjUCamZmZmRliQJqZmZmZGWJAZmZmZmbio0BmZmZmZuKjQGZmZmZm4qNAZmZmZmbio0DNzMzMzMxzQAAAAAAARqNAAAAAAABGo0AAAAAAAEajQAAAAAAARqNAAAAAAABGo0AAAAAAADSNQAAAAAAANI1AZmZmZmYOq0BmZmZmZg6rQGZmZmZmDqtAzczMzMwIpEDNzMzMzAikQM3MzMzMCKRAAAAAAADAeUAAAAAAAMB5QJqZmZmZ+aFAmpmZmZn5oUCamZmZmfmhQJqZmZmZ+aFAAAAAAADImEAAAAAAAMiYQAAAAAAAyJhAAAAAAABQpkAAAAAAAFCmQJqZmZmZ2aZAmpmZmZnZpkCamZmZmdmmQM3MzMzMDJtAzczMzMwMm0AAAAAAAACNQAAAAAAAAI1AAAAAAAAAjUAAAAAAAACNQAAAAAAAwHhAAAAAAADAeEAzMzMzM7NhQDMzMzMzS4ZAMzMzMzNLhkCamZmZmS22QJqZmZmZLbZAmpmZmZkttkCamZmZmS22QAAAAAAAQGNAAAAAAABAY0DNzMzMzPrEQM3MzMzM+sRAZmZmZmbGgUBmZmZmZsaBQAAAAAAAAH5AAAAAAAAAfkCamZmZmUmRQJqZmZmZSZFAmpmZmZlJkUAAAAAAAECVQAAAAAAAQJVAAAAAAABAlUAAAAAAAEB8QAAAAAAAQHxAAAAAAABAfEDNzMzMzIysQM3MzMzMjKxAzczMzMyMrEAzMzMzM968QDMzMzMz3rxAMzMzMzPevEAzMzMzM968QDMzMzMz3rxAMzMzMzPDoUAzMzMzM8OhQGZmZmZmNphAZmZmZmY2mEBmZmZmZjaYQDMzMzMz83tAMzMzMzPze0AzMzMzM/N7QAAAAAAAsI1AAAAAAACwjUAzMzMzMzN5QAAAAAAAAGFAAAAAAAAAYUCamZmZmRGKQJqZmZmZEYpAmpmZmZkRikCamZmZmRGKQM3MzMzMqJxAzczMzMyonEDNzMzMzKicQM3MzMzMqJxAZmZmZma+o0BmZmZmZr6jQAAAAAAAWJJAAAAAAABYkkAAAAAAAFiSQM3MzMzMzFZAmpmZmZn8x0CamZmZmfzHQJqZmZmZ/MdAmpmZmZn8x0AAAAAAALCaQAAAAAAAsJpAAAAAAACwfEAAAAAAALB8QAAAAAAAIHVAAAAAAAAgdUAAAAAAAEB6QAAAAAAAwI9AAAAAAADAj0DNzMzMzMxZQJqZmZmZ+Y1AmpmZmZn5jUCamZmZmfmNQDMzMzMzL5ZAMzMzMzMvlkAzMzMzMy+WQDMzMzMzL5ZAAAAAAAAAXEAAAAAAAKimQAAAAAAAqKZAAAAAAACopkAAAAAAAKimQAAAAAAAqKZAAAAAAAAYjEAAAAAAABiMQAAAAAAAGIxAzczMzMxcoUDNzMzMzFyhQAAAAAAAAItAAAAAAAAAi0AAAAAAAACLQAAAAAAAwGRAAAAAAADAZECamZmZmYmQQJqZmZmZiZBAmpmZmZmJkECamZmZmYmQQAAAAAAA6JNAAAAAAADok0AAAAAAAOiTQDMzMzMzo5xAMzMzMzOjnEAzMzMzM6OcQDMzMzMzo5xAZmZmZmbGoUBmZmZmZsahQGZmZmZmxqFAZmZmZmbGoUCamZmZmZlVQAAAAAAAgJZAMzMzMzPNqUAzMzMzM82pQDMzMzMzzalAMzMzMzPNqUAzMzMzM82pQAAAAAAAoHtAAAAAAACge0BmZmZmZjqiQGZmZmZmOqJAZmZmZmY6okAzMzMzM7+dQDMzMzMzv51AMzMzMzO/nUCamZmZmVmKQJqZmZmZWYpAAAAAAABgpUAAAAAAAGClQGZmZmZmlptAZmZmZmaWm0BmZmZmZpabQGZmZmZmlptAAAAAAADup0AAAAAAAO6nQAAAAAAA7qdAMzMzMzM5rkAzMzMzMzmuQDMzMzMzOa5AMzMzMzM5rkAAAAAAADOlQAAAAAAAM6VAMzMzMzNvj0AzMzMzM2+PQAAAAAAALJpAAAAAAAAsmkAAAAAAACyaQAAAAAAAAHlAzczMzMyIn0DNzMzMzIifQM3MzMzMiJ9AzczMzMyIn0DNzMzMzIifQAAAAAAAqJJAAAAAAACokkAAAAAAAKiSQJqZmZmZWZlAmpmZmZlZmUCamZmZmVmZQDMzMzMz83NAMzMzMzPzc0AAAAAAABCJQAAAAAAAEIlAAAAAAADikkAAAAAAAOKSQAAAAAAA4pJAAAAAAABAd0BmZmZmZpagQGZmZmZmlqBAZmZmZmaWoEDNzMzMzOxsQM3MzMzM7GxAmpmZmZmZWUCamZmZmZlZQAAAAAAAgIZAAAAAAACAhkAAAAAAAICGQJqZmZmZCcZAmpmZmZkJxkCamZmZmQnGQJqZmZmZCcZAMzMzMzNbnEAzMzMzM1ucQDMzMzMzW5xAMzMzMzNbnEAAAAAAAEChQAAAAAAAQKFAZmZmZmamnUBmZmZmZqadQGZmZmZmpp1AZmZmZmamnUDNzMzMzOSTQM3MzMzM5JNAzczMzMzkk0DNzMzMzOSTQGZmZmZm5khAAAAAAADgj0AAAAAAAOCPQJqZmZmZcsZAmpmZmZlyxkCamZmZmXLGQAAAAAAAAH5AAAAAAAAAfkAzMzMzMyN1QDMzMzMzI3VAAAAAAABYhEAAAAAAAABoQAAAAAAAUptAAAAAAABSm0AAAAAAAKS2QAAAAAAApLZAAAAAAACktkAAAAAAAKS2QAAAAAAAtqNAAAAAAAC2o0AAAAAAALajQAAAAAAAUH5AAAAAAABQfkCamZmZmZmKQAAAAAAAgHZAAAAAAACAdkDNzMzMzLyDQM3MzMzMvINAzczMzMy8g0CamZmZmUWhQJqZmZmZRaFAmpmZmZlFoUCamZmZmUWhQAAAAAAAkHhAAAAAAAC8gUAAAAAAALyBQAAAAAAAvIFAAAAAAADYkEAAAAAAANiQQAAAAAAA2JBAAAAAAADYkECamZmZGaG2QJqZmZkZobZAmpmZmRmhtkCamZmZGaG2QAAAAAAAbJtAAAAAAAAAnEAAAAAAAACcQAAAAAAAAJxAzczMzMzMgEDNzMzMzMyAQM3MzMzMHpBAzczMzMwekEDNzMzMzB6QQM3MzMzMHpBAzczMzMzcZUDNzMzMzNxlQJqZmZmZGXFAmpmZmZkZcUCamZmZmRlxQJqZmZmZGXFAMzMzMzOTjEAzMzMzM5OMQDMzMzMzk4xAZmZmZma2e0BmZmZmZrZ7QM3MzMzMuJxAzczMzMy4nEDNzMzMzLicQDMzMzMzm4BAMzMzMzObgEBmZmZmZrWwQGZmZmZmtbBAZmZmZma1sEBmZmZmZrWwQAAAAAAAYKBAAAAAAABgoEAAAAAAAFB8QAAAAAAAUHxAAAAAAADgeUAAAAAAAOB5QAAAAAAA4HlAAAAAAAD4pEAAAAAAAPikQAAAAAAA+KRAAAAAAAD4pEAAAAAAAICEQAAAAAAAgIRAAAAAAADAmEAAAAAAAGauQAAAAAAAZq5AAAAAAABmrkAAAAAAAGauQAAAAAAAZq5AAAAAAABgmkAAAAAAAGCaQAAAAAAAYJpAmpmZmZlZbUCamZmZmVltQDMzMzMzB6BAMzMzMzMHoEAzMzMzMwegQAAAAAAAgGNAAAAAAACAY0BmZmZmZkqGQGZmZmZmSoZAAAAAAADgnEAAAAAAAOCcQAAAAAAA4JxAAAAAAADgnEAAAAAAAD6lQAAAAAAAPqVAAAAAAAA+pUAAAAAAAD6lQAAAAAAAPqVAAAAAAAAAa0AAAAAAAABrQGZmZmZmZm1AZmZmZmZmbUDNzMzMzGyGQM3MzMzMbIZAAAAAAACWkUAAAAAAAJaRQAAAAAAAlpFAMzMzMzNznEAzMzMzM3OcQDMzMzMzc5xAAAAAAADAlEAAAAAAAMCUQM3MzMzMbJBAzczMzMxskEDNzMzMzMxsQM3MzMzMzGxAZmZmZmaEk0BmZmZmZoSTQGZmZmZmhJNAZmZmZmaEk0AzMzMzM6ubQDMzMzMzq5tAMzMzMzOrm0DNzMzMzMxmQM3MzMzMzGZAAAAAAAAAhUAAAAAAAACFQAAAAAAAAIVAAAAAAAAAf0DNzMzMzH/EQM3MzMzMf8RAzczMzMx/xEDNzMzMzH/EQAAAAAAAoIdAAAAAAACgh0AAAAAAAACXQAAAAAAAAJdAAAAAAABgYkAAAAAAAACGQAAAAAAAAIZAMzMzMzMjeEAzMzMzMyN4QDMzMzMzI3hAAAAAAACAm0AAAAAAAICbQAAAAAAAgJtAAAAAAACAm0AAAAAAAOCTQAAAAAAA4JNAAAAAAADgk0DNzMzMzOiMQM3MzMzM6IxAzczMzMzojEAAAAAAAGCYQAAAAAAAYJhAMzMzMzNjf0AzMzMzM2N/QGZmZmZmtqhAZmZmZma2qEBmZmZmZraoQM3MzMzMFHNAzczMzMwUc0AAAAAAAACMQAAAAAAAAIxAAAAAAAAghUAAAAAAACCFQAAAAAAAIIVAAAAAAACAjEAAAAAAAGBxQAAAAAAAYHFAAAAAAABgcUAAAAAAAABpQGZmZmZmkpVAZmZmZmaSlUBmZmZmZpKVQAAAAAAA+IFAAAAAAAD4gUAAAAAAAPiBQAAAAAAAEJZAAAAAAAAQlkBmZmZmZjaBQGZmZmZmNoFAAAAAAACgYkBmZmZmZoKJQGZmZmZmgolAZmZmZmaCiUAAAAAAAAGgQAAAAAAAAaBAAAAAAACylUAAAAAAALKVQAAAAAAAspVAAAAAAACylUDNzMzMzHxiQAAAAAAA4HxAAAAAAADgfEAAAAAAAIqLQAAAAAAAiotAAAAAAAAAbkAAAAAAAABuQJqZmZmZGWFAPQrXo3B/skA9CtejcH+yQAAAAAAAcKdAAAAAAABwp0AAAAAAAHCnQAAAAAAAUINAAAAAAABQg0AAAAAAAFCDQAAAAAAAUINAAAAAAAD3okAAAAAAAPeiQAAAAAAA96JAmpmZmbnXwECamZmZudfAQJqZmZm518BAmpmZmbnXwECamZmZudfAQAAAAABArsRAAAAAAECuxEAAAAAAQK7EQAAAAABArsRAAAAAAECuxEAAAAAAAG2kQAAAAAAAbaRAAAAAAABtpEAAAAAAAAB2QAAAAAAAAHZAAAAAAAAAdkDNzMzMDDawQM3MzMwMNrBAzczMzAw2sEAAAAAAAGiiQAAAAAAAaKJAAAAAAABookAAAAAAAABpQAAAAAAAAGlAAAAAAAAwbEAAAAAAADBsQAAAAAAAMGxAmpmZmZnDpECamZmZmcOkQJqZmZmZw6RAmpmZmZnDpEDNzMzMzDelQM3MzMzMN6VAzczMzMw3pUDNzMzMzDelQM3MzMxM8ahAzczMzEzxqEDNzMzMTPGoQM3MzMxM8ahAAAAAAABwikAAAAAAAHCKQAAAAAAAAJVAAAAAAAAAlUAAAAAAAACVQAAAAAAAGJpAAAAAAAAYmkAzMzMzM8N4QDMzMzMzw3hAMzMzMzPDeEAAAAAAAJCNQAAAAAAAkI1AAAAAAACQjUAAAAAAAFSwQAAAAAAAVLBAAAAAAABUsEAAAAAAAFSwQAAAAAAAgFtAzczMzMziiEDNzMzMzOKIQGZmZmZm7qFAZmZmZmbuoUBmZmZmZu6hQDMzMzMzK4BAMzMzMzMrgEAzMzMzMyuAQAAAAAAA2aBAAAAAAADZoEAAAAAAANmgQAAAAAAA2aBAAAAAAABKoEAAAAAAAEqgQAAAAAAASqBAAAAAAABKoEAzMzMzM3+cQDMzMzMzf5xAMzMzMzN/nEAzMzMzM3+cQDMzMzMzf5xAmpmZmZl5YUCamZmZmXlhQAAAAAAAOHZAAAAAAAA4dkAAAAAAADh2QAAAAAAAOHZAmpmZmdnnw0CamZmZ2efDQJqZmZnZ58NAmpmZmdnnw0CamZmZmeWgQJqZmZmZ5aBAmpmZmZnloECamZmZmeWgQM3MzMzM3H5AzczMzMzcfkAAAAAAAKibQAAAAAAAqJtAMzMzMzMTekAzMzMzMxN6QAAAAAAAQGpAAAAAAAD4pUAAAAAAAPilQAAAAAAA+KVAAAAAAADQnUAAAAAAANCdQJqZmZmZMXFAmpmZmZkxcUAAAAAAgFWwQAAAAACAVbBAAAAAAIBVsEAAAAAAAGiHQAAAAAAAaIdAAAAAAABoh0AAAAAAAGiHQAAAAAAAsJxAAAAAAACwnEAAAAAAALCcQAAAAAAAhItAAAAAAACEi0AzMzMzMymYQDMzMzMzKZhAMzMzMzMpmEAzMzMzMymYQDMzMzMzKZhAAAAAAABunEAAAAAAAG6cQAAAAAAAbpxAAAAAAABunEAAAAAAAMGsQAAAAAAAwaxAAAAAAADBrEAAAAAAAMGsQAAAAAAAwaxAmpmZmZkZikAAAAAAAAKSQAAAAAAAApJAzczMzMy9oEDNzMzMzL2gQM3MzMzMvaBAzczMzMy9oEDNzMzMzL2gQGZmZmZmHoFAZmZmZmYegUAzMzMzM6WTQDMzMzMzpZNAAAAAAAA5pkAAAAAAADmmQAAAAAAA+IBAAAAAAAD4gEAAAAAAACiOQAAAAAAAKI5AAAAAAABMlEAAAAAAAEyUQAAAAAAATJRAAAAAAAA4hkAAAAAAADiGQAAAAAAA4J9AAAAAAADgn0AAAAAAAOCfQAAAAAAASqhAAAAAAABKqEAAAAAAAEqoQAAAAAAAYGNAAAAAAACMjkAAAAAAAIyOQAAAAAAARqRAAAAAAABGpEAAAAAAAD6EQAAAAAAAPoRAmpmZmZl2mECamZmZmXaYQJqZmZmZdphAmpmZmZl2mEAAAAAAAESgQAAAAAAARKBAAAAAAABEoEBmZmZmZuKHQGZmZmZm4odAZmZmZmbih0BmZmZmZuKHQM3MzMzMxqBAzczMzMzGoEDNzMzMzMagQM3MzMzMxqBAmpmZmZkzikCamZmZmTOKQJqZmZmZM4pAAAAAAADIgUAAAAAAAMiBQAAAAAAAyIFAAAAAAADQfUAAAAAAANB9QAAAAAAA3HNAAAAAAADcc0BmZmZmZqyQQGZmZmZmrJBAZmZmZmaskEAAAAAAADh4QAAAAAAAoHRAAAAAAACgdEDNzMzMzNuiQM3MzMzM26JAzczMzMzbokAAAAAAAIiDQAAAAAAA0GFAAAAAAAAAPEDXo3A9CjuJQNejcD0KO4lA16NwPQo7iUAAAAAAAHiuQAAAAAAAeK5AAAAAAAAAUkAAAAAAANCRQAAAAAAA0JFAAAAAAABkiUAAAAAAAGSJQAAAAAAAZIlAMzMzMzP9gEAzMzMzM/2AQAAAAAAAeqNAAAAAAAB6o0AAAAAAAHqjQAAAAAAArIFAAAAAAACsgUAAAAAAAJy4QAAAAAAAnLhAAAAAAACcuEBmZmZmZhCXQGZmZmZmEJdAZmZmZmYQl0DNzMzMzACJQM3MzMzMAIlAzczMzMwAiUAAAAAAAKmiQAAAAAAAqaJAAAAAAADQfkDNzMzMzPx9QM3MzMzM/H1AAAAAAADaoUAAAAAAANqhQAAAAAAAQFBAAAAAAACQl0AAAAAAAJCXQAAAAAAACHBAAAAAAAAIcEAAAAAAAOawQAAAAAAA5rBAAAAAAADmsEAAAAAAAOawQAAAAAAAFJZAAAAAAAAUlkAAAAAAABSWQGZmZmZmS7lAZmZmZmZLuUBmZmZmZku5QGZmZmZmS7lAZmZmZmZLuUAAAAAAAKCQQAAAAAAAgHpAAAAAAACAekAAAAAAAIB6QAAAAAAA8HhAAAAAAABAiUAAAAAAAECJQAAAAAAAQIlAAAAAAADnuEAAAAAAAOe4QAAAAAAA57hAAAAAAADnuEAAAAAAAOe4QAAAAAAAYHZAAAAAAABgdkAAAAAAAAB9QAAAAAAAAH1AAAAAAAAAfUAAAAAAAABeQAAAAAAAqLNAAAAAAACos0AAAAAAAKizQAAAAAAAqLNAAAAAAADImUAAAAAAABOlQAAAAAAAE6VAAAAAAAATpUAAAAAAALCTQAAAAAAAsJNAAAAAAADATEAAAAAAAMBMQAAAAAAAtIdAAAAAAAC0h0AAAAAAALSHQAAAAAAAtIdAAAAAAADogkAAAAAAAOiCQAAAAAAAV5ZAAAAAAABXlkAAAAAAAFeWQAAAAAAAV5ZAAAAAAABXlkApXI/C9cSVQClcj8L1xJVAKVyPwvXElUAAAAAAAPx9QAAAAAAA/H1AAAAAAAD8fUBmZmZmZn6XQGZmZmZmfpdAZmZmZmZ+l0AAAAAAAMKTQAAAAAAAwpNAAAAAAAAgfECamZmZGa6lQJqZmZkZrqVAAAAAAACwjEAAAAAAALCMQAAAAAAAAE9AAAAAAABgg0AAAAAAAGCDQM3MzMwMU7lAzczMzAxTuUDNzMzMDFO5QM3MzMwMU7lAAAAAAIB5s0AAAAAAgHmzQAAAAACAebNAAAAAAIB5s0AAAAAAAJGVQAAAAAAAkZVAAAAAAACRlUAAAAAAAKyDQAAAAAAArINAAAAAAICgpkAAAAAAgKCmQAAAAACAoKZAmpmZmRlApUCamZmZGUClQJqZmZkZQKVAAAAAAABAf0AAAAAAAIiNQAAAAAAAiI1AAAAAAAAMoEAAAAAAAAygQAAAAAAAMItAAAAAAAAwi0AAAAAAAPiQQAAAAAAA+JBAAAAAAAD4kEAAAAAAADiWQAAAAAAAOJZAAAAAAAA4lkAAAAAAAPyXQAAAAAAA/JdAAAAAAAAgnkAAAAAAACCeQAAAAAAAIJ5AAAAAAAAgnkAAAAAAAOCDQAAAAAAA4INAAAAAAADod0AAAAAAAOh3QAAAAAAAaJZAAAAAAABolkDNzMzMzHCcQM3MzMzMcJxAzczMzMxwnEAzMzMzM5OAQDMzMzMzk4BAFK5H4Xq8dEAUrkfherx0QAAAAAAAzpJAAAAAAADOkkCamZmZmeWEQJqZmZmZ5YRAmpmZmZnlhEAAAAAAACBoQM3MzMzM+oRAzczMzMz6hEDNzMzMzPqEQJqZmZmZE7FAmpmZmZkTsUCamZmZmROxQJqZmZmZE7FAmpmZmZkTsUCamZmZmROxQAAAAAAAPLJAAAAAAAA8skAAAAAAADyyQAAAAAAAPLJAZmZmZmYulEBmZmZmZi6UQGZmZmZmLpRAAAAAAACUmkAAAAAAAPqFQAAAAAAA+oVAAAAAAABAX0AAAAAAAMCfQAAAAAAAwJ9AAAAAAADAn0AAAAAAAK+XQAAAAAAAr5dAAAAAAACvl0AAAAAAADyUQAAAAAAAPJRAAAAAAAA8lEA9Ctej8DqyQD0K16PwOrJAAAAAAAAEnkAAAAAAAASeQAAAAAAAtoVAAAAAAAC2hUAAAAAAALaFQAAAAAAA0IFAAAAAAID7oUAAAAAAgPuhQAAAAACA+6FAAAAAAID7oUAAAAAAgPuhQM3MzMzMwIxAzczMzMzAjEDNzMzMzMCMQAAAAACAcrBAAAAAAIBysECamZmZmcV5QJqZmZmZxXlAmpmZmZnFeUAAAAAAAIBGQAAAAAAAPJZAAAAAAAA8lkAAAAAAADyWQM3MzMzMtoBAzczMzMy2gEDNzMzMzLaAQDMzMzMz541AMzMzMzPnjUAAAAAAgIi0QAAAAACAiLRAAAAAAICItEAAAAAAgIi0QAAAAAAAoIRAAAAAAABKmkAAAAAAAEqaQAAAAAAASppAAAAAAAC8lEAAAAAAALyUQAAAAAAAvJRAAAAAAAB4d0AAAAAAAHh3QAAAAAAAeHdAAAAAAACAT0AAAAAAAKCbQAAAAAAAoJtAAAAAAACgm0DNzMzMzAiJQM3MzMzMCIlAzczMzMwIiUDNzMzMzJmZQM3MzMzMmZlAZmZmZuY5uEBmZmZm5jm4QGZmZmbmObhAAAAAAABEq0AAAAAAAESrQAAAAAAARKtAAAAAAACwg0AAAAAAAPiRQAAAAAAA+JFAZmZmZmbaw0BmZmZmZtrDQGZmZmZm2sNAZmZmZmbaw0BmZmZmZtrDQAAAAAAAcItAAAAAAAA8okAAAAAAADyiQAAAAAAAPKJAAAAAAAA8okAAAAAAANmyQAAAAAAA2bJAAAAAAADZskAAAAAAABCEQAAAAAAAEIRAAAAAAAAQhEAAAAAAACCPQAAAAAAAII9AmpmZmZnHkECamZmZmceQQJqZmZmZx5BAmpmZmZnHkEApXI/CdSGsQClcj8J1IaxAKVyPwnUhrEApXI/CdSGsQClcj8J1IaxAAAAAAACAXEAAAAAAAACgQAAAAAAAAKBAAAAAAAAAoEAAAAAAAACgQAAAAAAAVKpAAAAAAABUqkAAAAAAAFSqQAAAAAAAoHRAAAAAAACgdEAAAAAAAOKjQAAAAAAA4qNAAAAAAADio0AAAAAAAJyCQAAAAAAAnIJAAAAAAACcgkAAAAAAAKB3QAAAAAAAoHdAAAAAAACUnUAAAAAAAJSdQAAAAAAAlJ1AAAAAAACgmkAAAAAAAKCaQAAAAAAAoJpAzczMzMyMZkDNzMzMzIxmQAAAAAAAwKpAAAAAAADAqkAAAAAAAMCqQAAAAAAAYFdAAAAAAABgV0AzMzMzs2OxQDMzMzOzY7FAMzMzM7NjsUCamZmZmVmTQJqZmZmZWZNAzczMzMwXpkDNzMzMzBemQM3MzMzMF6ZAzczMzMwXpkAAAAAAAPqmQAAAAAAA+qZAAAAAAAD6pkAAAAAAAPqmQAAAAAAA+qZAAAAAAABAlEAAAAAAAECUQAAAAAAAEIZAAAAAAAAQhkAAAAAAABCGQAAAAAAAz5RAAAAAAADPlEAAAAAAAM+UQAAAAAAADqtAAAAAAAAOq0AAAAAAAA6rQAAAAAAADqtASOF6FK6WkUBI4XoUrpaRQEjhehSulpFAAAAAAAAwgUAAAAAAADCBQAAAAAAAZI5AAAAAAACImEAAAAAAAIiYQAAAAAAAiJhAAAAAAACImEAzMzMzM0d9QAAAAAAA9INAAAAAAAD0g0DNzMzMzPxxQM3MzMzM/HFAzczMzMz8cUAAAAAAAHiEQAAAAAAAeIRAAAAAAAC4mkAAAAAAALiaQAAAAAAAuJpAAAAAAABDlEAAAAAAAEOUQAAAAAAAQ5RAAAAAAABDlEAAAAAAAOicQAAAAAAA6JxAAAAAAADonEAAAAAAANx/QAAAAAAA3H9AAAAAAADcf0AAAAAAABifQAAAAAAAGJ9AAAAAAACAdkAAAAAAAMyWQAAAAAAAzJZAAAAAAADMlkBmZmZmZmmXQGZmZmZmaZdAZmZmZmZpl0AAAAAAAKCCQAAAAAAAoIJAAAAAAAAoj0AAAAAAACiPQJqZmZmZeWFAmpmZmZl5YUDNzMzMzCxKQAAAAAAAAG5AAAAAAAAAbkAAAAAAAKibQAAAAAAAqJtAAAAAAACom0AAAAAAAKibQAAAAAAA0HFAAAAAAABcqEAAAAAAAFyoQAAAAAAAXKhAAAAAAAAAdUAAAAAAAMCMQM3MzMzMsbFAzczMzMyxsUDNzMzMzLGxQM3MzMzMsbFAZmZmZmYPokBmZmZmZg+iQGZmZmZmD6JAZmZmZmYPokBmZmZmZuOdQGZmZmZm451AZmZmZmbjnUBmZmZmZuOdQAAAAAAAKKFAAAAAAAAooUAAAAAAACihQAAAAAAA4JBAAAAAAADgkEAAAAAAAOCQQAAAAAAAPZ1AAAAAAAA9nUAAAAAAAD2dQKRwPQrXlZpApHA9CteVmkCkcD0K15WaQKRwPQrXlZpAAAAAAACAb0AAAAAAAIBvQAAAAAAAAFZAAAAAAAAAVkCamZmZmZlLQAAAAAAATKRAAAAAAABMpEAAAAAAAEykQAAAAAAATKRAAAAAAABvo0AAAAAAAG+jQAAAAAAAb6NAAAAAAABvo0AAAAAAABSoQAAAAAAAFKhAAAAAAAAUqEAAAAAAABSoQGZmZmZmsplAZmZmZmaymUBmZmZmZrKZQAAAAAAAAHRAAAAAAADQqUAAAAAAANCpQAAAAAAA0KlAAAAAAACsg0AAAAAAAKyDQAAAAAAA8bBAAAAAAADxsEAAAAAAAPGwQAAAAAAA8bBAAAAAAABAg0AAAAAAAECDQAAAAAAAQINAAAAAAADYo0AAAAAAANijQAAAAAAAUJpAAAAAAAAMokAAAAAAAAyiQAAAAAAADKJAAAAAAAAAPEAAAAAAABSXQAAAAAAAFJdAAAAAAAAUl0AAAAAAABSXQAAAAAAAoJpAAAAAAACgmkAAAAAAAKCaQAAAAAAAoJpAAAAAAACwc0AAAAAAAIB1QD0K16NwJqxAPQrXo3AmrEAAAAAAgFChQAAAAACAUKFAAAAAAIBQoUAAAAAAAFiLQAAAAAAAWItAAAAAAACAbEAAAAAAAIBsQAAAAACASLtAAAAAAIBIu0AAAAAAgEi7QAAAAACASLtAAAAAAACAcUAAAAAAACBYQAAAAAAA3JRAAAAAAADclEAAAAAAAICGQAAAAAAAgIZAZmZmZmaxkUBmZmZmZrGRQGZmZmZmsZFAAAAAAAAAKUAAAAAAAIqWQAAAAAAAipZAAAAAAADImUAAAAAAAMiZQAAAAAAAyJlAAAAAAAA4eEAAAAAAADh4QGZmZmZm551AZmZmZmbnnUBmZmZmZuedQJqZmZmZkaVAmpmZmZmRpUAAAAAAABCIQAAAAAAAEIhAAAAAAADOrEAAAAAAAM6sQAAAAAAAzqxAAAAAAADOrEAAAAAAAJCKQAAAAAAAkIpACtejcD0YnkAK16NwPRieQJqZmZmZ/XhAmpmZmZn9eECamZmZmf14QDMzMzMz42dAMzMzMzPjZ0AzMzMzM5d4QDMzMzMzl3hAAAAAAICGo0AAAAAAgIajQFyPwvUofKZAXI/C9Sh8pkBcj8L1KHymQFyPwvUofKZAAAAAAABAekCamZmZmel7QJqZmZmZ6XtAAAAAAADEmEAAAAAAAMSYQAAAAAAAxJhAmpmZmZmAmUCamZmZmYCZQJqZmZmZgJlAmpmZmZmHr0CamZmZmYevQAAAAACAp65AAAAAAICnrkAAAAAAgKeuQAAAAACAp65AMzMzMzOfk0AzMzMzM5+TQDMzMzMzn5NAzczMzMzkoUDNzMzMzOShQM3MzMzM5KFAAAAAAACupUAAAAAAAK6lQM3MzMzM4IFAzczMzMzggUDNzMzMzOCBQGZmZmZmZjJAAAAAAADwmUAAAAAAAPCZQAAAAAAAgGFAAAAAAABgZ0AAAAAAAGBnQAAAAAAAYGdAAAAAAACgikAAAAAAAKCKQAAAAAAAoIpAAAAAAADwnEAAAAAAAPCcQAAAAAAA8JxAAAAAAABAhEAAAAAAAECEQAAAAAAALKBAAAAAAAAsoEAAAAAAACygQAAAAAAALKBAAAAAAAAAREAAAAAAgF3BQAAAAACAXcFAmpmZmVlxxkCamZmZWXHGQJqZmZlZccZAmpmZmVlxxkAAAAAAAAiKQAAAAAAACIpAAAAAAADQfUAAAAAAANB9QAAAAAAA0JFAAAAAAAAwhUAAAAAAADCFQM3MzMzMvG1AzczMzMy8bUAAAAAAAEeoQAAAAAAAR6hAAAAAAABHqEAAAAAAAEeoQJqZmZmZWW9AmpmZmZlZb0DXo3A9ChuQQNejcD0KG5BAAAAAAADQhkAAAAAAANCGQAAAAAAAWIpAAAAAAABYikAAAAAAACCNQAAAAAAAII1AAAAAAACQm0AAAAAAAJCbQAAAAAAAkJtAAAAAAACQm0AAAAAAANieQAAAAAAA2J5AAAAAAADYnkAAAAAAANieQM3MzMzM+KRAzczMzMz4pEDNzMzMzPikQM3MzMzM+KRAmpmZmZnHgUCamZmZmceBQJqZmZmZx4FAmpmZmZnHgUCamZmZmX2PQJqZmZmZfY9AmpmZmZl9j0AUrkfhepCXQBSuR+F6kJdAAAAAAACYikAAAAAAAJiKQAAAAACAYbJAAAAAAIBhskAAAAAAgGGyQAAAAACAYbJAAAAAAIBhskAAAAAAAJiTQAAAAAAAmJNAAAAAAACYk0AAAAAAAJiTQAAAAAAAMaRAAAAAAAAxpEAAAAAAADGkQAAAAAAAvIxAAAAAAAC8jEAAAAAAAIBwQAAAAAAAgHBAAAAAAADlsUAAAAAAAOWxQAAAAAAA5bFAAAAAAADlsUAAAAAAAHiOQAAAAAAAeI5AAAAAAAB4jkAAAAAAAHiOQAAAAAAAgGpAAAAAAAD4hkAAAAAAALavQAAAAAAAtq9AAAAAAAC2r0AAAAAAALavQAAAAAAAtq9AAAAAAABgkUAAAAAAAGCRQAAAAAAAYJFAZmZmZuYUuEBmZmZm5hS4QGZmZmbmFLhAZmZmZuYUuEBmZmZm5hS4QGZmZmbmFLhAAAAAAAAcjUAAAAAAAByNQMP1KFyPcJBAw/UoXI9wkEAAAAAAACCHQAAAAAAAIIdAAAAAAAAgh0AAAAAAAGilQAAAAAAAaKVAAAAAAABopUAAAAAAAGilQAAAAAAAUKdAAAAAAABQp0AAAAAAAFCnQAAAAAAAiINAAAAAAABEq0AAAAAAAESrQAAAAACAxqFAAAAAAIDGoUAAAAAAgMahQAAAAACAxqFAAAAAAACghEAAAAAAAKCEQGZmZmbmjaRAZmZmZuaNpEBmZmZm5o2kQAAAAAAASIRAAAAAAABIhEAAAAAAAEiEQAAAAAAAeZZAAAAAAAB5lkAAAAAAAHmWQAAAAAAAOIBAAAAAAAA4gEDNzMzMzIarQM3MzMzMhqtAzczMzMyGq0DNzMzMzIarQM3MzMzMhqtAAAAAAAAogkAAAAAAACiCQAAAAAAAOIBAAAAAAAA4gEAAAAAAAKBxQAAAAAAAoHFAAAAAAIDY0EAAAAAAgNjQQGZmZmZm1pZAZmZmZmbWlkBmZmZmZtaWQJqZmZmZmVhAZmZmZmZSn0BmZmZmZlKfQGZmZmZmUp9AAAAAAAB4mUAAAAAAAHiZQAAAAAAAeJlAAAAAAAB4mUAAAAAAAABkQAAAAAAAAGRAzczMzMxGoEDNzMzMzEagQM3MzMzMRqBAmpmZmZntoECamZmZme2gQJqZmZmZ7aBAmpmZmZntoEDNzMzMzAx1QM3MzMzMDHVAAAAAAABgc0AAAAAAAMyGQAAAAAAAzIZAAAAAAADMhkAAAAAAAKiMQAAAAAAAqIxAAAAAAABMoEAAAAAAAEygQAAAAAAAUJlAZmZmZmYag0BmZmZmZhqDQGZmZmZmGoNAAAAAAABMnUAAAAAAAEydQAAAAAAATJ1AAAAAAADAYkAzMzMzM+OOQDMzMzMz445AMzMzMzPjjkAAAAAAAABCQGZmZmZmqpZAZmZmZmaqlkBmZmZmZqqWQAAAAAAA5JJAAAAAAADkkkAAAAAAAOSSQAAAAAAA5JJAAAAAAABvqEAAAAAAAG+oQAAAAAAAb6hAAAAAAACAUUAAAAAAAOiCQAAAAAAA6IJAAAAAAAA6xkAAAAAAADrGQM3MzMzM4IpAzczMzMzgikDNzMzMzOCKQJqZmZmZRXhAAAAAAAAwoUCPwvUoHH61QI/C9SgcfrVAj8L1KBx+tUCPwvUoHH61QI/C9SgcfrVAAAAAAACkpkAAAAAAAKSmQAAAAAAApKZAZmZmZmbruEBmZmZmZuu4QGZmZmZm67hAZmZmZmbruEAAAAAAAHSHQAAAAAAAdIdAhetRuJ4pxUCF61G4ninFQAAAAAAAAD5AAAAAAAAAYkAAAAAAAIBGQAAAAAAANI1AAAAAAAA0jUBmZmZmZr6PQGZmZmZmvo9AZmZmZmYgjUBmZmZmZiCNQGZmZmZmII1AAAAAAAARnkAAAAAAABGeQAAAAAAAgHZAAAAAAAC4ekAAAAAAACBbQAAAAAAA0IVAAAAAAADQhUAAAAAAAPCEQAAAAAAA8IRAAAAAAADwhEBmZmZmZk58QGZmZmZmTnxAZmZmZmZOfEAAAAAAANCKQAAAAAAA0IpAAAAAAADQikAzMzMzsyXAQDMzMzOzJcBAAAAAAAD2jUAAAAAAAPaNQAAAAAAA9o1AAAAAAADMgEAAAAAAANyAQAAAAAAA3IBAAAAAAADcgECamZmZmXWFQJqZmZmZdYVAmpmZmZl1hUAK16NwPd52QArXo3A93nZAAAAAAAAonkAAAAAAACieQDMzMzMzi5FAMzMzMzOLkUAzMzMzM4uRQAAAAAAAYHhAAAAAAABAnkAAAAAAAECeQAAAAAAANIdAAAAAAAA0h0AAAAAAAECNQAAAAAAAQI1AAAAAAABAjUAAAAAAAMqfQAAAAAAAyp9AAAAAAADKn0AAAAAAAHiBQAAAAAAAeIFAMzMzMzMTgEAzMzMzMxOAQDMzMzMzE4BAMzMzMzMTgEAAAAAAAACJQAAAAAAAAIlAAAAAAAAAiUAAAAAAADBhQAAAAAAAMGFAAAAAAABbkkAAAAAAAFuSQAAAAAAAW5JAAAAAAAAuo0AAAAAAAC6jQAAAAAAALqNAAAAAAAAuo0AAAAAAACiKQAAAAAAAKIpAAAAAAAAWnkAAAAAAABaeQAAAAAAAFp5AAAAAAAAWnkDNzMzMzMSMQM3MzMzMxIxAAAAAAABAf0AAAAAAAOCFQAAAAAAA4IVAAAAAAADghUAAAAAAANCBQGZmZmZmJoRAZmZmZmYmhEAAAAAAAHWsQAAAAAAAdaxAAAAAAAB1rEAAAAAAAHWsQAAAAAAAcIdAAAAAAABwh0AAAAAAAIB2QAAAAAAAgHZAAAAAAAChskAAAAAAAKGyQAAAAAAAobJAAAAAAAChskAAAAAAAICBQAAAAAAAOIZAAAAAAAA4hkAAAAAAADiGQGZmZmZmzJFAZmZmZmbMkUBmZmZmZsyRQAAAAAAAoG5AAAAAAACgbkAAAAAAAP6VQAAAAAAA/pVAAAAAAAD+lUAAAAAAAIBrQAAAAACAdKJAAAAAAIB0okAAAAAAgHSiQAAAAAAARrFAAAAAAABGsUAAAAAAAEaxQAAAAAAARrFAAAAAAACAW0BmZmZmZi5+QGZmZmZmLn5AZmZmZmYufkAzMzMzM7N+QDMzMzMzs35AAAAAAABDskAAAAAAAEOyQGZmZmZmuJ1AZmZmZma4nUBmZmZmZridQGZmZmZmuJ1AAAAAAABAV0AAAAAAACiFQAAAAAAAKIVAAAAAAAAohUDNzMzMzIqbQM3MzMzMiptAzczMzMyKm0AAAAAAAGiIQAAAAAAAaIhAAAAAAABoiEAAAAAAAGBjQJqZmZmZSXFAmpmZmZlJcUAAAAAAAIiRQAAAAAAAiJFAAAAAAAAArEAAAAAAAACsQAAAAAAAAKxAAAAAAAAArEAAAAAAAACsQAAAAAAAAFFAAAAAAAAJoEAAAAAAAAmgQAAAAAAACaBAAAAAAACAikBmZmZmZp6TQGZmZmZmnpNAZmZmZmaek0AzMzMzM3OMQDMzMzMzc4xAAAAAAAAAlkAAAAAAAACWQAAAAAAAAJZAAAAAAAAAW0AAAAAAAIBxQArXo3A9FJtAAAAAAABwb0AAAAAAAHBvQM3MzMzMOHJAzczMzMw4ckDNzMzMzDhyQAAAAAAAcHtAAAAAAABshkAAAAAAAGyGQAAAAAAAgIxAAAAAAAByoUAAAAAAAHKhQAAAAAAAcqFAAAAAAAByoUDNzMzMzHKXQM3MzMzMcpdAzczMzMxyl0DNzMzMzHKXQAAAAACAzbJAAAAAAIDNskAAAAAAgM2yQAAAAACAzbJAAAAAAIDNskAAAAAAgM2yQAAAAAAAYHNAAAAAAADhzkAAAAAAALCPQAAAAAAAsI9AAAAAAADkiEAAAAAAAOSIQAAAAAAAR5xAAAAAAABHnEAAAAAAAEecQGZmZmZmkKFAZmZmZmaQoUBmZmZmZpChQAAAAAAAWKFAAAAAAABYoUAAAAAAAFihQAAAAAAAWKFAAAAAAACopUAAAAAAAKilQAAAAAAAqKVAAAAAAAB4rUAAAAAAAHitQGZmZmZmJpVAZmZmZmYmlUBmZmZmZiaVQAAAAAAAQ7NAAAAAAABDs0AAAAAAAEOzQAAAAAAAQ7NAAAAAAABspkAAAAAAAGymQAAAAAAAbKZAZmZmZmZmUUAAAAAAQH+5QAAAAABAf7lAAAAAAADwjkAAAAAAALCSQAAAAAAAsJJAAAAAAACAgUAAAAAAAPCeQAAAAAAA8J5AAAAAAADwnkAAAAAAAHCFQAAAAAAAcIVAAAAAAABwhUAAAAAAAHCFQAAAAAAAtJNAAAAAAAC0k0AAAAAAALSTQAAAAAAAzJBAAAAAAADMkEAAAAAAAMyQQAAAAAAAoqVAAAAAAACipUAAAAAAAKKlQAAAAAAAoqVAAAAAAAC4nUAAAAAAALidQAAAAAAAuJ1AAAAAAAC4nUAAAAAAAGB0QAAAAAAAYHRAAAAAAABgdECuR+F6FHZyQK5H4XoUdnJAAAAAAABQgkAAAAAAAFCCQOF6FK5HeXhA4XoUrkd5eEDNzMzMzJOkQM3MzMzMk6RAzczMzMyTpEAAAAAAgCezQAAAAACAJ7NAAAAAAIAns0AAAAAAAPCFQAAAAAAA8IVAAAAAAADwhUAAAAAAACiEQAAAAAAAKIRAAAAAAAAAjkAAAAAAAACOQAAAAAAAPKdAAAAAAAA8p0AAAAAAADynQAAAAAAAkHZAAAAAAACQdkAAAAAAAJB2QAAAAAAAkHZAMzMzMzPjcEDNzMzMzHKDQM3MzMzMcoNAAAAAAAC4fkAAAAAAALh+QAAAAAAAXrpAAAAAAABeukAAAAAAAF66QAAAAAAAnJhAAAAAAACcmEAAAAAAAJyYQAAAAAAAAFNAAAAAAAAAU0AAAAAAAECHQArXo3B9HbtACtejcH0du0AK16NwfR27QArXo3B9HbtACtejcH0du0AAAAAAAOiVQAAAAAAA6JVAAAAAAABwl0AAAAAAAHCXQArXo3A9u55ACtejcD27nkAK16NwPbueQArXo3A9u55AAAAAAADAckAAAAAAAMByQAAAAAAAGJBAAAAAAAAYkEAzMzMzM0mSQDMzMzMzSZJAAAAAAADgoEAAAAAAAOCgQDMzMzMzG5RAMzMzMzMblEAzMzMz8+DPQDMzMzPz4M9AMzMzM/Pgz0AzMzMz8+DPQAAAAAAAs6JAAAAAAACzokAAAAAAALOiQAAAAAAAs6JAAAAAAACzokAAAAAAQGPBQAAAAABAY8FAAAAAAEBjwUAAAAAAABCsQAAAAAAAEKxAMzMzMzNTgUAzMzMzM1OBQDMzMzMzU4FAAAAAAABqm0AAAAAAAGqbQAAAAAAAaptAAAAAAABqm0AAAAAAAHCaQAAAAAAAcJpAAAAAAAAATkAAAAAAAHiHQAAAAAAAeIdAAAAAAAB4h0AAAAAAACSoQAAAAAAAJKhAAAAAAAAkqEAAAAAAACSoQAAAAAAAAGlAAAAAAAB8nUAAAAAAAHydQAAAAAAAXHlAAAAAAABceUAAAAAAAEBqQM3MzMzMfIJAAAAAAAB2lEAAAAAAAHaUQAAAAAAAcJhAAAAAAABwmEAAAAAAAHCYQAAAAAAACpFAAAAAAAAKkUAAAAAAAGiAQAAAAAAAYHVAAAAAAABgdUAAAAAAACCMQAAAAAAAgEZAAAAAAAAEmkAAAAAAAASaQAAAAACAlaxAAAAAAICVrEAAAAAAgJWsQAAAAAAAEHNAAAAAAAAQc0AAAAAAAP6aQAAAAAAA/ppAAAAAAAD+mkAAAAAAAP6aQAAAAAAAOK1AAAAAAAA4rUAAAAAAADitQAAAAAAAgEZAAAAAAADQikAAAAAAANCKQAAAAAAA0IpAAAAAAAC4nEAAAAAAALicQAAAAAAAuJxAAAAAAACgcEAAAAAAAKBwQAAAAAAA4H9AAAAAAADAf0AAAAAAAMB/QAAAAAAAlpZAAAAAAACWlkAAAAAAAJaWQM3MzMxMcrJAzczMzExyskDNzMzMTHKyQM3MzMxMcrJAzczMzExyskBSuB6F65FvQFK4HoXrkW9AAAAAAAAGjUAAAAAAAAaNQAAAAAAABo1AZmZmZma2VUCamZmZmaGiQJqZmZmZoaJAmpmZmZmhokAAAAAAAIB2QAAAAAAARp1AAAAAAABGnUAAAAAAAEadQAAAAAAARp1AAAAAAADgf0AAAAAAAOB/QAAAAAAAYrRAAAAAAABitEAAAAAAAGK0QAAAAAAAYrRAAAAAAADAckAAAAAAAMByQJqZmZmZiW5AAAAAAABQgkAAAAAAAFCCQAAAAAAAUIJAAAAAAACEkEAAAAAAAISQQAAAAAAAhJBAZmZmZmZ6lUBmZmZmZnqVQGZmZmZmepVAZmZmZmZ6lUBmZmZmZnqVQGZmZmZmepVAZmZmZmZ6lUBmZmZmZnqVQGZmZmZmepVAZmZmZmZ6lUBmZmZmZnqVQGZmZmZmepVAZmZmZmZ6lUBmZmZmZnqVQGZmZmZmepVAZmZmZmZ6lUBmZmZmZnqVQGZmZmZmepVAZmZmZmZ6lUBmZmZmZnqVQGZmZmZmepVAZmZmZmZ6lUBmZmZmZnqVQGZmZmZmepVAZmZmZmZ6lUA=",
          "dtype": "f8"
         },
         "yaxis": "y"
        }
       ],
       "layout": {
        "legend": {
         "title": {
          "text": "variable"
         },
         "tracegroupgap": 0
        },
        "template": {
         "data": {
          "bar": [
           {
            "error_x": {
             "color": "#2a3f5f"
            },
            "error_y": {
             "color": "#2a3f5f"
            },
            "marker": {
             "line": {
              "color": "#E5ECF6",
              "width": 0.5
             },
             "pattern": {
              "fillmode": "overlay",
              "size": 10,
              "solidity": 0.2
             }
            },
            "type": "bar"
           }
          ],
          "barpolar": [
           {
            "marker": {
             "line": {
              "color": "#E5ECF6",
              "width": 0.5
             },
             "pattern": {
              "fillmode": "overlay",
              "size": 10,
              "solidity": 0.2
             }
            },
            "type": "barpolar"
           }
          ],
          "carpet": [
           {
            "aaxis": {
             "endlinecolor": "#2a3f5f",
             "gridcolor": "white",
             "linecolor": "white",
             "minorgridcolor": "white",
             "startlinecolor": "#2a3f5f"
            },
            "baxis": {
             "endlinecolor": "#2a3f5f",
             "gridcolor": "white",
             "linecolor": "white",
             "minorgridcolor": "white",
             "startlinecolor": "#2a3f5f"
            },
            "type": "carpet"
           }
          ],
          "choropleth": [
           {
            "colorbar": {
             "outlinewidth": 0,
             "ticks": ""
            },
            "type": "choropleth"
           }
          ],
          "contour": [
           {
            "colorbar": {
             "outlinewidth": 0,
             "ticks": ""
            },
            "colorscale": [
             [
              0,
              "#0d0887"
             ],
             [
              0.1111111111111111,
              "#46039f"
             ],
             [
              0.2222222222222222,
              "#7201a8"
             ],
             [
              0.3333333333333333,
              "#9c179e"
             ],
             [
              0.4444444444444444,
              "#bd3786"
             ],
             [
              0.5555555555555556,
              "#d8576b"
             ],
             [
              0.6666666666666666,
              "#ed7953"
             ],
             [
              0.7777777777777778,
              "#fb9f3a"
             ],
             [
              0.8888888888888888,
              "#fdca26"
             ],
             [
              1,
              "#f0f921"
             ]
            ],
            "type": "contour"
           }
          ],
          "contourcarpet": [
           {
            "colorbar": {
             "outlinewidth": 0,
             "ticks": ""
            },
            "type": "contourcarpet"
           }
          ],
          "heatmap": [
           {
            "colorbar": {
             "outlinewidth": 0,
             "ticks": ""
            },
            "colorscale": [
             [
              0,
              "#0d0887"
             ],
             [
              0.1111111111111111,
              "#46039f"
             ],
             [
              0.2222222222222222,
              "#7201a8"
             ],
             [
              0.3333333333333333,
              "#9c179e"
             ],
             [
              0.4444444444444444,
              "#bd3786"
             ],
             [
              0.5555555555555556,
              "#d8576b"
             ],
             [
              0.6666666666666666,
              "#ed7953"
             ],
             [
              0.7777777777777778,
              "#fb9f3a"
             ],
             [
              0.8888888888888888,
              "#fdca26"
             ],
             [
              1,
              "#f0f921"
             ]
            ],
            "type": "heatmap"
           }
          ],
          "histogram": [
           {
            "marker": {
             "pattern": {
              "fillmode": "overlay",
              "size": 10,
              "solidity": 0.2
             }
            },
            "type": "histogram"
           }
          ],
          "histogram2d": [
           {
            "colorbar": {
             "outlinewidth": 0,
             "ticks": ""
            },
            "colorscale": [
             [
              0,
              "#0d0887"
             ],
             [
              0.1111111111111111,
              "#46039f"
             ],
             [
              0.2222222222222222,
              "#7201a8"
             ],
             [
              0.3333333333333333,
              "#9c179e"
             ],
             [
              0.4444444444444444,
              "#bd3786"
             ],
             [
              0.5555555555555556,
              "#d8576b"
             ],
             [
              0.6666666666666666,
              "#ed7953"
             ],
             [
              0.7777777777777778,
              "#fb9f3a"
             ],
             [
              0.8888888888888888,
              "#fdca26"
             ],
             [
              1,
              "#f0f921"
             ]
            ],
            "type": "histogram2d"
           }
          ],
          "histogram2dcontour": [
           {
            "colorbar": {
             "outlinewidth": 0,
             "ticks": ""
            },
            "colorscale": [
             [
              0,
              "#0d0887"
             ],
             [
              0.1111111111111111,
              "#46039f"
             ],
             [
              0.2222222222222222,
              "#7201a8"
             ],
             [
              0.3333333333333333,
              "#9c179e"
             ],
             [
              0.4444444444444444,
              "#bd3786"
             ],
             [
              0.5555555555555556,
              "#d8576b"
             ],
             [
              0.6666666666666666,
              "#ed7953"
             ],
             [
              0.7777777777777778,
              "#fb9f3a"
             ],
             [
              0.8888888888888888,
              "#fdca26"
             ],
             [
              1,
              "#f0f921"
             ]
            ],
            "type": "histogram2dcontour"
           }
          ],
          "mesh3d": [
           {
            "colorbar": {
             "outlinewidth": 0,
             "ticks": ""
            },
            "type": "mesh3d"
           }
          ],
          "parcoords": [
           {
            "line": {
             "colorbar": {
              "outlinewidth": 0,
              "ticks": ""
             }
            },
            "type": "parcoords"
           }
          ],
          "pie": [
           {
            "automargin": true,
            "type": "pie"
           }
          ],
          "scatter": [
           {
            "fillpattern": {
             "fillmode": "overlay",
             "size": 10,
             "solidity": 0.2
            },
            "type": "scatter"
           }
          ],
          "scatter3d": [
           {
            "line": {
             "colorbar": {
              "outlinewidth": 0,
              "ticks": ""
             }
            },
            "marker": {
             "colorbar": {
              "outlinewidth": 0,
              "ticks": ""
             }
            },
            "type": "scatter3d"
           }
          ],
          "scattercarpet": [
           {
            "marker": {
             "colorbar": {
              "outlinewidth": 0,
              "ticks": ""
             }
            },
            "type": "scattercarpet"
           }
          ],
          "scattergeo": [
           {
            "marker": {
             "colorbar": {
              "outlinewidth": 0,
              "ticks": ""
             }
            },
            "type": "scattergeo"
           }
          ],
          "scattergl": [
           {
            "marker": {
             "colorbar": {
              "outlinewidth": 0,
              "ticks": ""
             }
            },
            "type": "scattergl"
           }
          ],
          "scattermap": [
           {
            "marker": {
             "colorbar": {
              "outlinewidth": 0,
              "ticks": ""
             }
            },
            "type": "scattermap"
           }
          ],
          "scattermapbox": [
           {
            "marker": {
             "colorbar": {
              "outlinewidth": 0,
              "ticks": ""
             }
            },
            "type": "scattermapbox"
           }
          ],
          "scatterpolar": [
           {
            "marker": {
             "colorbar": {
              "outlinewidth": 0,
              "ticks": ""
             }
            },
            "type": "scatterpolar"
           }
          ],
          "scatterpolargl": [
           {
            "marker": {
             "colorbar": {
              "outlinewidth": 0,
              "ticks": ""
             }
            },
            "type": "scatterpolargl"
           }
          ],
          "scatterternary": [
           {
            "marker": {
             "colorbar": {
              "outlinewidth": 0,
              "ticks": ""
             }
            },
            "type": "scatterternary"
           }
          ],
          "surface": [
           {
            "colorbar": {
             "outlinewidth": 0,
             "ticks": ""
            },
            "colorscale": [
             [
              0,
              "#0d0887"
             ],
             [
              0.1111111111111111,
              "#46039f"
             ],
             [
              0.2222222222222222,
              "#7201a8"
             ],
             [
              0.3333333333333333,
              "#9c179e"
             ],
             [
              0.4444444444444444,
              "#bd3786"
             ],
             [
              0.5555555555555556,
              "#d8576b"
             ],
             [
              0.6666666666666666,
              "#ed7953"
             ],
             [
              0.7777777777777778,
              "#fb9f3a"
             ],
             [
              0.8888888888888888,
              "#fdca26"
             ],
             [
              1,
              "#f0f921"
             ]
            ],
            "type": "surface"
           }
          ],
          "table": [
           {
            "cells": {
             "fill": {
              "color": "#EBF0F8"
             },
             "line": {
              "color": "white"
             }
            },
            "header": {
             "fill": {
              "color": "#C8D4E3"
             },
             "line": {
              "color": "white"
             }
            },
            "type": "table"
           }
          ]
         },
         "layout": {
          "annotationdefaults": {
           "arrowcolor": "#2a3f5f",
           "arrowhead": 0,
           "arrowwidth": 1
          },
          "autotypenumbers": "strict",
          "coloraxis": {
           "colorbar": {
            "outlinewidth": 0,
            "ticks": ""
           }
          },
          "colorscale": {
           "diverging": [
            [
             0,
             "#8e0152"
            ],
            [
             0.1,
             "#c51b7d"
            ],
            [
             0.2,
             "#de77ae"
            ],
            [
             0.3,
             "#f1b6da"
            ],
            [
             0.4,
             "#fde0ef"
            ],
            [
             0.5,
             "#f7f7f7"
            ],
            [
             0.6,
             "#e6f5d0"
            ],
            [
             0.7,
             "#b8e186"
            ],
            [
             0.8,
             "#7fbc41"
            ],
            [
             0.9,
             "#4d9221"
            ],
            [
             1,
             "#276419"
            ]
           ],
           "sequential": [
            [
             0,
             "#0d0887"
            ],
            [
             0.1111111111111111,
             "#46039f"
            ],
            [
             0.2222222222222222,
             "#7201a8"
            ],
            [
             0.3333333333333333,
             "#9c179e"
            ],
            [
             0.4444444444444444,
             "#bd3786"
            ],
            [
             0.5555555555555556,
             "#d8576b"
            ],
            [
             0.6666666666666666,
             "#ed7953"
            ],
            [
             0.7777777777777778,
             "#fb9f3a"
            ],
            [
             0.8888888888888888,
             "#fdca26"
            ],
            [
             1,
             "#f0f921"
            ]
           ],
           "sequentialminus": [
            [
             0,
             "#0d0887"
            ],
            [
             0.1111111111111111,
             "#46039f"
            ],
            [
             0.2222222222222222,
             "#7201a8"
            ],
            [
             0.3333333333333333,
             "#9c179e"
            ],
            [
             0.4444444444444444,
             "#bd3786"
            ],
            [
             0.5555555555555556,
             "#d8576b"
            ],
            [
             0.6666666666666666,
             "#ed7953"
            ],
            [
             0.7777777777777778,
             "#fb9f3a"
            ],
            [
             0.8888888888888888,
             "#fdca26"
            ],
            [
             1,
             "#f0f921"
            ]
           ]
          },
          "colorway": [
           "#636efa",
           "#EF553B",
           "#00cc96",
           "#ab63fa",
           "#FFA15A",
           "#19d3f3",
           "#FF6692",
           "#B6E880",
           "#FF97FF",
           "#FECB52"
          ],
          "font": {
           "color": "#2a3f5f"
          },
          "geo": {
           "bgcolor": "white",
           "lakecolor": "white",
           "landcolor": "#E5ECF6",
           "showlakes": true,
           "showland": true,
           "subunitcolor": "white"
          },
          "hoverlabel": {
           "align": "left"
          },
          "hovermode": "closest",
          "mapbox": {
           "style": "light"
          },
          "paper_bgcolor": "white",
          "plot_bgcolor": "#E5ECF6",
          "polar": {
           "angularaxis": {
            "gridcolor": "white",
            "linecolor": "white",
            "ticks": ""
           },
           "bgcolor": "#E5ECF6",
           "radialaxis": {
            "gridcolor": "white",
            "linecolor": "white",
            "ticks": ""
           }
          },
          "scene": {
           "xaxis": {
            "backgroundcolor": "#E5ECF6",
            "gridcolor": "white",
            "gridwidth": 2,
            "linecolor": "white",
            "showbackground": true,
            "ticks": "",
            "zerolinecolor": "white"
           },
           "yaxis": {
            "backgroundcolor": "#E5ECF6",
            "gridcolor": "white",
            "gridwidth": 2,
            "linecolor": "white",
            "showbackground": true,
            "ticks": "",
            "zerolinecolor": "white"
           },
           "zaxis": {
            "backgroundcolor": "#E5ECF6",
            "gridcolor": "white",
            "gridwidth": 2,
            "linecolor": "white",
            "showbackground": true,
            "ticks": "",
            "zerolinecolor": "white"
           }
          },
          "shapedefaults": {
           "line": {
            "color": "#2a3f5f"
           }
          },
          "ternary": {
           "aaxis": {
            "gridcolor": "white",
            "linecolor": "white",
            "ticks": ""
           },
           "baxis": {
            "gridcolor": "white",
            "linecolor": "white",
            "ticks": ""
           },
           "bgcolor": "#E5ECF6",
           "caxis": {
            "gridcolor": "white",
            "linecolor": "white",
            "ticks": ""
           }
          },
          "title": {
           "x": 0.05
          },
          "xaxis": {
           "automargin": true,
           "gridcolor": "white",
           "linecolor": "white",
           "ticks": "",
           "title": {
            "standoff": 15
           },
           "zerolinecolor": "white",
           "zerolinewidth": 2
          },
          "yaxis": {
           "automargin": true,
           "gridcolor": "white",
           "linecolor": "white",
           "ticks": "",
           "title": {
            "standoff": 15
           },
           "zerolinecolor": "white",
           "zerolinewidth": 2
          }
         }
        },
        "title": {
         "text": "Sales Over The Months"
        },
        "xaxis": {
         "anchor": "y",
         "domain": [
          0,
          1
         ],
         "title": {
          "text": "orderdate"
         }
        },
        "yaxis": {
         "anchor": "x",
         "domain": [
          0,
          1
         ],
         "title": {
          "text": "value"
         }
        }
       }
      }
     },
     "metadata": {},
     "output_type": "display_data"
    }
   ],
   "source": [
    "# Conduct a comprehensive analysis of sales over the months to understand monthly performance\n",
    "date = df[['orderdate','totalamount']]\n",
    "date = date.set_index(['orderdate'])\n",
    "\n",
    "fig = px.line(date, title= 'Sales Over The Months')\n",
    "fig.show()"
   ]
  },
  {
   "cell_type": "code",
   "execution_count": 42,
   "id": "4602d916",
   "metadata": {
    "execution": {
     "iopub.execute_input": "2025-03-06T01:07:23.259498Z",
     "iopub.status.busy": "2025-03-06T01:07:23.259158Z",
     "iopub.status.idle": "2025-03-06T01:07:23.307610Z",
     "shell.execute_reply": "2025-03-06T01:07:23.306965Z"
    },
    "papermill": {
     "duration": 0.066254,
     "end_time": "2025-03-06T01:07:23.310644",
     "exception": false,
     "start_time": "2025-03-06T01:07:23.244390",
     "status": "completed"
    },
    "tags": []
   },
   "outputs": [
    {
     "data": {
      "application/vnd.plotly.v1+json": {
       "config": {
        "plotlyServerURL": "https://plot.ly"
       },
       "data": [
        {
         "customdata": {
          "bdata": "GDYgMzAyLDMrKiUnJiQpIi8gJh4hJjMfHCAgGy4dISceISYeHycQKCclGyAYHhgkFREOFxUOEwwNFAkKFBYSDw4dBQwKEg4NBgoIBgY=",
          "dtype": "i1",
          "shape": "77, 1"
         },
         "hovertemplate": "productname=%{x}<br>Total Amount=%{y}<br>unitprice=%{customdata[0]}<extra></extra>",
         "legendgroup": "",
         "marker": {
          "color": "#636efa",
          "pattern": {
           "shape": ""
          }
         },
         "name": "",
         "orientation": "v",
         "showlegend": false,
         "textposition": "auto",
         "type": "bar",
         "x": [
          "Côte de Blaye",
          "Raclette Courdavault",
          "Thüringer Rostbratwurst",
          "Camembert Pierrot",
          "Tarte au sucre",
          "Gnocchi di nonna Alice",
          "Chang",
          "Gorgonzola Telino",
          "Pavlova",
          "Flotemysost",
          "Alice Mutton",
          "Manjimup Dried Apples",
          "Mozzarella di Giovanni",
          "Steeleye Stout",
          "Boston Crab Meat",
          "Scottish Longbreads",
          "Jack's New England Clam Chowder",
          "Gumb?r Gummib?rchen",
          "Queso Cabrales",
          "Wimmers gute Semmelkn?del",
          "R?ssle Sauerkraut",
          "Original Frankfurter grüne So?e",
          "Guaran? Fant?stica",
          "Inlagd Sill",
          "Ipoh Coffee",
          "Nord-Ost Matjeshering",
          "Louisiana Fiery Hot Pepper Sauce",
          "Carnarvon Tigers",
          "Rh?nbr?u Klosterbier",
          "Uncle Bob's Organic Dried Pears",
          "Pâté chinois",
          "Lakkalik??ri",
          "Chartreuse verte",
          "Ikura",
          "Chai",
          "Perth Pasties",
          "Gudbrandsdalsost",
          "Sir Rodney's Scones",
          "Sir Rodney's Marmalade",
          "Konbu",
          "Outback Lager",
          "Teatime Chocolate Biscuits",
          "Spegesild",
          "Geitost",
          "Gula Malacca",
          "Singaporean Hokkien Fried Mee",
          "Sirop d'érable",
          "Tourtière",
          "Maxilaku",
          "Vegie-spread",
          "Rogede sild",
          "Ravioli Angelo",
          "Zaanse koeken",
          "Queso Manchego La Pastora",
          "Sasquatch Ale",
          "Aniseed Syrup",
          "Northwoods Cranberry Sauce",
          "Tunnbr?d",
          "Schoggi Schokolade",
          "Chef Anton's Gumbo Mix",
          "Chef Anton's Cajun Seasoning",
          "Tofu",
          "Escargots de Bourgogne",
          "Mascarpone Fabioli",
          "R?d Kaviar",
          "Filo Mix",
          "Mishi Kobe Niku",
          "Grandma's Boysenberry Spread",
          "Valkoinen suklaa",
          "NuNuCa Nu?-Nougat-Creme",
          "Gustaf's Kn?ckebr?d",
          "Longlife Tofu",
          "Gravad lax",
          "Laughing Lumberjack Lager",
          "Louisiana Hot Spiced Okra",
          "Genen Shouyu",
          "Chocolade"
         ],
         "xaxis": "x",
         "y": {
          "bdata": "MzMzM51nBkFcj8L1yhQCQetRuB7PuQBBH4XrUVpGAEFmZmZmYn/9QJqZmZl1xvpAPQrXowAr+EAzMzMzo132QAAAAABoevRAj8L1KEhl9EB7FK5HEUL0QKRwPQq3DPRApHA9Ci/w80CuR+F6MHDzQGZmZmYuIfNAMzMzM8MB80D2KFyPEr/yQM3MzMwcufJASOF6FOqL8UBI4XoU4q/wQD4K16OsRvBAexSuR1Ee8ECF61G4JrnvQB+F61GoTu9AZmZmZp4470ApXI/CnTbvQJDC9SgMBe9A16NwPVr57kBI4XoU3tnuQAAAAABg5u1AzczMzGyl7UDD9Shcd3ftQJmZmZlRL+1AmpmZmXEA7UBcj8L1APXsQIXrUbiuSexAw/UoXF8b7ECamZmZwSXrQHsUrkdB5epAMzMzM6vR6UDC9ShctyPpQM3MzMzU/OhAzczMzKTQ6EAfhetR2IXoQD0K16Mg3+dAj8L1KAT55kCamZmZMdPlQI/C9SjsJ+VAMzMzMyNT40AAAAAAaODhQAAAAADgz+BAzczMzExt4EAzMzMzqxfgQM3MzMzcdt9AAAAAAJDj3kD2KFyP0rPeQD0K16PQL95AzczMzFzJ3ECamZmZWdvbQMzMzMx8u9tAAAAAAGCB20AzMzMzU33bQM3MzMz8D9tAzczMzMw62UDXo3A92s/WQGZmZmamcNVAAAAAAGBw1UCamZmZqTnUQKRwPQp3BNRAZmZmZtas00BmZmZm1nrSQAAAAACgW81AzczMzEz7y0AAAAAAIE3AQAAAAAAgJsBAAAAAAADDvEBmZmZmJo60QA==",
          "dtype": "f8"
         },
         "yaxis": "y"
        }
       ],
       "layout": {
        "barmode": "relative",
        "legend": {
         "tracegroupgap": 0
        },
        "template": {
         "data": {
          "bar": [
           {
            "error_x": {
             "color": "#2a3f5f"
            },
            "error_y": {
             "color": "#2a3f5f"
            },
            "marker": {
             "line": {
              "color": "#E5ECF6",
              "width": 0.5
             },
             "pattern": {
              "fillmode": "overlay",
              "size": 10,
              "solidity": 0.2
             }
            },
            "type": "bar"
           }
          ],
          "barpolar": [
           {
            "marker": {
             "line": {
              "color": "#E5ECF6",
              "width": 0.5
             },
             "pattern": {
              "fillmode": "overlay",
              "size": 10,
              "solidity": 0.2
             }
            },
            "type": "barpolar"
           }
          ],
          "carpet": [
           {
            "aaxis": {
             "endlinecolor": "#2a3f5f",
             "gridcolor": "white",
             "linecolor": "white",
             "minorgridcolor": "white",
             "startlinecolor": "#2a3f5f"
            },
            "baxis": {
             "endlinecolor": "#2a3f5f",
             "gridcolor": "white",
             "linecolor": "white",
             "minorgridcolor": "white",
             "startlinecolor": "#2a3f5f"
            },
            "type": "carpet"
           }
          ],
          "choropleth": [
           {
            "colorbar": {
             "outlinewidth": 0,
             "ticks": ""
            },
            "type": "choropleth"
           }
          ],
          "contour": [
           {
            "colorbar": {
             "outlinewidth": 0,
             "ticks": ""
            },
            "colorscale": [
             [
              0,
              "#0d0887"
             ],
             [
              0.1111111111111111,
              "#46039f"
             ],
             [
              0.2222222222222222,
              "#7201a8"
             ],
             [
              0.3333333333333333,
              "#9c179e"
             ],
             [
              0.4444444444444444,
              "#bd3786"
             ],
             [
              0.5555555555555556,
              "#d8576b"
             ],
             [
              0.6666666666666666,
              "#ed7953"
             ],
             [
              0.7777777777777778,
              "#fb9f3a"
             ],
             [
              0.8888888888888888,
              "#fdca26"
             ],
             [
              1,
              "#f0f921"
             ]
            ],
            "type": "contour"
           }
          ],
          "contourcarpet": [
           {
            "colorbar": {
             "outlinewidth": 0,
             "ticks": ""
            },
            "type": "contourcarpet"
           }
          ],
          "heatmap": [
           {
            "colorbar": {
             "outlinewidth": 0,
             "ticks": ""
            },
            "colorscale": [
             [
              0,
              "#0d0887"
             ],
             [
              0.1111111111111111,
              "#46039f"
             ],
             [
              0.2222222222222222,
              "#7201a8"
             ],
             [
              0.3333333333333333,
              "#9c179e"
             ],
             [
              0.4444444444444444,
              "#bd3786"
             ],
             [
              0.5555555555555556,
              "#d8576b"
             ],
             [
              0.6666666666666666,
              "#ed7953"
             ],
             [
              0.7777777777777778,
              "#fb9f3a"
             ],
             [
              0.8888888888888888,
              "#fdca26"
             ],
             [
              1,
              "#f0f921"
             ]
            ],
            "type": "heatmap"
           }
          ],
          "histogram": [
           {
            "marker": {
             "pattern": {
              "fillmode": "overlay",
              "size": 10,
              "solidity": 0.2
             }
            },
            "type": "histogram"
           }
          ],
          "histogram2d": [
           {
            "colorbar": {
             "outlinewidth": 0,
             "ticks": ""
            },
            "colorscale": [
             [
              0,
              "#0d0887"
             ],
             [
              0.1111111111111111,
              "#46039f"
             ],
             [
              0.2222222222222222,
              "#7201a8"
             ],
             [
              0.3333333333333333,
              "#9c179e"
             ],
             [
              0.4444444444444444,
              "#bd3786"
             ],
             [
              0.5555555555555556,
              "#d8576b"
             ],
             [
              0.6666666666666666,
              "#ed7953"
             ],
             [
              0.7777777777777778,
              "#fb9f3a"
             ],
             [
              0.8888888888888888,
              "#fdca26"
             ],
             [
              1,
              "#f0f921"
             ]
            ],
            "type": "histogram2d"
           }
          ],
          "histogram2dcontour": [
           {
            "colorbar": {
             "outlinewidth": 0,
             "ticks": ""
            },
            "colorscale": [
             [
              0,
              "#0d0887"
             ],
             [
              0.1111111111111111,
              "#46039f"
             ],
             [
              0.2222222222222222,
              "#7201a8"
             ],
             [
              0.3333333333333333,
              "#9c179e"
             ],
             [
              0.4444444444444444,
              "#bd3786"
             ],
             [
              0.5555555555555556,
              "#d8576b"
             ],
             [
              0.6666666666666666,
              "#ed7953"
             ],
             [
              0.7777777777777778,
              "#fb9f3a"
             ],
             [
              0.8888888888888888,
              "#fdca26"
             ],
             [
              1,
              "#f0f921"
             ]
            ],
            "type": "histogram2dcontour"
           }
          ],
          "mesh3d": [
           {
            "colorbar": {
             "outlinewidth": 0,
             "ticks": ""
            },
            "type": "mesh3d"
           }
          ],
          "parcoords": [
           {
            "line": {
             "colorbar": {
              "outlinewidth": 0,
              "ticks": ""
             }
            },
            "type": "parcoords"
           }
          ],
          "pie": [
           {
            "automargin": true,
            "type": "pie"
           }
          ],
          "scatter": [
           {
            "fillpattern": {
             "fillmode": "overlay",
             "size": 10,
             "solidity": 0.2
            },
            "type": "scatter"
           }
          ],
          "scatter3d": [
           {
            "line": {
             "colorbar": {
              "outlinewidth": 0,
              "ticks": ""
             }
            },
            "marker": {
             "colorbar": {
              "outlinewidth": 0,
              "ticks": ""
             }
            },
            "type": "scatter3d"
           }
          ],
          "scattercarpet": [
           {
            "marker": {
             "colorbar": {
              "outlinewidth": 0,
              "ticks": ""
             }
            },
            "type": "scattercarpet"
           }
          ],
          "scattergeo": [
           {
            "marker": {
             "colorbar": {
              "outlinewidth": 0,
              "ticks": ""
             }
            },
            "type": "scattergeo"
           }
          ],
          "scattergl": [
           {
            "marker": {
             "colorbar": {
              "outlinewidth": 0,
              "ticks": ""
             }
            },
            "type": "scattergl"
           }
          ],
          "scattermap": [
           {
            "marker": {
             "colorbar": {
              "outlinewidth": 0,
              "ticks": ""
             }
            },
            "type": "scattermap"
           }
          ],
          "scattermapbox": [
           {
            "marker": {
             "colorbar": {
              "outlinewidth": 0,
              "ticks": ""
             }
            },
            "type": "scattermapbox"
           }
          ],
          "scatterpolar": [
           {
            "marker": {
             "colorbar": {
              "outlinewidth": 0,
              "ticks": ""
             }
            },
            "type": "scatterpolar"
           }
          ],
          "scatterpolargl": [
           {
            "marker": {
             "colorbar": {
              "outlinewidth": 0,
              "ticks": ""
             }
            },
            "type": "scatterpolargl"
           }
          ],
          "scatterternary": [
           {
            "marker": {
             "colorbar": {
              "outlinewidth": 0,
              "ticks": ""
             }
            },
            "type": "scatterternary"
           }
          ],
          "surface": [
           {
            "colorbar": {
             "outlinewidth": 0,
             "ticks": ""
            },
            "colorscale": [
             [
              0,
              "#0d0887"
             ],
             [
              0.1111111111111111,
              "#46039f"
             ],
             [
              0.2222222222222222,
              "#7201a8"
             ],
             [
              0.3333333333333333,
              "#9c179e"
             ],
             [
              0.4444444444444444,
              "#bd3786"
             ],
             [
              0.5555555555555556,
              "#d8576b"
             ],
             [
              0.6666666666666666,
              "#ed7953"
             ],
             [
              0.7777777777777778,
              "#fb9f3a"
             ],
             [
              0.8888888888888888,
              "#fdca26"
             ],
             [
              1,
              "#f0f921"
             ]
            ],
            "type": "surface"
           }
          ],
          "table": [
           {
            "cells": {
             "fill": {
              "color": "#EBF0F8"
             },
             "line": {
              "color": "white"
             }
            },
            "header": {
             "fill": {
              "color": "#C8D4E3"
             },
             "line": {
              "color": "white"
             }
            },
            "type": "table"
           }
          ]
         },
         "layout": {
          "annotationdefaults": {
           "arrowcolor": "#2a3f5f",
           "arrowhead": 0,
           "arrowwidth": 1
          },
          "autotypenumbers": "strict",
          "coloraxis": {
           "colorbar": {
            "outlinewidth": 0,
            "ticks": ""
           }
          },
          "colorscale": {
           "diverging": [
            [
             0,
             "#8e0152"
            ],
            [
             0.1,
             "#c51b7d"
            ],
            [
             0.2,
             "#de77ae"
            ],
            [
             0.3,
             "#f1b6da"
            ],
            [
             0.4,
             "#fde0ef"
            ],
            [
             0.5,
             "#f7f7f7"
            ],
            [
             0.6,
             "#e6f5d0"
            ],
            [
             0.7,
             "#b8e186"
            ],
            [
             0.8,
             "#7fbc41"
            ],
            [
             0.9,
             "#4d9221"
            ],
            [
             1,
             "#276419"
            ]
           ],
           "sequential": [
            [
             0,
             "#0d0887"
            ],
            [
             0.1111111111111111,
             "#46039f"
            ],
            [
             0.2222222222222222,
             "#7201a8"
            ],
            [
             0.3333333333333333,
             "#9c179e"
            ],
            [
             0.4444444444444444,
             "#bd3786"
            ],
            [
             0.5555555555555556,
             "#d8576b"
            ],
            [
             0.6666666666666666,
             "#ed7953"
            ],
            [
             0.7777777777777778,
             "#fb9f3a"
            ],
            [
             0.8888888888888888,
             "#fdca26"
            ],
            [
             1,
             "#f0f921"
            ]
           ],
           "sequentialminus": [
            [
             0,
             "#0d0887"
            ],
            [
             0.1111111111111111,
             "#46039f"
            ],
            [
             0.2222222222222222,
             "#7201a8"
            ],
            [
             0.3333333333333333,
             "#9c179e"
            ],
            [
             0.4444444444444444,
             "#bd3786"
            ],
            [
             0.5555555555555556,
             "#d8576b"
            ],
            [
             0.6666666666666666,
             "#ed7953"
            ],
            [
             0.7777777777777778,
             "#fb9f3a"
            ],
            [
             0.8888888888888888,
             "#fdca26"
            ],
            [
             1,
             "#f0f921"
            ]
           ]
          },
          "colorway": [
           "#636efa",
           "#EF553B",
           "#00cc96",
           "#ab63fa",
           "#FFA15A",
           "#19d3f3",
           "#FF6692",
           "#B6E880",
           "#FF97FF",
           "#FECB52"
          ],
          "font": {
           "color": "#2a3f5f"
          },
          "geo": {
           "bgcolor": "white",
           "lakecolor": "white",
           "landcolor": "#E5ECF6",
           "showlakes": true,
           "showland": true,
           "subunitcolor": "white"
          },
          "hoverlabel": {
           "align": "left"
          },
          "hovermode": "closest",
          "mapbox": {
           "style": "light"
          },
          "paper_bgcolor": "white",
          "plot_bgcolor": "#E5ECF6",
          "polar": {
           "angularaxis": {
            "gridcolor": "white",
            "linecolor": "white",
            "ticks": ""
           },
           "bgcolor": "#E5ECF6",
           "radialaxis": {
            "gridcolor": "white",
            "linecolor": "white",
            "ticks": ""
           }
          },
          "scene": {
           "xaxis": {
            "backgroundcolor": "#E5ECF6",
            "gridcolor": "white",
            "gridwidth": 2,
            "linecolor": "white",
            "showbackground": true,
            "ticks": "",
            "zerolinecolor": "white"
           },
           "yaxis": {
            "backgroundcolor": "#E5ECF6",
            "gridcolor": "white",
            "gridwidth": 2,
            "linecolor": "white",
            "showbackground": true,
            "ticks": "",
            "zerolinecolor": "white"
           },
           "zaxis": {
            "backgroundcolor": "#E5ECF6",
            "gridcolor": "white",
            "gridwidth": 2,
            "linecolor": "white",
            "showbackground": true,
            "ticks": "",
            "zerolinecolor": "white"
           }
          },
          "shapedefaults": {
           "line": {
            "color": "#2a3f5f"
           }
          },
          "ternary": {
           "aaxis": {
            "gridcolor": "white",
            "linecolor": "white",
            "ticks": ""
           },
           "baxis": {
            "gridcolor": "white",
            "linecolor": "white",
            "ticks": ""
           },
           "bgcolor": "#E5ECF6",
           "caxis": {
            "gridcolor": "white",
            "linecolor": "white",
            "ticks": ""
           }
          },
          "title": {
           "x": 0.05
          },
          "xaxis": {
           "automargin": true,
           "gridcolor": "white",
           "linecolor": "white",
           "ticks": "",
           "title": {
            "standoff": 15
           },
           "zerolinecolor": "white",
           "zerolinewidth": 2
          },
          "yaxis": {
           "automargin": true,
           "gridcolor": "white",
           "linecolor": "white",
           "ticks": "",
           "title": {
            "standoff": 15
           },
           "zerolinecolor": "white",
           "zerolinewidth": 2
          }
         }
        },
        "title": {
         "text": "Total Sales per Product"
        },
        "xaxis": {
         "anchor": "y",
         "domain": [
          0,
          1
         ],
         "title": {
          "text": "productname"
         }
        },
        "yaxis": {
         "anchor": "x",
         "domain": [
          0,
          1
         ],
         "title": {
          "text": "Total Amount"
         }
        }
       }
      }
     },
     "metadata": {},
     "output_type": "display_data"
    }
   ],
   "source": [
    "# Total sales by product\n",
    "product = df.groupby(['productname']).agg({'unitprice':'count', 'totalamount':'sum'}).sort_values(by= 'totalamount', ascending= False)\n",
    "\n",
    "fig = px.bar(product,\n",
    "             x=product.index,\n",
    "             y='totalamount',\n",
    "             title= 'Total Sales per Product',\n",
    "             labels={'x': 'Poduct Name', 'totalamount': 'Total Amount'}, hover_data=['unitprice'])\n",
    "fig.show()"
   ]
  },
  {
   "cell_type": "code",
   "execution_count": 43,
   "id": "b778c9e3",
   "metadata": {
    "execution": {
     "iopub.execute_input": "2025-03-06T01:07:23.337062Z",
     "iopub.status.busy": "2025-03-06T01:07:23.336697Z",
     "iopub.status.idle": "2025-03-06T01:07:23.384980Z",
     "shell.execute_reply": "2025-03-06T01:07:23.383967Z"
    },
    "papermill": {
     "duration": 0.062931,
     "end_time": "2025-03-06T01:07:23.386319",
     "exception": false,
     "start_time": "2025-03-06T01:07:23.323388",
     "status": "completed"
    },
    "tags": []
   },
   "outputs": [
    {
     "data": {
      "application/vnd.plotly.v1+json": {
       "config": {
        "plotlyServerURL": "https://plot.ly"
       },
       "data": [
        {
         "hovertemplate": "companyname=%{x}<br>totalamount=%{y}<extra></extra>",
         "legendgroup": "",
         "marker": {
          "color": "#636efa",
          "pattern": {
           "shape": ""
          }
         },
         "name": "",
         "orientation": "v",
         "showlegend": false,
         "textposition": "auto",
         "type": "bar",
         "x": [
          "Plutzer Lebensmittelgro?m?rkte AG",
          "Pavlova, Ltd.",
          "Gai pâturage",
          "Aux joyeux ecclésiastiques",
          "Specialty Biscuits, Ltd.",
          "Formaggi Fortini s.r.l.",
          "Norske Meierier",
          "Exotic Liquids",
          "Forêts d'érables",
          "G'day, Mate",
          "Leka Trading",
          "New England Seafood Cannery",
          "Pasta Buttini s.r.l.",
          "New Orleans Cajun Delights",
          "Heli Sü?waren GmbH & Co. KG",
          "Karkki Oy",
          "Bigfoot Breweries",
          "Grandma Kelly's Homestead",
          "Cooperativa de Quesos 'Las Cabras'",
          "Ma Maison",
          "Svensk Sj?f?da AB",
          "Tokyo Traders",
          "Mayumi's",
          "Lyngbysild",
          "Refrescos Americanas LTDA",
          "Nord-Ost-Fisch Handelsgesellschaft mbH",
          "PB Kn?ckebr?d AB",
          "Zaanse Snoepfabriek",
          "Escargots Nouveaux"
         ],
         "xaxis": "x",
         "y": {
          "bdata": "H4XrUVt9GEFSuB6FzW4TQT0K16OSLRFBmpmZmXGzDUFSuB6F10INQYXrUbhCTghBAAAAAPJaB0EUrkfhOikHQZqZmZl9NARBAAAAANzGA0HNzMzMMIQDQa5H4Xog8AJBAAAAAI5+AUF7FK5HgVb/QM3MzMwom/5ApHA9Cmtm/UCuR+F6uDL9QPYoXI+OjftAexSuR6Fp+UCuR+F6rGb5QB+F61G02vhAzczMzMSH90BmZmZmWpT1QGZmZmZC0PRAhetRuCa570ApXI/CnTbvQJqZmZkZoudAAAAAAHCp4kDNzMzM/A/bQA==",
          "dtype": "f8"
         },
         "yaxis": "y"
        }
       ],
       "layout": {
        "barmode": "relative",
        "legend": {
         "tracegroupgap": 0
        },
        "template": {
         "data": {
          "bar": [
           {
            "error_x": {
             "color": "#2a3f5f"
            },
            "error_y": {
             "color": "#2a3f5f"
            },
            "marker": {
             "line": {
              "color": "#E5ECF6",
              "width": 0.5
             },
             "pattern": {
              "fillmode": "overlay",
              "size": 10,
              "solidity": 0.2
             }
            },
            "type": "bar"
           }
          ],
          "barpolar": [
           {
            "marker": {
             "line": {
              "color": "#E5ECF6",
              "width": 0.5
             },
             "pattern": {
              "fillmode": "overlay",
              "size": 10,
              "solidity": 0.2
             }
            },
            "type": "barpolar"
           }
          ],
          "carpet": [
           {
            "aaxis": {
             "endlinecolor": "#2a3f5f",
             "gridcolor": "white",
             "linecolor": "white",
             "minorgridcolor": "white",
             "startlinecolor": "#2a3f5f"
            },
            "baxis": {
             "endlinecolor": "#2a3f5f",
             "gridcolor": "white",
             "linecolor": "white",
             "minorgridcolor": "white",
             "startlinecolor": "#2a3f5f"
            },
            "type": "carpet"
           }
          ],
          "choropleth": [
           {
            "colorbar": {
             "outlinewidth": 0,
             "ticks": ""
            },
            "type": "choropleth"
           }
          ],
          "contour": [
           {
            "colorbar": {
             "outlinewidth": 0,
             "ticks": ""
            },
            "colorscale": [
             [
              0,
              "#0d0887"
             ],
             [
              0.1111111111111111,
              "#46039f"
             ],
             [
              0.2222222222222222,
              "#7201a8"
             ],
             [
              0.3333333333333333,
              "#9c179e"
             ],
             [
              0.4444444444444444,
              "#bd3786"
             ],
             [
              0.5555555555555556,
              "#d8576b"
             ],
             [
              0.6666666666666666,
              "#ed7953"
             ],
             [
              0.7777777777777778,
              "#fb9f3a"
             ],
             [
              0.8888888888888888,
              "#fdca26"
             ],
             [
              1,
              "#f0f921"
             ]
            ],
            "type": "contour"
           }
          ],
          "contourcarpet": [
           {
            "colorbar": {
             "outlinewidth": 0,
             "ticks": ""
            },
            "type": "contourcarpet"
           }
          ],
          "heatmap": [
           {
            "colorbar": {
             "outlinewidth": 0,
             "ticks": ""
            },
            "colorscale": [
             [
              0,
              "#0d0887"
             ],
             [
              0.1111111111111111,
              "#46039f"
             ],
             [
              0.2222222222222222,
              "#7201a8"
             ],
             [
              0.3333333333333333,
              "#9c179e"
             ],
             [
              0.4444444444444444,
              "#bd3786"
             ],
             [
              0.5555555555555556,
              "#d8576b"
             ],
             [
              0.6666666666666666,
              "#ed7953"
             ],
             [
              0.7777777777777778,
              "#fb9f3a"
             ],
             [
              0.8888888888888888,
              "#fdca26"
             ],
             [
              1,
              "#f0f921"
             ]
            ],
            "type": "heatmap"
           }
          ],
          "histogram": [
           {
            "marker": {
             "pattern": {
              "fillmode": "overlay",
              "size": 10,
              "solidity": 0.2
             }
            },
            "type": "histogram"
           }
          ],
          "histogram2d": [
           {
            "colorbar": {
             "outlinewidth": 0,
             "ticks": ""
            },
            "colorscale": [
             [
              0,
              "#0d0887"
             ],
             [
              0.1111111111111111,
              "#46039f"
             ],
             [
              0.2222222222222222,
              "#7201a8"
             ],
             [
              0.3333333333333333,
              "#9c179e"
             ],
             [
              0.4444444444444444,
              "#bd3786"
             ],
             [
              0.5555555555555556,
              "#d8576b"
             ],
             [
              0.6666666666666666,
              "#ed7953"
             ],
             [
              0.7777777777777778,
              "#fb9f3a"
             ],
             [
              0.8888888888888888,
              "#fdca26"
             ],
             [
              1,
              "#f0f921"
             ]
            ],
            "type": "histogram2d"
           }
          ],
          "histogram2dcontour": [
           {
            "colorbar": {
             "outlinewidth": 0,
             "ticks": ""
            },
            "colorscale": [
             [
              0,
              "#0d0887"
             ],
             [
              0.1111111111111111,
              "#46039f"
             ],
             [
              0.2222222222222222,
              "#7201a8"
             ],
             [
              0.3333333333333333,
              "#9c179e"
             ],
             [
              0.4444444444444444,
              "#bd3786"
             ],
             [
              0.5555555555555556,
              "#d8576b"
             ],
             [
              0.6666666666666666,
              "#ed7953"
             ],
             [
              0.7777777777777778,
              "#fb9f3a"
             ],
             [
              0.8888888888888888,
              "#fdca26"
             ],
             [
              1,
              "#f0f921"
             ]
            ],
            "type": "histogram2dcontour"
           }
          ],
          "mesh3d": [
           {
            "colorbar": {
             "outlinewidth": 0,
             "ticks": ""
            },
            "type": "mesh3d"
           }
          ],
          "parcoords": [
           {
            "line": {
             "colorbar": {
              "outlinewidth": 0,
              "ticks": ""
             }
            },
            "type": "parcoords"
           }
          ],
          "pie": [
           {
            "automargin": true,
            "type": "pie"
           }
          ],
          "scatter": [
           {
            "fillpattern": {
             "fillmode": "overlay",
             "size": 10,
             "solidity": 0.2
            },
            "type": "scatter"
           }
          ],
          "scatter3d": [
           {
            "line": {
             "colorbar": {
              "outlinewidth": 0,
              "ticks": ""
             }
            },
            "marker": {
             "colorbar": {
              "outlinewidth": 0,
              "ticks": ""
             }
            },
            "type": "scatter3d"
           }
          ],
          "scattercarpet": [
           {
            "marker": {
             "colorbar": {
              "outlinewidth": 0,
              "ticks": ""
             }
            },
            "type": "scattercarpet"
           }
          ],
          "scattergeo": [
           {
            "marker": {
             "colorbar": {
              "outlinewidth": 0,
              "ticks": ""
             }
            },
            "type": "scattergeo"
           }
          ],
          "scattergl": [
           {
            "marker": {
             "colorbar": {
              "outlinewidth": 0,
              "ticks": ""
             }
            },
            "type": "scattergl"
           }
          ],
          "scattermap": [
           {
            "marker": {
             "colorbar": {
              "outlinewidth": 0,
              "ticks": ""
             }
            },
            "type": "scattermap"
           }
          ],
          "scattermapbox": [
           {
            "marker": {
             "colorbar": {
              "outlinewidth": 0,
              "ticks": ""
             }
            },
            "type": "scattermapbox"
           }
          ],
          "scatterpolar": [
           {
            "marker": {
             "colorbar": {
              "outlinewidth": 0,
              "ticks": ""
             }
            },
            "type": "scatterpolar"
           }
          ],
          "scatterpolargl": [
           {
            "marker": {
             "colorbar": {
              "outlinewidth": 0,
              "ticks": ""
             }
            },
            "type": "scatterpolargl"
           }
          ],
          "scatterternary": [
           {
            "marker": {
             "colorbar": {
              "outlinewidth": 0,
              "ticks": ""
             }
            },
            "type": "scatterternary"
           }
          ],
          "surface": [
           {
            "colorbar": {
             "outlinewidth": 0,
             "ticks": ""
            },
            "colorscale": [
             [
              0,
              "#0d0887"
             ],
             [
              0.1111111111111111,
              "#46039f"
             ],
             [
              0.2222222222222222,
              "#7201a8"
             ],
             [
              0.3333333333333333,
              "#9c179e"
             ],
             [
              0.4444444444444444,
              "#bd3786"
             ],
             [
              0.5555555555555556,
              "#d8576b"
             ],
             [
              0.6666666666666666,
              "#ed7953"
             ],
             [
              0.7777777777777778,
              "#fb9f3a"
             ],
             [
              0.8888888888888888,
              "#fdca26"
             ],
             [
              1,
              "#f0f921"
             ]
            ],
            "type": "surface"
           }
          ],
          "table": [
           {
            "cells": {
             "fill": {
              "color": "#EBF0F8"
             },
             "line": {
              "color": "white"
             }
            },
            "header": {
             "fill": {
              "color": "#C8D4E3"
             },
             "line": {
              "color": "white"
             }
            },
            "type": "table"
           }
          ]
         },
         "layout": {
          "annotationdefaults": {
           "arrowcolor": "#2a3f5f",
           "arrowhead": 0,
           "arrowwidth": 1
          },
          "autotypenumbers": "strict",
          "coloraxis": {
           "colorbar": {
            "outlinewidth": 0,
            "ticks": ""
           }
          },
          "colorscale": {
           "diverging": [
            [
             0,
             "#8e0152"
            ],
            [
             0.1,
             "#c51b7d"
            ],
            [
             0.2,
             "#de77ae"
            ],
            [
             0.3,
             "#f1b6da"
            ],
            [
             0.4,
             "#fde0ef"
            ],
            [
             0.5,
             "#f7f7f7"
            ],
            [
             0.6,
             "#e6f5d0"
            ],
            [
             0.7,
             "#b8e186"
            ],
            [
             0.8,
             "#7fbc41"
            ],
            [
             0.9,
             "#4d9221"
            ],
            [
             1,
             "#276419"
            ]
           ],
           "sequential": [
            [
             0,
             "#0d0887"
            ],
            [
             0.1111111111111111,
             "#46039f"
            ],
            [
             0.2222222222222222,
             "#7201a8"
            ],
            [
             0.3333333333333333,
             "#9c179e"
            ],
            [
             0.4444444444444444,
             "#bd3786"
            ],
            [
             0.5555555555555556,
             "#d8576b"
            ],
            [
             0.6666666666666666,
             "#ed7953"
            ],
            [
             0.7777777777777778,
             "#fb9f3a"
            ],
            [
             0.8888888888888888,
             "#fdca26"
            ],
            [
             1,
             "#f0f921"
            ]
           ],
           "sequentialminus": [
            [
             0,
             "#0d0887"
            ],
            [
             0.1111111111111111,
             "#46039f"
            ],
            [
             0.2222222222222222,
             "#7201a8"
            ],
            [
             0.3333333333333333,
             "#9c179e"
            ],
            [
             0.4444444444444444,
             "#bd3786"
            ],
            [
             0.5555555555555556,
             "#d8576b"
            ],
            [
             0.6666666666666666,
             "#ed7953"
            ],
            [
             0.7777777777777778,
             "#fb9f3a"
            ],
            [
             0.8888888888888888,
             "#fdca26"
            ],
            [
             1,
             "#f0f921"
            ]
           ]
          },
          "colorway": [
           "#636efa",
           "#EF553B",
           "#00cc96",
           "#ab63fa",
           "#FFA15A",
           "#19d3f3",
           "#FF6692",
           "#B6E880",
           "#FF97FF",
           "#FECB52"
          ],
          "font": {
           "color": "#2a3f5f"
          },
          "geo": {
           "bgcolor": "white",
           "lakecolor": "white",
           "landcolor": "#E5ECF6",
           "showlakes": true,
           "showland": true,
           "subunitcolor": "white"
          },
          "hoverlabel": {
           "align": "left"
          },
          "hovermode": "closest",
          "mapbox": {
           "style": "light"
          },
          "paper_bgcolor": "white",
          "plot_bgcolor": "#E5ECF6",
          "polar": {
           "angularaxis": {
            "gridcolor": "white",
            "linecolor": "white",
            "ticks": ""
           },
           "bgcolor": "#E5ECF6",
           "radialaxis": {
            "gridcolor": "white",
            "linecolor": "white",
            "ticks": ""
           }
          },
          "scene": {
           "xaxis": {
            "backgroundcolor": "#E5ECF6",
            "gridcolor": "white",
            "gridwidth": 2,
            "linecolor": "white",
            "showbackground": true,
            "ticks": "",
            "zerolinecolor": "white"
           },
           "yaxis": {
            "backgroundcolor": "#E5ECF6",
            "gridcolor": "white",
            "gridwidth": 2,
            "linecolor": "white",
            "showbackground": true,
            "ticks": "",
            "zerolinecolor": "white"
           },
           "zaxis": {
            "backgroundcolor": "#E5ECF6",
            "gridcolor": "white",
            "gridwidth": 2,
            "linecolor": "white",
            "showbackground": true,
            "ticks": "",
            "zerolinecolor": "white"
           }
          },
          "shapedefaults": {
           "line": {
            "color": "#2a3f5f"
           }
          },
          "ternary": {
           "aaxis": {
            "gridcolor": "white",
            "linecolor": "white",
            "ticks": ""
           },
           "baxis": {
            "gridcolor": "white",
            "linecolor": "white",
            "ticks": ""
           },
           "bgcolor": "#E5ECF6",
           "caxis": {
            "gridcolor": "white",
            "linecolor": "white",
            "ticks": ""
           }
          },
          "title": {
           "x": 0.05
          },
          "xaxis": {
           "automargin": true,
           "gridcolor": "white",
           "linecolor": "white",
           "ticks": "",
           "title": {
            "standoff": 15
           },
           "zerolinecolor": "white",
           "zerolinewidth": 2
          },
          "yaxis": {
           "automargin": true,
           "gridcolor": "white",
           "linecolor": "white",
           "ticks": "",
           "title": {
            "standoff": 15
           },
           "zerolinecolor": "white",
           "zerolinewidth": 2
          }
         }
        },
        "title": {
         "text": "Total Sales by Company"
        },
        "xaxis": {
         "anchor": "y",
         "domain": [
          0,
          1
         ],
         "title": {
          "text": "companyname"
         }
        },
        "yaxis": {
         "anchor": "x",
         "domain": [
          0,
          1
         ],
         "title": {
          "text": "totalamount"
         }
        }
       }
      }
     },
     "metadata": {},
     "output_type": "display_data"
    }
   ],
   "source": [
    "# Total Sales by company\n",
    "company = df.groupby(['companyname'], as_index= False)['totalamount'].sum().sort_values(by= 'totalamount', ascending= False)\n",
    "\n",
    "fig = px.bar(company,\n",
    "             x= 'companyname',\n",
    "             y= 'totalamount',\n",
    "             title= 'Total Sales by Company')\n",
    "fig.show()"
   ]
  }
 ],
 "metadata": {
  "kaggle": {
   "accelerator": "none",
   "dataSources": [
    {
     "datasetId": 6780968,
     "sourceId": 10908972,
     "sourceType": "datasetVersion"
    }
   ],
   "dockerImageVersionId": 30918,
   "isGpuEnabled": false,
   "isInternetEnabled": false,
   "language": "python",
   "sourceType": "notebook"
  },
  "kernelspec": {
   "display_name": "Python 3",
   "language": "python",
   "name": "python3"
  },
  "language_info": {
   "codemirror_mode": {
    "name": "ipython",
    "version": 3
   },
   "file_extension": ".py",
   "mimetype": "text/x-python",
   "name": "python",
   "nbconvert_exporter": "python",
   "pygments_lexer": "ipython3",
   "version": "3.13.2"
  },
  "papermill": {
   "default_parameters": {},
   "duration": 11.110841,
   "end_time": "2025-03-06T01:07:24.248864",
   "environment_variables": {},
   "exception": null,
   "input_path": "__notebook__.ipynb",
   "output_path": "__notebook__.ipynb",
   "parameters": {},
   "start_time": "2025-03-06T01:07:13.138023",
   "version": "2.6.0"
  }
 },
 "nbformat": 4,
 "nbformat_minor": 5
}
